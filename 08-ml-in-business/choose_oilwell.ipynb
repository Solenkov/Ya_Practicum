{
 "cells": [
  {
   "cell_type": "markdown",
   "metadata": {},
   "source": [
    "# Выбор локации для скважины"
   ]
  },
  {
   "cell_type": "markdown",
   "metadata": {},
   "source": [
    "Допустим, вы работаете в добывающей компании «ГлавРосГосНефть». Нужно решить, где бурить новую скважину.\n",
    "\n",
    "Вам предоставлены пробы нефти в трёх регионах: в каждом 10 000 месторождений, где измерили качество нефти и объём её запасов. Постройте модель машинного обучения, которая поможет определить регион, где добыча принесёт наибольшую прибыль. Проанализируйте возможную прибыль и риски техникой *Bootstrap.*\n",
    "\n",
    "Шаги для выбора локации:\n",
    "\n",
    "- В избранном регионе ищут месторождения, для каждого определяют значения признаков;\n",
    "- Строят модель и оценивают объём запасов;\n",
    "- Выбирают месторождения с самым высокими оценками значений. Количество месторождений зависит от бюджета компании и стоимости разработки одной скважины;\n",
    "- Прибыль равна суммарной прибыли отобранных месторождений."
   ]
  },
  {
   "cell_type": "markdown",
   "metadata": {},
   "source": [
    "## Загрузка и подготовка данных"
   ]
  },
  {
   "cell_type": "code",
   "execution_count": 1,
   "metadata": {},
   "outputs": [],
   "source": [
    "import pandas as pd\n",
    "import numpy as np\n",
    "\n",
    "from sklearn.linear_model import LinearRegression\n",
    "from sklearn.preprocessing import StandardScaler, PolynomialFeatures\n",
    "from sklearn.model_selection import train_test_split\n",
    "from sklearn.pipeline import Pipeline\n",
    "\n",
    "from sklearn.metrics import mean_squared_error as mse\n",
    "\n",
    "import warnings\n",
    "warnings.filterwarnings('ignore')"
   ]
  },
  {
   "cell_type": "code",
   "execution_count": 2,
   "metadata": {},
   "outputs": [],
   "source": [
    "def read_scv(res1, res2):\n",
    "    try:\n",
    "        df = pd.read_csv(res1)\n",
    "    except:\n",
    "        df = pd.read_csv(res2)\n",
    "    return df\n",
    "\n",
    "def namestr(obj, namespace):\n",
    "    return [name for name in namespace if namespace[name] is obj]\n",
    "\n",
    "def first_look(df):\n",
    "    print(f\"Количество дубликатов в {namestr(df, globals())[0]} равно {df['id'].duplicated().sum()}\")\n",
    "    print(f\"При этом количество полных дубликатов {df.duplicated().sum()}\")\n",
    "    print(\"_ \"*40)\n",
    "    print(df.info())\n",
    "    print(\"_ \"*40)\n",
    "    print(df.describe())\n",
    "    print(\"_ \"*40)\n",
    "    print(\"Корреляция признаков\")\n",
    "    print(df.corr())\n",
    "    df.hist(figsize=(10,5), bins=100);\n",
    "    \n",
    "    "
   ]
  },
  {
   "cell_type": "code",
   "execution_count": 3,
   "metadata": {},
   "outputs": [
    {
     "data": {
      "text/html": [
       "<div>\n",
       "<style scoped>\n",
       "    .dataframe tbody tr th:only-of-type {\n",
       "        vertical-align: middle;\n",
       "    }\n",
       "\n",
       "    .dataframe tbody tr th {\n",
       "        vertical-align: top;\n",
       "    }\n",
       "\n",
       "    .dataframe thead th {\n",
       "        text-align: right;\n",
       "    }\n",
       "</style>\n",
       "<table border=\"1\" class=\"dataframe\">\n",
       "  <thead>\n",
       "    <tr style=\"text-align: right;\">\n",
       "      <th></th>\n",
       "      <th>id</th>\n",
       "      <th>f0</th>\n",
       "      <th>f1</th>\n",
       "      <th>f2</th>\n",
       "      <th>product</th>\n",
       "    </tr>\n",
       "  </thead>\n",
       "  <tbody>\n",
       "    <tr>\n",
       "      <th>0</th>\n",
       "      <td>fwXo0</td>\n",
       "      <td>-1.146987</td>\n",
       "      <td>0.963328</td>\n",
       "      <td>-0.828965</td>\n",
       "      <td>27.758673</td>\n",
       "    </tr>\n",
       "    <tr>\n",
       "      <th>1</th>\n",
       "      <td>WJtFt</td>\n",
       "      <td>0.262778</td>\n",
       "      <td>0.269839</td>\n",
       "      <td>-2.530187</td>\n",
       "      <td>56.069697</td>\n",
       "    </tr>\n",
       "  </tbody>\n",
       "</table>\n",
       "</div>"
      ],
      "text/plain": [
       "      id        f0        f1        f2    product\n",
       "0  fwXo0 -1.146987  0.963328 -0.828965  27.758673\n",
       "1  WJtFt  0.262778  0.269839 -2.530187  56.069697"
      ]
     },
     "execution_count": 3,
     "metadata": {},
     "output_type": "execute_result"
    }
   ],
   "source": [
    "df_0 = read_scv('geo_data_0.csv', '/datasets/geo_data_0.csv')\n",
    "df_1 = read_scv('geo_data_1.csv', '/datasets/geo_data_1.csv')\n",
    "df_2 = read_scv('geo_data_2.csv', '/datasets/geo_data_2.csv')\n",
    "\n",
    "df_all = [df_0, df_1, df_2]\n",
    "\n",
    "df_2.head(2)"
   ]
  },
  {
   "cell_type": "markdown",
   "metadata": {},
   "source": [
    "Вообще, нам первый столбец не нужен, так же предполагаем, что id должны быть уникальными, но по факту видим, что в них есть дубликаты в названиях. В одном датасете 10 штук, в двух других по 4. Причем дубликаты неполные, то есть признаки у них разные. Скорее всего это какая то техническая ошибка. Делать с этим ничего не будем, так как для модели этот столбец использовать не будем.  \n",
    "Так же посмотрим в целом на датасеты и меры признаков."
   ]
  },
  {
   "cell_type": "code",
   "execution_count": 4,
   "metadata": {},
   "outputs": [
    {
     "name": "stdout",
     "output_type": "stream",
     "text": [
      "Количество дубликатов в df_0 равно 10\n",
      "При этом количество полных дубликатов 0\n",
      "_ _ _ _ _ _ _ _ _ _ _ _ _ _ _ _ _ _ _ _ _ _ _ _ _ _ _ _ _ _ _ _ _ _ _ _ _ _ _ _ \n",
      "<class 'pandas.core.frame.DataFrame'>\n",
      "RangeIndex: 100000 entries, 0 to 99999\n",
      "Data columns (total 5 columns):\n",
      " #   Column   Non-Null Count   Dtype  \n",
      "---  ------   --------------   -----  \n",
      " 0   id       100000 non-null  object \n",
      " 1   f0       100000 non-null  float64\n",
      " 2   f1       100000 non-null  float64\n",
      " 3   f2       100000 non-null  float64\n",
      " 4   product  100000 non-null  float64\n",
      "dtypes: float64(4), object(1)\n",
      "memory usage: 3.8+ MB\n",
      "None\n",
      "_ _ _ _ _ _ _ _ _ _ _ _ _ _ _ _ _ _ _ _ _ _ _ _ _ _ _ _ _ _ _ _ _ _ _ _ _ _ _ _ \n",
      "                  f0             f1             f2        product\n",
      "count  100000.000000  100000.000000  100000.000000  100000.000000\n",
      "mean        0.500419       0.250143       2.502647      92.500000\n",
      "std         0.871832       0.504433       3.248248      44.288691\n",
      "min        -1.408605      -0.848218     -12.088328       0.000000\n",
      "25%        -0.072580      -0.200881       0.287748      56.497507\n",
      "50%         0.502360       0.250252       2.515969      91.849972\n",
      "75%         1.073581       0.700646       4.715088     128.564089\n",
      "max         2.362331       1.343769      16.003790     185.364347\n",
      "_ _ _ _ _ _ _ _ _ _ _ _ _ _ _ _ _ _ _ _ _ _ _ _ _ _ _ _ _ _ _ _ _ _ _ _ _ _ _ _ \n",
      "Корреляция признаков\n",
      "               f0        f1        f2   product\n",
      "f0       1.000000 -0.440723 -0.003153  0.143536\n",
      "f1      -0.440723  1.000000  0.001724 -0.192356\n",
      "f2      -0.003153  0.001724  1.000000  0.483663\n",
      "product  0.143536 -0.192356  0.483663  1.000000\n"
     ]
    },
    {
     "data": {
      "image/png": "[encoded data removed]",
      "text/plain": [
       "<Figure size 720x360 with 4 Axes>"
      ]
     },
     "metadata": {
      "needs_background": "light"
     },
     "output_type": "display_data"
    }
   ],
   "source": [
    "first_look(df_0)"
   ]
  },
  {
   "cell_type": "code",
   "execution_count": 5,
   "metadata": {},
   "outputs": [
    {
     "name": "stdout",
     "output_type": "stream",
     "text": [
      "Количество дубликатов в df_1 равно 4\n",
      "При этом количество полных дубликатов 0\n",
      "_ _ _ _ _ _ _ _ _ _ _ _ _ _ _ _ _ _ _ _ _ _ _ _ _ _ _ _ _ _ _ _ _ _ _ _ _ _ _ _ \n",
      "<class 'pandas.core.frame.DataFrame'>\n",
      "RangeIndex: 100000 entries, 0 to 99999\n",
      "Data columns (total 5 columns):\n",
      " #   Column   Non-Null Count   Dtype  \n",
      "---  ------   --------------   -----  \n",
      " 0   id       100000 non-null  object \n",
      " 1   f0       100000 non-null  float64\n",
      " 2   f1       100000 non-null  float64\n",
      " 3   f2       100000 non-null  float64\n",
      " 4   product  100000 non-null  float64\n",
      "dtypes: float64(4), object(1)\n",
      "memory usage: 3.8+ MB\n",
      "None\n",
      "_ _ _ _ _ _ _ _ _ _ _ _ _ _ _ _ _ _ _ _ _ _ _ _ _ _ _ _ _ _ _ _ _ _ _ _ _ _ _ _ \n",
      "                  f0             f1             f2        product\n",
      "count  100000.000000  100000.000000  100000.000000  100000.000000\n",
      "mean        1.141296      -4.796579       2.494541      68.825000\n",
      "std         8.965932       5.119872       1.703572      45.944423\n",
      "min       -31.609576     -26.358598      -0.018144       0.000000\n",
      "25%        -6.298551      -8.267985       1.000021      26.953261\n",
      "50%         1.153055      -4.813172       2.011479      57.085625\n",
      "75%         8.621015      -1.332816       3.999904     107.813044\n",
      "max        29.421755      18.734063       5.019721     137.945408\n",
      "_ _ _ _ _ _ _ _ _ _ _ _ _ _ _ _ _ _ _ _ _ _ _ _ _ _ _ _ _ _ _ _ _ _ _ _ _ _ _ _ \n",
      "Корреляция признаков\n",
      "               f0        f1        f2   product\n",
      "f0       1.000000  0.182287 -0.001777 -0.030491\n",
      "f1       0.182287  1.000000 -0.002595 -0.010155\n",
      "f2      -0.001777 -0.002595  1.000000  0.999397\n",
      "product -0.030491 -0.010155  0.999397  1.000000\n"
     ]
    },
    {
     "data": {
      "image/png": "[encoded data removed]",
      "text/plain": [
       "<Figure size 720x360 with 4 Axes>"
      ]
     },
     "metadata": {
      "needs_background": "light"
     },
     "output_type": "display_data"
    }
   ],
   "source": [
    "first_look(df_1)"
   ]
  },
  {
   "cell_type": "code",
   "execution_count": 6,
   "metadata": {},
   "outputs": [
    {
     "name": "stdout",
     "output_type": "stream",
     "text": [
      "Количество дубликатов в df_2 равно 4\n",
      "При этом количество полных дубликатов 0\n",
      "_ _ _ _ _ _ _ _ _ _ _ _ _ _ _ _ _ _ _ _ _ _ _ _ _ _ _ _ _ _ _ _ _ _ _ _ _ _ _ _ \n",
      "<class 'pandas.core.frame.DataFrame'>\n",
      "RangeIndex: 100000 entries, 0 to 99999\n",
      "Data columns (total 5 columns):\n",
      " #   Column   Non-Null Count   Dtype  \n",
      "---  ------   --------------   -----  \n",
      " 0   id       100000 non-null  object \n",
      " 1   f0       100000 non-null  float64\n",
      " 2   f1       100000 non-null  float64\n",
      " 3   f2       100000 non-null  float64\n",
      " 4   product  100000 non-null  float64\n",
      "dtypes: float64(4), object(1)\n",
      "memory usage: 3.8+ MB\n",
      "None\n",
      "_ _ _ _ _ _ _ _ _ _ _ _ _ _ _ _ _ _ _ _ _ _ _ _ _ _ _ _ _ _ _ _ _ _ _ _ _ _ _ _ \n",
      "                  f0             f1             f2        product\n",
      "count  100000.000000  100000.000000  100000.000000  100000.000000\n",
      "mean        0.002023      -0.002081       2.495128      95.000000\n",
      "std         1.732045       1.730417       3.473445      44.749921\n",
      "min        -8.760004      -7.084020     -11.970335       0.000000\n",
      "25%        -1.162288      -1.174820       0.130359      59.450441\n",
      "50%         0.009424      -0.009482       2.484236      94.925613\n",
      "75%         1.158535       1.163678       4.858794     130.595027\n",
      "max         7.238262       7.844801      16.739402     190.029838\n",
      "_ _ _ _ _ _ _ _ _ _ _ _ _ _ _ _ _ _ _ _ _ _ _ _ _ _ _ _ _ _ _ _ _ _ _ _ _ _ _ _ \n",
      "Корреляция признаков\n",
      "               f0        f1        f2   product\n",
      "f0       1.000000  0.000528 -0.000448 -0.001987\n",
      "f1       0.000528  1.000000  0.000779 -0.001012\n",
      "f2      -0.000448  0.000779  1.000000  0.445871\n",
      "product -0.001987 -0.001012  0.445871  1.000000\n"
     ]
    },
    {
     "data": {
      "image/png": "[encoded data removed]",
      "text/plain": [
       "<Figure size 720x360 with 4 Axes>"
      ]
     },
     "metadata": {
      "needs_background": "light"
     },
     "output_type": "display_data"
    }
   ],
   "source": [
    "first_look(df_2)"
   ]
  },
  {
   "cell_type": "markdown",
   "metadata": {},
   "source": [
    "Какие интересные есть многомодальные распределения значений у признаков"
   ]
  },
  {
   "cell_type": "markdown",
   "metadata": {},
   "source": [
    "**Предварительные выводы:**  \n",
    "- Загрузили данные, проверили на наличие дубликатов. Есть дубликаты в id, но они нам не помешают, так как для построения модели данный столбец использовать не будем. При этом полных дубликатов нет.\n",
    "- Так же нет пропусков в данных и аномальных значений (ярковыраженных выбросов).\n",
    "- Распределения признаков и целевой переменной интересные, есть признаки с нормальным распределением, есть ярковыраженные многомодальные распределения.\n",
    "- Посмотрели корреляцию. У всех датасетов она разная. Во втором датасете между признаком f2 и целевой переменной корреляция практически единица."
   ]
  },
  {
   "cell_type": "markdown",
   "metadata": {},
   "source": [
    "## Обучение и проверка модели"
   ]
  },
  {
   "cell_type": "markdown",
   "metadata": {},
   "source": [
    "По условиям задания будем использовать линейную регрессию. Разбивка train - valid будет в соотношении 75:25.\n",
    "Признаки будем нормализовать StandartScaler.  \n",
    "Так как у нас по условии задачи только LInearRegression поиск по сетке использовать не будем. Попробуем освоить на базовом уровне пайплайн, в котором одним из шагов будем добавлять полинаомиальные признаки (2-3-4 степень признаков)"
   ]
  },
  {
   "cell_type": "code",
   "execution_count": 7,
   "metadata": {},
   "outputs": [
    {
     "name": "stdout",
     "output_type": "stream",
     "text": [
      "Для региона df_0\n",
      "Train : Valid =  75.0 : 25.0\n",
      "model score (R2): 0.289\n",
      "RMSE: 37.389\n",
      "Средний объем одной скважины в предсказанной выборке составил: 92.638 тыс.баррелей\n",
      "_ _ _ _ _ _ _ _ _ _ _ _ _ _ _ _ _ _ _ _ _ _ _ _ _ _ _ _ _ _ _ _ _ _ _ _ _ _ _ _ \n",
      "Для региона df_1\n",
      "Train : Valid =  75.0 : 25.0\n",
      "model score (R2): 1.000\n",
      "RMSE: 0.780\n",
      "Средний объем одной скважины в предсказанной выборке составил: 69.121 тыс.баррелей\n",
      "_ _ _ _ _ _ _ _ _ _ _ _ _ _ _ _ _ _ _ _ _ _ _ _ _ _ _ _ _ _ _ _ _ _ _ _ _ _ _ _ \n",
      "Для региона df_2\n",
      "Train : Valid =  75.0 : 25.0\n",
      "model score (R2): 0.263\n",
      "RMSE: 38.245\n",
      "Средний объем одной скважины в предсказанной выборке составил: 95.060 тыс.баррелей\n",
      "_ _ _ _ _ _ _ _ _ _ _ _ _ _ _ _ _ _ _ _ _ _ _ _ _ _ _ _ _ _ _ _ _ _ _ _ _ _ _ _ \n"
     ]
    }
   ],
   "source": [
    "y_pred_all = []\n",
    "y_valid_all = []\n",
    "\n",
    "for df in df_all:\n",
    "    #разобьем выборку по условиям задания\n",
    "    X_train, X_valid, y_train, y_valid = train_test_split(df.drop(['id','product'], axis=1),\n",
    "                                                          df['product'],\n",
    "                                                          random_state=666,\n",
    "                                                          test_size=0.25)\n",
    "    # соберем простенький пайплайн. Предобработка StandartScaler, генерим полиномальные фичи PolynomialFeatures, модель - линейная регрессия\n",
    "    pipe = Pipeline(steps=[\n",
    "                      ('scaler', StandardScaler()),\n",
    "                      ('poly', PolynomialFeatures(degree=4, include_bias=False)),\n",
    "                      ('regressor', LinearRegression())\n",
    "                      ])\n",
    "\n",
    "    # обучим и предскажем\n",
    "    pipe.fit(X_train, y_train)\n",
    "    y_pred = pipe.predict(X_valid)\n",
    "\n",
    "    # Не знаю, может это костыль, переведем предсказания в сериз и присвоим индексам те же значения, что и в валидационной выборке\n",
    "    y_pred = pd.Series(y_pred)\n",
    "    y_pred.index = y_valid.index\n",
    "\n",
    "    # запишем в списки предсказания и валид\n",
    "    y_pred_all.append(y_pred)\n",
    "    y_valid_all.append(y_valid)\n",
    "\n",
    "    # напечатаем метрики модели\n",
    "    print(f\"Для региона {namestr(df, globals())[0]}\")\n",
    "    print('Train : Valid = ', \n",
    "          round(100*X_train.shape[0]/df.shape[0],0), \":\",\n",
    "          round(100*X_valid.shape[0]/df.shape[0],0))\n",
    "    print(f\"model score (R2): {pipe.score(X_valid, y_valid):.3f}\")\n",
    "    print(f\"RMSE: {mse(y_valid, y_pred)**0.5:.3f}\")    \n",
    "    # выведем средний уровень объема скважины\n",
    "    print(f\"Средний объем одной скважины в предсказанной выборке составил: {y_pred.mean():.3f} тыс.баррелей\")\n",
    "    print(\"_ \"*40)"
   ]
  },
  {
   "cell_type": "markdown",
   "metadata": {},
   "source": [
    "**Предварительные выводы:**  \n",
    "- Сделали пайплайн с предобработкой скейлером (СтандартСкэйлер) и генерацию полиноминальных признаков.\n",
    "- Посмотрели метрики (R2 и RMSE). Самое высокое качество во втором регионе (df_1), что объясняется полной корреляцией (почти 1) одного из признаков с целевой переменной. Добавление полиноминальных признаков увеличило качество модели (кроме второго региона).\n",
    "- Сделали предикт объема нефти по валидационной выборке  \n",
    "- Посмотрели среднюю добычу по предсказанным скважинам. Самая большая средняя добыча в третьем регионе (df_2) - 95 тыс.баррелей"
   ]
  },
  {
   "cell_type": "markdown",
   "metadata": {},
   "source": [
    "## Подготовка к расчёту прибыли\n",
    "\n",
    "Условия задачи поставлены не совсем русским языком. Очень сложно понять, что от меня требуется. Попробую перефразировать для собственного понимания:  \n",
    "Бюджет на разработку скважин в регионе — 10 млрд рублей., а выбираем мы в конечном итоге 200 скважин из 500. Значит Бюджет на разработку 200 скважин 10 млрд.руб. Соответственно одной скважины 50 млн.руб.  \n",
    "Для точки безубыточности объем одной скважины должен быть таким, чтобы выручка от проданной нефти была равна себестоимости (полной) одной скважины. 50 млн.руб. / 450 000"
   ]
  },
  {
   "cell_type": "code",
   "execution_count": 8,
   "metadata": {},
   "outputs": [
    {
     "name": "stdout",
     "output_type": "stream",
     "text": [
      "Точка безубыточности одной скважины в среднем - 111.111111 тыс. баррелей\n"
     ]
    }
   ],
   "source": [
    "# Все ключевые значения для расчётов сохраним в отдельных переменных.\n",
    "\n",
    "BUDGET = 10**10 #Бюджет на разработку скважин в регионе — 10 млрд рублей.\n",
    "BUDGET_ONE_HOLE = BUDGET / 200 # Бюджет одной скважины по условиям задачи\n",
    "INCOME_PER_1000_BARREL = 450_000 # При нынешних ценах один баррель сырья приносит 450 рублей дохода. Но у нас единица обема - это тыс.баррелей.\n",
    "MIN_VOLUME = BUDGET_ONE_HOLE / INCOME_PER_1000_BARREL # точка безубыточности на одну скважину\n",
    "\n",
    "print(f\"Точка безубыточности одной скважины в среднем - {MIN_VOLUME:.6f} тыс. баррелей\")"
   ]
  },
  {
   "cell_type": "markdown",
   "metadata": {},
   "source": [
    "**Предварительные выводы:**  \n",
    "- Отметили, что средняя выработка скважин (по предсказаниям) ниже точки безубыточности. В лучшем случаем 95 тыс.баррелей против 111. Но это средняя - а мы ведь будем снимать сливки - брать только 200 лучших скважин ))"
   ]
  },
  {
   "cell_type": "markdown",
   "metadata": {},
   "source": [
    "## Расчёт прибыли и рисков \n",
    "\n",
    "Тут тоже для себя переведем задание яндекса на русский язык.  \n",
    "Нам нужно выбрать 200 лучших скважин. Но выбирать мы их будем по предсказаниям, а прибыль будем считать по факту. То есть это нам позволит как бы оценить, насколько хорошо отработает модель в реальной жизни. Образно мы предсказываем у скважин один объем, а выручку по жизни получим уже отличную от прогноза - фактическую. "
   ]
  },
  {
   "cell_type": "code",
   "execution_count": 9,
   "metadata": {},
   "outputs": [],
   "source": [
    "# напишем функцию для расчета прибыли по выбранным скважинам. Выбранных - 200 шт.\n",
    "def revenue(target, predicted, count=200):\n",
    "    predicted_sorted = predicted.sort_values(ascending=False)\n",
    "    selected = target[predicted_sorted.index][:count]\n",
    "    profit = selected.sum() * INCOME_PER_1000_BARREL - count * BUDGET_ONE_HOLE\n",
    "    return profit"
   ]
  },
  {
   "cell_type": "code",
   "execution_count": 10,
   "metadata": {},
   "outputs": [
    {
     "name": "stdout",
     "output_type": "stream",
     "text": [
      "Прибыль для региона №1(df_0) составляет 3.318 млрд. руб.\n",
      "Прибыль для региона №2(df_1) составляет 2.415 млрд. руб.\n",
      "Прибыль для региона №3(df_2) составляет 3.029 млрд. руб.\n"
     ]
    }
   ],
   "source": [
    "for i in range(3):\n",
    "    print(\"Прибыль для региона №{0}({1}) составляет {2:.3f} млрд. руб.\".format(i+1, \n",
    "                                                                        namestr(df_all[i], globals())[0],\n",
    "                                                                        revenue(y_valid_all[i], y_pred_all[i])/10**9))\n",
    "    revenue(y_valid, y_pred)/10**9\n"
   ]
  },
  {
   "cell_type": "markdown",
   "metadata": {},
   "source": [
    "Таким образом, если мы в каждом регионе выберем лучшие 200 скважин из предсказанных, то прибыль составит соответственно:  \n",
    "3.3 млрд руб. для первого региона.  \n",
    "2.4 млрд руб. для второго региона.  \n",
    "3.0 млрд руб. для третьего региона.  \n",
    "\n",
    "Но по условиям задания мы теперь должны применить технику бутстрэп. Будем делать выборки по 500 скважин, 1000 раз в каждом регионе, и выбирать из них 200 лучших и смотреть прибыль."
   ]
  },
  {
   "cell_type": "code",
   "execution_count": 11,
   "metadata": {},
   "outputs": [
    {
     "name": "stdout",
     "output_type": "stream",
     "text": [
      "Для региона № 1 (df_0)\n",
      "Средняя выручка: 0.522 млрд. руб.\n",
      "95%-й доверительный интервал лежит в диапазоне: (0.012, 1.038) млрд. руб.\n",
      "риск убытка составляет: 2.30 %\n",
      "_ _ _ _ _ _ _ _ _ _ _ _ _ _ _ _ _ _ _ _ \n",
      "Для региона № 2 (df_1)\n",
      "Средняя выручка: 0.545 млрд. руб.\n",
      "95%-й доверительный интервал лежит в диапазоне: (0.127, 0.984) млрд. руб.\n",
      "риск убытка составляет: 0.80 %\n",
      "_ _ _ _ _ _ _ _ _ _ _ _ _ _ _ _ _ _ _ _ \n",
      "Для региона № 3 (df_2)\n",
      "Средняя выручка: 0.661 млрд. руб.\n",
      "95%-й доверительный интервал лежит в диапазоне: (0.160, 1.173) млрд. руб.\n",
      "риск убытка составляет: 0.80 %\n",
      "_ _ _ _ _ _ _ _ _ _ _ _ _ _ _ _ _ _ _ _ \n"
     ]
    }
   ],
   "source": [
    "state = np.random.RandomState(666)\n",
    "\n",
    "for i in range(3):\n",
    "    profit = []\n",
    "    for _ in range(1000):\n",
    "        y_pred = y_pred_all[i]\n",
    "        y_valid = y_valid_all[i]\n",
    "\n",
    "        y_pred_subsample = y_pred.sample(500, replace=True, random_state=state)\n",
    "        y_valid_subsample = y_valid[y_pred_subsample.index] \n",
    "            \n",
    "        profit.append(revenue(y_valid_subsample, y_pred_subsample))\n",
    "\n",
    "    values = pd.Series(profit)\n",
    "    \n",
    "    mean = values.mean()\n",
    "    lower = values.quantile(0.025)\n",
    "    upper = values.quantile(0.975)\n",
    "\n",
    "    # Насколько понимаю, риск убытка - это доля отрицательных прибылей в списке прибылей\n",
    "    negative_profit = 0\n",
    "    for profit in values:\n",
    "        if profit < 0:\n",
    "            negative_profit += 1\n",
    "    risk = (negative_profit / len(values))*100\n",
    "\n",
    "    print(f\"Для региона № {i+1} ({namestr(df_all[i], globals())[0]})\")\n",
    "    print(f\"Средняя выручка: {mean/10**9:.3f} млрд. руб.\")\n",
    "    print(f\"95%-й доверительный интервал лежит в диапазоне: ({lower/10**9:.3f}, {upper/10**9:.3f}) млрд. руб.\")\n",
    "    print(f\"риск убытка составляет: {risk:.2f} %\")\n",
    "    print(\"_ \"*20)"
   ]
  },
  {
   "cell_type": "markdown",
   "metadata": {},
   "source": [
    "**Предварительные выводы:**  \n",
    "- В этой части мы посмотрели, что в принципе в любом регионе можно выбрать 200 лучших скважин и оказаться в плюсе.\n",
    "- Затем мы применили технику Бутстрэп и посмотрели, что самым оптимальным для выбора является третий регион, так как у него при выборе 200 скважин самая высокая средняя прибыль, риск убытка такой же как и во втором регионе и ниже чем в первом, а так же прибыль в 95% доверительном интервале выше чем у других регионов."
   ]
  },
  {
   "cell_type": "markdown",
   "metadata": {},
   "source": [
    "## Выводы  \n",
    "\n",
    "* Данные довольно чистые, не требуют дополнительной обработки:  \n",
    "    - Загрузили данные, проверили на наличие дубликатов. Есть дубликаты в id, но они нам не помешают, так как для построения модели данный столбец использовать не будем. При этом полных дубликатов нет.\n",
    "    - Так же нет пропусков в данных и аномальных значений (ярковыраженных выбросов).\n",
    "    - Распределения признаков и целевой переменной интересные, есть признаки с нормальным распределением, есть ярковыраженные многомодальные распределения.\n",
    "    - Посмотрели корреляцию. У всех датасетов она разная. Во втором датасете между признаком f2 и целевой переменной корреляция практически единица.\n",
    "* Обучили и проверили модель для каждого региона:\n",
    "    - Сделали пайплайн с предобработкой скейлером (СтандартСкэйлер) и генерацию полиноминальных признаков.\n",
    "    - Посмотрели метрики (R2 и RMSE). Самое высокое качество во втором регионе (df_1), что объясняется полной корреляцией (почти 1) одного из признаков с целевой переменной. Добавление полиноминальных признаков увеличило качество модели (кроме второго региона).\n",
    "    - Сделали предикт объема нефти по валидационной выборке  \n",
    "    - Посмотрели среднюю добычу по предсказанным скважинам. Самая большая средняя добыча в третьем регионе (df_2) - 95 тыс.баррелей\n",
    "* Рассчитали, что средняя выработка скважин (по предсказаниям) ниже точки безубыточности. В лучшем случаем 95 тыс.баррелей против 111. Но это средняя - а мы ведь будем снимать сливки - брать только 200 лучших скважин  \n",
    "* Расчитали возможные прибыли и риски по каждому региону\n",
    "    - В этой части мы посмотрели, что в принципе в любом регионе можно выбрать 200 лучших скважин и оказаться в плюсе.\n",
    "    - Затем мы применили технику Бутстрэп и посмотрели, что самым оптимальным для выбора является третий регион, так как у него при выборе 200 скважин самая высокая средняя прибыль, риск убытка такой же как и во втором регионе и ниже чем в первом, а так же прибыль в 95% доверительном интервале выше чем у других регионов.\n",
    "    \n",
    "\n"
   ]
  }
 ],
 "metadata": {
  "ExecuteTimeLog": [
   {
    "duration": 1029,
    "start_time": "2023-04-28T12:29:55.779Z"
   },
   {
    "duration": 6,
    "start_time": "2023-04-28T12:29:56.810Z"
   },
   {
    "duration": 859,
    "start_time": "2023-04-28T12:29:56.817Z"
   },
   {
    "duration": 1536,
    "start_time": "2023-04-28T12:29:57.678Z"
   },
   {
    "duration": 924,
    "start_time": "2023-04-28T12:29:59.216Z"
   },
   {
    "duration": 1082,
    "start_time": "2023-04-28T12:30:00.142Z"
   },
   {
    "duration": 147,
    "start_time": "2023-04-28T12:30:01.225Z"
   },
   {
    "duration": 0,
    "start_time": "2023-04-28T12:30:01.374Z"
   },
   {
    "duration": 0,
    "start_time": "2023-04-28T12:30:01.376Z"
   },
   {
    "duration": 0,
    "start_time": "2023-04-28T12:30:01.377Z"
   },
   {
    "duration": 0,
    "start_time": "2023-04-28T12:30:01.379Z"
   },
   {
    "duration": 35,
    "start_time": "2023-04-28T12:32:00.126Z"
   },
   {
    "duration": 33,
    "start_time": "2023-04-28T12:32:10.424Z"
   },
   {
    "duration": 491,
    "start_time": "2023-04-28T12:32:51.548Z"
   },
   {
    "duration": 455,
    "start_time": "2023-04-28T12:33:28.915Z"
   },
   {
    "duration": 821,
    "start_time": "2023-04-28T12:33:47.217Z"
   },
   {
    "duration": 30,
    "start_time": "2023-04-28T12:34:06.594Z"
   },
   {
    "duration": 2039,
    "start_time": "2023-04-28T12:35:53.896Z"
   },
   {
    "duration": 996,
    "start_time": "2023-04-28T12:36:26.687Z"
   },
   {
    "duration": 5,
    "start_time": "2023-04-28T12:36:27.685Z"
   },
   {
    "duration": 524,
    "start_time": "2023-04-28T12:36:27.692Z"
   },
   {
    "duration": 1199,
    "start_time": "2023-04-28T12:36:28.218Z"
   },
   {
    "duration": 908,
    "start_time": "2023-04-28T12:36:29.418Z"
   },
   {
    "duration": 1181,
    "start_time": "2023-04-28T12:36:30.327Z"
   },
   {
    "duration": 2031,
    "start_time": "2023-04-28T12:36:31.510Z"
   },
   {
    "duration": 5,
    "start_time": "2023-04-28T12:36:33.543Z"
   },
   {
    "duration": 204,
    "start_time": "2023-04-28T12:36:33.549Z"
   },
   {
    "duration": 31,
    "start_time": "2023-04-28T12:36:33.757Z"
   },
   {
    "duration": 4131,
    "start_time": "2023-04-28T12:36:33.790Z"
   }
  ],
  "kernelspec": {
   "display_name": "Python 3 (ipykernel)",
   "language": "python",
   "name": "python3"
  },
  "language_info": {
   "codemirror_mode": {
    "name": "ipython",
    "version": 3
   },
   "file_extension": ".py",
   "mimetype": "text/x-python",
   "name": "python",
   "nbconvert_exporter": "python",
   "pygments_lexer": "ipython3",
   "version": "3.9.5"
  },
  "toc": {
   "base_numbering": 1,
   "nav_menu": {},
   "number_sections": true,
   "sideBar": true,
   "skip_h1_title": true,
   "title_cell": "Table of Contents",
   "title_sidebar": "Contents",
   "toc_cell": false,
   "toc_position": {},
   "toc_section_display": true,
   "toc_window_display": false
  },
  "vscode": {
   "interpreter": {
    "hash": "26de051ba29f2982a8de78e945f0abaf191376122a1563185a90213a26c5da77"
   }
  }
 },
 "nbformat": 4,
 "nbformat_minor": 2
}
