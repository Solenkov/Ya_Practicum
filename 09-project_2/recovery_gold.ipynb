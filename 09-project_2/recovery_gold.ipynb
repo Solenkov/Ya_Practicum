{
 "cells": [
  {
   "cell_type": "markdown",
   "metadata": {},
   "source": [
    "# Восстановление золота из руды"
   ]
  },
  {
   "cell_type": "markdown",
   "metadata": {},
   "source": [
    "Подготовьте прототип модели машинного обучения для «Цифры». Компания разрабатывает решения для эффективной работы промышленных предприятий.\n",
    "\n",
    "Модель должна предсказать коэффициент восстановления золота из золотосодержащей руды. Используйте данные с параметрами добычи и очистки. \n",
    "\n",
    "Модель поможет оптимизировать производство, чтобы не запускать предприятие с убыточными характеристиками.\n",
    "\n",
    "Вам нужно:\n",
    "\n",
    "1. Подготовить данные;\n",
    "2. Провести исследовательский анализ данных;\n",
    "3. Построить и обучить модель.\n",
    "\n",
    "Чтобы выполнить проект, обращайтесь к библиотекам *pandas*, *matplotlib* и *sklearn.* Вам поможет их документация."
   ]
  },
  {
   "cell_type": "markdown",
   "metadata": {},
   "source": [
    "## Подготовка данных"
   ]
  },
  {
   "cell_type": "code",
   "execution_count": 38,
   "metadata": {},
   "outputs": [],
   "source": [
    "import pandas as pd\n",
    "import numpy as np\n",
    "\n",
    "from sklearn.svm import LinearSVR\n",
    "from sklearn.linear_model import LinearRegression\n",
    "from sklearn.ensemble import RandomForestRegressor, GradientBoostingRegressor\n",
    "from sklearn.tree import DecisionTreeRegressor\n",
    "from sklearn.dummy import DummyRegressor\n",
    "\n",
    "from sklearn.feature_selection import SelectKBest, f_classif\n",
    "from sklearn.model_selection import train_test_split, GridSearchCV\n",
    "from sklearn.decomposition import PCA, NMF\n",
    "\n",
    "\n",
    "from sklearn.pipeline import Pipeline\n",
    "from sklearn.impute import SimpleImputer\n",
    "from sklearn.preprocessing import StandardScaler, PolynomialFeatures\n",
    "from sklearn.compose import ColumnTransformer\n",
    "\n",
    "\n",
    "from sklearn.metrics import make_scorer\n",
    "from sklearn.metrics import mean_absolute_error as mae\n",
    "from sklearn.metrics import mean_absolute_percentage_error as mape\n",
    "from sklearn.metrics import r2_score\n",
    "\n",
    "import matplotlib.pyplot as plt\n",
    "import seaborn as sns\n",
    "%matplotlib inline\n",
    "\n",
    "\n",
    "pd.set_option('display.max_column', None)\n",
    "\n",
    "import warnings\n",
    "warnings.filterwarnings('ignore')"
   ]
  },
  {
   "cell_type": "code",
   "execution_count": 2,
   "metadata": {},
   "outputs": [],
   "source": [
    "def read_scv(res1, res2):\n",
    "    # считываем файл, столбец с датой - в индекс\n",
    "    try:\n",
    "        df = pd.read_csv(res1, index_col='date')\n",
    "    except:\n",
    "        df = pd.read_csv(res2, index_col='date')\n",
    "    return df\n",
    "\n",
    "def search_features_output(data):\n",
    "    # ищем столбцы с выбросами\n",
    "    outputs = []\n",
    "    for column in data.columns:\n",
    "        Q1 = data[column].quantile(0.25)\n",
    "        Q3 = data[column].quantile(0.75)\n",
    "        IQR = Q3 - Q1\n",
    "        if data[(data[column]<Q1-1.5*IQR)|(data[column]>Q3+1.5*IQR)].shape[0] > 0:\n",
    "            outputs.append(column)\n",
    "    return outputs\n",
    "\n",
    "def drop_output_iqr(data, level=1.5):\n",
    "    for column in data.columns:\n",
    "        Q1 = data[column].quantile(0.25)\n",
    "        Q3 = data[column].quantile(0.75)\n",
    "        IQR = Q3 - Q1\n",
    "        data = data[(data[column]>=Q1-level*IQR)&(data[column]<=Q3+level*IQR)]\n",
    "    return data\n",
    "\n",
    "def drop_output_95(data, q_down=0.025, q_up=0.975):\n",
    "    for column in data.columns:\n",
    "        floor = data[column].quantile(q_down)\n",
    "        ceiling = data[column].quantile(q_up)\n",
    "        data = data[(data[column]>=floor)&(data[column]<=ceiling)]\n",
    "    return data\n",
    "        \n",
    "def find_recovery(C, F, T):\n",
    "    recovery = 100*(C*(F-T))/(F*(C-T))\n",
    "    return recovery\n",
    "     \n",
    "def look_concentrate(ore, input_concentrate, rougher, cleaner, final, df):\n",
    "    print(\"Смотрим на концентрацию\", ore, 'на разных этапах')\n",
    "\n",
    "    sns.set(rc={'figure.figsize':(20,8)})\n",
    "\n",
    "    plt.subplot(1, 4, 1)\n",
    "    plt.xlabel('концентрация')\n",
    "    plt.ylabel('частота')\n",
    "    plt.title('сырьё')\n",
    "    sns.histplot(x=input_concentrate, data=df)\n",
    "\n",
    "    plt.subplot(1, 4, 2)\n",
    "    plt.xlabel('концентрация')\n",
    "    plt.ylabel('частота')\n",
    "    plt.title('в черновом концентрате')\n",
    "    sns.histplot(x=rougher, data=df)\n",
    "\n",
    "    plt.subplot(1, 4, 3)\n",
    "    plt.xlabel('концентрация')\n",
    "    plt.ylabel('частота')\n",
    "    plt.title('после первой очистки')\n",
    "    sns.histplot(x=cleaner, data=df)\n",
    "\n",
    "    plt.subplot(1, 4, 4)\n",
    "    plt.xlabel('концентрация')\n",
    "    plt.ylabel('частота')\n",
    "    plt.title('в финальном концентрате')\n",
    "    sns.histplot(x=final, data=df);\n",
    "\n",
    "def look_feed_size(column, df1, title1, df2, title2, roof=150):\n",
    "    sns.set(rc={'figure.figsize':(20,8)})\n",
    "\n",
    "    plt.subplot(1, 2, 1)\n",
    "    plt.xlabel('размер гранул')\n",
    "    plt.ylabel('частота')\n",
    "    plt.title(title1)\n",
    "    sns.histplot(x=column, data=df1[df1[column]<roof])\n",
    "\n",
    "    plt.subplot(1, 2, 2)\n",
    "    plt.xlabel('размер гранул')\n",
    "    plt.ylabel('частота')\n",
    "    plt.title(title2)\n",
    "    sns.histplot(x=column, data=df2[df2[column]<roof]);\n",
    "\n",
    "def smape(y, y_pred):\n",
    "    y = np.array(y)\n",
    "    y_pred = np.array(y_pred)\n",
    "    return np.mean(np.abs(y - y_pred) / ((np.abs(y) + np.abs(y_pred)) / 2)) * 100\n",
    "\n",
    "def smape_itog(y_roughher_pred, y_roughher_test, y_final_pred, y_final_test):\n",
    "    return 0.25*smape(y_roughher_pred, y_roughher_test) + 0.75*smape(y_final_pred, y_final_test)\n"
   ]
  },
  {
   "cell_type": "markdown",
   "metadata": {},
   "source": [
    "**1.1.** Откроем и посмотрим данные."
   ]
  },
  {
   "cell_type": "code",
   "execution_count": 3,
   "metadata": {},
   "outputs": [
    {
     "name": "stdout",
     "output_type": "stream",
     "text": [
      "Размер тренировочной выборки - (14579, 86)\n",
      "Размер тестовой выборки - (4860, 52)\n",
      "Размер полной выборки - (19439, 86)\n"
     ]
    },
    {
     "data": {
      "text/html": [
       "<div>\n",
       "<style scoped>\n",
       "    .dataframe tbody tr th:only-of-type {\n",
       "        vertical-align: middle;\n",
       "    }\n",
       "\n",
       "    .dataframe tbody tr th {\n",
       "        vertical-align: top;\n",
       "    }\n",
       "\n",
       "    .dataframe thead th {\n",
       "        text-align: right;\n",
       "    }\n",
       "</style>\n",
       "<table border=\"1\" class=\"dataframe\">\n",
       "  <thead>\n",
       "    <tr style=\"text-align: right;\">\n",
       "      <th></th>\n",
       "      <th>rougher.input.feed_au</th>\n",
       "      <th>rougher.input.feed_ag</th>\n",
       "      <th>rougher.input.feed_pb</th>\n",
       "      <th>rougher.input.feed_sol</th>\n",
       "      <th>rougher.input.feed_rate</th>\n",
       "      <th>rougher.input.feed_size</th>\n",
       "      <th>rougher.input.floatbank10_sulfate</th>\n",
       "      <th>rougher.input.floatbank10_xanthate</th>\n",
       "      <th>rougher.state.floatbank10_a_air</th>\n",
       "      <th>rougher.state.floatbank10_a_level</th>\n",
       "      <th>rougher.state.floatbank10_b_air</th>\n",
       "      <th>rougher.state.floatbank10_b_level</th>\n",
       "      <th>rougher.state.floatbank10_c_air</th>\n",
       "      <th>rougher.state.floatbank10_c_level</th>\n",
       "      <th>rougher.state.floatbank10_d_air</th>\n",
       "      <th>rougher.state.floatbank10_d_level</th>\n",
       "      <th>rougher.state.floatbank10_e_air</th>\n",
       "      <th>rougher.state.floatbank10_e_level</th>\n",
       "      <th>rougher.state.floatbank10_f_air</th>\n",
       "      <th>rougher.state.floatbank10_f_level</th>\n",
       "      <th>rougher.input.floatbank11_sulfate</th>\n",
       "      <th>rougher.input.floatbank11_xanthate</th>\n",
       "      <th>rougher.calculation.sulfate_to_au_concentrate</th>\n",
       "      <th>rougher.calculation.floatbank10_sulfate_to_au_feed</th>\n",
       "      <th>rougher.calculation.floatbank11_sulfate_to_au_feed</th>\n",
       "      <th>rougher.calculation.au_pb_ratio</th>\n",
       "      <th>rougher.output.concentrate_au</th>\n",
       "      <th>rougher.output.concentrate_ag</th>\n",
       "      <th>rougher.output.concentrate_pb</th>\n",
       "      <th>rougher.output.concentrate_sol</th>\n",
       "      <th>rougher.output.recovery</th>\n",
       "      <th>rougher.output.tail_au</th>\n",
       "      <th>rougher.output.tail_ag</th>\n",
       "      <th>rougher.output.tail_pb</th>\n",
       "      <th>rougher.output.tail_sol</th>\n",
       "      <th>primary_cleaner.input.sulfate</th>\n",
       "      <th>primary_cleaner.input.depressant</th>\n",
       "      <th>primary_cleaner.input.feed_size</th>\n",
       "      <th>primary_cleaner.input.xanthate</th>\n",
       "      <th>primary_cleaner.state.floatbank8_a_air</th>\n",
       "      <th>primary_cleaner.state.floatbank8_a_level</th>\n",
       "      <th>primary_cleaner.state.floatbank8_b_air</th>\n",
       "      <th>primary_cleaner.state.floatbank8_b_level</th>\n",
       "      <th>primary_cleaner.state.floatbank8_c_air</th>\n",
       "      <th>primary_cleaner.state.floatbank8_c_level</th>\n",
       "      <th>primary_cleaner.state.floatbank8_d_air</th>\n",
       "      <th>primary_cleaner.state.floatbank8_d_level</th>\n",
       "      <th>primary_cleaner.output.concentrate_au</th>\n",
       "      <th>primary_cleaner.output.concentrate_ag</th>\n",
       "      <th>primary_cleaner.output.concentrate_pb</th>\n",
       "      <th>primary_cleaner.output.concentrate_sol</th>\n",
       "      <th>primary_cleaner.output.tail_au</th>\n",
       "      <th>primary_cleaner.output.tail_ag</th>\n",
       "      <th>primary_cleaner.output.tail_pb</th>\n",
       "      <th>primary_cleaner.output.tail_sol</th>\n",
       "      <th>secondary_cleaner.state.floatbank2_a_air</th>\n",
       "      <th>secondary_cleaner.state.floatbank2_a_level</th>\n",
       "      <th>secondary_cleaner.state.floatbank2_b_air</th>\n",
       "      <th>secondary_cleaner.state.floatbank2_b_level</th>\n",
       "      <th>secondary_cleaner.state.floatbank3_a_air</th>\n",
       "      <th>secondary_cleaner.state.floatbank3_a_level</th>\n",
       "      <th>secondary_cleaner.state.floatbank3_b_air</th>\n",
       "      <th>secondary_cleaner.state.floatbank3_b_level</th>\n",
       "      <th>secondary_cleaner.state.floatbank4_a_air</th>\n",
       "      <th>secondary_cleaner.state.floatbank4_a_level</th>\n",
       "      <th>secondary_cleaner.state.floatbank4_b_air</th>\n",
       "      <th>secondary_cleaner.state.floatbank4_b_level</th>\n",
       "      <th>secondary_cleaner.state.floatbank5_a_air</th>\n",
       "      <th>secondary_cleaner.state.floatbank5_a_level</th>\n",
       "      <th>secondary_cleaner.state.floatbank5_b_air</th>\n",
       "      <th>secondary_cleaner.state.floatbank5_b_level</th>\n",
       "      <th>secondary_cleaner.state.floatbank6_a_air</th>\n",
       "      <th>secondary_cleaner.state.floatbank6_a_level</th>\n",
       "      <th>secondary_cleaner.output.tail_au</th>\n",
       "      <th>secondary_cleaner.output.tail_ag</th>\n",
       "      <th>secondary_cleaner.output.tail_pb</th>\n",
       "      <th>secondary_cleaner.output.tail_sol</th>\n",
       "      <th>final.output.concentrate_au</th>\n",
       "      <th>final.output.concentrate_ag</th>\n",
       "      <th>final.output.concentrate_pb</th>\n",
       "      <th>final.output.concentrate_sol</th>\n",
       "      <th>final.output.recovery</th>\n",
       "      <th>final.output.tail_au</th>\n",
       "      <th>final.output.tail_ag</th>\n",
       "      <th>final.output.tail_pb</th>\n",
       "      <th>final.output.tail_sol</th>\n",
       "    </tr>\n",
       "    <tr>\n",
       "      <th>date</th>\n",
       "      <th></th>\n",
       "      <th></th>\n",
       "      <th></th>\n",
       "      <th></th>\n",
       "      <th></th>\n",
       "      <th></th>\n",
       "      <th></th>\n",
       "      <th></th>\n",
       "      <th></th>\n",
       "      <th></th>\n",
       "      <th></th>\n",
       "      <th></th>\n",
       "      <th></th>\n",
       "      <th></th>\n",
       "      <th></th>\n",
       "      <th></th>\n",
       "      <th></th>\n",
       "      <th></th>\n",
       "      <th></th>\n",
       "      <th></th>\n",
       "      <th></th>\n",
       "      <th></th>\n",
       "      <th></th>\n",
       "      <th></th>\n",
       "      <th></th>\n",
       "      <th></th>\n",
       "      <th></th>\n",
       "      <th></th>\n",
       "      <th></th>\n",
       "      <th></th>\n",
       "      <th></th>\n",
       "      <th></th>\n",
       "      <th></th>\n",
       "      <th></th>\n",
       "      <th></th>\n",
       "      <th></th>\n",
       "      <th></th>\n",
       "      <th></th>\n",
       "      <th></th>\n",
       "      <th></th>\n",
       "      <th></th>\n",
       "      <th></th>\n",
       "      <th></th>\n",
       "      <th></th>\n",
       "      <th></th>\n",
       "      <th></th>\n",
       "      <th></th>\n",
       "      <th></th>\n",
       "      <th></th>\n",
       "      <th></th>\n",
       "      <th></th>\n",
       "      <th></th>\n",
       "      <th></th>\n",
       "      <th></th>\n",
       "      <th></th>\n",
       "      <th></th>\n",
       "      <th></th>\n",
       "      <th></th>\n",
       "      <th></th>\n",
       "      <th></th>\n",
       "      <th></th>\n",
       "      <th></th>\n",
       "      <th></th>\n",
       "      <th></th>\n",
       "      <th></th>\n",
       "      <th></th>\n",
       "      <th></th>\n",
       "      <th></th>\n",
       "      <th></th>\n",
       "      <th></th>\n",
       "      <th></th>\n",
       "      <th></th>\n",
       "      <th></th>\n",
       "      <th></th>\n",
       "      <th></th>\n",
       "      <th></th>\n",
       "      <th></th>\n",
       "      <th></th>\n",
       "      <th></th>\n",
       "      <th></th>\n",
       "      <th></th>\n",
       "      <th></th>\n",
       "      <th></th>\n",
       "      <th></th>\n",
       "      <th></th>\n",
       "      <th></th>\n",
       "    </tr>\n",
       "  </thead>\n",
       "  <tbody>\n",
       "    <tr>\n",
       "      <th>2016-01-15 00:00:00</th>\n",
       "      <td>6.486150</td>\n",
       "      <td>6.100378</td>\n",
       "      <td>2.284912</td>\n",
       "      <td>36.808594</td>\n",
       "      <td>523.546326</td>\n",
       "      <td>55.486599</td>\n",
       "      <td>11.986616</td>\n",
       "      <td>6.007990</td>\n",
       "      <td>999.706909</td>\n",
       "      <td>-404.066986</td>\n",
       "      <td>1603.011353</td>\n",
       "      <td>-434.715027</td>\n",
       "      <td>1602.37500</td>\n",
       "      <td>-442.204468</td>\n",
       "      <td>1598.937256</td>\n",
       "      <td>-451.294128</td>\n",
       "      <td>1404.472046</td>\n",
       "      <td>-455.462982</td>\n",
       "      <td>1416.354980</td>\n",
       "      <td>-451.939636</td>\n",
       "      <td>11.836743</td>\n",
       "      <td>6.005818</td>\n",
       "      <td>41885.707031</td>\n",
       "      <td>3481.779053</td>\n",
       "      <td>3520.337158</td>\n",
       "      <td>2.838687</td>\n",
       "      <td>19.793808</td>\n",
       "      <td>11.500771</td>\n",
       "      <td>7.101074</td>\n",
       "      <td>28.029297</td>\n",
       "      <td>87.107763</td>\n",
       "      <td>1.170244</td>\n",
       "      <td>5.008018</td>\n",
       "      <td>0.508728</td>\n",
       "      <td>19.154297</td>\n",
       "      <td>127.092003</td>\n",
       "      <td>10.128295</td>\n",
       "      <td>7.25</td>\n",
       "      <td>0.988759</td>\n",
       "      <td>1549.775757</td>\n",
       "      <td>-498.912140</td>\n",
       "      <td>1551.434204</td>\n",
       "      <td>-516.403442</td>\n",
       "      <td>1549.873901</td>\n",
       "      <td>-498.666595</td>\n",
       "      <td>1554.367432</td>\n",
       "      <td>-493.428131</td>\n",
       "      <td>34.174427</td>\n",
       "      <td>8.547551</td>\n",
       "      <td>10.389648</td>\n",
       "      <td>19.529297</td>\n",
       "      <td>2.106679</td>\n",
       "      <td>14.936526</td>\n",
       "      <td>2.534912</td>\n",
       "      <td>7.476074</td>\n",
       "      <td>25.853109</td>\n",
       "      <td>-498.526489</td>\n",
       "      <td>23.89366</td>\n",
       "      <td>-501.406281</td>\n",
       "      <td>23.961798</td>\n",
       "      <td>-495.262817</td>\n",
       "      <td>21.940409</td>\n",
       "      <td>-499.340973</td>\n",
       "      <td>14.016835</td>\n",
       "      <td>-502.488007</td>\n",
       "      <td>12.099931</td>\n",
       "      <td>-504.715942</td>\n",
       "      <td>9.925633</td>\n",
       "      <td>-498.310211</td>\n",
       "      <td>8.079666</td>\n",
       "      <td>-500.470978</td>\n",
       "      <td>14.151341</td>\n",
       "      <td>-605.841980</td>\n",
       "      <td>2.606185</td>\n",
       "      <td>14.500184</td>\n",
       "      <td>4.694824</td>\n",
       "      <td>8.764648</td>\n",
       "      <td>42.192020</td>\n",
       "      <td>6.055403</td>\n",
       "      <td>9.889648</td>\n",
       "      <td>5.507324</td>\n",
       "      <td>70.541216</td>\n",
       "      <td>2.143149</td>\n",
       "      <td>10.411962</td>\n",
       "      <td>0.895447</td>\n",
       "      <td>16.904297</td>\n",
       "    </tr>\n",
       "    <tr>\n",
       "      <th>2016-01-15 01:00:00</th>\n",
       "      <td>6.478583</td>\n",
       "      <td>6.161113</td>\n",
       "      <td>2.266033</td>\n",
       "      <td>35.753385</td>\n",
       "      <td>525.290581</td>\n",
       "      <td>57.278666</td>\n",
       "      <td>11.971193</td>\n",
       "      <td>6.005766</td>\n",
       "      <td>1000.286398</td>\n",
       "      <td>-400.065196</td>\n",
       "      <td>1600.754587</td>\n",
       "      <td>-449.953435</td>\n",
       "      <td>1600.47958</td>\n",
       "      <td>-449.830646</td>\n",
       "      <td>1600.527589</td>\n",
       "      <td>-449.953649</td>\n",
       "      <td>1399.227084</td>\n",
       "      <td>-450.869848</td>\n",
       "      <td>1399.719514</td>\n",
       "      <td>-450.119001</td>\n",
       "      <td>11.996163</td>\n",
       "      <td>6.012594</td>\n",
       "      <td>42050.861809</td>\n",
       "      <td>3498.370979</td>\n",
       "      <td>3489.981857</td>\n",
       "      <td>2.858998</td>\n",
       "      <td>20.050975</td>\n",
       "      <td>11.615865</td>\n",
       "      <td>7.278807</td>\n",
       "      <td>28.067063</td>\n",
       "      <td>86.843261</td>\n",
       "      <td>1.184827</td>\n",
       "      <td>4.955378</td>\n",
       "      <td>0.536689</td>\n",
       "      <td>18.965234</td>\n",
       "      <td>125.629232</td>\n",
       "      <td>10.296251</td>\n",
       "      <td>7.25</td>\n",
       "      <td>1.002663</td>\n",
       "      <td>1576.166671</td>\n",
       "      <td>-500.904965</td>\n",
       "      <td>1575.950626</td>\n",
       "      <td>-499.865889</td>\n",
       "      <td>1575.994189</td>\n",
       "      <td>-499.315107</td>\n",
       "      <td>1574.479259</td>\n",
       "      <td>-498.931665</td>\n",
       "      <td>34.118526</td>\n",
       "      <td>8.558743</td>\n",
       "      <td>10.497069</td>\n",
       "      <td>19.369147</td>\n",
       "      <td>2.353017</td>\n",
       "      <td>16.250511</td>\n",
       "      <td>3.049646</td>\n",
       "      <td>6.733907</td>\n",
       "      <td>25.880539</td>\n",
       "      <td>-499.989656</td>\n",
       "      <td>23.88953</td>\n",
       "      <td>-500.372428</td>\n",
       "      <td>23.970550</td>\n",
       "      <td>-500.085473</td>\n",
       "      <td>22.085714</td>\n",
       "      <td>-499.446897</td>\n",
       "      <td>13.992281</td>\n",
       "      <td>-505.503262</td>\n",
       "      <td>11.950531</td>\n",
       "      <td>-501.331529</td>\n",
       "      <td>10.039245</td>\n",
       "      <td>-500.169983</td>\n",
       "      <td>7.984757</td>\n",
       "      <td>-500.582168</td>\n",
       "      <td>13.998353</td>\n",
       "      <td>-599.787184</td>\n",
       "      <td>2.488248</td>\n",
       "      <td>14.265474</td>\n",
       "      <td>4.592547</td>\n",
       "      <td>9.001494</td>\n",
       "      <td>42.701629</td>\n",
       "      <td>6.029369</td>\n",
       "      <td>9.968944</td>\n",
       "      <td>5.257781</td>\n",
       "      <td>69.266198</td>\n",
       "      <td>2.224930</td>\n",
       "      <td>10.462676</td>\n",
       "      <td>0.927452</td>\n",
       "      <td>16.634514</td>\n",
       "    </tr>\n",
       "  </tbody>\n",
       "</table>\n",
       "</div>"
      ],
      "text/plain": [
       "                     rougher.input.feed_au  rougher.input.feed_ag  \\\n",
       "date                                                                \n",
       "2016-01-15 00:00:00               6.486150               6.100378   \n",
       "2016-01-15 01:00:00               6.478583               6.161113   \n",
       "\n",
       "                     rougher.input.feed_pb  rougher.input.feed_sol  \\\n",
       "date                                                                 \n",
       "2016-01-15 00:00:00               2.284912               36.808594   \n",
       "2016-01-15 01:00:00               2.266033               35.753385   \n",
       "\n",
       "                     rougher.input.feed_rate  rougher.input.feed_size  \\\n",
       "date                                                                    \n",
       "2016-01-15 00:00:00               523.546326                55.486599   \n",
       "2016-01-15 01:00:00               525.290581                57.278666   \n",
       "\n",
       "                     rougher.input.floatbank10_sulfate  \\\n",
       "date                                                     \n",
       "2016-01-15 00:00:00                          11.986616   \n",
       "2016-01-15 01:00:00                          11.971193   \n",
       "\n",
       "                     rougher.input.floatbank10_xanthate  \\\n",
       "date                                                      \n",
       "2016-01-15 00:00:00                            6.007990   \n",
       "2016-01-15 01:00:00                            6.005766   \n",
       "\n",
       "                     rougher.state.floatbank10_a_air  \\\n",
       "date                                                   \n",
       "2016-01-15 00:00:00                       999.706909   \n",
       "2016-01-15 01:00:00                      1000.286398   \n",
       "\n",
       "                     rougher.state.floatbank10_a_level  \\\n",
       "date                                                     \n",
       "2016-01-15 00:00:00                        -404.066986   \n",
       "2016-01-15 01:00:00                        -400.065196   \n",
       "\n",
       "                     rougher.state.floatbank10_b_air  \\\n",
       "date                                                   \n",
       "2016-01-15 00:00:00                      1603.011353   \n",
       "2016-01-15 01:00:00                      1600.754587   \n",
       "\n",
       "                     rougher.state.floatbank10_b_level  \\\n",
       "date                                                     \n",
       "2016-01-15 00:00:00                        -434.715027   \n",
       "2016-01-15 01:00:00                        -449.953435   \n",
       "\n",
       "                     rougher.state.floatbank10_c_air  \\\n",
       "date                                                   \n",
       "2016-01-15 00:00:00                       1602.37500   \n",
       "2016-01-15 01:00:00                       1600.47958   \n",
       "\n",
       "                     rougher.state.floatbank10_c_level  \\\n",
       "date                                                     \n",
       "2016-01-15 00:00:00                        -442.204468   \n",
       "2016-01-15 01:00:00                        -449.830646   \n",
       "\n",
       "                     rougher.state.floatbank10_d_air  \\\n",
       "date                                                   \n",
       "2016-01-15 00:00:00                      1598.937256   \n",
       "2016-01-15 01:00:00                      1600.527589   \n",
       "\n",
       "                     rougher.state.floatbank10_d_level  \\\n",
       "date                                                     \n",
       "2016-01-15 00:00:00                        -451.294128   \n",
       "2016-01-15 01:00:00                        -449.953649   \n",
       "\n",
       "                     rougher.state.floatbank10_e_air  \\\n",
       "date                                                   \n",
       "2016-01-15 00:00:00                      1404.472046   \n",
       "2016-01-15 01:00:00                      1399.227084   \n",
       "\n",
       "                     rougher.state.floatbank10_e_level  \\\n",
       "date                                                     \n",
       "2016-01-15 00:00:00                        -455.462982   \n",
       "2016-01-15 01:00:00                        -450.869848   \n",
       "\n",
       "                     rougher.state.floatbank10_f_air  \\\n",
       "date                                                   \n",
       "2016-01-15 00:00:00                      1416.354980   \n",
       "2016-01-15 01:00:00                      1399.719514   \n",
       "\n",
       "                     rougher.state.floatbank10_f_level  \\\n",
       "date                                                     \n",
       "2016-01-15 00:00:00                        -451.939636   \n",
       "2016-01-15 01:00:00                        -450.119001   \n",
       "\n",
       "                     rougher.input.floatbank11_sulfate  \\\n",
       "date                                                     \n",
       "2016-01-15 00:00:00                          11.836743   \n",
       "2016-01-15 01:00:00                          11.996163   \n",
       "\n",
       "                     rougher.input.floatbank11_xanthate  \\\n",
       "date                                                      \n",
       "2016-01-15 00:00:00                            6.005818   \n",
       "2016-01-15 01:00:00                            6.012594   \n",
       "\n",
       "                     rougher.calculation.sulfate_to_au_concentrate  \\\n",
       "date                                                                 \n",
       "2016-01-15 00:00:00                                   41885.707031   \n",
       "2016-01-15 01:00:00                                   42050.861809   \n",
       "\n",
       "                     rougher.calculation.floatbank10_sulfate_to_au_feed  \\\n",
       "date                                                                      \n",
       "2016-01-15 00:00:00                                        3481.779053    \n",
       "2016-01-15 01:00:00                                        3498.370979    \n",
       "\n",
       "                     rougher.calculation.floatbank11_sulfate_to_au_feed  \\\n",
       "date                                                                      \n",
       "2016-01-15 00:00:00                                        3520.337158    \n",
       "2016-01-15 01:00:00                                        3489.981857    \n",
       "\n",
       "                     rougher.calculation.au_pb_ratio  \\\n",
       "date                                                   \n",
       "2016-01-15 00:00:00                         2.838687   \n",
       "2016-01-15 01:00:00                         2.858998   \n",
       "\n",
       "                     rougher.output.concentrate_au  \\\n",
       "date                                                 \n",
       "2016-01-15 00:00:00                      19.793808   \n",
       "2016-01-15 01:00:00                      20.050975   \n",
       "\n",
       "                     rougher.output.concentrate_ag  \\\n",
       "date                                                 \n",
       "2016-01-15 00:00:00                      11.500771   \n",
       "2016-01-15 01:00:00                      11.615865   \n",
       "\n",
       "                     rougher.output.concentrate_pb  \\\n",
       "date                                                 \n",
       "2016-01-15 00:00:00                       7.101074   \n",
       "2016-01-15 01:00:00                       7.278807   \n",
       "\n",
       "                     rougher.output.concentrate_sol  rougher.output.recovery  \\\n",
       "date                                                                           \n",
       "2016-01-15 00:00:00                       28.029297                87.107763   \n",
       "2016-01-15 01:00:00                       28.067063                86.843261   \n",
       "\n",
       "                     rougher.output.tail_au  rougher.output.tail_ag  \\\n",
       "date                                                                  \n",
       "2016-01-15 00:00:00                1.170244                5.008018   \n",
       "2016-01-15 01:00:00                1.184827                4.955378   \n",
       "\n",
       "                     rougher.output.tail_pb  rougher.output.tail_sol  \\\n",
       "date                                                                   \n",
       "2016-01-15 00:00:00                0.508728                19.154297   \n",
       "2016-01-15 01:00:00                0.536689                18.965234   \n",
       "\n",
       "                     primary_cleaner.input.sulfate  \\\n",
       "date                                                 \n",
       "2016-01-15 00:00:00                     127.092003   \n",
       "2016-01-15 01:00:00                     125.629232   \n",
       "\n",
       "                     primary_cleaner.input.depressant  \\\n",
       "date                                                    \n",
       "2016-01-15 00:00:00                         10.128295   \n",
       "2016-01-15 01:00:00                         10.296251   \n",
       "\n",
       "                     primary_cleaner.input.feed_size  \\\n",
       "date                                                   \n",
       "2016-01-15 00:00:00                             7.25   \n",
       "2016-01-15 01:00:00                             7.25   \n",
       "\n",
       "                     primary_cleaner.input.xanthate  \\\n",
       "date                                                  \n",
       "2016-01-15 00:00:00                        0.988759   \n",
       "2016-01-15 01:00:00                        1.002663   \n",
       "\n",
       "                     primary_cleaner.state.floatbank8_a_air  \\\n",
       "date                                                          \n",
       "2016-01-15 00:00:00                             1549.775757   \n",
       "2016-01-15 01:00:00                             1576.166671   \n",
       "\n",
       "                     primary_cleaner.state.floatbank8_a_level  \\\n",
       "date                                                            \n",
       "2016-01-15 00:00:00                               -498.912140   \n",
       "2016-01-15 01:00:00                               -500.904965   \n",
       "\n",
       "                     primary_cleaner.state.floatbank8_b_air  \\\n",
       "date                                                          \n",
       "2016-01-15 00:00:00                             1551.434204   \n",
       "2016-01-15 01:00:00                             1575.950626   \n",
       "\n",
       "                     primary_cleaner.state.floatbank8_b_level  \\\n",
       "date                                                            \n",
       "2016-01-15 00:00:00                               -516.403442   \n",
       "2016-01-15 01:00:00                               -499.865889   \n",
       "\n",
       "                     primary_cleaner.state.floatbank8_c_air  \\\n",
       "date                                                          \n",
       "2016-01-15 00:00:00                             1549.873901   \n",
       "2016-01-15 01:00:00                             1575.994189   \n",
       "\n",
       "                     primary_cleaner.state.floatbank8_c_level  \\\n",
       "date                                                            \n",
       "2016-01-15 00:00:00                               -498.666595   \n",
       "2016-01-15 01:00:00                               -499.315107   \n",
       "\n",
       "                     primary_cleaner.state.floatbank8_d_air  \\\n",
       "date                                                          \n",
       "2016-01-15 00:00:00                             1554.367432   \n",
       "2016-01-15 01:00:00                             1574.479259   \n",
       "\n",
       "                     primary_cleaner.state.floatbank8_d_level  \\\n",
       "date                                                            \n",
       "2016-01-15 00:00:00                               -493.428131   \n",
       "2016-01-15 01:00:00                               -498.931665   \n",
       "\n",
       "                     primary_cleaner.output.concentrate_au  \\\n",
       "date                                                         \n",
       "2016-01-15 00:00:00                              34.174427   \n",
       "2016-01-15 01:00:00                              34.118526   \n",
       "\n",
       "                     primary_cleaner.output.concentrate_ag  \\\n",
       "date                                                         \n",
       "2016-01-15 00:00:00                               8.547551   \n",
       "2016-01-15 01:00:00                               8.558743   \n",
       "\n",
       "                     primary_cleaner.output.concentrate_pb  \\\n",
       "date                                                         \n",
       "2016-01-15 00:00:00                              10.389648   \n",
       "2016-01-15 01:00:00                              10.497069   \n",
       "\n",
       "                     primary_cleaner.output.concentrate_sol  \\\n",
       "date                                                          \n",
       "2016-01-15 00:00:00                               19.529297   \n",
       "2016-01-15 01:00:00                               19.369147   \n",
       "\n",
       "                     primary_cleaner.output.tail_au  \\\n",
       "date                                                  \n",
       "2016-01-15 00:00:00                        2.106679   \n",
       "2016-01-15 01:00:00                        2.353017   \n",
       "\n",
       "                     primary_cleaner.output.tail_ag  \\\n",
       "date                                                  \n",
       "2016-01-15 00:00:00                       14.936526   \n",
       "2016-01-15 01:00:00                       16.250511   \n",
       "\n",
       "                     primary_cleaner.output.tail_pb  \\\n",
       "date                                                  \n",
       "2016-01-15 00:00:00                        2.534912   \n",
       "2016-01-15 01:00:00                        3.049646   \n",
       "\n",
       "                     primary_cleaner.output.tail_sol  \\\n",
       "date                                                   \n",
       "2016-01-15 00:00:00                         7.476074   \n",
       "2016-01-15 01:00:00                         6.733907   \n",
       "\n",
       "                     secondary_cleaner.state.floatbank2_a_air  \\\n",
       "date                                                            \n",
       "2016-01-15 00:00:00                                 25.853109   \n",
       "2016-01-15 01:00:00                                 25.880539   \n",
       "\n",
       "                     secondary_cleaner.state.floatbank2_a_level  \\\n",
       "date                                                              \n",
       "2016-01-15 00:00:00                                 -498.526489   \n",
       "2016-01-15 01:00:00                                 -499.989656   \n",
       "\n",
       "                     secondary_cleaner.state.floatbank2_b_air  \\\n",
       "date                                                            \n",
       "2016-01-15 00:00:00                                  23.89366   \n",
       "2016-01-15 01:00:00                                  23.88953   \n",
       "\n",
       "                     secondary_cleaner.state.floatbank2_b_level  \\\n",
       "date                                                              \n",
       "2016-01-15 00:00:00                                 -501.406281   \n",
       "2016-01-15 01:00:00                                 -500.372428   \n",
       "\n",
       "                     secondary_cleaner.state.floatbank3_a_air  \\\n",
       "date                                                            \n",
       "2016-01-15 00:00:00                                 23.961798   \n",
       "2016-01-15 01:00:00                                 23.970550   \n",
       "\n",
       "                     secondary_cleaner.state.floatbank3_a_level  \\\n",
       "date                                                              \n",
       "2016-01-15 00:00:00                                 -495.262817   \n",
       "2016-01-15 01:00:00                                 -500.085473   \n",
       "\n",
       "                     secondary_cleaner.state.floatbank3_b_air  \\\n",
       "date                                                            \n",
       "2016-01-15 00:00:00                                 21.940409   \n",
       "2016-01-15 01:00:00                                 22.085714   \n",
       "\n",
       "                     secondary_cleaner.state.floatbank3_b_level  \\\n",
       "date                                                              \n",
       "2016-01-15 00:00:00                                 -499.340973   \n",
       "2016-01-15 01:00:00                                 -499.446897   \n",
       "\n",
       "                     secondary_cleaner.state.floatbank4_a_air  \\\n",
       "date                                                            \n",
       "2016-01-15 00:00:00                                 14.016835   \n",
       "2016-01-15 01:00:00                                 13.992281   \n",
       "\n",
       "                     secondary_cleaner.state.floatbank4_a_level  \\\n",
       "date                                                              \n",
       "2016-01-15 00:00:00                                 -502.488007   \n",
       "2016-01-15 01:00:00                                 -505.503262   \n",
       "\n",
       "                     secondary_cleaner.state.floatbank4_b_air  \\\n",
       "date                                                            \n",
       "2016-01-15 00:00:00                                 12.099931   \n",
       "2016-01-15 01:00:00                                 11.950531   \n",
       "\n",
       "                     secondary_cleaner.state.floatbank4_b_level  \\\n",
       "date                                                              \n",
       "2016-01-15 00:00:00                                 -504.715942   \n",
       "2016-01-15 01:00:00                                 -501.331529   \n",
       "\n",
       "                     secondary_cleaner.state.floatbank5_a_air  \\\n",
       "date                                                            \n",
       "2016-01-15 00:00:00                                  9.925633   \n",
       "2016-01-15 01:00:00                                 10.039245   \n",
       "\n",
       "                     secondary_cleaner.state.floatbank5_a_level  \\\n",
       "date                                                              \n",
       "2016-01-15 00:00:00                                 -498.310211   \n",
       "2016-01-15 01:00:00                                 -500.169983   \n",
       "\n",
       "                     secondary_cleaner.state.floatbank5_b_air  \\\n",
       "date                                                            \n",
       "2016-01-15 00:00:00                                  8.079666   \n",
       "2016-01-15 01:00:00                                  7.984757   \n",
       "\n",
       "                     secondary_cleaner.state.floatbank5_b_level  \\\n",
       "date                                                              \n",
       "2016-01-15 00:00:00                                 -500.470978   \n",
       "2016-01-15 01:00:00                                 -500.582168   \n",
       "\n",
       "                     secondary_cleaner.state.floatbank6_a_air  \\\n",
       "date                                                            \n",
       "2016-01-15 00:00:00                                 14.151341   \n",
       "2016-01-15 01:00:00                                 13.998353   \n",
       "\n",
       "                     secondary_cleaner.state.floatbank6_a_level  \\\n",
       "date                                                              \n",
       "2016-01-15 00:00:00                                 -605.841980   \n",
       "2016-01-15 01:00:00                                 -599.787184   \n",
       "\n",
       "                     secondary_cleaner.output.tail_au  \\\n",
       "date                                                    \n",
       "2016-01-15 00:00:00                          2.606185   \n",
       "2016-01-15 01:00:00                          2.488248   \n",
       "\n",
       "                     secondary_cleaner.output.tail_ag  \\\n",
       "date                                                    \n",
       "2016-01-15 00:00:00                         14.500184   \n",
       "2016-01-15 01:00:00                         14.265474   \n",
       "\n",
       "                     secondary_cleaner.output.tail_pb  \\\n",
       "date                                                    \n",
       "2016-01-15 00:00:00                          4.694824   \n",
       "2016-01-15 01:00:00                          4.592547   \n",
       "\n",
       "                     secondary_cleaner.output.tail_sol  \\\n",
       "date                                                     \n",
       "2016-01-15 00:00:00                           8.764648   \n",
       "2016-01-15 01:00:00                           9.001494   \n",
       "\n",
       "                     final.output.concentrate_au  final.output.concentrate_ag  \\\n",
       "date                                                                            \n",
       "2016-01-15 00:00:00                    42.192020                     6.055403   \n",
       "2016-01-15 01:00:00                    42.701629                     6.029369   \n",
       "\n",
       "                     final.output.concentrate_pb  \\\n",
       "date                                               \n",
       "2016-01-15 00:00:00                     9.889648   \n",
       "2016-01-15 01:00:00                     9.968944   \n",
       "\n",
       "                     final.output.concentrate_sol  final.output.recovery  \\\n",
       "date                                                                       \n",
       "2016-01-15 00:00:00                      5.507324              70.541216   \n",
       "2016-01-15 01:00:00                      5.257781              69.266198   \n",
       "\n",
       "                     final.output.tail_au  final.output.tail_ag  \\\n",
       "date                                                              \n",
       "2016-01-15 00:00:00              2.143149             10.411962   \n",
       "2016-01-15 01:00:00              2.224930             10.462676   \n",
       "\n",
       "                     final.output.tail_pb  final.output.tail_sol  \n",
       "date                                                              \n",
       "2016-01-15 00:00:00              0.895447              16.904297  \n",
       "2016-01-15 01:00:00              0.927452              16.634514  "
      ]
     },
     "execution_count": 3,
     "metadata": {},
     "output_type": "execute_result"
    }
   ],
   "source": [
    "# столбец с datetime мы передаем в индекс\n",
    "df_train = read_scv('gold_industry_train.csv', '/datasets/gold_industry_train.csv')\n",
    "df_test = read_scv('gold_industry_test.csv', '/datasets/gold_industry_test.csv')\n",
    "df_full = read_scv('gold_industry_full.csv', '/datasets/gold_industry_full.csv')\n",
    "\n",
    "print(f'Размер тренировочной выборки - {df_train.shape}')\n",
    "print(f'Размер тестовой выборки - {df_test.shape}')\n",
    "print(f'Размер полной выборки - {df_full.shape}')\n",
    "\n",
    "df_full.head(2)"
   ]
  },
  {
   "cell_type": "markdown",
   "metadata": {},
   "source": [
    "Видим, что в тестовой выборке 52 признака, в остальных 86. Исходить будем из того, что тренировочную модель сможем обучать только на таких признаках, которые есть в тестовой. Так же отметим, что в тестовой выборке нет целевых переменных"
   ]
  },
  {
   "cell_type": "code",
   "execution_count": 4,
   "metadata": {},
   "outputs": [
    {
     "data": {
      "text/plain": [
       "0"
      ]
     },
     "execution_count": 4,
     "metadata": {},
     "output_type": "execute_result"
    }
   ],
   "source": [
    "# проверим на полные дубликаты\n",
    "df_full.duplicated().sum()"
   ]
  },
  {
   "cell_type": "code",
   "execution_count": 5,
   "metadata": {},
   "outputs": [
    {
     "name": "stdout",
     "output_type": "stream",
     "text": [
      "<class 'pandas.core.frame.DataFrame'>\n",
      "Index: 4860 entries, 2017-12-09 14:59:59 to 2018-08-18 10:59:59\n",
      "Data columns (total 52 columns):\n",
      " #   Column                                      Non-Null Count  Dtype  \n",
      "---  ------                                      --------------  -----  \n",
      " 0   rougher.input.feed_au                       4860 non-null   float64\n",
      " 1   rougher.input.feed_ag                       4860 non-null   float64\n",
      " 2   rougher.input.feed_pb                       4832 non-null   float64\n",
      " 3   rougher.input.feed_sol                      4838 non-null   float64\n",
      " 4   rougher.input.feed_rate                     4856 non-null   float64\n",
      " 5   rougher.input.feed_size                     4816 non-null   float64\n",
      " 6   rougher.input.floatbank10_sulfate           4857 non-null   float64\n",
      " 7   rougher.input.floatbank10_xanthate          4859 non-null   float64\n",
      " 8   rougher.state.floatbank10_a_air             4859 non-null   float64\n",
      " 9   rougher.state.floatbank10_a_level           4859 non-null   float64\n",
      " 10  rougher.state.floatbank10_b_air             4859 non-null   float64\n",
      " 11  rougher.state.floatbank10_b_level           4859 non-null   float64\n",
      " 12  rougher.state.floatbank10_c_air             4859 non-null   float64\n",
      " 13  rougher.state.floatbank10_c_level           4859 non-null   float64\n",
      " 14  rougher.state.floatbank10_d_air             4860 non-null   float64\n",
      " 15  rougher.state.floatbank10_d_level           4860 non-null   float64\n",
      " 16  rougher.state.floatbank10_e_air             4853 non-null   float64\n",
      " 17  rougher.state.floatbank10_e_level           4860 non-null   float64\n",
      " 18  rougher.state.floatbank10_f_air             4860 non-null   float64\n",
      " 19  rougher.state.floatbank10_f_level           4860 non-null   float64\n",
      " 20  rougher.input.floatbank11_sulfate           4852 non-null   float64\n",
      " 21  rougher.input.floatbank11_xanthate          4814 non-null   float64\n",
      " 22  primary_cleaner.input.sulfate               4859 non-null   float64\n",
      " 23  primary_cleaner.input.depressant            4851 non-null   float64\n",
      " 24  primary_cleaner.input.feed_size             4860 non-null   float64\n",
      " 25  primary_cleaner.input.xanthate              4817 non-null   float64\n",
      " 26  primary_cleaner.state.floatbank8_a_air      4859 non-null   float64\n",
      " 27  primary_cleaner.state.floatbank8_a_level    4859 non-null   float64\n",
      " 28  primary_cleaner.state.floatbank8_b_air      4859 non-null   float64\n",
      " 29  primary_cleaner.state.floatbank8_b_level    4859 non-null   float64\n",
      " 30  primary_cleaner.state.floatbank8_c_air      4858 non-null   float64\n",
      " 31  primary_cleaner.state.floatbank8_c_level    4859 non-null   float64\n",
      " 32  primary_cleaner.state.floatbank8_d_air      4858 non-null   float64\n",
      " 33  primary_cleaner.state.floatbank8_d_level    4859 non-null   float64\n",
      " 34  secondary_cleaner.state.floatbank2_a_air    4734 non-null   float64\n",
      " 35  secondary_cleaner.state.floatbank2_a_level  4859 non-null   float64\n",
      " 36  secondary_cleaner.state.floatbank2_b_air    4859 non-null   float64\n",
      " 37  secondary_cleaner.state.floatbank2_b_level  4859 non-null   float64\n",
      " 38  secondary_cleaner.state.floatbank3_a_air    4859 non-null   float64\n",
      " 39  secondary_cleaner.state.floatbank3_a_level  4859 non-null   float64\n",
      " 40  secondary_cleaner.state.floatbank3_b_air    4859 non-null   float64\n",
      " 41  secondary_cleaner.state.floatbank3_b_level  4859 non-null   float64\n",
      " 42  secondary_cleaner.state.floatbank4_a_air    4859 non-null   float64\n",
      " 43  secondary_cleaner.state.floatbank4_a_level  4859 non-null   float64\n",
      " 44  secondary_cleaner.state.floatbank4_b_air    4859 non-null   float64\n",
      " 45  secondary_cleaner.state.floatbank4_b_level  4859 non-null   float64\n",
      " 46  secondary_cleaner.state.floatbank5_a_air    4859 non-null   float64\n",
      " 47  secondary_cleaner.state.floatbank5_a_level  4859 non-null   float64\n",
      " 48  secondary_cleaner.state.floatbank5_b_air    4859 non-null   float64\n",
      " 49  secondary_cleaner.state.floatbank5_b_level  4859 non-null   float64\n",
      " 50  secondary_cleaner.state.floatbank6_a_air    4859 non-null   float64\n",
      " 51  secondary_cleaner.state.floatbank6_a_level  4859 non-null   float64\n",
      "dtypes: float64(52)\n",
      "memory usage: 2.0+ MB\n",
      "None\n",
      "<class 'pandas.core.frame.DataFrame'>\n",
      "Index: 14579 entries, 2016-01-15 00:00:00 to 2017-12-09 13:59:59\n",
      "Data columns (total 86 columns):\n",
      " #   Column                                              Non-Null Count  Dtype  \n",
      "---  ------                                              --------------  -----  \n",
      " 0   rougher.input.feed_au                               14579 non-null  float64\n",
      " 1   rougher.input.feed_ag                               14579 non-null  float64\n",
      " 2   rougher.input.feed_pb                               14507 non-null  float64\n",
      " 3   rougher.input.feed_sol                              14502 non-null  float64\n",
      " 4   rougher.input.feed_rate                             14572 non-null  float64\n",
      " 5   rougher.input.feed_size                             14478 non-null  float64\n",
      " 6   rougher.input.floatbank10_sulfate                   14548 non-null  float64\n",
      " 7   rougher.input.floatbank10_xanthate                  14572 non-null  float64\n",
      " 8   rougher.state.floatbank10_a_air                     14579 non-null  float64\n",
      " 9   rougher.state.floatbank10_a_level                   14579 non-null  float64\n",
      " 10  rougher.state.floatbank10_b_air                     14579 non-null  float64\n",
      " 11  rougher.state.floatbank10_b_level                   14579 non-null  float64\n",
      " 12  rougher.state.floatbank10_c_air                     14579 non-null  float64\n",
      " 13  rougher.state.floatbank10_c_level                   14579 non-null  float64\n",
      " 14  rougher.state.floatbank10_d_air                     14579 non-null  float64\n",
      " 15  rougher.state.floatbank10_d_level                   14579 non-null  float64\n",
      " 16  rougher.state.floatbank10_e_air                     14150 non-null  float64\n",
      " 17  rougher.state.floatbank10_e_level                   14579 non-null  float64\n",
      " 18  rougher.state.floatbank10_f_air                     14579 non-null  float64\n",
      " 19  rougher.state.floatbank10_f_level                   14579 non-null  float64\n",
      " 20  rougher.input.floatbank11_sulfate                   14543 non-null  float64\n",
      " 21  rougher.input.floatbank11_xanthate                  14172 non-null  float64\n",
      " 22  rougher.calculation.sulfate_to_au_concentrate       14578 non-null  float64\n",
      " 23  rougher.calculation.floatbank10_sulfate_to_au_feed  14578 non-null  float64\n",
      " 24  rougher.calculation.floatbank11_sulfate_to_au_feed  14578 non-null  float64\n",
      " 25  rougher.calculation.au_pb_ratio                     14579 non-null  float64\n",
      " 26  rougher.output.concentrate_au                       14579 non-null  float64\n",
      " 27  rougher.output.concentrate_ag                       14579 non-null  float64\n",
      " 28  rougher.output.concentrate_pb                       14579 non-null  float64\n",
      " 29  rougher.output.concentrate_sol                      14561 non-null  float64\n",
      " 30  rougher.output.recovery                             14579 non-null  float64\n",
      " 31  rougher.output.tail_au                              14579 non-null  float64\n",
      " 32  rougher.output.tail_ag                              14578 non-null  float64\n",
      " 33  rougher.output.tail_pb                              14579 non-null  float64\n",
      " 34  rougher.output.tail_sol                             14579 non-null  float64\n",
      " 35  primary_cleaner.input.sulfate                       14556 non-null  float64\n",
      " 36  primary_cleaner.input.depressant                    14551 non-null  float64\n",
      " 37  primary_cleaner.input.feed_size                     14579 non-null  float64\n",
      " 38  primary_cleaner.input.xanthate                      14518 non-null  float64\n",
      " 39  primary_cleaner.state.floatbank8_a_air              14576 non-null  float64\n",
      " 40  primary_cleaner.state.floatbank8_a_level            14579 non-null  float64\n",
      " 41  primary_cleaner.state.floatbank8_b_air              14576 non-null  float64\n",
      " 42  primary_cleaner.state.floatbank8_b_level            14579 non-null  float64\n",
      " 43  primary_cleaner.state.floatbank8_c_air              14579 non-null  float64\n",
      " 44  primary_cleaner.state.floatbank8_c_level            14579 non-null  float64\n",
      " 45  primary_cleaner.state.floatbank8_d_air              14578 non-null  float64\n",
      " 46  primary_cleaner.state.floatbank8_d_level            14579 non-null  float64\n",
      " 47  primary_cleaner.output.concentrate_au               14579 non-null  float64\n",
      " 48  primary_cleaner.output.concentrate_ag               14579 non-null  float64\n",
      " 49  primary_cleaner.output.concentrate_pb               14491 non-null  float64\n",
      " 50  primary_cleaner.output.concentrate_sol              14314 non-null  float64\n",
      " 51  primary_cleaner.output.tail_au                      14579 non-null  float64\n",
      " 52  primary_cleaner.output.tail_ag                      14575 non-null  float64\n",
      " 53  primary_cleaner.output.tail_pb                      14573 non-null  float64\n",
      " 54  primary_cleaner.output.tail_sol                     14534 non-null  float64\n",
      " 55  secondary_cleaner.state.floatbank2_a_air            14485 non-null  float64\n",
      " 56  secondary_cleaner.state.floatbank2_a_level          14579 non-null  float64\n",
      " 57  secondary_cleaner.state.floatbank2_b_air            14557 non-null  float64\n",
      " 58  secondary_cleaner.state.floatbank2_b_level          14579 non-null  float64\n",
      " 59  secondary_cleaner.state.floatbank3_a_air            14567 non-null  float64\n",
      " 60  secondary_cleaner.state.floatbank3_a_level          14579 non-null  float64\n",
      " 61  secondary_cleaner.state.floatbank3_b_air            14579 non-null  float64\n",
      " 62  secondary_cleaner.state.floatbank3_b_level          14579 non-null  float64\n",
      " 63  secondary_cleaner.state.floatbank4_a_air            14574 non-null  float64\n",
      " 64  secondary_cleaner.state.floatbank4_a_level          14579 non-null  float64\n",
      " 65  secondary_cleaner.state.floatbank4_b_air            14579 non-null  float64\n",
      " 66  secondary_cleaner.state.floatbank4_b_level          14579 non-null  float64\n",
      " 67  secondary_cleaner.state.floatbank5_a_air            14579 non-null  float64\n",
      " 68  secondary_cleaner.state.floatbank5_a_level          14579 non-null  float64\n",
      " 69  secondary_cleaner.state.floatbank5_b_air            14579 non-null  float64\n",
      " 70  secondary_cleaner.state.floatbank5_b_level          14579 non-null  float64\n",
      " 71  secondary_cleaner.state.floatbank6_a_air            14578 non-null  float64\n",
      " 72  secondary_cleaner.state.floatbank6_a_level          14579 non-null  float64\n",
      " 73  secondary_cleaner.output.tail_au                    14579 non-null  float64\n",
      " 74  secondary_cleaner.output.tail_ag                    14578 non-null  float64\n",
      " 75  secondary_cleaner.output.tail_pb                    14575 non-null  float64\n",
      " 76  secondary_cleaner.output.tail_sol                   13659 non-null  float64\n",
      " 77  final.output.concentrate_au                         14579 non-null  float64\n",
      " 78  final.output.concentrate_ag                         14578 non-null  float64\n",
      " 79  final.output.concentrate_pb                         14578 non-null  float64\n",
      " 80  final.output.concentrate_sol                        14387 non-null  float64\n",
      " 81  final.output.recovery                               14579 non-null  float64\n",
      " 82  final.output.tail_au                                14579 non-null  float64\n",
      " 83  final.output.tail_ag                                14578 non-null  float64\n",
      " 84  final.output.tail_pb                                14504 non-null  float64\n",
      " 85  final.output.tail_sol                               14574 non-null  float64\n",
      "dtypes: float64(86)\n",
      "memory usage: 9.7+ MB\n",
      "None\n",
      "<class 'pandas.core.frame.DataFrame'>\n",
      "Index: 19439 entries, 2016-01-15 00:00:00 to 2018-08-18 10:59:59\n",
      "Data columns (total 86 columns):\n",
      " #   Column                                              Non-Null Count  Dtype  \n",
      "---  ------                                              --------------  -----  \n",
      " 0   rougher.input.feed_au                               19439 non-null  float64\n",
      " 1   rougher.input.feed_ag                               19439 non-null  float64\n",
      " 2   rougher.input.feed_pb                               19339 non-null  float64\n",
      " 3   rougher.input.feed_sol                              19340 non-null  float64\n",
      " 4   rougher.input.feed_rate                             19428 non-null  float64\n",
      " 5   rougher.input.feed_size                             19294 non-null  float64\n",
      " 6   rougher.input.floatbank10_sulfate                   19405 non-null  float64\n",
      " 7   rougher.input.floatbank10_xanthate                  19431 non-null  float64\n",
      " 8   rougher.state.floatbank10_a_air                     19438 non-null  float64\n",
      " 9   rougher.state.floatbank10_a_level                   19438 non-null  float64\n",
      " 10  rougher.state.floatbank10_b_air                     19438 non-null  float64\n",
      " 11  rougher.state.floatbank10_b_level                   19438 non-null  float64\n",
      " 12  rougher.state.floatbank10_c_air                     19438 non-null  float64\n",
      " 13  rougher.state.floatbank10_c_level                   19438 non-null  float64\n",
      " 14  rougher.state.floatbank10_d_air                     19439 non-null  float64\n",
      " 15  rougher.state.floatbank10_d_level                   19439 non-null  float64\n",
      " 16  rougher.state.floatbank10_e_air                     19003 non-null  float64\n",
      " 17  rougher.state.floatbank10_e_level                   19439 non-null  float64\n",
      " 18  rougher.state.floatbank10_f_air                     19439 non-null  float64\n",
      " 19  rougher.state.floatbank10_f_level                   19439 non-null  float64\n",
      " 20  rougher.input.floatbank11_sulfate                   19395 non-null  float64\n",
      " 21  rougher.input.floatbank11_xanthate                  18986 non-null  float64\n",
      " 22  rougher.calculation.sulfate_to_au_concentrate       19437 non-null  float64\n",
      " 23  rougher.calculation.floatbank10_sulfate_to_au_feed  19437 non-null  float64\n",
      " 24  rougher.calculation.floatbank11_sulfate_to_au_feed  19437 non-null  float64\n",
      " 25  rougher.calculation.au_pb_ratio                     19439 non-null  float64\n",
      " 26  rougher.output.concentrate_au                       19439 non-null  float64\n",
      " 27  rougher.output.concentrate_ag                       19439 non-null  float64\n",
      " 28  rougher.output.concentrate_pb                       19439 non-null  float64\n",
      " 29  rougher.output.concentrate_sol                      19416 non-null  float64\n",
      " 30  rougher.output.recovery                             19439 non-null  float64\n",
      " 31  rougher.output.tail_au                              19439 non-null  float64\n",
      " 32  rougher.output.tail_ag                              19438 non-null  float64\n",
      " 33  rougher.output.tail_pb                              19439 non-null  float64\n",
      " 34  rougher.output.tail_sol                             19439 non-null  float64\n",
      " 35  primary_cleaner.input.sulfate                       19415 non-null  float64\n",
      " 36  primary_cleaner.input.depressant                    19402 non-null  float64\n",
      " 37  primary_cleaner.input.feed_size                     19439 non-null  float64\n",
      " 38  primary_cleaner.input.xanthate                      19335 non-null  float64\n",
      " 39  primary_cleaner.state.floatbank8_a_air              19435 non-null  float64\n",
      " 40  primary_cleaner.state.floatbank8_a_level            19438 non-null  float64\n",
      " 41  primary_cleaner.state.floatbank8_b_air              19435 non-null  float64\n",
      " 42  primary_cleaner.state.floatbank8_b_level            19438 non-null  float64\n",
      " 43  primary_cleaner.state.floatbank8_c_air              19437 non-null  float64\n",
      " 44  primary_cleaner.state.floatbank8_c_level            19438 non-null  float64\n",
      " 45  primary_cleaner.state.floatbank8_d_air              19436 non-null  float64\n",
      " 46  primary_cleaner.state.floatbank8_d_level            19438 non-null  float64\n",
      " 47  primary_cleaner.output.concentrate_au               19439 non-null  float64\n",
      " 48  primary_cleaner.output.concentrate_ag               19439 non-null  float64\n",
      " 49  primary_cleaner.output.concentrate_pb               19323 non-null  float64\n",
      " 50  primary_cleaner.output.concentrate_sol              19069 non-null  float64\n",
      " 51  primary_cleaner.output.tail_au                      19439 non-null  float64\n",
      " 52  primary_cleaner.output.tail_ag                      19435 non-null  float64\n",
      " 53  primary_cleaner.output.tail_pb                      19418 non-null  float64\n",
      " 54  primary_cleaner.output.tail_sol                     19377 non-null  float64\n",
      " 55  secondary_cleaner.state.floatbank2_a_air            19219 non-null  float64\n",
      " 56  secondary_cleaner.state.floatbank2_a_level          19438 non-null  float64\n",
      " 57  secondary_cleaner.state.floatbank2_b_air            19416 non-null  float64\n",
      " 58  secondary_cleaner.state.floatbank2_b_level          19438 non-null  float64\n",
      " 59  secondary_cleaner.state.floatbank3_a_air            19426 non-null  float64\n",
      " 60  secondary_cleaner.state.floatbank3_a_level          19438 non-null  float64\n",
      " 61  secondary_cleaner.state.floatbank3_b_air            19438 non-null  float64\n",
      " 62  secondary_cleaner.state.floatbank3_b_level          19438 non-null  float64\n",
      " 63  secondary_cleaner.state.floatbank4_a_air            19433 non-null  float64\n",
      " 64  secondary_cleaner.state.floatbank4_a_level          19438 non-null  float64\n",
      " 65  secondary_cleaner.state.floatbank4_b_air            19438 non-null  float64\n",
      " 66  secondary_cleaner.state.floatbank4_b_level          19438 non-null  float64\n",
      " 67  secondary_cleaner.state.floatbank5_a_air            19438 non-null  float64\n",
      " 68  secondary_cleaner.state.floatbank5_a_level          19438 non-null  float64\n",
      " 69  secondary_cleaner.state.floatbank5_b_air            19438 non-null  float64\n",
      " 70  secondary_cleaner.state.floatbank5_b_level          19438 non-null  float64\n",
      " 71  secondary_cleaner.state.floatbank6_a_air            19437 non-null  float64\n",
      " 72  secondary_cleaner.state.floatbank6_a_level          19438 non-null  float64\n",
      " 73  secondary_cleaner.output.tail_au                    19439 non-null  float64\n",
      " 74  secondary_cleaner.output.tail_ag                    19437 non-null  float64\n",
      " 75  secondary_cleaner.output.tail_pb                    19427 non-null  float64\n",
      " 76  secondary_cleaner.output.tail_sol                   17691 non-null  float64\n",
      " 77  final.output.concentrate_au                         19439 non-null  float64\n",
      " 78  final.output.concentrate_ag                         19438 non-null  float64\n",
      " 79  final.output.concentrate_pb                         19438 non-null  float64\n",
      " 80  final.output.concentrate_sol                        19228 non-null  float64\n",
      " 81  final.output.recovery                               19439 non-null  float64\n",
      " 82  final.output.tail_au                                19439 non-null  float64\n",
      " 83  final.output.tail_ag                                19438 non-null  float64\n",
      " 84  final.output.tail_pb                                19338 non-null  float64\n",
      " 85  final.output.tail_sol                               19433 non-null  float64\n",
      "dtypes: float64(86)\n",
      "memory usage: 12.9+ MB\n",
      "None\n"
     ]
    }
   ],
   "source": [
    "# Посмотрим на датасеты\n",
    "print(df_test.info())\n",
    "print(df_train.info())\n",
    "print(df_full.info())"
   ]
  },
  {
   "cell_type": "markdown",
   "metadata": {},
   "source": [
    "Признаков очень много (непривычно, но 'се ля ви'). Все признаки - тип float64.  \n",
    "Для модели нам понадобятся только признаки, которые есть в тестовой выборке. Предполагается, что на начальном этапе, на котором нужно делать прогнозирование наличия золота многих данных еще нет, а появляются только в процессе тех обработки руды.  \n",
    "Радует то, что хотя бы целевые переменные rougher.output.recovery и final.output.recovery без пропусков.   \n",
    "Ради интереса посмотрим на признаки, которых нет в тестовой выборке.  \n"
   ]
  },
  {
   "cell_type": "code",
   "execution_count": 6,
   "metadata": {
    "scrolled": true
   },
   "outputs": [
    {
     "data": {
      "text/plain": [
       "Index(['rougher.calculation.sulfate_to_au_concentrate',\n",
       "       'rougher.calculation.floatbank10_sulfate_to_au_feed',\n",
       "       'rougher.calculation.floatbank11_sulfate_to_au_feed',\n",
       "       'rougher.calculation.au_pb_ratio', 'rougher.output.concentrate_au',\n",
       "       'rougher.output.concentrate_ag', 'rougher.output.concentrate_pb',\n",
       "       'rougher.output.concentrate_sol', 'rougher.output.recovery',\n",
       "       'rougher.output.tail_au', 'rougher.output.tail_ag',\n",
       "       'rougher.output.tail_pb', 'rougher.output.tail_sol',\n",
       "       'primary_cleaner.output.concentrate_au',\n",
       "       'primary_cleaner.output.concentrate_ag',\n",
       "       'primary_cleaner.output.concentrate_pb',\n",
       "       'primary_cleaner.output.concentrate_sol',\n",
       "       'primary_cleaner.output.tail_au', 'primary_cleaner.output.tail_ag',\n",
       "       'primary_cleaner.output.tail_pb', 'primary_cleaner.output.tail_sol',\n",
       "       'secondary_cleaner.output.tail_au', 'secondary_cleaner.output.tail_ag',\n",
       "       'secondary_cleaner.output.tail_pb', 'secondary_cleaner.output.tail_sol',\n",
       "       'final.output.concentrate_au', 'final.output.concentrate_ag',\n",
       "       'final.output.concentrate_pb', 'final.output.concentrate_sol',\n",
       "       'final.output.recovery', 'final.output.tail_au', 'final.output.tail_ag',\n",
       "       'final.output.tail_pb', 'final.output.tail_sol'],\n",
       "      dtype='object')"
      ]
     },
     "execution_count": 6,
     "metadata": {},
     "output_type": "execute_result"
    }
   ],
   "source": [
    "# Немножко масло маслянное. Генератор списков - для всех х, что есть в full но нет в тест\n",
    "df_full[[x for x in df_full.columns if x not in df_test.columns]].columns"
   ]
  },
  {
   "cell_type": "markdown",
   "metadata": {},
   "source": [
    "Итак, видим, что есть все четыре этапа: rougher, primary_cleaner, secondary_cleaner, final.  \n",
    "Но из тип_параметра - только calculation для rougher и output для всех этапов.  "
   ]
  },
  {
   "cell_type": "code",
   "execution_count": 7,
   "metadata": {},
   "outputs": [
    {
     "data": {
      "text/html": [
       "<div>\n",
       "<style scoped>\n",
       "    .dataframe tbody tr th:only-of-type {\n",
       "        vertical-align: middle;\n",
       "    }\n",
       "\n",
       "    .dataframe tbody tr th {\n",
       "        vertical-align: top;\n",
       "    }\n",
       "\n",
       "    .dataframe thead th {\n",
       "        text-align: right;\n",
       "    }\n",
       "</style>\n",
       "<table border=\"1\" class=\"dataframe\">\n",
       "  <thead>\n",
       "    <tr style=\"text-align: right;\">\n",
       "      <th></th>\n",
       "      <th>rougher.input.feed_au</th>\n",
       "      <th>rougher.input.feed_ag</th>\n",
       "      <th>rougher.input.feed_pb</th>\n",
       "      <th>rougher.input.feed_sol</th>\n",
       "      <th>rougher.input.feed_rate</th>\n",
       "      <th>rougher.input.feed_size</th>\n",
       "      <th>rougher.input.floatbank10_sulfate</th>\n",
       "      <th>rougher.input.floatbank10_xanthate</th>\n",
       "      <th>rougher.state.floatbank10_a_air</th>\n",
       "      <th>rougher.state.floatbank10_a_level</th>\n",
       "      <th>rougher.state.floatbank10_b_air</th>\n",
       "      <th>rougher.state.floatbank10_b_level</th>\n",
       "      <th>rougher.state.floatbank10_c_air</th>\n",
       "      <th>rougher.state.floatbank10_c_level</th>\n",
       "      <th>rougher.state.floatbank10_d_air</th>\n",
       "      <th>rougher.state.floatbank10_d_level</th>\n",
       "      <th>rougher.state.floatbank10_e_air</th>\n",
       "      <th>rougher.state.floatbank10_e_level</th>\n",
       "      <th>rougher.state.floatbank10_f_air</th>\n",
       "      <th>rougher.state.floatbank10_f_level</th>\n",
       "      <th>rougher.input.floatbank11_sulfate</th>\n",
       "      <th>rougher.input.floatbank11_xanthate</th>\n",
       "      <th>rougher.calculation.sulfate_to_au_concentrate</th>\n",
       "      <th>rougher.calculation.floatbank10_sulfate_to_au_feed</th>\n",
       "      <th>rougher.calculation.floatbank11_sulfate_to_au_feed</th>\n",
       "      <th>rougher.calculation.au_pb_ratio</th>\n",
       "      <th>rougher.output.concentrate_au</th>\n",
       "      <th>rougher.output.concentrate_ag</th>\n",
       "      <th>rougher.output.concentrate_pb</th>\n",
       "      <th>rougher.output.concentrate_sol</th>\n",
       "      <th>rougher.output.recovery</th>\n",
       "      <th>rougher.output.tail_au</th>\n",
       "      <th>rougher.output.tail_ag</th>\n",
       "      <th>rougher.output.tail_pb</th>\n",
       "      <th>rougher.output.tail_sol</th>\n",
       "      <th>primary_cleaner.input.sulfate</th>\n",
       "      <th>primary_cleaner.input.depressant</th>\n",
       "      <th>primary_cleaner.input.feed_size</th>\n",
       "      <th>primary_cleaner.input.xanthate</th>\n",
       "      <th>primary_cleaner.state.floatbank8_a_air</th>\n",
       "      <th>primary_cleaner.state.floatbank8_a_level</th>\n",
       "      <th>primary_cleaner.state.floatbank8_b_air</th>\n",
       "      <th>primary_cleaner.state.floatbank8_b_level</th>\n",
       "      <th>primary_cleaner.state.floatbank8_c_air</th>\n",
       "      <th>primary_cleaner.state.floatbank8_c_level</th>\n",
       "      <th>primary_cleaner.state.floatbank8_d_air</th>\n",
       "      <th>primary_cleaner.state.floatbank8_d_level</th>\n",
       "      <th>primary_cleaner.output.concentrate_au</th>\n",
       "      <th>primary_cleaner.output.concentrate_ag</th>\n",
       "      <th>primary_cleaner.output.concentrate_pb</th>\n",
       "      <th>primary_cleaner.output.concentrate_sol</th>\n",
       "      <th>primary_cleaner.output.tail_au</th>\n",
       "      <th>primary_cleaner.output.tail_ag</th>\n",
       "      <th>primary_cleaner.output.tail_pb</th>\n",
       "      <th>primary_cleaner.output.tail_sol</th>\n",
       "      <th>secondary_cleaner.state.floatbank2_a_air</th>\n",
       "      <th>secondary_cleaner.state.floatbank2_a_level</th>\n",
       "      <th>secondary_cleaner.state.floatbank2_b_air</th>\n",
       "      <th>secondary_cleaner.state.floatbank2_b_level</th>\n",
       "      <th>secondary_cleaner.state.floatbank3_a_air</th>\n",
       "      <th>secondary_cleaner.state.floatbank3_a_level</th>\n",
       "      <th>secondary_cleaner.state.floatbank3_b_air</th>\n",
       "      <th>secondary_cleaner.state.floatbank3_b_level</th>\n",
       "      <th>secondary_cleaner.state.floatbank4_a_air</th>\n",
       "      <th>secondary_cleaner.state.floatbank4_a_level</th>\n",
       "      <th>secondary_cleaner.state.floatbank4_b_air</th>\n",
       "      <th>secondary_cleaner.state.floatbank4_b_level</th>\n",
       "      <th>secondary_cleaner.state.floatbank5_a_air</th>\n",
       "      <th>secondary_cleaner.state.floatbank5_a_level</th>\n",
       "      <th>secondary_cleaner.state.floatbank5_b_air</th>\n",
       "      <th>secondary_cleaner.state.floatbank5_b_level</th>\n",
       "      <th>secondary_cleaner.state.floatbank6_a_air</th>\n",
       "      <th>secondary_cleaner.state.floatbank6_a_level</th>\n",
       "      <th>secondary_cleaner.output.tail_au</th>\n",
       "      <th>secondary_cleaner.output.tail_ag</th>\n",
       "      <th>secondary_cleaner.output.tail_pb</th>\n",
       "      <th>secondary_cleaner.output.tail_sol</th>\n",
       "      <th>final.output.concentrate_au</th>\n",
       "      <th>final.output.concentrate_ag</th>\n",
       "      <th>final.output.concentrate_pb</th>\n",
       "      <th>final.output.concentrate_sol</th>\n",
       "      <th>final.output.recovery</th>\n",
       "      <th>final.output.tail_au</th>\n",
       "      <th>final.output.tail_ag</th>\n",
       "      <th>final.output.tail_pb</th>\n",
       "      <th>final.output.tail_sol</th>\n",
       "    </tr>\n",
       "  </thead>\n",
       "  <tbody>\n",
       "    <tr>\n",
       "      <th>count</th>\n",
       "      <td>19439.000000</td>\n",
       "      <td>19439.000000</td>\n",
       "      <td>19339.000000</td>\n",
       "      <td>19340.000000</td>\n",
       "      <td>19428.000000</td>\n",
       "      <td>19294.000000</td>\n",
       "      <td>19405.000000</td>\n",
       "      <td>19431.000000</td>\n",
       "      <td>19438.000000</td>\n",
       "      <td>19438.000000</td>\n",
       "      <td>19438.000000</td>\n",
       "      <td>19438.000000</td>\n",
       "      <td>19438.000000</td>\n",
       "      <td>19438.000000</td>\n",
       "      <td>19439.000000</td>\n",
       "      <td>19439.000000</td>\n",
       "      <td>19003.000000</td>\n",
       "      <td>19439.000000</td>\n",
       "      <td>19439.000000</td>\n",
       "      <td>19439.000000</td>\n",
       "      <td>19395.000000</td>\n",
       "      <td>18986.000000</td>\n",
       "      <td>1.943700e+04</td>\n",
       "      <td>19437.000000</td>\n",
       "      <td>19437.000000</td>\n",
       "      <td>19439.000000</td>\n",
       "      <td>19439.000000</td>\n",
       "      <td>19439.000000</td>\n",
       "      <td>19439.000000</td>\n",
       "      <td>19416.000000</td>\n",
       "      <td>19439.000000</td>\n",
       "      <td>19439.000000</td>\n",
       "      <td>19438.000000</td>\n",
       "      <td>19439.000000</td>\n",
       "      <td>19439.000000</td>\n",
       "      <td>19415.000000</td>\n",
       "      <td>19402.000000</td>\n",
       "      <td>19439.000000</td>\n",
       "      <td>19335.000000</td>\n",
       "      <td>1.943500e+04</td>\n",
       "      <td>19438.000000</td>\n",
       "      <td>1.943500e+04</td>\n",
       "      <td>19438.000000</td>\n",
       "      <td>1.943700e+04</td>\n",
       "      <td>19438.000000</td>\n",
       "      <td>1.943600e+04</td>\n",
       "      <td>19438.000000</td>\n",
       "      <td>19439.000000</td>\n",
       "      <td>19439.000000</td>\n",
       "      <td>19323.000000</td>\n",
       "      <td>19069.000000</td>\n",
       "      <td>19439.000000</td>\n",
       "      <td>19435.000000</td>\n",
       "      <td>19418.000000</td>\n",
       "      <td>19377.000000</td>\n",
       "      <td>19219.000000</td>\n",
       "      <td>19438.000000</td>\n",
       "      <td>19416.000000</td>\n",
       "      <td>19438.000000</td>\n",
       "      <td>19426.000000</td>\n",
       "      <td>19438.000000</td>\n",
       "      <td>19438.000000</td>\n",
       "      <td>19438.000000</td>\n",
       "      <td>19433.000000</td>\n",
       "      <td>19438.000000</td>\n",
       "      <td>19438.000000</td>\n",
       "      <td>19438.000000</td>\n",
       "      <td>19438.000000</td>\n",
       "      <td>19438.000000</td>\n",
       "      <td>19438.000000</td>\n",
       "      <td>19438.000000</td>\n",
       "      <td>19437.000000</td>\n",
       "      <td>19438.000000</td>\n",
       "      <td>19439.000000</td>\n",
       "      <td>19437.000000</td>\n",
       "      <td>19427.000000</td>\n",
       "      <td>17691.000000</td>\n",
       "      <td>19439.000000</td>\n",
       "      <td>19438.000000</td>\n",
       "      <td>19438.000000</td>\n",
       "      <td>19228.000000</td>\n",
       "      <td>19439.000000</td>\n",
       "      <td>19439.000000</td>\n",
       "      <td>19438.000000</td>\n",
       "      <td>19338.000000</td>\n",
       "      <td>19433.000000</td>\n",
       "    </tr>\n",
       "    <tr>\n",
       "      <th>mean</th>\n",
       "      <td>8.266097</td>\n",
       "      <td>8.794927</td>\n",
       "      <td>3.598085</td>\n",
       "      <td>36.695114</td>\n",
       "      <td>478.320042</td>\n",
       "      <td>58.970310</td>\n",
       "      <td>12.334373</td>\n",
       "      <td>6.021474</td>\n",
       "      <td>1105.315068</td>\n",
       "      <td>-376.610690</td>\n",
       "      <td>1320.221139</td>\n",
       "      <td>-467.247826</td>\n",
       "      <td>1299.968799</td>\n",
       "      <td>-467.716946</td>\n",
       "      <td>1211.563299</td>\n",
       "      <td>-468.239912</td>\n",
       "      <td>1080.869685</td>\n",
       "      <td>-466.037742</td>\n",
       "      <td>1025.274256</td>\n",
       "      <td>-466.265327</td>\n",
       "      <td>12.064140</td>\n",
       "      <td>6.065533</td>\n",
       "      <td>4.217119e+04</td>\n",
       "      <td>3393.052498</td>\n",
       "      <td>3256.854171</td>\n",
       "      <td>2.420119</td>\n",
       "      <td>19.772000</td>\n",
       "      <td>11.994759</td>\n",
       "      <td>7.606272</td>\n",
       "      <td>28.805571</td>\n",
       "      <td>83.328587</td>\n",
       "      <td>1.816391</td>\n",
       "      <td>5.588982</td>\n",
       "      <td>0.645782</td>\n",
       "      <td>18.057106</td>\n",
       "      <td>144.624774</td>\n",
       "      <td>8.817039</td>\n",
       "      <td>7.307078</td>\n",
       "      <td>1.021795</td>\n",
       "      <td>1.589354e+03</td>\n",
       "      <td>-491.195012</td>\n",
       "      <td>1.591344e+03</td>\n",
       "      <td>-492.192978</td>\n",
       "      <td>1.586669e+03</td>\n",
       "      <td>-491.980070</td>\n",
       "      <td>1.542912e+03</td>\n",
       "      <td>-488.017382</td>\n",
       "      <td>32.119400</td>\n",
       "      <td>8.442408</td>\n",
       "      <td>9.829530</td>\n",
       "      <td>10.489499</td>\n",
       "      <td>3.914179</td>\n",
       "      <td>16.145826</td>\n",
       "      <td>3.435656</td>\n",
       "      <td>7.973209</td>\n",
       "      <td>28.705564</td>\n",
       "      <td>-502.367331</td>\n",
       "      <td>24.106800</td>\n",
       "      <td>-503.230712</td>\n",
       "      <td>28.199338</td>\n",
       "      <td>-486.203350</td>\n",
       "      <td>22.200645</td>\n",
       "      <td>-493.742107</td>\n",
       "      <td>18.987674</td>\n",
       "      <td>-485.894516</td>\n",
       "      <td>15.010366</td>\n",
       "      <td>-461.078636</td>\n",
       "      <td>15.694452</td>\n",
       "      <td>-488.684065</td>\n",
       "      <td>12.198224</td>\n",
       "      <td>-487.149827</td>\n",
       "      <td>18.959024</td>\n",
       "      <td>-505.436305</td>\n",
       "      <td>4.339625</td>\n",
       "      <td>14.586833</td>\n",
       "      <td>5.777703</td>\n",
       "      <td>7.167247</td>\n",
       "      <td>44.076513</td>\n",
       "      <td>5.168470</td>\n",
       "      <td>9.978895</td>\n",
       "      <td>9.501224</td>\n",
       "      <td>67.050208</td>\n",
       "      <td>3.042467</td>\n",
       "      <td>9.688589</td>\n",
       "      <td>2.705795</td>\n",
       "      <td>10.583728</td>\n",
       "    </tr>\n",
       "    <tr>\n",
       "      <th>std</th>\n",
       "      <td>1.955092</td>\n",
       "      <td>1.936847</td>\n",
       "      <td>1.049486</td>\n",
       "      <td>5.145445</td>\n",
       "      <td>105.373758</td>\n",
       "      <td>21.634478</td>\n",
       "      <td>3.427317</td>\n",
       "      <td>1.127263</td>\n",
       "      <td>160.826798</td>\n",
       "      <td>93.909667</td>\n",
       "      <td>176.287095</td>\n",
       "      <td>54.673142</td>\n",
       "      <td>202.804325</td>\n",
       "      <td>53.534825</td>\n",
       "      <td>204.019326</td>\n",
       "      <td>53.921458</td>\n",
       "      <td>172.149992</td>\n",
       "      <td>57.384424</td>\n",
       "      <td>164.487837</td>\n",
       "      <td>57.850263</td>\n",
       "      <td>3.784221</td>\n",
       "      <td>1.099118</td>\n",
       "      <td>3.243621e+05</td>\n",
       "      <td>4943.845943</td>\n",
       "      <td>5781.423659</td>\n",
       "      <td>0.814935</td>\n",
       "      <td>3.753600</td>\n",
       "      <td>2.733862</td>\n",
       "      <td>1.796757</td>\n",
       "      <td>5.944207</td>\n",
       "      <td>14.148086</td>\n",
       "      <td>0.680046</td>\n",
       "      <td>1.111288</td>\n",
       "      <td>0.251526</td>\n",
       "      <td>3.449218</td>\n",
       "      <td>44.464071</td>\n",
       "      <td>3.286186</td>\n",
       "      <td>0.613509</td>\n",
       "      <td>0.513254</td>\n",
       "      <td>1.289968e+02</td>\n",
       "      <td>32.431842</td>\n",
       "      <td>1.318109e+02</td>\n",
       "      <td>33.794822</td>\n",
       "      <td>1.361114e+02</td>\n",
       "      <td>32.711455</td>\n",
       "      <td>2.461996e+02</td>\n",
       "      <td>43.959780</td>\n",
       "      <td>5.627611</td>\n",
       "      <td>2.054465</td>\n",
       "      <td>2.556843</td>\n",
       "      <td>3.909639</td>\n",
       "      <td>1.593034</td>\n",
       "      <td>3.548598</td>\n",
       "      <td>1.392536</td>\n",
       "      <td>2.212677</td>\n",
       "      <td>5.458789</td>\n",
       "      <td>53.571950</td>\n",
       "      <td>5.749616</td>\n",
       "      <td>56.567724</td>\n",
       "      <td>6.134908</td>\n",
       "      <td>54.412349</td>\n",
       "      <td>5.574001</td>\n",
       "      <td>43.372158</td>\n",
       "      <td>5.411058</td>\n",
       "      <td>47.758570</td>\n",
       "      <td>4.890228</td>\n",
       "      <td>67.405524</td>\n",
       "      <td>5.510974</td>\n",
       "      <td>34.533396</td>\n",
       "      <td>5.333024</td>\n",
       "      <td>38.347312</td>\n",
       "      <td>5.550498</td>\n",
       "      <td>37.689057</td>\n",
       "      <td>2.326751</td>\n",
       "      <td>4.265202</td>\n",
       "      <td>2.774598</td>\n",
       "      <td>3.916079</td>\n",
       "      <td>5.129784</td>\n",
       "      <td>1.372348</td>\n",
       "      <td>1.669240</td>\n",
       "      <td>2.787537</td>\n",
       "      <td>10.125840</td>\n",
       "      <td>0.922808</td>\n",
       "      <td>2.328642</td>\n",
       "      <td>0.949077</td>\n",
       "      <td>2.868782</td>\n",
       "    </tr>\n",
       "    <tr>\n",
       "      <th>min</th>\n",
       "      <td>0.010000</td>\n",
       "      <td>0.010000</td>\n",
       "      <td>0.010000</td>\n",
       "      <td>0.010000</td>\n",
       "      <td>0.002986</td>\n",
       "      <td>0.046369</td>\n",
       "      <td>0.001083</td>\n",
       "      <td>0.000568</td>\n",
       "      <td>-0.042069</td>\n",
       "      <td>-657.949759</td>\n",
       "      <td>-0.721806</td>\n",
       "      <td>-650.260008</td>\n",
       "      <td>-0.056636</td>\n",
       "      <td>-647.544439</td>\n",
       "      <td>-0.992219</td>\n",
       "      <td>-648.390665</td>\n",
       "      <td>-1.982295</td>\n",
       "      <td>-649.443911</td>\n",
       "      <td>-2.593390</td>\n",
       "      <td>-649.949283</td>\n",
       "      <td>0.000077</td>\n",
       "      <td>0.000290</td>\n",
       "      <td>-4.223520e+07</td>\n",
       "      <td>-486.598675</td>\n",
       "      <td>-264.982785</td>\n",
       "      <td>-0.010548</td>\n",
       "      <td>0.000000</td>\n",
       "      <td>0.000000</td>\n",
       "      <td>0.000000</td>\n",
       "      <td>0.000000</td>\n",
       "      <td>0.000000</td>\n",
       "      <td>0.020676</td>\n",
       "      <td>0.594562</td>\n",
       "      <td>0.007566</td>\n",
       "      <td>10.014648</td>\n",
       "      <td>0.003112</td>\n",
       "      <td>0.000000</td>\n",
       "      <td>1.080000</td>\n",
       "      <td>0.000005</td>\n",
       "      <td>5.445860e-32</td>\n",
       "      <td>-798.641662</td>\n",
       "      <td>6.647490e-32</td>\n",
       "      <td>-799.997015</td>\n",
       "      <td>4.033736e-32</td>\n",
       "      <td>-799.960571</td>\n",
       "      <td>4.039220e-32</td>\n",
       "      <td>-799.794250</td>\n",
       "      <td>0.000000</td>\n",
       "      <td>0.000000</td>\n",
       "      <td>0.000000</td>\n",
       "      <td>0.000000</td>\n",
       "      <td>0.000000</td>\n",
       "      <td>0.000000</td>\n",
       "      <td>0.000000</td>\n",
       "      <td>0.000000</td>\n",
       "      <td>0.077503</td>\n",
       "      <td>-799.606441</td>\n",
       "      <td>0.000000</td>\n",
       "      <td>-799.873878</td>\n",
       "      <td>0.000000</td>\n",
       "      <td>-799.755798</td>\n",
       "      <td>0.000000</td>\n",
       "      <td>-809.333008</td>\n",
       "      <td>0.000000</td>\n",
       "      <td>-799.798523</td>\n",
       "      <td>0.000000</td>\n",
       "      <td>-800.836914</td>\n",
       "      <td>-0.372054</td>\n",
       "      <td>-797.323986</td>\n",
       "      <td>0.528083</td>\n",
       "      <td>-800.220337</td>\n",
       "      <td>-0.079426</td>\n",
       "      <td>-809.741464</td>\n",
       "      <td>0.000000</td>\n",
       "      <td>0.000000</td>\n",
       "      <td>0.000000</td>\n",
       "      <td>0.000000</td>\n",
       "      <td>0.000000</td>\n",
       "      <td>0.000000</td>\n",
       "      <td>0.000000</td>\n",
       "      <td>0.000000</td>\n",
       "      <td>0.000000</td>\n",
       "      <td>0.000000</td>\n",
       "      <td>0.000000</td>\n",
       "      <td>0.000000</td>\n",
       "      <td>0.000000</td>\n",
       "    </tr>\n",
       "    <tr>\n",
       "      <th>25%</th>\n",
       "      <td>6.854384</td>\n",
       "      <td>7.237967</td>\n",
       "      <td>2.887280</td>\n",
       "      <td>34.207799</td>\n",
       "      <td>416.525453</td>\n",
       "      <td>47.435103</td>\n",
       "      <td>10.000362</td>\n",
       "      <td>5.398678</td>\n",
       "      <td>999.661867</td>\n",
       "      <td>-499.835165</td>\n",
       "      <td>1199.626115</td>\n",
       "      <td>-500.201130</td>\n",
       "      <td>1151.076301</td>\n",
       "      <td>-500.217218</td>\n",
       "      <td>1061.051788</td>\n",
       "      <td>-500.386386</td>\n",
       "      <td>998.675263</td>\n",
       "      <td>-500.232191</td>\n",
       "      <td>900.995511</td>\n",
       "      <td>-500.522553</td>\n",
       "      <td>9.998460</td>\n",
       "      <td>5.402368</td>\n",
       "      <td>4.070095e+04</td>\n",
       "      <td>2611.425833</td>\n",
       "      <td>2551.437587</td>\n",
       "      <td>2.035434</td>\n",
       "      <td>18.802523</td>\n",
       "      <td>10.628337</td>\n",
       "      <td>6.725987</td>\n",
       "      <td>27.224120</td>\n",
       "      <td>81.037957</td>\n",
       "      <td>1.404207</td>\n",
       "      <td>4.889892</td>\n",
       "      <td>0.477728</td>\n",
       "      <td>15.822525</td>\n",
       "      <td>114.107029</td>\n",
       "      <td>6.076909</td>\n",
       "      <td>6.940000</td>\n",
       "      <td>0.697224</td>\n",
       "      <td>1.505063e+03</td>\n",
       "      <td>-500.308544</td>\n",
       "      <td>1.503630e+03</td>\n",
       "      <td>-500.437171</td>\n",
       "      <td>1.500927e+03</td>\n",
       "      <td>-500.703932</td>\n",
       "      <td>1.494219e+03</td>\n",
       "      <td>-500.458365</td>\n",
       "      <td>30.463140</td>\n",
       "      <td>7.263288</td>\n",
       "      <td>8.702328</td>\n",
       "      <td>7.893893</td>\n",
       "      <td>2.924844</td>\n",
       "      <td>14.017742</td>\n",
       "      <td>2.504365</td>\n",
       "      <td>6.747483</td>\n",
       "      <td>25.048462</td>\n",
       "      <td>-500.233700</td>\n",
       "      <td>20.919853</td>\n",
       "      <td>-500.253794</td>\n",
       "      <td>24.949227</td>\n",
       "      <td>-500.213546</td>\n",
       "      <td>18.995924</td>\n",
       "      <td>-500.123034</td>\n",
       "      <td>14.975734</td>\n",
       "      <td>-500.704892</td>\n",
       "      <td>11.940294</td>\n",
       "      <td>-500.187742</td>\n",
       "      <td>10.988606</td>\n",
       "      <td>-500.458467</td>\n",
       "      <td>8.971105</td>\n",
       "      <td>-500.129462</td>\n",
       "      <td>14.983037</td>\n",
       "      <td>-500.728067</td>\n",
       "      <td>3.182770</td>\n",
       "      <td>12.640239</td>\n",
       "      <td>3.864733</td>\n",
       "      <td>3.845475</td>\n",
       "      <td>43.402215</td>\n",
       "      <td>4.251240</td>\n",
       "      <td>9.137262</td>\n",
       "      <td>7.722820</td>\n",
       "      <td>63.299712</td>\n",
       "      <td>2.461138</td>\n",
       "      <td>8.062878</td>\n",
       "      <td>2.040119</td>\n",
       "      <td>8.938947</td>\n",
       "    </tr>\n",
       "    <tr>\n",
       "      <th>50%</th>\n",
       "      <td>8.125839</td>\n",
       "      <td>8.593574</td>\n",
       "      <td>3.534895</td>\n",
       "      <td>37.202650</td>\n",
       "      <td>499.416120</td>\n",
       "      <td>54.610197</td>\n",
       "      <td>12.001174</td>\n",
       "      <td>6.008273</td>\n",
       "      <td>1001.072890</td>\n",
       "      <td>-300.263994</td>\n",
       "      <td>1301.579988</td>\n",
       "      <td>-499.784045</td>\n",
       "      <td>1300.211537</td>\n",
       "      <td>-499.713364</td>\n",
       "      <td>1201.569141</td>\n",
       "      <td>-499.532412</td>\n",
       "      <td>1050.029461</td>\n",
       "      <td>-499.663089</td>\n",
       "      <td>999.924821</td>\n",
       "      <td>-499.471777</td>\n",
       "      <td>12.000204</td>\n",
       "      <td>6.098580</td>\n",
       "      <td>4.469648e+04</td>\n",
       "      <td>3018.353876</td>\n",
       "      <td>2997.218088</td>\n",
       "      <td>2.309665</td>\n",
       "      <td>20.280214</td>\n",
       "      <td>12.098115</td>\n",
       "      <td>7.742580</td>\n",
       "      <td>29.835345</td>\n",
       "      <td>86.188892</td>\n",
       "      <td>1.808170</td>\n",
       "      <td>5.765802</td>\n",
       "      <td>0.617465</td>\n",
       "      <td>18.106867</td>\n",
       "      <td>143.232103</td>\n",
       "      <td>8.038311</td>\n",
       "      <td>7.280000</td>\n",
       "      <td>0.940863</td>\n",
       "      <td>1.600597e+03</td>\n",
       "      <td>-499.926134</td>\n",
       "      <td>1.600521e+03</td>\n",
       "      <td>-499.956767</td>\n",
       "      <td>1.600254e+03</td>\n",
       "      <td>-499.909524</td>\n",
       "      <td>1.599447e+03</td>\n",
       "      <td>-499.905974</td>\n",
       "      <td>32.841295</td>\n",
       "      <td>8.507298</td>\n",
       "      <td>10.152433</td>\n",
       "      <td>10.314632</td>\n",
       "      <td>3.623234</td>\n",
       "      <td>15.842836</td>\n",
       "      <td>3.271153</td>\n",
       "      <td>8.183673</td>\n",
       "      <td>29.099943</td>\n",
       "      <td>-499.973250</td>\n",
       "      <td>25.043289</td>\n",
       "      <td>-500.015439</td>\n",
       "      <td>27.982129</td>\n",
       "      <td>-499.930680</td>\n",
       "      <td>22.011231</td>\n",
       "      <td>-499.981902</td>\n",
       "      <td>18.017481</td>\n",
       "      <td>-499.837793</td>\n",
       "      <td>14.971014</td>\n",
       "      <td>-499.459786</td>\n",
       "      <td>15.000036</td>\n",
       "      <td>-499.802605</td>\n",
       "      <td>11.019433</td>\n",
       "      <td>-499.935317</td>\n",
       "      <td>19.960541</td>\n",
       "      <td>-500.048400</td>\n",
       "      <td>4.072412</td>\n",
       "      <td>15.641902</td>\n",
       "      <td>5.344073</td>\n",
       "      <td>7.685827</td>\n",
       "      <td>45.011244</td>\n",
       "      <td>5.066094</td>\n",
       "      <td>10.102433</td>\n",
       "      <td>9.218961</td>\n",
       "      <td>68.172738</td>\n",
       "      <td>2.984909</td>\n",
       "      <td>9.743623</td>\n",
       "      <td>2.748730</td>\n",
       "      <td>10.622456</td>\n",
       "    </tr>\n",
       "    <tr>\n",
       "      <th>75%</th>\n",
       "      <td>9.769917</td>\n",
       "      <td>10.213771</td>\n",
       "      <td>4.244161</td>\n",
       "      <td>40.039133</td>\n",
       "      <td>550.172183</td>\n",
       "      <td>65.023044</td>\n",
       "      <td>14.716595</td>\n",
       "      <td>6.798051</td>\n",
       "      <td>1205.620588</td>\n",
       "      <td>-299.981998</td>\n",
       "      <td>1448.630789</td>\n",
       "      <td>-400.615589</td>\n",
       "      <td>1449.464001</td>\n",
       "      <td>-400.985743</td>\n",
       "      <td>1352.880320</td>\n",
       "      <td>-401.638550</td>\n",
       "      <td>1199.425140</td>\n",
       "      <td>-401.161191</td>\n",
       "      <td>1099.719692</td>\n",
       "      <td>-401.511042</td>\n",
       "      <td>14.636766</td>\n",
       "      <td>6.801233</td>\n",
       "      <td>4.816821e+04</td>\n",
       "      <td>3676.769750</td>\n",
       "      <td>3601.998911</td>\n",
       "      <td>2.731794</td>\n",
       "      <td>21.717843</td>\n",
       "      <td>13.736996</td>\n",
       "      <td>8.565199</td>\n",
       "      <td>32.189933</td>\n",
       "      <td>90.010670</td>\n",
       "      <td>2.211861</td>\n",
       "      <td>6.389234</td>\n",
       "      <td>0.778271</td>\n",
       "      <td>20.088151</td>\n",
       "      <td>175.075656</td>\n",
       "      <td>11.013521</td>\n",
       "      <td>7.670000</td>\n",
       "      <td>1.210990</td>\n",
       "      <td>1.697658e+03</td>\n",
       "      <td>-499.433950</td>\n",
       "      <td>1.699218e+03</td>\n",
       "      <td>-499.373336</td>\n",
       "      <td>1.699483e+03</td>\n",
       "      <td>-498.857643</td>\n",
       "      <td>1.698525e+03</td>\n",
       "      <td>-499.064695</td>\n",
       "      <td>35.048006</td>\n",
       "      <td>9.809001</td>\n",
       "      <td>11.424971</td>\n",
       "      <td>13.446702</td>\n",
       "      <td>4.585705</td>\n",
       "      <td>18.013975</td>\n",
       "      <td>4.181748</td>\n",
       "      <td>9.548586</td>\n",
       "      <td>33.012536</td>\n",
       "      <td>-499.671261</td>\n",
       "      <td>28.008197</td>\n",
       "      <td>-499.785698</td>\n",
       "      <td>33.002798</td>\n",
       "      <td>-499.325739</td>\n",
       "      <td>25.998206</td>\n",
       "      <td>-499.812834</td>\n",
       "      <td>23.012470</td>\n",
       "      <td>-498.249730</td>\n",
       "      <td>19.034162</td>\n",
       "      <td>-400.118106</td>\n",
       "      <td>18.026190</td>\n",
       "      <td>-498.384187</td>\n",
       "      <td>14.019088</td>\n",
       "      <td>-499.436708</td>\n",
       "      <td>24.003170</td>\n",
       "      <td>-499.495378</td>\n",
       "      <td>5.063081</td>\n",
       "      <td>17.358217</td>\n",
       "      <td>7.788467</td>\n",
       "      <td>10.411296</td>\n",
       "      <td>46.275313</td>\n",
       "      <td>5.895527</td>\n",
       "      <td>11.035769</td>\n",
       "      <td>10.947813</td>\n",
       "      <td>72.686642</td>\n",
       "      <td>3.571351</td>\n",
       "      <td>11.134294</td>\n",
       "      <td>3.333216</td>\n",
       "      <td>12.104271</td>\n",
       "    </tr>\n",
       "    <tr>\n",
       "      <th>max</th>\n",
       "      <td>13.731330</td>\n",
       "      <td>14.596026</td>\n",
       "      <td>7.142594</td>\n",
       "      <td>53.477742</td>\n",
       "      <td>717.508837</td>\n",
       "      <td>484.967466</td>\n",
       "      <td>36.118275</td>\n",
       "      <td>9.703448</td>\n",
       "      <td>1521.980372</td>\n",
       "      <td>-273.776101</td>\n",
       "      <td>1809.194008</td>\n",
       "      <td>-296.383080</td>\n",
       "      <td>2499.129174</td>\n",
       "      <td>-292.155509</td>\n",
       "      <td>1817.199290</td>\n",
       "      <td>-76.397327</td>\n",
       "      <td>1922.636637</td>\n",
       "      <td>-139.753025</td>\n",
       "      <td>1706.307502</td>\n",
       "      <td>-191.718480</td>\n",
       "      <td>37.980648</td>\n",
       "      <td>9.698407</td>\n",
       "      <td>3.428099e+06</td>\n",
       "      <td>629638.977914</td>\n",
       "      <td>718684.955855</td>\n",
       "      <td>39.379272</td>\n",
       "      <td>28.824507</td>\n",
       "      <td>24.480271</td>\n",
       "      <td>13.617072</td>\n",
       "      <td>38.351193</td>\n",
       "      <td>100.000000</td>\n",
       "      <td>9.688980</td>\n",
       "      <td>12.719177</td>\n",
       "      <td>3.778064</td>\n",
       "      <td>66.117188</td>\n",
       "      <td>265.983123</td>\n",
       "      <td>40.000000</td>\n",
       "      <td>15.500000</td>\n",
       "      <td>4.102454</td>\n",
       "      <td>2.103104e+03</td>\n",
       "      <td>-57.195404</td>\n",
       "      <td>2.114907e+03</td>\n",
       "      <td>-142.527229</td>\n",
       "      <td>2.013156e+03</td>\n",
       "      <td>-150.937035</td>\n",
       "      <td>2.398904e+03</td>\n",
       "      <td>-30.601828</td>\n",
       "      <td>45.933934</td>\n",
       "      <td>16.081632</td>\n",
       "      <td>17.081278</td>\n",
       "      <td>22.458114</td>\n",
       "      <td>17.788925</td>\n",
       "      <td>29.459575</td>\n",
       "      <td>9.634565</td>\n",
       "      <td>22.276364</td>\n",
       "      <td>52.651399</td>\n",
       "      <td>-127.875565</td>\n",
       "      <td>35.152122</td>\n",
       "      <td>-211.999273</td>\n",
       "      <td>44.260464</td>\n",
       "      <td>-191.678810</td>\n",
       "      <td>35.072841</td>\n",
       "      <td>-159.742331</td>\n",
       "      <td>30.115735</td>\n",
       "      <td>-245.239184</td>\n",
       "      <td>31.269706</td>\n",
       "      <td>-6.506986</td>\n",
       "      <td>43.709931</td>\n",
       "      <td>-244.483566</td>\n",
       "      <td>27.926001</td>\n",
       "      <td>-137.740004</td>\n",
       "      <td>32.188906</td>\n",
       "      <td>-104.427459</td>\n",
       "      <td>26.811643</td>\n",
       "      <td>23.264738</td>\n",
       "      <td>17.042505</td>\n",
       "      <td>26.000772</td>\n",
       "      <td>52.756638</td>\n",
       "      <td>16.001945</td>\n",
       "      <td>17.031899</td>\n",
       "      <td>19.615720</td>\n",
       "      <td>100.000000</td>\n",
       "      <td>8.245022</td>\n",
       "      <td>19.552149</td>\n",
       "      <td>5.804178</td>\n",
       "      <td>22.317730</td>\n",
       "    </tr>\n",
       "  </tbody>\n",
       "</table>\n",
       "</div>"
      ],
      "text/plain": [
       "       rougher.input.feed_au  rougher.input.feed_ag  rougher.input.feed_pb  \\\n",
       "count           19439.000000           19439.000000           19339.000000   \n",
       "mean                8.266097               8.794927               3.598085   \n",
       "std                 1.955092               1.936847               1.049486   \n",
       "min                 0.010000               0.010000               0.010000   \n",
       "25%                 6.854384               7.237967               2.887280   \n",
       "50%                 8.125839               8.593574               3.534895   \n",
       "75%                 9.769917              10.213771               4.244161   \n",
       "max                13.731330              14.596026               7.142594   \n",
       "\n",
       "       rougher.input.feed_sol  rougher.input.feed_rate  \\\n",
       "count            19340.000000             19428.000000   \n",
       "mean                36.695114               478.320042   \n",
       "std                  5.145445               105.373758   \n",
       "min                  0.010000                 0.002986   \n",
       "25%                 34.207799               416.525453   \n",
       "50%                 37.202650               499.416120   \n",
       "75%                 40.039133               550.172183   \n",
       "max                 53.477742               717.508837   \n",
       "\n",
       "       rougher.input.feed_size  rougher.input.floatbank10_sulfate  \\\n",
       "count             19294.000000                       19405.000000   \n",
       "mean                 58.970310                          12.334373   \n",
       "std                  21.634478                           3.427317   \n",
       "min                   0.046369                           0.001083   \n",
       "25%                  47.435103                          10.000362   \n",
       "50%                  54.610197                          12.001174   \n",
       "75%                  65.023044                          14.716595   \n",
       "max                 484.967466                          36.118275   \n",
       "\n",
       "       rougher.input.floatbank10_xanthate  rougher.state.floatbank10_a_air  \\\n",
       "count                        19431.000000                     19438.000000   \n",
       "mean                             6.021474                      1105.315068   \n",
       "std                              1.127263                       160.826798   \n",
       "min                              0.000568                        -0.042069   \n",
       "25%                              5.398678                       999.661867   \n",
       "50%                              6.008273                      1001.072890   \n",
       "75%                              6.798051                      1205.620588   \n",
       "max                              9.703448                      1521.980372   \n",
       "\n",
       "       rougher.state.floatbank10_a_level  rougher.state.floatbank10_b_air  \\\n",
       "count                       19438.000000                     19438.000000   \n",
       "mean                         -376.610690                      1320.221139   \n",
       "std                            93.909667                       176.287095   \n",
       "min                          -657.949759                        -0.721806   \n",
       "25%                          -499.835165                      1199.626115   \n",
       "50%                          -300.263994                      1301.579988   \n",
       "75%                          -299.981998                      1448.630789   \n",
       "max                          -273.776101                      1809.194008   \n",
       "\n",
       "       rougher.state.floatbank10_b_level  rougher.state.floatbank10_c_air  \\\n",
       "count                       19438.000000                     19438.000000   \n",
       "mean                         -467.247826                      1299.968799   \n",
       "std                            54.673142                       202.804325   \n",
       "min                          -650.260008                        -0.056636   \n",
       "25%                          -500.201130                      1151.076301   \n",
       "50%                          -499.784045                      1300.211537   \n",
       "75%                          -400.615589                      1449.464001   \n",
       "max                          -296.383080                      2499.129174   \n",
       "\n",
       "       rougher.state.floatbank10_c_level  rougher.state.floatbank10_d_air  \\\n",
       "count                       19438.000000                     19439.000000   \n",
       "mean                         -467.716946                      1211.563299   \n",
       "std                            53.534825                       204.019326   \n",
       "min                          -647.544439                        -0.992219   \n",
       "25%                          -500.217218                      1061.051788   \n",
       "50%                          -499.713364                      1201.569141   \n",
       "75%                          -400.985743                      1352.880320   \n",
       "max                          -292.155509                      1817.199290   \n",
       "\n",
       "       rougher.state.floatbank10_d_level  rougher.state.floatbank10_e_air  \\\n",
       "count                       19439.000000                     19003.000000   \n",
       "mean                         -468.239912                      1080.869685   \n",
       "std                            53.921458                       172.149992   \n",
       "min                          -648.390665                        -1.982295   \n",
       "25%                          -500.386386                       998.675263   \n",
       "50%                          -499.532412                      1050.029461   \n",
       "75%                          -401.638550                      1199.425140   \n",
       "max                           -76.397327                      1922.636637   \n",
       "\n",
       "       rougher.state.floatbank10_e_level  rougher.state.floatbank10_f_air  \\\n",
       "count                       19439.000000                     19439.000000   \n",
       "mean                         -466.037742                      1025.274256   \n",
       "std                            57.384424                       164.487837   \n",
       "min                          -649.443911                        -2.593390   \n",
       "25%                          -500.232191                       900.995511   \n",
       "50%                          -499.663089                       999.924821   \n",
       "75%                          -401.161191                      1099.719692   \n",
       "max                          -139.753025                      1706.307502   \n",
       "\n",
       "       rougher.state.floatbank10_f_level  rougher.input.floatbank11_sulfate  \\\n",
       "count                       19439.000000                       19395.000000   \n",
       "mean                         -466.265327                          12.064140   \n",
       "std                            57.850263                           3.784221   \n",
       "min                          -649.949283                           0.000077   \n",
       "25%                          -500.522553                           9.998460   \n",
       "50%                          -499.471777                          12.000204   \n",
       "75%                          -401.511042                          14.636766   \n",
       "max                          -191.718480                          37.980648   \n",
       "\n",
       "       rougher.input.floatbank11_xanthate  \\\n",
       "count                        18986.000000   \n",
       "mean                             6.065533   \n",
       "std                              1.099118   \n",
       "min                              0.000290   \n",
       "25%                              5.402368   \n",
       "50%                              6.098580   \n",
       "75%                              6.801233   \n",
       "max                              9.698407   \n",
       "\n",
       "       rougher.calculation.sulfate_to_au_concentrate  \\\n",
       "count                                   1.943700e+04   \n",
       "mean                                    4.217119e+04   \n",
       "std                                     3.243621e+05   \n",
       "min                                    -4.223520e+07   \n",
       "25%                                     4.070095e+04   \n",
       "50%                                     4.469648e+04   \n",
       "75%                                     4.816821e+04   \n",
       "max                                     3.428099e+06   \n",
       "\n",
       "       rougher.calculation.floatbank10_sulfate_to_au_feed  \\\n",
       "count                                       19437.000000    \n",
       "mean                                         3393.052498    \n",
       "std                                          4943.845943    \n",
       "min                                          -486.598675    \n",
       "25%                                          2611.425833    \n",
       "50%                                          3018.353876    \n",
       "75%                                          3676.769750    \n",
       "max                                        629638.977914    \n",
       "\n",
       "       rougher.calculation.floatbank11_sulfate_to_au_feed  \\\n",
       "count                                       19437.000000    \n",
       "mean                                         3256.854171    \n",
       "std                                          5781.423659    \n",
       "min                                          -264.982785    \n",
       "25%                                          2551.437587    \n",
       "50%                                          2997.218088    \n",
       "75%                                          3601.998911    \n",
       "max                                        718684.955855    \n",
       "\n",
       "       rougher.calculation.au_pb_ratio  rougher.output.concentrate_au  \\\n",
       "count                     19439.000000                   19439.000000   \n",
       "mean                          2.420119                      19.772000   \n",
       "std                           0.814935                       3.753600   \n",
       "min                          -0.010548                       0.000000   \n",
       "25%                           2.035434                      18.802523   \n",
       "50%                           2.309665                      20.280214   \n",
       "75%                           2.731794                      21.717843   \n",
       "max                          39.379272                      28.824507   \n",
       "\n",
       "       rougher.output.concentrate_ag  rougher.output.concentrate_pb  \\\n",
       "count                   19439.000000                   19439.000000   \n",
       "mean                       11.994759                       7.606272   \n",
       "std                         2.733862                       1.796757   \n",
       "min                         0.000000                       0.000000   \n",
       "25%                        10.628337                       6.725987   \n",
       "50%                        12.098115                       7.742580   \n",
       "75%                        13.736996                       8.565199   \n",
       "max                        24.480271                      13.617072   \n",
       "\n",
       "       rougher.output.concentrate_sol  rougher.output.recovery  \\\n",
       "count                    19416.000000             19439.000000   \n",
       "mean                        28.805571                83.328587   \n",
       "std                          5.944207                14.148086   \n",
       "min                          0.000000                 0.000000   \n",
       "25%                         27.224120                81.037957   \n",
       "50%                         29.835345                86.188892   \n",
       "75%                         32.189933                90.010670   \n",
       "max                         38.351193               100.000000   \n",
       "\n",
       "       rougher.output.tail_au  rougher.output.tail_ag  rougher.output.tail_pb  \\\n",
       "count            19439.000000            19438.000000            19439.000000   \n",
       "mean                 1.816391                5.588982                0.645782   \n",
       "std                  0.680046                1.111288                0.251526   \n",
       "min                  0.020676                0.594562                0.007566   \n",
       "25%                  1.404207                4.889892                0.477728   \n",
       "50%                  1.808170                5.765802                0.617465   \n",
       "75%                  2.211861                6.389234                0.778271   \n",
       "max                  9.688980               12.719177                3.778064   \n",
       "\n",
       "       rougher.output.tail_sol  primary_cleaner.input.sulfate  \\\n",
       "count             19439.000000                   19415.000000   \n",
       "mean                 18.057106                     144.624774   \n",
       "std                   3.449218                      44.464071   \n",
       "min                  10.014648                       0.003112   \n",
       "25%                  15.822525                     114.107029   \n",
       "50%                  18.106867                     143.232103   \n",
       "75%                  20.088151                     175.075656   \n",
       "max                  66.117188                     265.983123   \n",
       "\n",
       "       primary_cleaner.input.depressant  primary_cleaner.input.feed_size  \\\n",
       "count                      19402.000000                     19439.000000   \n",
       "mean                           8.817039                         7.307078   \n",
       "std                            3.286186                         0.613509   \n",
       "min                            0.000000                         1.080000   \n",
       "25%                            6.076909                         6.940000   \n",
       "50%                            8.038311                         7.280000   \n",
       "75%                           11.013521                         7.670000   \n",
       "max                           40.000000                        15.500000   \n",
       "\n",
       "       primary_cleaner.input.xanthate  primary_cleaner.state.floatbank8_a_air  \\\n",
       "count                    19335.000000                            1.943500e+04   \n",
       "mean                         1.021795                            1.589354e+03   \n",
       "std                          0.513254                            1.289968e+02   \n",
       "min                          0.000005                            5.445860e-32   \n",
       "25%                          0.697224                            1.505063e+03   \n",
       "50%                          0.940863                            1.600597e+03   \n",
       "75%                          1.210990                            1.697658e+03   \n",
       "max                          4.102454                            2.103104e+03   \n",
       "\n",
       "       primary_cleaner.state.floatbank8_a_level  \\\n",
       "count                              19438.000000   \n",
       "mean                                -491.195012   \n",
       "std                                   32.431842   \n",
       "min                                 -798.641662   \n",
       "25%                                 -500.308544   \n",
       "50%                                 -499.926134   \n",
       "75%                                 -499.433950   \n",
       "max                                  -57.195404   \n",
       "\n",
       "       primary_cleaner.state.floatbank8_b_air  \\\n",
       "count                            1.943500e+04   \n",
       "mean                             1.591344e+03   \n",
       "std                              1.318109e+02   \n",
       "min                              6.647490e-32   \n",
       "25%                              1.503630e+03   \n",
       "50%                              1.600521e+03   \n",
       "75%                              1.699218e+03   \n",
       "max                              2.114907e+03   \n",
       "\n",
       "       primary_cleaner.state.floatbank8_b_level  \\\n",
       "count                              19438.000000   \n",
       "mean                                -492.192978   \n",
       "std                                   33.794822   \n",
       "min                                 -799.997015   \n",
       "25%                                 -500.437171   \n",
       "50%                                 -499.956767   \n",
       "75%                                 -499.373336   \n",
       "max                                 -142.527229   \n",
       "\n",
       "       primary_cleaner.state.floatbank8_c_air  \\\n",
       "count                            1.943700e+04   \n",
       "mean                             1.586669e+03   \n",
       "std                              1.361114e+02   \n",
       "min                              4.033736e-32   \n",
       "25%                              1.500927e+03   \n",
       "50%                              1.600254e+03   \n",
       "75%                              1.699483e+03   \n",
       "max                              2.013156e+03   \n",
       "\n",
       "       primary_cleaner.state.floatbank8_c_level  \\\n",
       "count                              19438.000000   \n",
       "mean                                -491.980070   \n",
       "std                                   32.711455   \n",
       "min                                 -799.960571   \n",
       "25%                                 -500.703932   \n",
       "50%                                 -499.909524   \n",
       "75%                                 -498.857643   \n",
       "max                                 -150.937035   \n",
       "\n",
       "       primary_cleaner.state.floatbank8_d_air  \\\n",
       "count                            1.943600e+04   \n",
       "mean                             1.542912e+03   \n",
       "std                              2.461996e+02   \n",
       "min                              4.039220e-32   \n",
       "25%                              1.494219e+03   \n",
       "50%                              1.599447e+03   \n",
       "75%                              1.698525e+03   \n",
       "max                              2.398904e+03   \n",
       "\n",
       "       primary_cleaner.state.floatbank8_d_level  \\\n",
       "count                              19438.000000   \n",
       "mean                                -488.017382   \n",
       "std                                   43.959780   \n",
       "min                                 -799.794250   \n",
       "25%                                 -500.458365   \n",
       "50%                                 -499.905974   \n",
       "75%                                 -499.064695   \n",
       "max                                  -30.601828   \n",
       "\n",
       "       primary_cleaner.output.concentrate_au  \\\n",
       "count                           19439.000000   \n",
       "mean                               32.119400   \n",
       "std                                 5.627611   \n",
       "min                                 0.000000   \n",
       "25%                                30.463140   \n",
       "50%                                32.841295   \n",
       "75%                                35.048006   \n",
       "max                                45.933934   \n",
       "\n",
       "       primary_cleaner.output.concentrate_ag  \\\n",
       "count                           19439.000000   \n",
       "mean                                8.442408   \n",
       "std                                 2.054465   \n",
       "min                                 0.000000   \n",
       "25%                                 7.263288   \n",
       "50%                                 8.507298   \n",
       "75%                                 9.809001   \n",
       "max                                16.081632   \n",
       "\n",
       "       primary_cleaner.output.concentrate_pb  \\\n",
       "count                           19323.000000   \n",
       "mean                                9.829530   \n",
       "std                                 2.556843   \n",
       "min                                 0.000000   \n",
       "25%                                 8.702328   \n",
       "50%                                10.152433   \n",
       "75%                                11.424971   \n",
       "max                                17.081278   \n",
       "\n",
       "       primary_cleaner.output.concentrate_sol  primary_cleaner.output.tail_au  \\\n",
       "count                            19069.000000                    19439.000000   \n",
       "mean                                10.489499                        3.914179   \n",
       "std                                  3.909639                        1.593034   \n",
       "min                                  0.000000                        0.000000   \n",
       "25%                                  7.893893                        2.924844   \n",
       "50%                                 10.314632                        3.623234   \n",
       "75%                                 13.446702                        4.585705   \n",
       "max                                 22.458114                       17.788925   \n",
       "\n",
       "       primary_cleaner.output.tail_ag  primary_cleaner.output.tail_pb  \\\n",
       "count                    19435.000000                    19418.000000   \n",
       "mean                        16.145826                        3.435656   \n",
       "std                          3.548598                        1.392536   \n",
       "min                          0.000000                        0.000000   \n",
       "25%                         14.017742                        2.504365   \n",
       "50%                         15.842836                        3.271153   \n",
       "75%                         18.013975                        4.181748   \n",
       "max                         29.459575                        9.634565   \n",
       "\n",
       "       primary_cleaner.output.tail_sol  \\\n",
       "count                     19377.000000   \n",
       "mean                          7.973209   \n",
       "std                           2.212677   \n",
       "min                           0.000000   \n",
       "25%                           6.747483   \n",
       "50%                           8.183673   \n",
       "75%                           9.548586   \n",
       "max                          22.276364   \n",
       "\n",
       "       secondary_cleaner.state.floatbank2_a_air  \\\n",
       "count                              19219.000000   \n",
       "mean                                  28.705564   \n",
       "std                                    5.458789   \n",
       "min                                    0.077503   \n",
       "25%                                   25.048462   \n",
       "50%                                   29.099943   \n",
       "75%                                   33.012536   \n",
       "max                                   52.651399   \n",
       "\n",
       "       secondary_cleaner.state.floatbank2_a_level  \\\n",
       "count                                19438.000000   \n",
       "mean                                  -502.367331   \n",
       "std                                     53.571950   \n",
       "min                                   -799.606441   \n",
       "25%                                   -500.233700   \n",
       "50%                                   -499.973250   \n",
       "75%                                   -499.671261   \n",
       "max                                   -127.875565   \n",
       "\n",
       "       secondary_cleaner.state.floatbank2_b_air  \\\n",
       "count                              19416.000000   \n",
       "mean                                  24.106800   \n",
       "std                                    5.749616   \n",
       "min                                    0.000000   \n",
       "25%                                   20.919853   \n",
       "50%                                   25.043289   \n",
       "75%                                   28.008197   \n",
       "max                                   35.152122   \n",
       "\n",
       "       secondary_cleaner.state.floatbank2_b_level  \\\n",
       "count                                19438.000000   \n",
       "mean                                  -503.230712   \n",
       "std                                     56.567724   \n",
       "min                                   -799.873878   \n",
       "25%                                   -500.253794   \n",
       "50%                                   -500.015439   \n",
       "75%                                   -499.785698   \n",
       "max                                   -211.999273   \n",
       "\n",
       "       secondary_cleaner.state.floatbank3_a_air  \\\n",
       "count                              19426.000000   \n",
       "mean                                  28.199338   \n",
       "std                                    6.134908   \n",
       "min                                    0.000000   \n",
       "25%                                   24.949227   \n",
       "50%                                   27.982129   \n",
       "75%                                   33.002798   \n",
       "max                                   44.260464   \n",
       "\n",
       "       secondary_cleaner.state.floatbank3_a_level  \\\n",
       "count                                19438.000000   \n",
       "mean                                  -486.203350   \n",
       "std                                     54.412349   \n",
       "min                                   -799.755798   \n",
       "25%                                   -500.213546   \n",
       "50%                                   -499.930680   \n",
       "75%                                   -499.325739   \n",
       "max                                   -191.678810   \n",
       "\n",
       "       secondary_cleaner.state.floatbank3_b_air  \\\n",
       "count                              19438.000000   \n",
       "mean                                  22.200645   \n",
       "std                                    5.574001   \n",
       "min                                    0.000000   \n",
       "25%                                   18.995924   \n",
       "50%                                   22.011231   \n",
       "75%                                   25.998206   \n",
       "max                                   35.072841   \n",
       "\n",
       "       secondary_cleaner.state.floatbank3_b_level  \\\n",
       "count                                19438.000000   \n",
       "mean                                  -493.742107   \n",
       "std                                     43.372158   \n",
       "min                                   -809.333008   \n",
       "25%                                   -500.123034   \n",
       "50%                                   -499.981902   \n",
       "75%                                   -499.812834   \n",
       "max                                   -159.742331   \n",
       "\n",
       "       secondary_cleaner.state.floatbank4_a_air  \\\n",
       "count                              19433.000000   \n",
       "mean                                  18.987674   \n",
       "std                                    5.411058   \n",
       "min                                    0.000000   \n",
       "25%                                   14.975734   \n",
       "50%                                   18.017481   \n",
       "75%                                   23.012470   \n",
       "max                                   30.115735   \n",
       "\n",
       "       secondary_cleaner.state.floatbank4_a_level  \\\n",
       "count                                19438.000000   \n",
       "mean                                  -485.894516   \n",
       "std                                     47.758570   \n",
       "min                                   -799.798523   \n",
       "25%                                   -500.704892   \n",
       "50%                                   -499.837793   \n",
       "75%                                   -498.249730   \n",
       "max                                   -245.239184   \n",
       "\n",
       "       secondary_cleaner.state.floatbank4_b_air  \\\n",
       "count                              19438.000000   \n",
       "mean                                  15.010366   \n",
       "std                                    4.890228   \n",
       "min                                    0.000000   \n",
       "25%                                   11.940294   \n",
       "50%                                   14.971014   \n",
       "75%                                   19.034162   \n",
       "max                                   31.269706   \n",
       "\n",
       "       secondary_cleaner.state.floatbank4_b_level  \\\n",
       "count                                19438.000000   \n",
       "mean                                  -461.078636   \n",
       "std                                     67.405524   \n",
       "min                                   -800.836914   \n",
       "25%                                   -500.187742   \n",
       "50%                                   -499.459786   \n",
       "75%                                   -400.118106   \n",
       "max                                     -6.506986   \n",
       "\n",
       "       secondary_cleaner.state.floatbank5_a_air  \\\n",
       "count                              19438.000000   \n",
       "mean                                  15.694452   \n",
       "std                                    5.510974   \n",
       "min                                   -0.372054   \n",
       "25%                                   10.988606   \n",
       "50%                                   15.000036   \n",
       "75%                                   18.026190   \n",
       "max                                   43.709931   \n",
       "\n",
       "       secondary_cleaner.state.floatbank5_a_level  \\\n",
       "count                                19438.000000   \n",
       "mean                                  -488.684065   \n",
       "std                                     34.533396   \n",
       "min                                   -797.323986   \n",
       "25%                                   -500.458467   \n",
       "50%                                   -499.802605   \n",
       "75%                                   -498.384187   \n",
       "max                                   -244.483566   \n",
       "\n",
       "       secondary_cleaner.state.floatbank5_b_air  \\\n",
       "count                              19438.000000   \n",
       "mean                                  12.198224   \n",
       "std                                    5.333024   \n",
       "min                                    0.528083   \n",
       "25%                                    8.971105   \n",
       "50%                                   11.019433   \n",
       "75%                                   14.019088   \n",
       "max                                   27.926001   \n",
       "\n",
       "       secondary_cleaner.state.floatbank5_b_level  \\\n",
       "count                                19438.000000   \n",
       "mean                                  -487.149827   \n",
       "std                                     38.347312   \n",
       "min                                   -800.220337   \n",
       "25%                                   -500.129462   \n",
       "50%                                   -499.935317   \n",
       "75%                                   -499.436708   \n",
       "max                                   -137.740004   \n",
       "\n",
       "       secondary_cleaner.state.floatbank6_a_air  \\\n",
       "count                              19437.000000   \n",
       "mean                                  18.959024   \n",
       "std                                    5.550498   \n",
       "min                                   -0.079426   \n",
       "25%                                   14.983037   \n",
       "50%                                   19.960541   \n",
       "75%                                   24.003170   \n",
       "max                                   32.188906   \n",
       "\n",
       "       secondary_cleaner.state.floatbank6_a_level  \\\n",
       "count                                19438.000000   \n",
       "mean                                  -505.436305   \n",
       "std                                     37.689057   \n",
       "min                                   -809.741464   \n",
       "25%                                   -500.728067   \n",
       "50%                                   -500.048400   \n",
       "75%                                   -499.495378   \n",
       "max                                   -104.427459   \n",
       "\n",
       "       secondary_cleaner.output.tail_au  secondary_cleaner.output.tail_ag  \\\n",
       "count                      19439.000000                      19437.000000   \n",
       "mean                           4.339625                         14.586833   \n",
       "std                            2.326751                          4.265202   \n",
       "min                            0.000000                          0.000000   \n",
       "25%                            3.182770                         12.640239   \n",
       "50%                            4.072412                         15.641902   \n",
       "75%                            5.063081                         17.358217   \n",
       "max                           26.811643                         23.264738   \n",
       "\n",
       "       secondary_cleaner.output.tail_pb  secondary_cleaner.output.tail_sol  \\\n",
       "count                      19427.000000                       17691.000000   \n",
       "mean                           5.777703                           7.167247   \n",
       "std                            2.774598                           3.916079   \n",
       "min                            0.000000                           0.000000   \n",
       "25%                            3.864733                           3.845475   \n",
       "50%                            5.344073                           7.685827   \n",
       "75%                            7.788467                          10.411296   \n",
       "max                           17.042505                          26.000772   \n",
       "\n",
       "       final.output.concentrate_au  final.output.concentrate_ag  \\\n",
       "count                 19439.000000                 19438.000000   \n",
       "mean                     44.076513                     5.168470   \n",
       "std                       5.129784                     1.372348   \n",
       "min                       0.000000                     0.000000   \n",
       "25%                      43.402215                     4.251240   \n",
       "50%                      45.011244                     5.066094   \n",
       "75%                      46.275313                     5.895527   \n",
       "max                      52.756638                    16.001945   \n",
       "\n",
       "       final.output.concentrate_pb  final.output.concentrate_sol  \\\n",
       "count                 19438.000000                  19228.000000   \n",
       "mean                      9.978895                      9.501224   \n",
       "std                       1.669240                      2.787537   \n",
       "min                       0.000000                      0.000000   \n",
       "25%                       9.137262                      7.722820   \n",
       "50%                      10.102433                      9.218961   \n",
       "75%                      11.035769                     10.947813   \n",
       "max                      17.031899                     19.615720   \n",
       "\n",
       "       final.output.recovery  final.output.tail_au  final.output.tail_ag  \\\n",
       "count           19439.000000          19439.000000          19438.000000   \n",
       "mean               67.050208              3.042467              9.688589   \n",
       "std                10.125840              0.922808              2.328642   \n",
       "min                 0.000000              0.000000              0.000000   \n",
       "25%                63.299712              2.461138              8.062878   \n",
       "50%                68.172738              2.984909              9.743623   \n",
       "75%                72.686642              3.571351             11.134294   \n",
       "max               100.000000              8.245022             19.552149   \n",
       "\n",
       "       final.output.tail_pb  final.output.tail_sol  \n",
       "count          19338.000000           19433.000000  \n",
       "mean               2.705795              10.583728  \n",
       "std                0.949077               2.868782  \n",
       "min                0.000000               0.000000  \n",
       "25%                2.040119               8.938947  \n",
       "50%                2.748730              10.622456  \n",
       "75%                3.333216              12.104271  \n",
       "max                5.804178              22.317730  "
      ]
     },
     "execution_count": 7,
     "metadata": {},
     "output_type": "execute_result"
    }
   ],
   "source": [
    "# Беглый осмотр признаков позволяет нам... сломать глаза.\n",
    "df_full.describe()"
   ]
  },
  {
   "cell_type": "markdown",
   "metadata": {},
   "source": [
    "Вручную глазками просматривать 86 (и даже 52) признаков мягко говоря утомительно. Попробуем выбрать только те, где:\n",
    "- есть только в тестовой выборке  \"И\"\n",
    "- есть пропуски  \"ИЛИ\"\n",
    "- есть выбросы (Выбросы будем определять по 1,5 расстояния IQR от первого и третьего квантиля) "
   ]
  },
  {
   "cell_type": "code",
   "execution_count": 8,
   "metadata": {
    "scrolled": true
   },
   "outputs": [
    {
     "data": {
      "text/plain": [
       "rougher.input.feed_au                           0\n",
       "rougher.input.feed_ag                           0\n",
       "rougher.input.feed_pb                         100\n",
       "rougher.input.feed_sol                         99\n",
       "rougher.input.feed_rate                        11\n",
       "rougher.input.feed_size                       145\n",
       "rougher.input.floatbank10_sulfate              34\n",
       "rougher.input.floatbank10_xanthate              8\n",
       "rougher.state.floatbank10_a_air                 1\n",
       "rougher.state.floatbank10_a_level               1\n",
       "rougher.state.floatbank10_b_air                 1\n",
       "rougher.state.floatbank10_b_level               1\n",
       "rougher.state.floatbank10_c_air                 1\n",
       "rougher.state.floatbank10_c_level               1\n",
       "rougher.state.floatbank10_d_air                 0\n",
       "rougher.state.floatbank10_d_level               0\n",
       "rougher.state.floatbank10_e_air               436\n",
       "rougher.state.floatbank10_e_level               0\n",
       "rougher.state.floatbank10_f_air                 0\n",
       "rougher.state.floatbank10_f_level               0\n",
       "rougher.input.floatbank11_sulfate              44\n",
       "rougher.input.floatbank11_xanthate            453\n",
       "primary_cleaner.input.sulfate                  24\n",
       "primary_cleaner.input.depressant               37\n",
       "primary_cleaner.input.feed_size                 0\n",
       "primary_cleaner.input.xanthate                104\n",
       "primary_cleaner.state.floatbank8_a_air          4\n",
       "primary_cleaner.state.floatbank8_a_level        1\n",
       "primary_cleaner.state.floatbank8_b_air          4\n",
       "primary_cleaner.state.floatbank8_b_level        1\n",
       "primary_cleaner.state.floatbank8_c_air          2\n",
       "primary_cleaner.state.floatbank8_c_level        1\n",
       "primary_cleaner.state.floatbank8_d_air          3\n",
       "primary_cleaner.state.floatbank8_d_level        1\n",
       "secondary_cleaner.state.floatbank2_a_air      220\n",
       "secondary_cleaner.state.floatbank2_a_level      1\n",
       "secondary_cleaner.state.floatbank2_b_air       23\n",
       "secondary_cleaner.state.floatbank2_b_level      1\n",
       "secondary_cleaner.state.floatbank3_a_air       13\n",
       "secondary_cleaner.state.floatbank3_a_level      1\n",
       "secondary_cleaner.state.floatbank3_b_air        1\n",
       "secondary_cleaner.state.floatbank3_b_level      1\n",
       "secondary_cleaner.state.floatbank4_a_air        6\n",
       "secondary_cleaner.state.floatbank4_a_level      1\n",
       "secondary_cleaner.state.floatbank4_b_air        1\n",
       "secondary_cleaner.state.floatbank4_b_level      1\n",
       "secondary_cleaner.state.floatbank5_a_air        1\n",
       "secondary_cleaner.state.floatbank5_a_level      1\n",
       "secondary_cleaner.state.floatbank5_b_air        1\n",
       "secondary_cleaner.state.floatbank5_b_level      1\n",
       "secondary_cleaner.state.floatbank6_a_air        2\n",
       "secondary_cleaner.state.floatbank6_a_level      1\n",
       "dtype: int64"
      ]
     },
     "execution_count": 8,
     "metadata": {},
     "output_type": "execute_result"
    }
   ],
   "source": [
    "# это будут признаки, которые возьмем за основу для модели\n",
    "features = df_test.columns.to_list()\n",
    "\n",
    "# посмотрим пропуски по столбцам\n",
    "df_full[features].isna().sum()"
   ]
  },
  {
   "cell_type": "markdown",
   "metadata": {},
   "source": [
    "Видим, что часть признаков пропущена незначительно - единицы, десятки, а часть пропусков пропущена прилично - сотни. таких крупных - 6 шт.\n",
    "Если от первых можно не задумываясь избавиться - дропнуть или заполнить медианой, то другие надо посмотреть повнимательнее."
   ]
  },
  {
   "cell_type": "code",
   "execution_count": 9,
   "metadata": {},
   "outputs": [
    {
     "data": {
      "text/plain": [
       "['rougher.input.feed_pb',\n",
       " 'rougher.input.feed_size',\n",
       " 'rougher.state.floatbank10_e_air',\n",
       " 'rougher.input.floatbank11_xanthate',\n",
       " 'primary_cleaner.input.xanthate',\n",
       " 'secondary_cleaner.state.floatbank2_a_air']"
      ]
     },
     "execution_count": 9,
     "metadata": {},
     "output_type": "execute_result"
    }
   ],
   "source": [
    "missed = []\n",
    "for i in df_full[features].isna().sum().index:\n",
    "    if df_full[features].isna().sum().loc[i] >= 100:\n",
    "        missed.append(i)\n",
    "\n",
    "missed"
   ]
  },
  {
   "cell_type": "code",
   "execution_count": 10,
   "metadata": {},
   "outputs": [
    {
     "data": {
      "text/html": [
       "<div>\n",
       "<style scoped>\n",
       "    .dataframe tbody tr th:only-of-type {\n",
       "        vertical-align: middle;\n",
       "    }\n",
       "\n",
       "    .dataframe tbody tr th {\n",
       "        vertical-align: top;\n",
       "    }\n",
       "\n",
       "    .dataframe thead th {\n",
       "        text-align: right;\n",
       "    }\n",
       "</style>\n",
       "<table border=\"1\" class=\"dataframe\">\n",
       "  <thead>\n",
       "    <tr style=\"text-align: right;\">\n",
       "      <th></th>\n",
       "      <th>rougher.input.feed_pb</th>\n",
       "      <th>rougher.input.feed_size</th>\n",
       "      <th>rougher.state.floatbank10_e_air</th>\n",
       "      <th>rougher.input.floatbank11_xanthate</th>\n",
       "      <th>primary_cleaner.input.xanthate</th>\n",
       "      <th>secondary_cleaner.state.floatbank2_a_air</th>\n",
       "      <th>rougher.output.recovery</th>\n",
       "      <th>final.output.recovery</th>\n",
       "    </tr>\n",
       "  </thead>\n",
       "  <tbody>\n",
       "    <tr>\n",
       "      <th>rougher.input.feed_pb</th>\n",
       "      <td>1.000000</td>\n",
       "      <td>-0.054133</td>\n",
       "      <td>-0.350495</td>\n",
       "      <td>0.064683</td>\n",
       "      <td>0.110320</td>\n",
       "      <td>0.042443</td>\n",
       "      <td>0.184540</td>\n",
       "      <td>0.175646</td>\n",
       "    </tr>\n",
       "    <tr>\n",
       "      <th>rougher.input.feed_size</th>\n",
       "      <td>-0.054133</td>\n",
       "      <td>1.000000</td>\n",
       "      <td>-0.035018</td>\n",
       "      <td>0.099848</td>\n",
       "      <td>0.057861</td>\n",
       "      <td>0.021041</td>\n",
       "      <td>0.039087</td>\n",
       "      <td>0.048744</td>\n",
       "    </tr>\n",
       "    <tr>\n",
       "      <th>rougher.state.floatbank10_e_air</th>\n",
       "      <td>-0.350495</td>\n",
       "      <td>-0.035018</td>\n",
       "      <td>1.000000</td>\n",
       "      <td>-0.020405</td>\n",
       "      <td>-0.168751</td>\n",
       "      <td>-0.108899</td>\n",
       "      <td>-0.083158</td>\n",
       "      <td>-0.095410</td>\n",
       "    </tr>\n",
       "    <tr>\n",
       "      <th>rougher.input.floatbank11_xanthate</th>\n",
       "      <td>0.064683</td>\n",
       "      <td>0.099848</td>\n",
       "      <td>-0.020405</td>\n",
       "      <td>1.000000</td>\n",
       "      <td>0.414596</td>\n",
       "      <td>-0.003380</td>\n",
       "      <td>0.241153</td>\n",
       "      <td>0.328231</td>\n",
       "    </tr>\n",
       "    <tr>\n",
       "      <th>primary_cleaner.input.xanthate</th>\n",
       "      <td>0.110320</td>\n",
       "      <td>0.057861</td>\n",
       "      <td>-0.168751</td>\n",
       "      <td>0.414596</td>\n",
       "      <td>1.000000</td>\n",
       "      <td>-0.167018</td>\n",
       "      <td>0.144265</td>\n",
       "      <td>0.206445</td>\n",
       "    </tr>\n",
       "    <tr>\n",
       "      <th>secondary_cleaner.state.floatbank2_a_air</th>\n",
       "      <td>0.042443</td>\n",
       "      <td>0.021041</td>\n",
       "      <td>-0.108899</td>\n",
       "      <td>-0.003380</td>\n",
       "      <td>-0.167018</td>\n",
       "      <td>1.000000</td>\n",
       "      <td>0.127209</td>\n",
       "      <td>0.109825</td>\n",
       "    </tr>\n",
       "    <tr>\n",
       "      <th>rougher.output.recovery</th>\n",
       "      <td>0.184540</td>\n",
       "      <td>0.039087</td>\n",
       "      <td>-0.083158</td>\n",
       "      <td>0.241153</td>\n",
       "      <td>0.144265</td>\n",
       "      <td>0.127209</td>\n",
       "      <td>1.000000</td>\n",
       "      <td>0.327059</td>\n",
       "    </tr>\n",
       "    <tr>\n",
       "      <th>final.output.recovery</th>\n",
       "      <td>0.175646</td>\n",
       "      <td>0.048744</td>\n",
       "      <td>-0.095410</td>\n",
       "      <td>0.328231</td>\n",
       "      <td>0.206445</td>\n",
       "      <td>0.109825</td>\n",
       "      <td>0.327059</td>\n",
       "      <td>1.000000</td>\n",
       "    </tr>\n",
       "  </tbody>\n",
       "</table>\n",
       "</div>"
      ],
      "text/plain": [
       "                                          rougher.input.feed_pb  \\\n",
       "rougher.input.feed_pb                                  1.000000   \n",
       "rougher.input.feed_size                               -0.054133   \n",
       "rougher.state.floatbank10_e_air                       -0.350495   \n",
       "rougher.input.floatbank11_xanthate                     0.064683   \n",
       "primary_cleaner.input.xanthate                         0.110320   \n",
       "secondary_cleaner.state.floatbank2_a_air               0.042443   \n",
       "rougher.output.recovery                                0.184540   \n",
       "final.output.recovery                                  0.175646   \n",
       "\n",
       "                                          rougher.input.feed_size  \\\n",
       "rougher.input.feed_pb                                   -0.054133   \n",
       "rougher.input.feed_size                                  1.000000   \n",
       "rougher.state.floatbank10_e_air                         -0.035018   \n",
       "rougher.input.floatbank11_xanthate                       0.099848   \n",
       "primary_cleaner.input.xanthate                           0.057861   \n",
       "secondary_cleaner.state.floatbank2_a_air                 0.021041   \n",
       "rougher.output.recovery                                  0.039087   \n",
       "final.output.recovery                                    0.048744   \n",
       "\n",
       "                                          rougher.state.floatbank10_e_air  \\\n",
       "rougher.input.feed_pb                                           -0.350495   \n",
       "rougher.input.feed_size                                         -0.035018   \n",
       "rougher.state.floatbank10_e_air                                  1.000000   \n",
       "rougher.input.floatbank11_xanthate                              -0.020405   \n",
       "primary_cleaner.input.xanthate                                  -0.168751   \n",
       "secondary_cleaner.state.floatbank2_a_air                        -0.108899   \n",
       "rougher.output.recovery                                         -0.083158   \n",
       "final.output.recovery                                           -0.095410   \n",
       "\n",
       "                                          rougher.input.floatbank11_xanthate  \\\n",
       "rougher.input.feed_pb                                               0.064683   \n",
       "rougher.input.feed_size                                             0.099848   \n",
       "rougher.state.floatbank10_e_air                                    -0.020405   \n",
       "rougher.input.floatbank11_xanthate                                  1.000000   \n",
       "primary_cleaner.input.xanthate                                      0.414596   \n",
       "secondary_cleaner.state.floatbank2_a_air                           -0.003380   \n",
       "rougher.output.recovery                                             0.241153   \n",
       "final.output.recovery                                               0.328231   \n",
       "\n",
       "                                          primary_cleaner.input.xanthate  \\\n",
       "rougher.input.feed_pb                                           0.110320   \n",
       "rougher.input.feed_size                                         0.057861   \n",
       "rougher.state.floatbank10_e_air                                -0.168751   \n",
       "rougher.input.floatbank11_xanthate                              0.414596   \n",
       "primary_cleaner.input.xanthate                                  1.000000   \n",
       "secondary_cleaner.state.floatbank2_a_air                       -0.167018   \n",
       "rougher.output.recovery                                         0.144265   \n",
       "final.output.recovery                                           0.206445   \n",
       "\n",
       "                                          secondary_cleaner.state.floatbank2_a_air  \\\n",
       "rougher.input.feed_pb                                                     0.042443   \n",
       "rougher.input.feed_size                                                   0.021041   \n",
       "rougher.state.floatbank10_e_air                                          -0.108899   \n",
       "rougher.input.floatbank11_xanthate                                       -0.003380   \n",
       "primary_cleaner.input.xanthate                                           -0.167018   \n",
       "secondary_cleaner.state.floatbank2_a_air                                  1.000000   \n",
       "rougher.output.recovery                                                   0.127209   \n",
       "final.output.recovery                                                     0.109825   \n",
       "\n",
       "                                          rougher.output.recovery  \\\n",
       "rougher.input.feed_pb                                    0.184540   \n",
       "rougher.input.feed_size                                  0.039087   \n",
       "rougher.state.floatbank10_e_air                         -0.083158   \n",
       "rougher.input.floatbank11_xanthate                       0.241153   \n",
       "primary_cleaner.input.xanthate                           0.144265   \n",
       "secondary_cleaner.state.floatbank2_a_air                 0.127209   \n",
       "rougher.output.recovery                                  1.000000   \n",
       "final.output.recovery                                    0.327059   \n",
       "\n",
       "                                          final.output.recovery  \n",
       "rougher.input.feed_pb                                  0.175646  \n",
       "rougher.input.feed_size                                0.048744  \n",
       "rougher.state.floatbank10_e_air                       -0.095410  \n",
       "rougher.input.floatbank11_xanthate                     0.328231  \n",
       "primary_cleaner.input.xanthate                         0.206445  \n",
       "secondary_cleaner.state.floatbank2_a_air               0.109825  \n",
       "rougher.output.recovery                                0.327059  \n",
       "final.output.recovery                                  1.000000  "
      ]
     },
     "execution_count": 10,
     "metadata": {},
     "output_type": "execute_result"
    }
   ],
   "source": [
    "df_full[[*missed, 'rougher.output.recovery', 'final.output.recovery']].corr()"
   ]
  },
  {
   "cell_type": "markdown",
   "metadata": {},
   "source": [
    "Итак. как можно поиграться с пропусками:\n",
    "- дропнуть строки. Минус - теряем существенную часть данных 20-25%  \n",
    "- два признака rougher.input.feed_size и rougher.state.floatbank10_e_air имеют околонулевую корреляцию с целевыми признаками, их можно грохнуть по столбцу. Минус - остаются другие признаки с большим количеством пропусков...  \n",
    "- заполнить медианой или средним или ffill или bfill (предыдущим/следующим, так как изменения как правило незначительные)  \n",
    "- предсказать и заполнить через другие имеющиеся признаки  \n",
    "- посмотреть временной ряд и если изменения плавные - заполнить средним между соседними по времени данными  \n",
    "- чуть поинтереснее вариант использовать ARIMA (SARIMA, SARIMAX) для заполнения пропусков\n",
    "\n",
    "Так как проект с жестким дедлайном, искушать судьбу не будем. Заполним все методом ffill так как данные по времени изменяются незначительно.  \n",
    "Поиграть с заполнением пропусков можно будет после сдачи проекта"
   ]
  },
  {
   "cell_type": "code",
   "execution_count": 11,
   "metadata": {},
   "outputs": [
    {
     "name": "stdout",
     "output_type": "stream",
     "text": [
      "Проверка на пропуски по датасетам: 0 0 0\n"
     ]
    }
   ],
   "source": [
    "df_full.fillna(method='ffill', inplace=True)\n",
    "df_train.fillna(method='ffill', inplace=True)\n",
    "df_test.fillna(method='ffill', inplace=True)\n",
    "\n",
    "print(\"Проверка на пропуски по датасетам:\", df_full.isna().sum().sum(), df_train.isna().sum().sum(), df_test.isna().sum().sum())"
   ]
  },
  {
   "cell_type": "code",
   "execution_count": 12,
   "metadata": {},
   "outputs": [
    {
     "data": {
      "text/plain": [
       "84"
      ]
     },
     "execution_count": 12,
     "metadata": {},
     "output_type": "execute_result"
    }
   ],
   "source": [
    "# посмотрим, есть ли выбросы. Смотреть будем по межквартильному расстоянию\n",
    "# функция search_features_output возвращает список со столбцами, где есть выбросы\n",
    "len(search_features_output(df_full))"
   ]
  },
  {
   "cell_type": "markdown",
   "metadata": {},
   "source": [
    "Как видим, по такому принципу (по IQR) есть выбросы практически по всему датасету. Пока оставим. Потом посмотрим - улучшит ли качество модели, если мы от них избавимся."
   ]
  },
  {
   "cell_type": "markdown",
   "metadata": {},
   "source": [
    "**1.2.** Проверим, что эффективность обогащения рассчитана правильно. Вычислим её на обучающей выборке для признака rougher.output.recovery. Найдём MAE между нашими расчётами и значением признака."
   ]
  },
  {
   "cell_type": "code",
   "execution_count": 13,
   "metadata": {},
   "outputs": [
    {
     "name": "stdout",
     "output_type": "stream",
     "text": [
      "MAE составило:  1.1181885454685472e-14\n"
     ]
    },
    {
     "data": {
      "text/html": [
       "<div>\n",
       "<style scoped>\n",
       "    .dataframe tbody tr th:only-of-type {\n",
       "        vertical-align: middle;\n",
       "    }\n",
       "\n",
       "    .dataframe tbody tr th {\n",
       "        vertical-align: top;\n",
       "    }\n",
       "\n",
       "    .dataframe thead th {\n",
       "        text-align: right;\n",
       "    }\n",
       "</style>\n",
       "<table border=\"1\" class=\"dataframe\">\n",
       "  <thead>\n",
       "    <tr style=\"text-align: right;\">\n",
       "      <th></th>\n",
       "      <th>rougher.output.recovery</th>\n",
       "      <th>rougher.output.recovery_count</th>\n",
       "    </tr>\n",
       "    <tr>\n",
       "      <th>date</th>\n",
       "      <th></th>\n",
       "      <th></th>\n",
       "    </tr>\n",
       "  </thead>\n",
       "  <tbody>\n",
       "    <tr>\n",
       "      <th>2016-01-15 00:00:00</th>\n",
       "      <td>87.107763</td>\n",
       "      <td>87.107763</td>\n",
       "    </tr>\n",
       "    <tr>\n",
       "      <th>2016-01-15 01:00:00</th>\n",
       "      <td>86.843261</td>\n",
       "      <td>86.843261</td>\n",
       "    </tr>\n",
       "    <tr>\n",
       "      <th>2016-01-15 02:00:00</th>\n",
       "      <td>86.842308</td>\n",
       "      <td>86.842308</td>\n",
       "    </tr>\n",
       "    <tr>\n",
       "      <th>2016-01-15 03:00:00</th>\n",
       "      <td>87.226430</td>\n",
       "      <td>87.226430</td>\n",
       "    </tr>\n",
       "    <tr>\n",
       "      <th>2016-01-15 04:00:00</th>\n",
       "      <td>86.688794</td>\n",
       "      <td>86.688794</td>\n",
       "    </tr>\n",
       "  </tbody>\n",
       "</table>\n",
       "</div>"
      ],
      "text/plain": [
       "                     rougher.output.recovery  rougher.output.recovery_count\n",
       "date                                                                       \n",
       "2016-01-15 00:00:00                87.107763                      87.107763\n",
       "2016-01-15 01:00:00                86.843261                      86.843261\n",
       "2016-01-15 02:00:00                86.842308                      86.842308\n",
       "2016-01-15 03:00:00                87.226430                      87.226430\n",
       "2016-01-15 04:00:00                86.688794                      86.688794"
      ]
     },
     "execution_count": 13,
     "metadata": {},
     "output_type": "execute_result"
    }
   ],
   "source": [
    "\n",
    "df_recovery_check = df_train[['rougher.output.recovery']]\n",
    "df_recovery_check['rougher.output.recovery_count'] = pd.Series(\n",
    "    find_recovery(df_train['rougher.output.concentrate_au'],\n",
    "                  df_train['rougher.input.feed_au'],\n",
    "                  df_train['rougher.output.tail_au'])\n",
    "\n",
    ")\n",
    "\n",
    "print('MAE составило: ', mae(df_recovery_check['rougher.output.recovery'], df_recovery_check['rougher.output.recovery_count']))\n",
    "df_recovery_check.head()"
   ]
  },
  {
   "cell_type": "markdown",
   "metadata": {},
   "source": [
    "10 в -14 степени. Считаем, что расчет правильный."
   ]
  },
  {
   "cell_type": "code",
   "execution_count": 14,
   "metadata": {},
   "outputs": [
    {
     "data": {
      "text/html": [
       "<div>\n",
       "<style scoped>\n",
       "    .dataframe tbody tr th:only-of-type {\n",
       "        vertical-align: middle;\n",
       "    }\n",
       "\n",
       "    .dataframe tbody tr th {\n",
       "        vertical-align: top;\n",
       "    }\n",
       "\n",
       "    .dataframe thead th {\n",
       "        text-align: right;\n",
       "    }\n",
       "</style>\n",
       "<table border=\"1\" class=\"dataframe\">\n",
       "  <thead>\n",
       "    <tr style=\"text-align: right;\">\n",
       "      <th></th>\n",
       "      <th>rougher.output.recovery</th>\n",
       "      <th>final.output.recovery</th>\n",
       "    </tr>\n",
       "  </thead>\n",
       "  <tbody>\n",
       "    <tr>\n",
       "      <th>rougher.output.recovery</th>\n",
       "      <td>1.000000</td>\n",
       "      <td>0.327059</td>\n",
       "    </tr>\n",
       "    <tr>\n",
       "      <th>final.output.recovery</th>\n",
       "      <td>0.327059</td>\n",
       "      <td>1.000000</td>\n",
       "    </tr>\n",
       "  </tbody>\n",
       "</table>\n",
       "</div>"
      ],
      "text/plain": [
       "                         rougher.output.recovery  final.output.recovery\n",
       "rougher.output.recovery                 1.000000               0.327059\n",
       "final.output.recovery                   0.327059               1.000000"
      ]
     },
     "execution_count": 14,
     "metadata": {},
     "output_type": "execute_result"
    }
   ],
   "source": [
    "# Для интереса посмотрим корреляцию между двумя целевыми признаками\n",
    "df_full[['rougher.output.recovery', 'final.output.recovery']].corr()"
   ]
  },
  {
   "cell_type": "markdown",
   "metadata": {},
   "source": [
    "Как видим, корреляция между ними есть, причем довольно существенная."
   ]
  },
  {
   "cell_type": "markdown",
   "metadata": {},
   "source": [
    "**Предварительные выводы:**  \n",
    "Итак, загрузили и предварительно посмотрели данные.\n",
    "- полных дубликатов нет\n",
    "- Пропуски есть. Много по столбцам и прилично по строкам. Пока принято решение их оставить. Вариантов обработки несколько:  \n",
    "    - простой способ - fillna медианой, средним, предыдущим или следующим значением\n",
    "    - чуть сложнее - средним между соседними значениями\n",
    "    - еще чуть сложнее предсказать через другие признаки или как временного ряда с помощью ARIMA\n",
    "- Определили что есть выбросы, если смотреть по межквартильному расстоянию практически во всех признаках. Так же пока принято решение оставить. Потом при построении модели будем смотреть - улучшит или нет качество модели, если их убрать.\n",
    "- Определили, что между целевыми признаками есть корреляция (существенная, но не 1. на уровне 0.33) \n",
    "- Проверили правильность расчета выхода годного на обучаещей выборке для признака rougher.output.recovery\n"
   ]
  },
  {
   "cell_type": "markdown",
   "metadata": {},
   "source": [
    "## Анализ данных"
   ]
  },
  {
   "cell_type": "markdown",
   "metadata": {},
   "source": [
    "**2.1.** Посмотрим, как меняется концентрация металлов (Au, Ag, Pb) на различных этапах: в сырье, в черновом концентрате, в концентрате после первой очистки и в финальном концентрате."
   ]
  },
  {
   "cell_type": "code",
   "execution_count": 15,
   "metadata": {},
   "outputs": [
    {
     "name": "stdout",
     "output_type": "stream",
     "text": [
      "Смотрим на концентрацию Au на разных этапах\n"
     ]
    },
    {
     "data": {
      "image/png": "[encoded data removed]",
      "text/plain": [
       "<Figure size 1440x576 with 4 Axes>"
      ]
     },
     "metadata": {},
     "output_type": "display_data"
    }
   ],
   "source": [
    "look_concentrate('Au', \n",
    "                 'rougher.input.feed_au', \n",
    "                 'rougher.output.concentrate_au', \n",
    "                 'primary_cleaner.output.concentrate_au', \n",
    "                 'final.output.concentrate_au',\n",
    "                 df_full)"
   ]
  },
  {
   "cell_type": "code",
   "execution_count": 16,
   "metadata": {},
   "outputs": [
    {
     "name": "stdout",
     "output_type": "stream",
     "text": [
      "Смотрим на концентрацию Ag на разных этапах\n"
     ]
    },
    {
     "data": {
      "image/png": "[encoded data removed]",
      "text/plain": [
       "<Figure size 1440x576 with 4 Axes>"
      ]
     },
     "metadata": {},
     "output_type": "display_data"
    }
   ],
   "source": [
    "look_concentrate('Ag', \n",
    "                 'rougher.input.feed_ag', \n",
    "                 'rougher.output.concentrate_ag', \n",
    "                 'primary_cleaner.output.concentrate_ag', \n",
    "                 'final.output.concentrate_ag',\n",
    "                 df_full)"
   ]
  },
  {
   "cell_type": "code",
   "execution_count": 17,
   "metadata": {},
   "outputs": [
    {
     "name": "stdout",
     "output_type": "stream",
     "text": [
      "Смотрим на концентрацию Pb на разных этапах\n"
     ]
    },
    {
     "data": {
      "image/png": "[encoded data removed]",
      "text/plain": [
       "<Figure size 1440x576 with 4 Axes>"
      ]
     },
     "metadata": {},
     "output_type": "display_data"
    }
   ],
   "source": [
    "look_concentrate('Pb', \n",
    "                 'rougher.input.feed_pb', \n",
    "                 'rougher.output.concentrate_pb', \n",
    "                 'primary_cleaner.output.concentrate_pb', \n",
    "                 'final.output.concentrate_pb',\n",
    "                 df_full)"
   ]
  },
  {
   "cell_type": "markdown",
   "metadata": {},
   "source": [
    "С каждым этапом хорошо виден рост концентрации золота. Максимум распределения приходится примерно на 7.5 - 20 - 33 - 45.\n",
    "Концентрация серебра на первом этапе увеличивается, потом уменьшается. максимум приходится примерно на 7.5 - 11 - 7.5 - 5\n",
    "Концентрация свинца по чуть растет: примерно 3.5 - 7.5 - 10 - 10\n",
    "Судя повсему от свинца избавиться сложнее.\n",
    "Так же можно отметить, что по всем металлам разброс распределения снижается (визуально видно постепенное сужение гистограмм)"
   ]
  },
  {
   "cell_type": "markdown",
   "metadata": {},
   "source": [
    "**2.2.**  Сравним распределения размеров гранул исходного сырья на обучающей и тестовой выборках."
   ]
  },
  {
   "cell_type": "code",
   "execution_count": 18,
   "metadata": {},
   "outputs": [
    {
     "name": "stdout",
     "output_type": "stream",
     "text": [
      "rougher.input.feed_size\n",
      "primary_cleaner.input.feed_size\n"
     ]
    }
   ],
   "source": [
    "# размеры гранул только на этапах сырья и первичной очистки\n",
    "feed_size_list = []\n",
    "for column in df_full.columns:\n",
    "    if 'feed_size' in column:\n",
    "        print(column)\n",
    "        feed_size_list.append(column)"
   ]
  },
  {
   "cell_type": "code",
   "execution_count": 19,
   "metadata": {},
   "outputs": [
    {
     "name": "stdout",
     "output_type": "stream",
     "text": [
      "Размер гранул на этапе сырья\n"
     ]
    },
    {
     "data": {
      "image/png": "[encoded data removed]",
      "text/plain": [
       "<Figure size 1440x576 with 2 Axes>"
      ]
     },
     "metadata": {},
     "output_type": "display_data"
    }
   ],
   "source": [
    "print('Размер гранул на этапе сырья')\n",
    "look_feed_size(feed_size_list[0], df_train, \"Обучаящая выборка\", df_test, 'Тестовая выборка')"
   ]
  },
  {
   "cell_type": "code",
   "execution_count": 20,
   "metadata": {},
   "outputs": [
    {
     "name": "stdout",
     "output_type": "stream",
     "text": [
      "Размер гранул на этапе очистки\n"
     ]
    },
    {
     "data": {
      "image/png": "[encoded data removed]",
      "text/plain": [
       "<Figure size 1440x576 with 2 Axes>"
      ]
     },
     "metadata": {},
     "output_type": "display_data"
    }
   ],
   "source": [
    "print('Размер гранул на этапе очистки')\n",
    "look_feed_size(feed_size_list[1], df_train, \"Обучаящая выборка\", df_test, 'Тестовая выборка', 12)"
   ]
  },
  {
   "cell_type": "markdown",
   "metadata": {},
   "source": [
    "Видим, что размер гранул на этапе сырья и на этапе очистки между обучающей и тестовой выборкой совпадают. На этапе сырья пик распределения приходится на 40-60, на этапе очистки гранулы уже существенно меньше, пик распределения у обеих выборок приходится 7 - 7.5"
   ]
  },
  {
   "cell_type": "markdown",
   "metadata": {},
   "source": [
    "**2.3.** Исследуем суммарную концентрацию металлов на разных стадиях: в сырье, в черновом концентрате, в концентрате после первой очистки и в финальном концентрате."
   ]
  },
  {
   "cell_type": "code",
   "execution_count": 21,
   "metadata": {},
   "outputs": [
    {
     "name": "stdout",
     "output_type": "stream",
     "text": [
      "Суммарная концентрация металлов на входе\n"
     ]
    },
    {
     "data": {
      "image/png": "[encoded data removed]",
      "text/plain": [
       "<Figure size 864x432 with 1 Axes>"
      ]
     },
     "metadata": {},
     "output_type": "display_data"
    }
   ],
   "source": [
    "print('Суммарная концентрация металлов на входе')\n",
    "roucher_feed_sum_conc = (df_full['rougher.input.feed_au'] + \n",
    "                   df_full['rougher.input.feed_ag'] + \n",
    "                   df_full['rougher.input.feed_pb'] +\n",
    "                   df_full['rougher.input.feed_sol'])\n",
    "\n",
    "sns.set(rc={'figure.figsize':(12,6)})\n",
    "roucher_feed_sum_conc.hist(bins=100);"
   ]
  },
  {
   "cell_type": "code",
   "execution_count": 22,
   "metadata": {},
   "outputs": [
    {
     "name": "stdout",
     "output_type": "stream",
     "text": [
      "Суммарная концентрация металлов в черновом концентрате\n"
     ]
    },
    {
     "data": {
      "text/plain": [
       "<AxesSubplot:>"
      ]
     },
     "execution_count": 22,
     "metadata": {},
     "output_type": "execute_result"
    },
    {
     "data": {
      "image/png": "[encoded data removed]",
      "text/plain": [
       "<Figure size 864x432 with 1 Axes>"
      ]
     },
     "metadata": {},
     "output_type": "display_data"
    }
   ],
   "source": [
    "print('Суммарная концентрация металлов в черновом концентрате')\n",
    "roucher_sum_conc = (df_full['rougher.output.concentrate_au'] + \n",
    "                   df_full['rougher.output.concentrate_ag'] + \n",
    "                   df_full['rougher.output.concentrate_pb'] +\n",
    "                   df_full['rougher.output.concentrate_sol'])\n",
    "\n",
    "roucher_sum_conc.hist(bins=100)"
   ]
  },
  {
   "cell_type": "code",
   "execution_count": 23,
   "metadata": {},
   "outputs": [
    {
     "name": "stdout",
     "output_type": "stream",
     "text": [
      "Суммарная концентрация металлов в концентрате после первой очистки\n"
     ]
    },
    {
     "data": {
      "text/plain": [
       "<AxesSubplot:>"
      ]
     },
     "execution_count": 23,
     "metadata": {},
     "output_type": "execute_result"
    },
    {
     "data": {
      "image/png": "[encoded data removed]",
      "text/plain": [
       "<Figure size 864x432 with 1 Axes>"
      ]
     },
     "metadata": {},
     "output_type": "display_data"
    }
   ],
   "source": [
    "print('Суммарная концентрация металлов в концентрате после первой очистки')\n",
    "primary_cleaner_sum_conc = (df_full['primary_cleaner.output.concentrate_au'] + \n",
    "                   df_full['primary_cleaner.output.concentrate_ag'] + \n",
    "                   df_full['primary_cleaner.output.concentrate_pb'] +\n",
    "                   df_full['primary_cleaner.output.concentrate_sol'])\n",
    "\n",
    "primary_cleaner_sum_conc.hist(bins=100)"
   ]
  },
  {
   "cell_type": "code",
   "execution_count": 24,
   "metadata": {},
   "outputs": [
    {
     "name": "stdout",
     "output_type": "stream",
     "text": [
      "Суммарная концентрация металлов в финале\n"
     ]
    },
    {
     "data": {
      "text/plain": [
       "<AxesSubplot:>"
      ]
     },
     "execution_count": 24,
     "metadata": {},
     "output_type": "execute_result"
    },
    {
     "data": {
      "image/png": "[encoded data removed]",
      "text/plain": [
       "<Figure size 864x432 with 1 Axes>"
      ]
     },
     "metadata": {},
     "output_type": "display_data"
    }
   ],
   "source": [
    "print('Суммарная концентрация металлов в финале')\n",
    "final_sum_conc = (df_full['final.output.concentrate_au'] + \n",
    "                   df_full['final.output.concentrate_ag'] + \n",
    "                   df_full['final.output.concentrate_pb'] +\n",
    "                   df_full['final.output.concentrate_sol'])\n",
    "\n",
    "final_sum_conc.hist(bins=100)"
   ]
  },
  {
   "cell_type": "markdown",
   "metadata": {},
   "source": [
    "Суммарная концентрация металлов увеличивается по этапно примерно с 55 на входе до 70 на выходе. Плюс уменьшается рассеяние.  \n",
    "Так же можно отметить, что появляются какие-то околонулевые хвосты.  \n",
    "\n",
    "Потом посмотрим, лучше их оставить, заполнить, как и пропуски, или грохнуть."
   ]
  },
  {
   "cell_type": "code",
   "execution_count": 25,
   "metadata": {},
   "outputs": [
    {
     "name": "stdout",
     "output_type": "stream",
     "text": [
      "Проверка размерности сетов:  (13890, 86) (4841, 52) (18731, 86)\n"
     ]
    }
   ],
   "source": [
    "# грохнем нули во всех датасетах\n",
    "df_train = df_train[~(roucher_sum_conc == 0)]\n",
    "df_train = df_train[primary_cleaner_sum_conc > 0.04]\n",
    "df_train = df_train[~(final_sum_conc == 0)]\n",
    "\n",
    "df_test = df_test[~(roucher_sum_conc == 0)]\n",
    "df_test = df_test[primary_cleaner_sum_conc > 0.04]\n",
    "df_test = df_test[~(final_sum_conc == 0)]\n",
    "\n",
    "df_full = df_full[~(roucher_sum_conc == 0)]\n",
    "df_full = df_full[primary_cleaner_sum_conc > 0.04]\n",
    "df_full = df_full[~(final_sum_conc == 0)]\n",
    "\n",
    "print(\"Проверка размерности сетов: \", df_train.shape, df_test.shape, df_full.shape)"
   ]
  },
  {
   "cell_type": "markdown",
   "metadata": {},
   "source": [
    "**Предварительные выводы**  \n",
    "- Посмотрели распределения концентрации металов отдельно и в сумме в зависимости от стадии обработки. Отметили существенный рост концентрации золота и суммарной концентрации. Так же отметили, что уменьшается разброс концентрации с прохождением этапов обработки.  \n",
    "- Сравнили размеры гранул на начальном этапе и этапе обработки. После обработки размер гранул существенно меньше. Так же определили, что размеры гранул обучающей и тестовой выборки совпадают."
   ]
  },
  {
   "cell_type": "markdown",
   "metadata": {},
   "source": [
    "## Модель"
   ]
  },
  {
   "cell_type": "markdown",
   "metadata": {},
   "source": [
    "у нас два целевых признака:  \n",
    "- rougher.output.recovery\n",
    "- final.output.recovery\n",
    "Так же мы принимаем, что у нас условия приближенные к реальности. Учиться и смотреть метрики качетсва мы будем на обучающей выборке. В итоге проверим все на тестовой."
   ]
  },
  {
   "cell_type": "code",
   "execution_count": 26,
   "metadata": {},
   "outputs": [
    {
     "name": "stdout",
     "output_type": "stream",
     "text": [
      "df_droped до дропа (13890, 86)\n",
      "df_droped после дропа (852, 86)\n",
      "----------------------------------------\n",
      "df_droped до дропа (13890, 86)\n",
      "df_droped после дропа (152, 86)\n"
     ]
    }
   ],
   "source": [
    "# Поиграемся с выбросами\n",
    "\n",
    "# сделаем копию трэйна\n",
    "df_droped = df_train.copy()\n",
    "\n",
    "# Дропнем по IQR и офигеем что останется\n",
    "print('df_droped до дропа', df_droped.shape)\n",
    "df_droped = drop_output_iqr(df_droped)\n",
    "print('df_droped после дропа', df_droped.shape)\n",
    "\n",
    "print(\"-\"*40)\n",
    "df_droped = df_train.copy()\n",
    "\n",
    "# возьмем 95% от выборки и тоже офигеем\n",
    "print('df_droped до дропа', df_droped.shape)\n",
    "df_droped = drop_output_95(df_droped)\n",
    "print('df_droped после дропа', df_droped.shape)"
   ]
  },
  {
   "cell_type": "code",
   "execution_count": 27,
   "metadata": {},
   "outputs": [
    {
     "name": "stdout",
     "output_type": "stream",
     "text": [
      "df_train до дропа (13890, 86)\n",
      "df_train после дропа (11813, 86)\n"
     ]
    }
   ],
   "source": [
    "\n",
    "# методом тыка подобрали приемлый уровень\n",
    "print('df_train до дропа', df_train.shape)\n",
    "df_train = drop_output_95(df_train, 0.001, 0.999)\n",
    "print('df_train после дропа', df_train.shape)\n"
   ]
  },
  {
   "cell_type": "code",
   "execution_count": 28,
   "metadata": {},
   "outputs": [
    {
     "name": "stdout",
     "output_type": "stream",
     "text": [
      "Проверка\n",
      "X_train - (11813, 52)\n",
      "y_roughher_train - (11813, 1)\n",
      "y_final_train - (11813, 1)\n",
      "\n",
      "X_test - (4841, 52)\n",
      "y_roughher_test - (4841, 1)\n",
      "y_final_test - (4841, 1)\n"
     ]
    }
   ],
   "source": [
    "# признаки и целевые для обучения. Валидационную выделять не будем, будет кросс-валидация\n",
    "X_train = df_train[features]\n",
    "y_roughher_train = df_train[['rougher.output.recovery']]\n",
    "y_final_train = df_train[['final.output.recovery']]\n",
    "\n",
    "# признаки и целевые для теста.\n",
    "X_test = df_test\n",
    "y_roughher_test = df_full.loc[df_test.index][['rougher.output.recovery']]\n",
    "y_final_test = df_full.loc[df_test.index][['final.output.recovery']]\n",
    "\n",
    "print(f\"\"\"Проверка\n",
    "X_train - {X_train.shape}\n",
    "y_roughher_train - {y_roughher_train.shape}\n",
    "y_final_train - {y_final_train.shape}\n",
    "\n",
    "X_test - {X_test.shape}\n",
    "y_roughher_test - {y_roughher_test.shape}\n",
    "y_final_test - {y_final_test.shape}\"\"\")"
   ]
  },
  {
   "cell_type": "markdown",
   "metadata": {},
   "source": [
    "Для моделек выберем:\n",
    "- RandomForestRegressor (всегда показывает лучшие результаты)\n",
    "- LinearSVR (хочется поковырять что то новое)\n",
    "- LinearRegression (самая быстрая, и ее можно использовать как думми, если у других моделей оценка ниже чем у нее, значит гдето косяк )))"
   ]
  },
  {
   "cell_type": "code",
   "execution_count": 29,
   "metadata": {},
   "outputs": [],
   "source": [
    "# 1. RandomForestRegressor. соберем простенький пайплайн с подбором гиперпараметров по сетке\n",
    "\n",
    "pipe = Pipeline(steps=[\n",
    "                    #('fillna', SimpleImputer(missing_values=np.nan, strategy=\"median\")),\n",
    "                    ('scaler', StandardScaler()),\n",
    "                    ('anova_filter', SelectKBest(f_classif, k=6)),\n",
    "                    #('poly', PolynomialFeatures(degree=(1,2), include_bias=False)),\n",
    "                    ('regressor', RandomForestRegressor())\n",
    "                    ])\n",
    "\n",
    "param_grid = {'regressor__n_estimators':[50, 100],\n",
    "              #'regressor__criterion':['gini', 'entropy'],\n",
    "              'regressor__max_depth':[x for x in range(3,5)],\n",
    "              'regressor__min_samples_split':[x for x in range(4,6)],\n",
    "              'regressor__min_samples_leaf':[x for x in range(4,6)],\n",
    "              }\n",
    "\n",
    "grid_search_rfr1  = GridSearchCV(pipe,\n",
    "                               param_grid, \n",
    "                               scoring = make_scorer(smape, greater_is_better=False), \n",
    "                               n_jobs=-1, \n",
    "                               cv=5\n",
    "                               )\n",
    "\n",
    "grid_search_rfr2 = GridSearchCV(pipe,\n",
    "                               param_grid, \n",
    "                               scoring = make_scorer(smape, greater_is_better=False), \n",
    "                               n_jobs=-1, \n",
    "                               cv=5\n",
    "                               )"
   ]
  },
  {
   "cell_type": "code",
   "execution_count": 30,
   "metadata": {
    "scrolled": true
   },
   "outputs": [
    {
     "name": "stdout",
     "output_type": "stream",
     "text": [
      "{'regressor__max_depth': 4, 'regressor__min_samples_leaf': 4, 'regressor__min_samples_split': 4, 'regressor__n_estimators': 100}\n",
      "7.645420287627344\n",
      "----------------------------------------\n",
      "{'regressor__max_depth': 3, 'regressor__min_samples_leaf': 4, 'regressor__min_samples_split': 4, 'regressor__n_estimators': 50}\n",
      "9.080138605103215\n",
      "CPU times: user 5min 20s, sys: 4.6 s, total: 5min 25s\n",
      "Wall time: 5min 27s\n"
     ]
    }
   ],
   "source": [
    "%%time\n",
    "grid_search_rfr1.fit(X_train, y_roughher_train)\n",
    "grid_search_rfr2.fit(X_train, y_final_train)\n",
    "\n",
    "print(grid_search_rfr1.best_params_)\n",
    "print(-grid_search_rfr1.best_score_)\n",
    "print('-'*40)\n",
    "print(grid_search_rfr2.best_params_)\n",
    "print(-grid_search_rfr2.best_score_)\n"
   ]
  },
  {
   "cell_type": "code",
   "execution_count": 31,
   "metadata": {},
   "outputs": [],
   "source": [
    "# 2. LinearSVR. соберем простенький пайплайн с подбором гиперпараметров по сетке\n",
    "\n",
    "pipe = Pipeline(steps=[\n",
    "                    #('fillna', SimpleImputer(missing_values=np.nan, strategy=\"median\")),\n",
    "                    ('scaler', StandardScaler()),\n",
    "                    ('anova_filter', SelectKBest(f_classif, k=4)),\n",
    "                    ('poly', PolynomialFeatures(degree=2, include_bias=False)),\n",
    "                    ('regressor', LinearSVR())\n",
    "                    ])\n",
    "\n",
    "param_grid = {\n",
    "    'regressor__loss':['epsilon_insensitive', 'squared_epsilon_insensitive'],\n",
    "    'regressor__dual':[True, False],\n",
    "    'regressor__C':[1, 0.1]\n",
    "}\n",
    "\n",
    "grid_search_lsvr1 = GridSearchCV(pipe,\n",
    "                               param_grid, \n",
    "                               scoring = make_scorer(smape, greater_is_better=False), \n",
    "                               n_jobs=-1, \n",
    "                               cv=5\n",
    "                               )\n",
    "\n",
    "grid_search_lsvr2 = GridSearchCV(pipe,\n",
    "                               param_grid, \n",
    "                               scoring = make_scorer(smape, greater_is_better=False), \n",
    "                               n_jobs=-1, \n",
    "                               cv=5\n",
    "                               )"
   ]
  },
  {
   "cell_type": "code",
   "execution_count": 32,
   "metadata": {},
   "outputs": [
    {
     "name": "stdout",
     "output_type": "stream",
     "text": [
      "{'regressor__C': 0.1, 'regressor__dual': True, 'regressor__loss': 'epsilon_insensitive'}\n",
      "7.052731811592638\n",
      "----------------------------------------\n",
      "{'regressor__C': 1, 'regressor__dual': False, 'regressor__loss': 'squared_epsilon_insensitive'}\n",
      "8.963523104677265\n",
      "CPU times: user 1min 27s, sys: 7.64 s, total: 1min 34s\n",
      "Wall time: 1min 35s\n"
     ]
    }
   ],
   "source": [
    "%%time\n",
    "grid_search_lsvr1.fit(X_train, y_roughher_train)\n",
    "grid_search_lsvr2.fit(X_train, y_final_train)\n",
    "\n",
    "print(grid_search_lsvr1.best_params_)\n",
    "print(-grid_search_lsvr1.best_score_)\n",
    "print('-'*40)\n",
    "print(grid_search_lsvr2.best_params_)\n",
    "print(-grid_search_lsvr2.best_score_)\n",
    "\n"
   ]
  },
  {
   "cell_type": "code",
   "execution_count": null,
   "metadata": {},
   "outputs": [],
   "source": []
  },
  {
   "cell_type": "code",
   "execution_count": 33,
   "metadata": {},
   "outputs": [],
   "source": [
    "# 3. LinearRegressor. соберем простенький пайплайн. По сетке подбирать особо нечего (поучимся в сетке выбирать уменьшение размерности)\n",
    "\n",
    "pipe = Pipeline(steps=[\n",
    "                    #('fillna', SimpleImputer(missing_values=np.nan, strategy=\"median\")),\n",
    "                    ('scaler', StandardScaler()),\n",
    "                    # the reduce_dim stage is populated by the param_grid\n",
    "                    (\"reduce_dim\", \"passthrough\"),\n",
    "                    #('anova_filter', SelectKBest(f_classif, k=4)),\n",
    "                    ('poly', PolynomialFeatures(degree=2, include_bias=False)),\n",
    "                    ('regressor', LinearRegression())\n",
    "                    ])\n",
    "\n",
    "N_FEATURES_OPTIONS = [x for x in range(4,6)]\n",
    "param_grid = [\n",
    "    {   \n",
    "        \"reduce_dim\": [PCA(iterated_power=7), NMF(max_iter=1_000)],\n",
    "        \"reduce_dim__n_components\": N_FEATURES_OPTIONS,\n",
    "    },\n",
    "    {\n",
    "        \"reduce_dim\": [SelectKBest(f_classif)],\n",
    "        \"reduce_dim__k\": N_FEATURES_OPTIONS,\n",
    "    },\n",
    "]\n",
    "reducer_labels = [\"PCA\", \"NMF\", \"SelectKBest(f_classif)\"]\n",
    "\n",
    "grid_search_lr1 = GridSearchCV(pipe, \n",
    "                              param_grid = param_grid, \n",
    "                              scoring = make_scorer(smape, greater_is_better=False), \n",
    "                              n_jobs=-1, \n",
    "                              cv=5)\n",
    "\n",
    "grid_search_lr2 = GridSearchCV(pipe, \n",
    "                              param_grid = param_grid, \n",
    "                              scoring = make_scorer(smape, greater_is_better=False), \n",
    "                              n_jobs=-1, \n",
    "                              cv=5)"
   ]
  },
  {
   "cell_type": "code",
   "execution_count": 34,
   "metadata": {},
   "outputs": [
    {
     "name": "stdout",
     "output_type": "stream",
     "text": [
      "{'reduce_dim': SelectKBest(k=4), 'reduce_dim__k': 4}\n",
      "5.69775869598031\n",
      "----------------------------------------\n",
      "{'reduce_dim': PCA(iterated_power=7, n_components=5), 'reduce_dim__n_components': 5}\n",
      "8.725300200742952\n",
      "CPU times: user 55.2 s, sys: 52.5 s, total: 1min 47s\n",
      "Wall time: 1min 48s\n"
     ]
    }
   ],
   "source": [
    "%%time\n",
    "grid_search_lr1.fit(X_train, y_roughher_train)\n",
    "grid_search_lr2.fit(X_train, y_final_train)\n",
    "\n",
    "print(grid_search_lr1.best_params_)\n",
    "print(-grid_search_lr1.best_score_)\n",
    "print('-'*40)\n",
    "print(grid_search_lr2.best_params_)\n",
    "print(-grid_search_lr2.best_score_)"
   ]
  },
  {
   "cell_type": "code",
   "execution_count": 35,
   "metadata": {},
   "outputs": [
    {
     "name": "stdout",
     "output_type": "stream",
     "text": [
      "для признака - rougher.output.recovery sMAPE: 5.041110677290433\n",
      "для признака - final.output.recovery sMAPE: 7.953460160431866\n"
     ]
    }
   ],
   "source": [
    "# проверим лучшую модель на тесте\n",
    "\n",
    "y_roughher_pred = grid_search_lr1.predict(X_test)\n",
    "y_final_pred = grid_search_lr2.predict(X_test)\n",
    "\n",
    "print(\"для признака - rougher.output.recovery sMAPE:\", smape(y_roughher_pred, y_roughher_test))\n",
    "print(\"для признака - final.output.recovery sMAPE:\", smape(y_final_pred, y_final_test))"
   ]
  },
  {
   "cell_type": "code",
   "execution_count": 36,
   "metadata": {},
   "outputs": [
    {
     "name": "stdout",
     "output_type": "stream",
     "text": [
      "Итоговое sMAPE: 7.225372789646507\n"
     ]
    }
   ],
   "source": [
    "print(\"Итоговое sMAPE:\", smape_itog(y_roughher_pred, y_roughher_test, y_final_pred, y_final_test))"
   ]
  },
  {
   "cell_type": "code",
   "execution_count": 39,
   "metadata": {},
   "outputs": [
    {
     "name": "stdout",
     "output_type": "stream",
     "text": [
      "Dummy для признака - rougher.output.recovery sMAPE: 5.986624599690874\n",
      "Dummy для признака - final.output.recovery sMAPE: 9.121955096844736\n"
     ]
    }
   ],
   "source": [
    "# Проверим на адекатность модель\n",
    "dummy_regr1 = DummyRegressor(strategy=\"mean\")\n",
    "dummy_regr2 = DummyRegressor(strategy=\"mean\")\n",
    "\n",
    "dummy_regr1.fit(X_train, y_roughher_train)\n",
    "dummy_regr2.fit(X_train, y_final_train)\n",
    "\n",
    "y_roughher_pred_dummy = dummy_regr1.predict(X_test)\n",
    "y_final_pred_dummy = dummy_regr2.predict(X_test)\n",
    "\n",
    "print(\"Dummy для признака - rougher.output.recovery sMAPE:\", smape(y_roughher_pred_dummy, y_roughher_test))\n",
    "print(\"Dummy для признака - final.output.recovery sMAPE:\", smape(y_final_pred_dummy, y_final_test))"
   ]
  },
  {
   "cell_type": "markdown",
   "metadata": {},
   "source": [
    "мда, модель не сильно лучше думми... но чуть лучше"
   ]
  },
  {
   "cell_type": "markdown",
   "metadata": {},
   "source": [
    "**Предварительные выводы**  \n",
    "- Покрутили разные модели: Случайный лес, новую модельку - LinearSVR и обычную линейную регрессию.\n",
    "- Модельки крутили через пайплайн и грид серч, в нем же применяли кросс-валидацию. \n",
    "- Там же добавляли полиномиальные признаки и выбирали KBest фичей.\n",
    "- в качестве оценки моделей использовали самописную метрику sMAPE\n",
    "\n",
    "Лучше всего отработала линейная регрессия. Меня до сих пор не покаидает мысль, что у меня где-то косяк, так как раньше никогда такого не было.  \n",
    "Понятно что мы оптимизировали по сетке для нее количество значимых признаков, но всё равно..."
   ]
  },
  {
   "cell_type": "markdown",
   "metadata": {},
   "source": [
    "**Выводы**  \n",
    "1. загрузили и предварительно посмотрели данные.\n",
    "- полных дубликатов нет\n",
    "- Пропуски есть. Много по столбцам и прилично по строкам. Вариантов обработки несколько:  \n",
    "    - простой способ - fillna медианой, средним, предыдущим или следующим значением\n",
    "    - чуть сложнее - средним между соседними значениями\n",
    "    - еще чуть сложнее предсказать через другие признаки или как временного ряда с помощью ARIMA\n",
    "- Так как имеем жесткий дэдлайн применили метод ffill, так как видно что данные временного ряда на каждом шаге меняются незначительно\n",
    "- Определили что есть выбросы, если смотреть по межквартильному расстоянию практически во всех признаках. \n",
    "- Определили, что между целевыми признаками есть корреляция (существенная, но не 1. на уровне 0.33) \n",
    "- Проверили правильность расчета выхода годного на обучаещей выборке для признака rougher.output.recovery\n",
    "2. Проанализировали данные\n",
    "- Посмотрели распределения концентрации металов отдельно и в сумме в зависимости от стадии обработки. Отметили существенный рост концентрации золота и суммарной концентрации. Так же отметили, что уменьшается разброс концентрации с прохождением этапов обработки.  \n",
    "- Сравнили размеры гранул на начальном этапе и этапе обработки. После обработки размер гранул существенно меньше. Так же определили, что размеры гранул обучающей и тестовой выборки совпадают.\n",
    "- Выявили существенную часть нулевых признаков признаков, удалили, так как нет возможности посоветоваться с экспертом по методу их заполнения.\n",
    "3. Модель\n",
    "- Покрутили разные модели: Случайный лес, новую модельку - LinearSVR и обычную линейную регрессию.\n",
    "- Модельки крутили через пайплайн и грид серч, в нем же применяли кросс-валидацию. \n",
    "- Там же добавляли полиномиальные признаки и выбирали KBest фичей.\n",
    "- в качестве оценки моделей использовали самописную метрику sMAPE\n",
    "- Итоговую метрику sMape получили на уровне 7.63\n",
    "- Дропнули выбросы, качество модели чуть улучшились (на локальной машине 7.63 -> 7.43, на платформе 7.3 -> 7.2)\n"
   ]
  }
 ],
 "metadata": {
  "ExecuteTimeLog": [
   {
    "duration": 1660,
    "start_time": "2023-05-12T19:34:02.958Z"
   },
   {
    "duration": 22,
    "start_time": "2023-05-12T19:34:04.621Z"
   },
   {
    "duration": 2892,
    "start_time": "2023-05-12T19:34:04.645Z"
   },
   {
    "duration": 100,
    "start_time": "2023-05-12T19:34:07.539Z"
   },
   {
    "duration": 50,
    "start_time": "2023-05-12T19:34:07.641Z"
   },
   {
    "duration": 6,
    "start_time": "2023-05-12T19:34:07.692Z"
   },
   {
    "duration": 296,
    "start_time": "2023-05-12T19:34:07.721Z"
   },
   {
    "duration": 17,
    "start_time": "2023-05-12T19:34:08.028Z"
   },
   {
    "duration": 240,
    "start_time": "2023-05-12T19:34:08.047Z"
   },
   {
    "duration": 28,
    "start_time": "2023-05-12T19:34:08.290Z"
   },
   {
    "duration": 47,
    "start_time": "2023-05-12T19:34:08.319Z"
   },
   {
    "duration": 309,
    "start_time": "2023-05-12T19:34:08.368Z"
   },
   {
    "duration": 19,
    "start_time": "2023-05-12T19:34:08.679Z"
   },
   {
    "duration": 35,
    "start_time": "2023-05-12T19:34:08.700Z"
   },
   {
    "duration": 1299,
    "start_time": "2023-05-12T19:34:08.737Z"
   },
   {
    "duration": 1137,
    "start_time": "2023-05-12T19:34:10.038Z"
   },
   {
    "duration": 960,
    "start_time": "2023-05-12T19:34:11.176Z"
   },
   {
    "duration": 5,
    "start_time": "2023-05-12T19:34:12.141Z"
   },
   {
    "duration": 548,
    "start_time": "2023-05-12T19:34:12.147Z"
   },
   {
    "duration": 684,
    "start_time": "2023-05-12T19:34:12.697Z"
   },
   {
    "duration": 289,
    "start_time": "2023-05-12T19:34:13.382Z"
   },
   {
    "duration": 262,
    "start_time": "2023-05-12T19:34:13.672Z"
   },
   {
    "duration": 300,
    "start_time": "2023-05-12T19:34:13.936Z"
   },
   {
    "duration": 340,
    "start_time": "2023-05-12T19:34:14.237Z"
   },
   {
    "duration": 56,
    "start_time": "2023-05-12T19:34:14.578Z"
   },
   {
    "duration": 14,
    "start_time": "2023-05-12T19:34:14.636Z"
   },
   {
    "duration": 29,
    "start_time": "2023-05-12T19:34:14.652Z"
   },
   {
    "duration": 11,
    "start_time": "2023-05-12T19:34:14.686Z"
   },
   {
    "duration": 831072,
    "start_time": "2023-05-12T19:34:14.699Z"
   },
   {
    "duration": 7,
    "start_time": "2023-05-12T19:48:05.774Z"
   },
   {
    "duration": 75699,
    "start_time": "2023-05-12T19:48:05.782Z"
   },
   {
    "duration": 0,
    "start_time": "2023-05-12T19:49:21.483Z"
   },
   {
    "duration": 0,
    "start_time": "2023-05-12T19:49:21.484Z"
   },
   {
    "duration": 0,
    "start_time": "2023-05-12T19:49:21.485Z"
   },
   {
    "duration": 0,
    "start_time": "2023-05-12T19:49:21.486Z"
   },
   {
    "duration": 1430,
    "start_time": "2023-05-12T20:32:44.410Z"
   },
   {
    "duration": 14,
    "start_time": "2023-05-12T20:32:45.842Z"
   },
   {
    "duration": 848,
    "start_time": "2023-05-12T20:32:45.857Z"
   },
   {
    "duration": 94,
    "start_time": "2023-05-12T20:32:46.706Z"
   },
   {
    "duration": 45,
    "start_time": "2023-05-12T20:32:46.802Z"
   },
   {
    "duration": 6,
    "start_time": "2023-05-12T20:32:46.849Z"
   },
   {
    "duration": 272,
    "start_time": "2023-05-12T20:32:46.856Z"
   },
   {
    "duration": 12,
    "start_time": "2023-05-12T20:32:47.129Z"
   },
   {
    "duration": 211,
    "start_time": "2023-05-12T20:32:47.143Z"
   },
   {
    "duration": 15,
    "start_time": "2023-05-12T20:32:47.357Z"
   },
   {
    "duration": 17,
    "start_time": "2023-05-12T20:32:47.374Z"
   },
   {
    "duration": 226,
    "start_time": "2023-05-12T20:32:47.393Z"
   },
   {
    "duration": 13,
    "start_time": "2023-05-12T20:32:47.621Z"
   },
   {
    "duration": 8,
    "start_time": "2023-05-12T20:32:47.637Z"
   },
   {
    "duration": 1268,
    "start_time": "2023-05-12T20:32:47.646Z"
   },
   {
    "duration": 1107,
    "start_time": "2023-05-12T20:32:48.916Z"
   },
   {
    "duration": 1000,
    "start_time": "2023-05-12T20:32:50.024Z"
   },
   {
    "duration": 3,
    "start_time": "2023-05-12T20:32:51.026Z"
   },
   {
    "duration": 539,
    "start_time": "2023-05-12T20:32:51.031Z"
   },
   {
    "duration": 703,
    "start_time": "2023-05-12T20:32:51.572Z"
   },
   {
    "duration": 276,
    "start_time": "2023-05-12T20:32:52.276Z"
   },
   {
    "duration": 252,
    "start_time": "2023-05-12T20:32:52.554Z"
   },
   {
    "duration": 280,
    "start_time": "2023-05-12T20:32:52.808Z"
   },
   {
    "duration": 358,
    "start_time": "2023-05-12T20:32:53.089Z"
   },
   {
    "duration": 48,
    "start_time": "2023-05-12T20:32:53.449Z"
   },
   {
    "duration": 138,
    "start_time": "2023-05-12T20:32:53.499Z"
   },
   {
    "duration": 0,
    "start_time": "2023-05-12T20:32:53.638Z"
   },
   {
    "duration": 0,
    "start_time": "2023-05-12T20:32:53.639Z"
   },
   {
    "duration": 0,
    "start_time": "2023-05-12T20:32:53.640Z"
   },
   {
    "duration": 0,
    "start_time": "2023-05-12T20:32:53.641Z"
   },
   {
    "duration": 0,
    "start_time": "2023-05-12T20:32:53.642Z"
   },
   {
    "duration": 0,
    "start_time": "2023-05-12T20:32:53.643Z"
   },
   {
    "duration": 0,
    "start_time": "2023-05-12T20:32:53.644Z"
   },
   {
    "duration": 0,
    "start_time": "2023-05-12T20:32:53.645Z"
   },
   {
    "duration": 0,
    "start_time": "2023-05-12T20:32:53.646Z"
   },
   {
    "duration": 0,
    "start_time": "2023-05-12T20:32:53.647Z"
   },
   {
    "duration": 1398,
    "start_time": "2023-05-12T20:34:17.385Z"
   },
   {
    "duration": 13,
    "start_time": "2023-05-12T20:34:18.785Z"
   },
   {
    "duration": 838,
    "start_time": "2023-05-12T20:34:18.799Z"
   },
   {
    "duration": 108,
    "start_time": "2023-05-12T20:34:19.639Z"
   },
   {
    "duration": 34,
    "start_time": "2023-05-12T20:34:19.749Z"
   },
   {
    "duration": 7,
    "start_time": "2023-05-12T20:34:19.785Z"
   },
   {
    "duration": 288,
    "start_time": "2023-05-12T20:34:19.793Z"
   },
   {
    "duration": 11,
    "start_time": "2023-05-12T20:34:20.083Z"
   },
   {
    "duration": 214,
    "start_time": "2023-05-12T20:34:20.096Z"
   },
   {
    "duration": 24,
    "start_time": "2023-05-12T20:34:20.311Z"
   },
   {
    "duration": 20,
    "start_time": "2023-05-12T20:34:20.336Z"
   },
   {
    "duration": 232,
    "start_time": "2023-05-12T20:34:20.357Z"
   },
   {
    "duration": 14,
    "start_time": "2023-05-12T20:34:20.590Z"
   },
   {
    "duration": 8,
    "start_time": "2023-05-12T20:34:20.617Z"
   },
   {
    "duration": 1280,
    "start_time": "2023-05-12T20:34:20.627Z"
   },
   {
    "duration": 1118,
    "start_time": "2023-05-12T20:34:21.909Z"
   },
   {
    "duration": 930,
    "start_time": "2023-05-12T20:34:23.029Z"
   },
   {
    "duration": 4,
    "start_time": "2023-05-12T20:34:23.961Z"
   },
   {
    "duration": 551,
    "start_time": "2023-05-12T20:34:23.967Z"
   },
   {
    "duration": 731,
    "start_time": "2023-05-12T20:34:24.520Z"
   },
   {
    "duration": 260,
    "start_time": "2023-05-12T20:34:25.253Z"
   },
   {
    "duration": 245,
    "start_time": "2023-05-12T20:34:25.518Z"
   },
   {
    "duration": 294,
    "start_time": "2023-05-12T20:34:25.765Z"
   },
   {
    "duration": 352,
    "start_time": "2023-05-12T20:34:26.061Z"
   },
   {
    "duration": 44,
    "start_time": "2023-05-12T20:34:26.418Z"
   },
   {
    "duration": 442,
    "start_time": "2023-05-12T20:34:26.463Z"
   },
   {
    "duration": 326,
    "start_time": "2023-05-12T20:34:26.908Z"
   },
   {
    "duration": 14,
    "start_time": "2023-05-12T20:34:27.235Z"
   },
   {
    "duration": 5,
    "start_time": "2023-05-12T20:34:27.251Z"
   },
   {
    "duration": 674512,
    "start_time": "2023-05-12T20:34:27.257Z"
   },
   {
    "duration": 5,
    "start_time": "2023-05-12T20:45:41.770Z"
   },
   {
    "duration": 8,
    "start_time": "2023-05-12T20:45:41.777Z"
   },
   {
    "duration": 6,
    "start_time": "2023-05-12T20:45:41.788Z"
   },
   {
    "duration": 487273,
    "start_time": "2023-05-12T20:45:41.796Z"
   },
   {
    "duration": 15,
    "start_time": "2023-05-12T20:53:49.070Z"
   },
   {
    "duration": 0,
    "start_time": "2023-05-12T20:53:49.087Z"
   },
   {
    "duration": 1444,
    "start_time": "2023-05-12T21:06:31.896Z"
   },
   {
    "duration": 14,
    "start_time": "2023-05-12T21:06:33.342Z"
   },
   {
    "duration": 909,
    "start_time": "2023-05-12T21:06:33.358Z"
   },
   {
    "duration": 103,
    "start_time": "2023-05-12T21:06:34.269Z"
   },
   {
    "duration": 44,
    "start_time": "2023-05-12T21:06:34.373Z"
   },
   {
    "duration": 6,
    "start_time": "2023-05-12T21:06:34.419Z"
   },
   {
    "duration": 341,
    "start_time": "2023-05-12T21:06:34.427Z"
   },
   {
    "duration": 11,
    "start_time": "2023-05-12T21:06:34.769Z"
   },
   {
    "duration": 206,
    "start_time": "2023-05-12T21:06:34.781Z"
   },
   {
    "duration": 17,
    "start_time": "2023-05-12T21:06:34.989Z"
   },
   {
    "duration": 32,
    "start_time": "2023-05-12T21:06:35.007Z"
   },
   {
    "duration": 241,
    "start_time": "2023-05-12T21:06:35.040Z"
   },
   {
    "duration": 14,
    "start_time": "2023-05-12T21:06:35.283Z"
   },
   {
    "duration": 23,
    "start_time": "2023-05-12T21:06:35.301Z"
   },
   {
    "duration": 1256,
    "start_time": "2023-05-12T21:06:35.326Z"
   },
   {
    "duration": 1091,
    "start_time": "2023-05-12T21:06:36.585Z"
   },
   {
    "duration": 956,
    "start_time": "2023-05-12T21:06:37.678Z"
   },
   {
    "duration": 4,
    "start_time": "2023-05-12T21:06:38.636Z"
   },
   {
    "duration": 522,
    "start_time": "2023-05-12T21:06:38.641Z"
   },
   {
    "duration": 698,
    "start_time": "2023-05-12T21:06:39.165Z"
   },
   {
    "duration": 273,
    "start_time": "2023-05-12T21:06:39.865Z"
   },
   {
    "duration": 272,
    "start_time": "2023-05-12T21:06:40.140Z"
   },
   {
    "duration": 271,
    "start_time": "2023-05-12T21:06:40.413Z"
   },
   {
    "duration": 365,
    "start_time": "2023-05-12T21:06:40.685Z"
   },
   {
    "duration": 47,
    "start_time": "2023-05-12T21:06:41.051Z"
   },
   {
    "duration": 475,
    "start_time": "2023-05-12T21:06:41.100Z"
   },
   {
    "duration": 319,
    "start_time": "2023-05-12T21:06:41.576Z"
   },
   {
    "duration": 22,
    "start_time": "2023-05-12T21:06:41.897Z"
   },
   {
    "duration": 7,
    "start_time": "2023-05-12T21:06:41.921Z"
   },
   {
    "duration": 1467,
    "start_time": "2023-05-12T21:07:25.682Z"
   },
   {
    "duration": 13,
    "start_time": "2023-05-12T21:07:27.152Z"
   },
   {
    "duration": 924,
    "start_time": "2023-05-12T21:07:27.167Z"
   },
   {
    "duration": 122,
    "start_time": "2023-05-12T21:07:28.092Z"
   },
   {
    "duration": 44,
    "start_time": "2023-05-12T21:07:28.217Z"
   },
   {
    "duration": 7,
    "start_time": "2023-05-12T21:07:28.263Z"
   },
   {
    "duration": 316,
    "start_time": "2023-05-12T21:07:28.272Z"
   },
   {
    "duration": 11,
    "start_time": "2023-05-12T21:07:28.590Z"
   },
   {
    "duration": 248,
    "start_time": "2023-05-12T21:07:28.602Z"
   },
   {
    "duration": 27,
    "start_time": "2023-05-12T21:07:28.852Z"
   },
   {
    "duration": 51,
    "start_time": "2023-05-12T21:07:28.881Z"
   },
   {
    "duration": 247,
    "start_time": "2023-05-12T21:07:28.935Z"
   },
   {
    "duration": 13,
    "start_time": "2023-05-12T21:07:29.184Z"
   },
   {
    "duration": 22,
    "start_time": "2023-05-12T21:07:29.200Z"
   },
   {
    "duration": 1448,
    "start_time": "2023-05-12T21:07:29.224Z"
   },
   {
    "duration": 1192,
    "start_time": "2023-05-12T21:07:30.674Z"
   },
   {
    "duration": 1004,
    "start_time": "2023-05-12T21:07:31.869Z"
   },
   {
    "duration": 3,
    "start_time": "2023-05-12T21:07:32.875Z"
   },
   {
    "duration": 561,
    "start_time": "2023-05-12T21:07:32.879Z"
   },
   {
    "duration": 699,
    "start_time": "2023-05-12T21:07:33.441Z"
   },
   {
    "duration": 316,
    "start_time": "2023-05-12T21:07:34.141Z"
   },
   {
    "duration": 281,
    "start_time": "2023-05-12T21:07:34.459Z"
   },
   {
    "duration": 316,
    "start_time": "2023-05-12T21:07:34.742Z"
   },
   {
    "duration": 402,
    "start_time": "2023-05-12T21:07:35.060Z"
   },
   {
    "duration": 56,
    "start_time": "2023-05-12T21:07:35.464Z"
   },
   {
    "duration": 444,
    "start_time": "2023-05-12T21:07:35.521Z"
   },
   {
    "duration": 368,
    "start_time": "2023-05-12T21:07:35.967Z"
   },
   {
    "duration": 16,
    "start_time": "2023-05-12T21:07:36.337Z"
   },
   {
    "duration": 7,
    "start_time": "2023-05-12T21:07:36.355Z"
   },
   {
    "duration": 300591,
    "start_time": "2023-05-12T21:07:36.363Z"
   },
   {
    "duration": 5,
    "start_time": "2023-05-12T21:12:36.956Z"
   },
   {
    "duration": 74645,
    "start_time": "2023-05-12T21:12:36.963Z"
   },
   {
    "duration": 11,
    "start_time": "2023-05-12T21:13:51.609Z"
   },
   {
    "duration": 32493,
    "start_time": "2023-05-12T21:13:51.622Z"
   },
   {
    "duration": 17,
    "start_time": "2023-05-12T21:14:24.118Z"
   },
   {
    "duration": 83,
    "start_time": "2023-05-12T21:14:24.137Z"
   },
   {
    "duration": 5,
    "start_time": "2023-05-12T21:17:10.382Z"
   },
   {
    "duration": 14346,
    "start_time": "2023-05-12T21:17:11.382Z"
   },
   {
    "duration": 5,
    "start_time": "2023-05-12T21:19:39.844Z"
   },
   {
    "duration": 37034,
    "start_time": "2023-05-12T21:19:40.430Z"
   },
   {
    "duration": 6,
    "start_time": "2023-05-12T21:21:35.909Z"
   },
   {
    "duration": 157764,
    "start_time": "2023-05-12T21:21:36.654Z"
   },
   {
    "duration": 1402,
    "start_time": "2023-05-12T21:25:44.279Z"
   },
   {
    "duration": 13,
    "start_time": "2023-05-12T21:25:45.684Z"
   },
   {
    "duration": 1029,
    "start_time": "2023-05-12T21:25:45.699Z"
   },
   {
    "duration": 122,
    "start_time": "2023-05-12T21:25:46.733Z"
   },
   {
    "duration": 38,
    "start_time": "2023-05-12T21:25:46.857Z"
   },
   {
    "duration": 6,
    "start_time": "2023-05-12T21:25:46.897Z"
   },
   {
    "duration": 285,
    "start_time": "2023-05-12T21:25:46.904Z"
   },
   {
    "duration": 11,
    "start_time": "2023-05-12T21:25:47.190Z"
   },
   {
    "duration": 211,
    "start_time": "2023-05-12T21:25:47.202Z"
   },
   {
    "duration": 26,
    "start_time": "2023-05-12T21:25:47.415Z"
   },
   {
    "duration": 34,
    "start_time": "2023-05-12T21:25:47.443Z"
   },
   {
    "duration": 218,
    "start_time": "2023-05-12T21:25:47.479Z"
   },
   {
    "duration": 32,
    "start_time": "2023-05-12T21:25:47.699Z"
   },
   {
    "duration": 9,
    "start_time": "2023-05-12T21:25:47.734Z"
   },
   {
    "duration": 1321,
    "start_time": "2023-05-12T21:25:47.745Z"
   },
   {
    "duration": 1168,
    "start_time": "2023-05-12T21:25:49.068Z"
   },
   {
    "duration": 1015,
    "start_time": "2023-05-12T21:25:50.238Z"
   },
   {
    "duration": 3,
    "start_time": "2023-05-12T21:25:51.255Z"
   },
   {
    "duration": 575,
    "start_time": "2023-05-12T21:25:51.260Z"
   },
   {
    "duration": 729,
    "start_time": "2023-05-12T21:25:51.836Z"
   },
   {
    "duration": 286,
    "start_time": "2023-05-12T21:25:52.568Z"
   },
   {
    "duration": 275,
    "start_time": "2023-05-12T21:25:52.855Z"
   },
   {
    "duration": 273,
    "start_time": "2023-05-12T21:25:53.132Z"
   },
   {
    "duration": 369,
    "start_time": "2023-05-12T21:25:53.407Z"
   },
   {
    "duration": 60,
    "start_time": "2023-05-12T21:25:53.777Z"
   },
   {
    "duration": 493,
    "start_time": "2023-05-12T21:25:53.839Z"
   },
   {
    "duration": 5,
    "start_time": "2023-05-12T21:25:54.334Z"
   },
   {
    "duration": 21,
    "start_time": "2023-05-12T21:25:54.340Z"
   },
   {
    "duration": 10,
    "start_time": "2023-05-12T21:25:54.363Z"
   },
   {
    "duration": 368930,
    "start_time": "2023-05-12T21:25:54.375Z"
   },
   {
    "duration": 5,
    "start_time": "2023-05-12T21:32:03.306Z"
   },
   {
    "duration": 114341,
    "start_time": "2023-05-12T21:32:03.312Z"
   },
   {
    "duration": 6,
    "start_time": "2023-05-12T21:33:57.654Z"
   },
   {
    "duration": 109770,
    "start_time": "2023-05-12T21:33:57.661Z"
   },
   {
    "duration": 96,
    "start_time": "2023-05-12T21:35:47.433Z"
   },
   {
    "duration": 88,
    "start_time": "2023-05-12T21:35:47.535Z"
   },
   {
    "duration": 1352,
    "start_time": "2023-05-12T21:36:43.038Z"
   },
   {
    "duration": 13,
    "start_time": "2023-05-12T21:36:44.392Z"
   },
   {
    "duration": 984,
    "start_time": "2023-05-12T21:36:44.406Z"
   },
   {
    "duration": 106,
    "start_time": "2023-05-12T21:36:45.391Z"
   },
   {
    "duration": 48,
    "start_time": "2023-05-12T21:36:45.499Z"
   },
   {
    "duration": 8,
    "start_time": "2023-05-12T21:36:45.549Z"
   },
   {
    "duration": 290,
    "start_time": "2023-05-12T21:36:45.558Z"
   },
   {
    "duration": 11,
    "start_time": "2023-05-12T21:36:45.849Z"
   },
   {
    "duration": 201,
    "start_time": "2023-05-12T21:36:45.862Z"
   },
   {
    "duration": 16,
    "start_time": "2023-05-12T21:36:46.064Z"
   },
   {
    "duration": 19,
    "start_time": "2023-05-12T21:36:46.082Z"
   },
   {
    "duration": 228,
    "start_time": "2023-05-12T21:36:46.117Z"
   },
   {
    "duration": 15,
    "start_time": "2023-05-12T21:36:46.347Z"
   },
   {
    "duration": 9,
    "start_time": "2023-05-12T21:36:46.366Z"
   },
   {
    "duration": 1306,
    "start_time": "2023-05-12T21:36:46.377Z"
   },
   {
    "duration": 1149,
    "start_time": "2023-05-12T21:36:47.685Z"
   },
   {
    "duration": 998,
    "start_time": "2023-05-12T21:36:48.841Z"
   },
   {
    "duration": 4,
    "start_time": "2023-05-12T21:36:49.843Z"
   },
   {
    "duration": 551,
    "start_time": "2023-05-12T21:36:49.849Z"
   },
   {
    "duration": 773,
    "start_time": "2023-05-12T21:36:50.401Z"
   },
   {
    "duration": 281,
    "start_time": "2023-05-12T21:36:51.176Z"
   },
   {
    "duration": 287,
    "start_time": "2023-05-12T21:36:51.459Z"
   },
   {
    "duration": 296,
    "start_time": "2023-05-12T21:36:51.747Z"
   },
   {
    "duration": 351,
    "start_time": "2023-05-12T21:36:52.044Z"
   },
   {
    "duration": 55,
    "start_time": "2023-05-12T21:36:52.397Z"
   },
   {
    "duration": 451,
    "start_time": "2023-05-12T21:36:52.454Z"
   },
   {
    "duration": 375,
    "start_time": "2023-05-12T21:36:52.907Z"
   },
   {
    "duration": 19,
    "start_time": "2023-05-12T21:36:53.284Z"
   },
   {
    "duration": 39,
    "start_time": "2023-05-12T21:36:53.305Z"
   },
   {
    "duration": 312318,
    "start_time": "2023-05-12T21:36:53.348Z"
   },
   {
    "duration": 5,
    "start_time": "2023-05-12T21:42:05.667Z"
   },
   {
    "duration": 92146,
    "start_time": "2023-05-12T21:42:05.674Z"
   },
   {
    "duration": 13,
    "start_time": "2023-05-12T21:43:37.826Z"
   },
   {
    "duration": 100698,
    "start_time": "2023-05-12T21:43:37.852Z"
   },
   {
    "duration": 95,
    "start_time": "2023-05-12T21:45:18.552Z"
   },
   {
    "duration": 107,
    "start_time": "2023-05-12T21:45:18.724Z"
   },
   {
    "duration": 51,
    "start_time": "2023-05-13T15:41:36.557Z"
   },
   {
    "duration": 1712,
    "start_time": "2023-05-13T15:42:03.671Z"
   },
   {
    "duration": 13,
    "start_time": "2023-05-13T15:42:05.385Z"
   },
   {
    "duration": 2466,
    "start_time": "2023-05-13T15:42:05.400Z"
   },
   {
    "duration": 129,
    "start_time": "2023-05-13T15:42:07.869Z"
   },
   {
    "duration": 42,
    "start_time": "2023-05-13T15:42:08.001Z"
   },
   {
    "duration": 7,
    "start_time": "2023-05-13T15:42:08.044Z"
   },
   {
    "duration": 312,
    "start_time": "2023-05-13T15:42:08.052Z"
   },
   {
    "duration": 11,
    "start_time": "2023-05-13T15:42:08.365Z"
   },
   {
    "duration": 217,
    "start_time": "2023-05-13T15:42:08.378Z"
   },
   {
    "duration": 26,
    "start_time": "2023-05-13T15:42:08.597Z"
   },
   {
    "duration": 20,
    "start_time": "2023-05-13T15:42:08.624Z"
   },
   {
    "duration": 223,
    "start_time": "2023-05-13T15:42:08.646Z"
   },
   {
    "duration": 14,
    "start_time": "2023-05-13T15:42:08.870Z"
   },
   {
    "duration": 10,
    "start_time": "2023-05-13T15:42:08.885Z"
   },
   {
    "duration": 1305,
    "start_time": "2023-05-13T15:42:08.897Z"
   },
   {
    "duration": 1121,
    "start_time": "2023-05-13T15:42:10.203Z"
   },
   {
    "duration": 975,
    "start_time": "2023-05-13T15:42:11.326Z"
   },
   {
    "duration": 4,
    "start_time": "2023-05-13T15:42:12.304Z"
   },
   {
    "duration": 552,
    "start_time": "2023-05-13T15:42:12.317Z"
   },
   {
    "duration": 677,
    "start_time": "2023-05-13T15:42:12.871Z"
   },
   {
    "duration": 398,
    "start_time": "2023-05-13T15:42:13.550Z"
   },
   {
    "duration": 277,
    "start_time": "2023-05-13T15:42:13.950Z"
   },
   {
    "duration": 297,
    "start_time": "2023-05-13T15:42:14.229Z"
   },
   {
    "duration": 422,
    "start_time": "2023-05-13T15:42:14.528Z"
   },
   {
    "duration": 54,
    "start_time": "2023-05-13T15:42:14.951Z"
   },
   {
    "duration": 500,
    "start_time": "2023-05-13T15:42:15.017Z"
   },
   {
    "duration": 358,
    "start_time": "2023-05-13T15:42:15.519Z"
   },
   {
    "duration": 14,
    "start_time": "2023-05-13T15:42:15.881Z"
   },
   {
    "duration": 20,
    "start_time": "2023-05-13T15:42:15.897Z"
   },
   {
    "duration": 304718,
    "start_time": "2023-05-13T15:42:15.919Z"
   },
   {
    "duration": 7,
    "start_time": "2023-05-13T15:47:20.639Z"
   },
   {
    "duration": 90868,
    "start_time": "2023-05-13T15:47:20.648Z"
   },
   {
    "duration": 6,
    "start_time": "2023-05-13T15:48:51.518Z"
   },
   {
    "duration": 1563,
    "start_time": "2023-05-13T17:07:24.368Z"
   },
   {
    "duration": 20,
    "start_time": "2023-05-13T17:07:25.952Z"
   },
   {
    "duration": 1098,
    "start_time": "2023-05-13T17:07:25.974Z"
   },
   {
    "duration": 122,
    "start_time": "2023-05-13T17:07:27.075Z"
   },
   {
    "duration": 53,
    "start_time": "2023-05-13T17:07:27.199Z"
   },
   {
    "duration": 8,
    "start_time": "2023-05-13T17:07:27.260Z"
   },
   {
    "duration": 299,
    "start_time": "2023-05-13T17:07:27.269Z"
   },
   {
    "duration": 13,
    "start_time": "2023-05-13T17:07:27.569Z"
   },
   {
    "duration": 221,
    "start_time": "2023-05-13T17:07:27.584Z"
   },
   {
    "duration": 38,
    "start_time": "2023-05-13T17:07:27.807Z"
   },
   {
    "duration": 24,
    "start_time": "2023-05-13T17:07:27.849Z"
   },
   {
    "duration": 253,
    "start_time": "2023-05-13T17:07:27.874Z"
   },
   {
    "duration": 18,
    "start_time": "2023-05-13T17:07:28.129Z"
   },
   {
    "duration": 18,
    "start_time": "2023-05-13T17:07:28.149Z"
   },
   {
    "duration": 1460,
    "start_time": "2023-05-13T17:07:28.169Z"
   },
   {
    "duration": 1265,
    "start_time": "2023-05-13T17:07:29.630Z"
   },
   {
    "duration": 1206,
    "start_time": "2023-05-13T17:07:30.897Z"
   },
   {
    "duration": 4,
    "start_time": "2023-05-13T17:07:32.106Z"
   },
   {
    "duration": 722,
    "start_time": "2023-05-13T17:07:32.136Z"
   },
   {
    "duration": 826,
    "start_time": "2023-05-13T17:07:32.860Z"
   },
   {
    "duration": 326,
    "start_time": "2023-05-13T17:07:33.688Z"
   },
   {
    "duration": 318,
    "start_time": "2023-05-13T17:07:34.017Z"
   },
   {
    "duration": 359,
    "start_time": "2023-05-13T17:07:34.338Z"
   },
   {
    "duration": 553,
    "start_time": "2023-05-13T17:07:34.699Z"
   },
   {
    "duration": 55,
    "start_time": "2023-05-13T17:07:35.253Z"
   },
   {
    "duration": 585,
    "start_time": "2023-05-13T17:07:35.311Z"
   },
   {
    "duration": 544,
    "start_time": "2023-05-13T17:07:35.898Z"
   },
   {
    "duration": 19,
    "start_time": "2023-05-13T17:07:36.453Z"
   },
   {
    "duration": 9,
    "start_time": "2023-05-13T17:07:36.475Z"
   },
   {
    "duration": 327353,
    "start_time": "2023-05-13T17:07:36.485Z"
   },
   {
    "duration": 6,
    "start_time": "2023-05-13T17:13:03.840Z"
   },
   {
    "duration": 95552,
    "start_time": "2023-05-13T17:13:03.849Z"
   },
   {
    "duration": 6,
    "start_time": "2023-05-13T17:14:39.403Z"
   },
   {
    "duration": 109017,
    "start_time": "2023-05-13T17:14:39.410Z"
   },
   {
    "duration": 187,
    "start_time": "2023-05-13T17:16:28.437Z"
   },
   {
    "duration": 113,
    "start_time": "2023-05-13T17:16:28.632Z"
   },
   {
    "duration": 137,
    "start_time": "2023-05-13T17:16:28.746Z"
   },
   {
    "duration": 0,
    "start_time": "2023-05-13T17:16:28.885Z"
   },
   {
    "duration": 8,
    "start_time": "2023-05-14T04:28:14.686Z"
   },
   {
    "duration": 462,
    "start_time": "2023-05-14T04:28:45.789Z"
   }
  ],
  "kernelspec": {
   "display_name": "Python 3 (ipykernel)",
   "language": "python",
   "name": "python3"
  },
  "language_info": {
   "codemirror_mode": {
    "name": "ipython",
    "version": 3
   },
   "file_extension": ".py",
   "mimetype": "text/x-python",
   "name": "python",
   "nbconvert_exporter": "python",
   "pygments_lexer": "ipython3",
   "version": "3.9.5"
  },
  "toc": {
   "base_numbering": 1,
   "nav_menu": {},
   "number_sections": true,
   "sideBar": true,
   "skip_h1_title": true,
   "title_cell": "Содержание",
   "title_sidebar": "Contents",
   "toc_cell": true,
   "toc_position": {
    "height": "calc(100% - 180px)",
    "left": "10px",
    "top": "150px",
    "width": "165px"
   },
   "toc_section_display": true,
   "toc_window_display": true
  }
 },
 "nbformat": 4,
 "nbformat_minor": 2
}
