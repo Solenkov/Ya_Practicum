{
 "cells": [
  {
   "cell_type": "markdown",
   "metadata": {
    "toc": true
   },
   "source": [
    "<h1>Содержание<span class=\"tocSkip\"></span></h1>\n",
    "<div class=\"toc\"><ul class=\"toc-item\"><li><span><a href=\"#Подготовка-данных\" data-toc-modified-id=\"Подготовка-данных-1\"><span class=\"toc-item-num\">1&nbsp;&nbsp;</span>Подготовка данных</a></span></li><li><span><a href=\"#Исследование-задачи\" data-toc-modified-id=\"Исследование-задачи-2\"><span class=\"toc-item-num\">2&nbsp;&nbsp;</span>Исследование задачи</a></span></li><li><span><a href=\"#Борьба-с-дисбалансом\" data-toc-modified-id=\"Борьба-с-дисбалансом-3\"><span class=\"toc-item-num\">3&nbsp;&nbsp;</span>Борьба с дисбалансом</a></span><ul class=\"toc-item\"><li><ul class=\"toc-item\"><li><span><a href=\"#1.-Upsampling\" data-toc-modified-id=\"1.-Upsampling-3.0.1\"><span class=\"toc-item-num\">3.0.1&nbsp;&nbsp;</span>1. Upsampling</a></span></li><li><span><a href=\"#2.-Downsampling\" data-toc-modified-id=\"2.-Downsampling-3.0.2\"><span class=\"toc-item-num\">3.0.2&nbsp;&nbsp;</span>2. Downsampling</a></span></li><li><span><a href=\"#3.-SMOTE-(рассмотренный-вне-теории-самостоятельно)\" data-toc-modified-id=\"3.-SMOTE-(рассмотренный-вне-теории-самостоятельно)-3.0.3\"><span class=\"toc-item-num\">3.0.3&nbsp;&nbsp;</span>3. SMOTE (рассмотренный вне теории самостоятельно)</a></span></li></ul></li></ul></li><li><span><a href=\"#Тестирование-модели\" data-toc-modified-id=\"Тестирование-модели-4\"><span class=\"toc-item-num\">4&nbsp;&nbsp;</span>Тестирование модели</a></span><ul class=\"toc-item\"><li><ul class=\"toc-item\"><li><span><a href=\"#Выводы\" data-toc-modified-id=\"Выводы-4.0.1\"><span class=\"toc-item-num\">4.0.1&nbsp;&nbsp;</span>Выводы</a></span></li></ul></li></ul></li><li><span><a href=\"#Чек-лист-готовности-проекта\" data-toc-modified-id=\"Чек-лист-готовности-проекта-5\"><span class=\"toc-item-num\">5&nbsp;&nbsp;</span>Чек-лист готовности проекта</a></span></li></ul></div>"
   ]
  },
  {
   "cell_type": "markdown",
   "metadata": {},
   "source": [
    "# Отток клиентов"
   ]
  },
  {
   "cell_type": "markdown",
   "metadata": {},
   "source": [
    "Из «Бета-Банка» стали уходить клиенты. Каждый месяц. Немного, но заметно. Банковские маркетологи посчитали: сохранять текущих клиентов дешевле, чем привлекать новых.\n",
    "\n",
    "Нужно спрогнозировать, уйдёт клиент из банка в ближайшее время или нет. Вам предоставлены исторические данные о поведении клиентов и расторжении договоров с банком. \n",
    "\n",
    "Постройте модель с предельно большим значением *F1*-меры. Чтобы сдать проект успешно, нужно довести метрику до 0.59. Проверьте *F1*-меру на тестовой выборке самостоятельно.\n",
    "\n",
    "Дополнительно измеряйте *AUC-ROC*, сравнивайте её значение с *F1*-мерой.\n",
    "\n",
    "Источник данных: [https://www.kaggle.com/barelydedicated/bank-customer-churn-modeling](https://www.kaggle.com/barelydedicated/bank-customer-churn-modeling)"
   ]
  },
  {
   "cell_type": "markdown",
   "metadata": {},
   "source": [
    "## Подготовка данных"
   ]
  },
  {
   "cell_type": "code",
   "execution_count": 1,
   "metadata": {},
   "outputs": [],
   "source": [
    "# Врагу не сдается наш гордый варяг ))\n",
    "#!pip install imbalanced-learn"
   ]
  },
  {
   "cell_type": "code",
   "execution_count": 2,
   "metadata": {},
   "outputs": [],
   "source": [
    "import pandas as pd\n",
    "import numpy as np\n",
    "\n",
    "import matplotlib.pyplot as plt\n",
    "\n",
    "from sklearn.ensemble import GradientBoostingClassifier, RandomForestClassifier\n",
    "from sklearn.linear_model import LogisticRegression\n",
    "from sklearn.tree import DecisionTreeClassifier\n",
    "from sklearn.dummy import DummyClassifier\n",
    "\n",
    "from sklearn.model_selection import GridSearchCV\n",
    "\n",
    "from sklearn.preprocessing import MinMaxScaler, StandardScaler\n",
    "from sklearn.metrics import f1_score\n",
    "from sklearn.metrics import roc_auc_score\n",
    "from sklearn.metrics import roc_curve\n",
    "\n",
    "from sklearn.model_selection import train_test_split\n",
    "from sklearn.utils import shuffle\n",
    "\n",
    "from imblearn.over_sampling import SMOTE\n",
    "\n",
    "import warnings\n",
    "warnings.filterwarnings('ignore')"
   ]
  },
  {
   "cell_type": "code",
   "execution_count": 3,
   "metadata": {},
   "outputs": [],
   "source": [
    "# Здесь будут функции\n",
    "\n",
    "def split(data, test_size, random_state):\n",
    "    # разбиваем с проверкой и стандартизацией\n",
    "    \n",
    "    # разобьем выборку на трэйн-тест\n",
    "    X_train, X_test, y_train, y_test = train_test_split(data.drop('exited', axis=1),\n",
    "                                                        data['exited'],\n",
    "                                                        test_size=test_size,\n",
    "                                                        random_state=random_state)\n",
    "    \n",
    "    # scaler\n",
    "    numeric = ['credit_score', 'age', 'tenure', 'balance', 'num_of_products', 'estimated_salary', ]\n",
    "    scaler = MinMaxScaler()\n",
    "    X_train[numeric] = scaler.fit_transform(X_train[numeric])\n",
    "    X_test[numeric] = scaler.transform(X_test[numeric])\n",
    "    \n",
    "    # проверка\n",
    "    print(\"Получили данные в следующей пропорции:\")\n",
    "    print(round(100*X_train.shape[0]/data.shape[0],0), \":\",\n",
    "          round(100*X_test.shape[0]/data.shape[0],0))\n",
    "\n",
    "    return X_train, X_test, y_train, y_test\n",
    "\n",
    "def upsample(features, target):\n",
    "    # добавляем признаков с единицами в трэйн выборку\n",
    "    features_zeros = features[target == 0]\n",
    "    features_ones = features[target == 1]\n",
    "    target_zeros = target[target == 0]\n",
    "    target_ones = target[target == 1]\n",
    "\n",
    "    features_ones_upsample = features_ones.sample(features_zeros.shape[0], replace=True)\n",
    "    target_ones_upsample = target_ones.sample(target_zeros.shape[0], replace=True)\n",
    "\n",
    "    features_upsampled = pd.concat([features_zeros] + [features_ones_upsample])\n",
    "    target_upsampled = pd.concat([target_zeros] + [target_ones_upsample])\n",
    "    \n",
    "    features_upsampled, target_upsampled = shuffle(\n",
    "        features_upsampled, target_upsampled, random_state=12345)\n",
    "    \n",
    "    return features_upsampled, target_upsampled\n",
    "\n",
    "def downsample(features, target):\n",
    "    features_zeros = features[target == 0]\n",
    "    features_ones = features[target == 1]\n",
    "    target_zeros = target[target == 0]\n",
    "    target_ones = target[target == 1]\n",
    "\n",
    "    features_downsampled = pd.concat(\n",
    "        [features_zeros.sample(features_ones.shape[0], random_state=12345)] + [features_ones])\n",
    "    target_downsampled = pd.concat(\n",
    "        [target_zeros.sample(target_ones.shape[0], random_state=12345)] + [target_ones])\n",
    "    \n",
    "    features_downsampled, target_downsampled = shuffle(\n",
    "        features_downsampled, target_downsampled, random_state=12345)\n",
    "    \n",
    "    return features_downsampled, target_downsampled"
   ]
  },
  {
   "cell_type": "code",
   "execution_count": 4,
   "metadata": {},
   "outputs": [
    {
     "data": {
      "text/html": [
       "<div>\n",
       "<style scoped>\n",
       "    .dataframe tbody tr th:only-of-type {\n",
       "        vertical-align: middle;\n",
       "    }\n",
       "\n",
       "    .dataframe tbody tr th {\n",
       "        vertical-align: top;\n",
       "    }\n",
       "\n",
       "    .dataframe thead th {\n",
       "        text-align: right;\n",
       "    }\n",
       "</style>\n",
       "<table border=\"1\" class=\"dataframe\">\n",
       "  <thead>\n",
       "    <tr style=\"text-align: right;\">\n",
       "      <th></th>\n",
       "      <th>RowNumber</th>\n",
       "      <th>CustomerId</th>\n",
       "      <th>Surname</th>\n",
       "      <th>CreditScore</th>\n",
       "      <th>Geography</th>\n",
       "      <th>Gender</th>\n",
       "      <th>Age</th>\n",
       "      <th>Tenure</th>\n",
       "      <th>Balance</th>\n",
       "      <th>NumOfProducts</th>\n",
       "      <th>HasCrCard</th>\n",
       "      <th>IsActiveMember</th>\n",
       "      <th>EstimatedSalary</th>\n",
       "      <th>Exited</th>\n",
       "    </tr>\n",
       "  </thead>\n",
       "  <tbody>\n",
       "    <tr>\n",
       "      <th>0</th>\n",
       "      <td>1</td>\n",
       "      <td>15634602</td>\n",
       "      <td>Hargrave</td>\n",
       "      <td>619</td>\n",
       "      <td>France</td>\n",
       "      <td>Female</td>\n",
       "      <td>42</td>\n",
       "      <td>2.0</td>\n",
       "      <td>0.00</td>\n",
       "      <td>1</td>\n",
       "      <td>1</td>\n",
       "      <td>1</td>\n",
       "      <td>101348.88</td>\n",
       "      <td>1</td>\n",
       "    </tr>\n",
       "    <tr>\n",
       "      <th>1</th>\n",
       "      <td>2</td>\n",
       "      <td>15647311</td>\n",
       "      <td>Hill</td>\n",
       "      <td>608</td>\n",
       "      <td>Spain</td>\n",
       "      <td>Female</td>\n",
       "      <td>41</td>\n",
       "      <td>1.0</td>\n",
       "      <td>83807.86</td>\n",
       "      <td>1</td>\n",
       "      <td>0</td>\n",
       "      <td>1</td>\n",
       "      <td>112542.58</td>\n",
       "      <td>0</td>\n",
       "    </tr>\n",
       "    <tr>\n",
       "      <th>2</th>\n",
       "      <td>3</td>\n",
       "      <td>15619304</td>\n",
       "      <td>Onio</td>\n",
       "      <td>502</td>\n",
       "      <td>France</td>\n",
       "      <td>Female</td>\n",
       "      <td>42</td>\n",
       "      <td>8.0</td>\n",
       "      <td>159660.80</td>\n",
       "      <td>3</td>\n",
       "      <td>1</td>\n",
       "      <td>0</td>\n",
       "      <td>113931.57</td>\n",
       "      <td>1</td>\n",
       "    </tr>\n",
       "  </tbody>\n",
       "</table>\n",
       "</div>"
      ],
      "text/plain": [
       "   RowNumber  CustomerId   Surname  CreditScore Geography  Gender  Age  \\\n",
       "0          1    15634602  Hargrave          619    France  Female   42   \n",
       "1          2    15647311      Hill          608     Spain  Female   41   \n",
       "2          3    15619304      Onio          502    France  Female   42   \n",
       "\n",
       "   Tenure    Balance  NumOfProducts  HasCrCard  IsActiveMember  \\\n",
       "0     2.0       0.00              1          1               1   \n",
       "1     1.0   83807.86              1          0               1   \n",
       "2     8.0  159660.80              3          1               0   \n",
       "\n",
       "   EstimatedSalary  Exited  \n",
       "0        101348.88       1  \n",
       "1        112542.58       0  \n",
       "2        113931.57       1  "
      ]
     },
     "execution_count": 4,
     "metadata": {},
     "output_type": "execute_result"
    }
   ],
   "source": [
    "try:\n",
    "    data = pd.read_csv('/datasets/Churn.csv')\n",
    "except:\n",
    "    data = pd.read_csv('Churn.csv')\n",
    "\n",
    "data.head(3)"
   ]
  },
  {
   "cell_type": "markdown",
   "metadata": {},
   "source": [
    "**Признаки**  \n",
    "- RowNumber — индекс строки в данных  \n",
    "- CustomerId — уникальный идентификатор клиента  \n",
    "- Surname — фамилия  \n",
    "- CreditScore — кредитный рейтинг  \n",
    "- Geography — страна проживания  \n",
    "- Gender — пол  \n",
    "- Age — возраст  \n",
    "- Tenure — сколько лет человек является клиентом банка  \n",
    "- Balance — баланс на счёте  \n",
    "- NumOfProducts — количество продуктов банка, используемых клиентом  \n",
    "- HasCrCard — наличие кредитной карты  \n",
    "- IsActiveMember — активность клиента  \n",
    "- EstimatedSalary — предполагаемая зарплата  \n",
    "\n",
    "**Целевой признак**  \n",
    "- Exited — факт ухода клиента"
   ]
  },
  {
   "cell_type": "code",
   "execution_count": 5,
   "metadata": {},
   "outputs": [
    {
     "name": "stdout",
     "output_type": "stream",
     "text": [
      "0\n",
      "0\n"
     ]
    }
   ],
   "source": [
    "# Видим, что первых три столбца не несут в себе нужной для модели информации. Но перед удалением посмотрим, нет ли дубликатов\n",
    "print(data['RowNumber'].duplicated().sum())\n",
    "print(data['CustomerId'].duplicated().sum())"
   ]
  },
  {
   "cell_type": "code",
   "execution_count": 6,
   "metadata": {},
   "outputs": [],
   "source": [
    "#уберем ненужные признаки\n",
    "data.drop(['RowNumber',\t'CustomerId', 'Surname'], axis=1, inplace=True)"
   ]
  },
  {
   "cell_type": "code",
   "execution_count": 7,
   "metadata": {},
   "outputs": [],
   "source": [
    "# переведем кэмелкейс названия столбцов в снэйккейс\n",
    "data.columns = ['credit_score', 'geography',\n",
    "       'gender', 'age', 'tenure', 'balance', 'num_of_products', 'has_cr_card',\n",
    "       'is_active_member', 'estimated_salary', 'exited']"
   ]
  },
  {
   "cell_type": "code",
   "execution_count": 8,
   "metadata": {},
   "outputs": [
    {
     "name": "stdout",
     "output_type": "stream",
     "text": [
      "<class 'pandas.core.frame.DataFrame'>\n",
      "RangeIndex: 10000 entries, 0 to 9999\n",
      "Data columns (total 11 columns):\n",
      " #   Column            Non-Null Count  Dtype  \n",
      "---  ------            --------------  -----  \n",
      " 0   credit_score      10000 non-null  int64  \n",
      " 1   geography         10000 non-null  object \n",
      " 2   gender            10000 non-null  object \n",
      " 3   age               10000 non-null  int64  \n",
      " 4   tenure            9091 non-null   float64\n",
      " 5   balance           10000 non-null  float64\n",
      " 6   num_of_products   10000 non-null  int64  \n",
      " 7   has_cr_card       10000 non-null  int64  \n",
      " 8   is_active_member  10000 non-null  int64  \n",
      " 9   estimated_salary  10000 non-null  float64\n",
      " 10  exited            10000 non-null  int64  \n",
      "dtypes: float64(3), int64(6), object(2)\n",
      "memory usage: 859.5+ KB\n"
     ]
    }
   ],
   "source": [
    "# Посмотрим общую информацию\n",
    "data.info()"
   ]
  },
  {
   "cell_type": "markdown",
   "metadata": {},
   "source": [
    "видим, что в признаке tenure есть пропуски (меньше 10%), а так же он излишне float.  \n",
    "Какого то разумного объяснения как получились эти пропуски - нет, скорее всего какой то технический сбой.  \n",
    "Скорее всего они \"пропали\" при скачивании на платформу яндекса c Kaggle (вот только случайно или нет - остаётся загадкой)  \n",
    "Количество признаков небольшое, посмотрим на баланс целевой переменной (в целом по датасету и по пропущенным значениям)"
   ]
  },
  {
   "cell_type": "code",
   "execution_count": 9,
   "metadata": {},
   "outputs": [
    {
     "name": "stdout",
     "output_type": "stream",
     "text": [
      "значения целевой переменной в общем датасете\n",
      "0    7963\n",
      "1    2037\n",
      "Name: exited, dtype: int64\n",
      "--------------------------------------------------\n",
      "значения целевой переменной в пропусках tenure\n",
      "0    726\n",
      "1    183\n",
      "Name: exited, dtype: int64\n"
     ]
    }
   ],
   "source": [
    "print('значения целевой переменной в общем датасете', '\\n', data['exited'].value_counts(), sep='')\n",
    "print('-'*50)\n",
    "print('значения целевой переменной в пропусках tenure', '\\n', data[data['tenure'].isna()]['exited'].value_counts(), sep='')"
   ]
  },
  {
   "cell_type": "markdown",
   "metadata": {},
   "source": [
    "Видим что наш датасет несбалансирован по целевой переменной. Но в пропусках такой \"небаланс\" сохраняется. Поэтому удалим пропуски."
   ]
  },
  {
   "cell_type": "code",
   "execution_count": 10,
   "metadata": {},
   "outputs": [],
   "source": [
    "data = data[~data['tenure'].isna()]"
   ]
  },
  {
   "cell_type": "code",
   "execution_count": 11,
   "metadata": {},
   "outputs": [],
   "source": [
    "# И приведем этот признак к типу int\n",
    "data['tenure'] = data['tenure'].astype(int)"
   ]
  },
  {
   "cell_type": "markdown",
   "metadata": {},
   "source": [
    "Два категориальных признака (тип object) переведем: gender - к булеву типу, второй - применим one-hot-encoding  \n",
    "Только сначала посмотрим, что дисбаланса признаков - нет "
   ]
  },
  {
   "cell_type": "code",
   "execution_count": 12,
   "metadata": {},
   "outputs": [
    {
     "data": {
      "text/plain": [
       "France     4550\n",
       "Germany    2293\n",
       "Spain      2248\n",
       "Name: geography, dtype: int64"
      ]
     },
     "execution_count": 12,
     "metadata": {},
     "output_type": "execute_result"
    }
   ],
   "source": [
    "data['geography'].value_counts()"
   ]
  },
  {
   "cell_type": "code",
   "execution_count": 13,
   "metadata": {},
   "outputs": [
    {
     "data": {
      "text/plain": [
       "Male      4974\n",
       "Female    4117\n",
       "Name: gender, dtype: int64"
      ]
     },
     "execution_count": 13,
     "metadata": {},
     "output_type": "execute_result"
    }
   ],
   "source": [
    "data['gender'].value_counts()"
   ]
  },
  {
   "cell_type": "markdown",
   "metadata": {},
   "source": [
    "Есть небольшой перекос в сторону Франции."
   ]
  },
  {
   "cell_type": "code",
   "execution_count": 14,
   "metadata": {},
   "outputs": [],
   "source": [
    "data['gender'] = data['gender'].map({'Female': 0, 'Male':1})\n",
    "data = pd.get_dummies(data=data, columns=['geography'], drop_first=True)"
   ]
  },
  {
   "cell_type": "code",
   "execution_count": 15,
   "metadata": {},
   "outputs": [
    {
     "data": {
      "text/plain": [
       "0"
      ]
     },
     "execution_count": 15,
     "metadata": {},
     "output_type": "execute_result"
    }
   ],
   "source": [
    "# Так же проверим на дубликаты\n",
    "data.duplicated().sum()"
   ]
  },
  {
   "cell_type": "code",
   "execution_count": 16,
   "metadata": {},
   "outputs": [
    {
     "name": "stdout",
     "output_type": "stream",
     "text": [
      "<class 'pandas.core.frame.DataFrame'>\n",
      "Int64Index: 9091 entries, 0 to 9998\n",
      "Data columns (total 12 columns):\n",
      " #   Column             Non-Null Count  Dtype  \n",
      "---  ------             --------------  -----  \n",
      " 0   credit_score       9091 non-null   int64  \n",
      " 1   gender             9091 non-null   int64  \n",
      " 2   age                9091 non-null   int64  \n",
      " 3   tenure             9091 non-null   int64  \n",
      " 4   balance            9091 non-null   float64\n",
      " 5   num_of_products    9091 non-null   int64  \n",
      " 6   has_cr_card        9091 non-null   int64  \n",
      " 7   is_active_member   9091 non-null   int64  \n",
      " 8   estimated_salary   9091 non-null   float64\n",
      " 9   exited             9091 non-null   int64  \n",
      " 10  geography_Germany  9091 non-null   uint8  \n",
      " 11  geography_Spain    9091 non-null   uint8  \n",
      "dtypes: float64(2), int64(8), uint8(2)\n",
      "memory usage: 799.0 KB\n"
     ]
    }
   ],
   "source": [
    "# проверка\n",
    "data.info()"
   ]
  },
  {
   "cell_type": "markdown",
   "metadata": {},
   "source": [
    "Собственно - подготовили данные для дальнейшего исследования.  \n",
    "Удалили пропуски, ненужные признаки, проверили на сбалансированность и дубликаты.  \n",
    "В принципе задача глубокого EDA не стоит, и датасет готов к построению моделей ML "
   ]
  },
  {
   "cell_type": "code",
   "execution_count": 17,
   "metadata": {},
   "outputs": [
    {
     "data": {
      "text/html": [
       "<div>\n",
       "<style scoped>\n",
       "    .dataframe tbody tr th:only-of-type {\n",
       "        vertical-align: middle;\n",
       "    }\n",
       "\n",
       "    .dataframe tbody tr th {\n",
       "        vertical-align: top;\n",
       "    }\n",
       "\n",
       "    .dataframe thead th {\n",
       "        text-align: right;\n",
       "    }\n",
       "</style>\n",
       "<table border=\"1\" class=\"dataframe\">\n",
       "  <thead>\n",
       "    <tr style=\"text-align: right;\">\n",
       "      <th></th>\n",
       "      <th>credit_score</th>\n",
       "      <th>gender</th>\n",
       "      <th>age</th>\n",
       "      <th>tenure</th>\n",
       "      <th>balance</th>\n",
       "      <th>num_of_products</th>\n",
       "      <th>has_cr_card</th>\n",
       "      <th>is_active_member</th>\n",
       "      <th>estimated_salary</th>\n",
       "      <th>exited</th>\n",
       "      <th>geography_Germany</th>\n",
       "      <th>geography_Spain</th>\n",
       "    </tr>\n",
       "  </thead>\n",
       "  <tbody>\n",
       "    <tr>\n",
       "      <th>6017</th>\n",
       "      <td>487</td>\n",
       "      <td>0</td>\n",
       "      <td>34</td>\n",
       "      <td>2</td>\n",
       "      <td>96019.5</td>\n",
       "      <td>1</td>\n",
       "      <td>0</td>\n",
       "      <td>0</td>\n",
       "      <td>9085.00</td>\n",
       "      <td>0</td>\n",
       "      <td>0</td>\n",
       "      <td>0</td>\n",
       "    </tr>\n",
       "    <tr>\n",
       "      <th>9190</th>\n",
       "      <td>646</td>\n",
       "      <td>0</td>\n",
       "      <td>46</td>\n",
       "      <td>8</td>\n",
       "      <td>0.0</td>\n",
       "      <td>2</td>\n",
       "      <td>1</td>\n",
       "      <td>0</td>\n",
       "      <td>133059.15</td>\n",
       "      <td>0</td>\n",
       "      <td>0</td>\n",
       "      <td>0</td>\n",
       "    </tr>\n",
       "    <tr>\n",
       "      <th>3368</th>\n",
       "      <td>630</td>\n",
       "      <td>1</td>\n",
       "      <td>67</td>\n",
       "      <td>5</td>\n",
       "      <td>0.0</td>\n",
       "      <td>2</td>\n",
       "      <td>1</td>\n",
       "      <td>1</td>\n",
       "      <td>27330.27</td>\n",
       "      <td>0</td>\n",
       "      <td>0</td>\n",
       "      <td>0</td>\n",
       "    </tr>\n",
       "  </tbody>\n",
       "</table>\n",
       "</div>"
      ],
      "text/plain": [
       "      credit_score  gender  age  tenure  balance  num_of_products  \\\n",
       "6017           487       0   34       2  96019.5                1   \n",
       "9190           646       0   46       8      0.0                2   \n",
       "3368           630       1   67       5      0.0                2   \n",
       "\n",
       "      has_cr_card  is_active_member  estimated_salary  exited  \\\n",
       "6017            0                 0           9085.00       0   \n",
       "9190            1                 0         133059.15       0   \n",
       "3368            1                 1          27330.27       0   \n",
       "\n",
       "      geography_Germany  geography_Spain  \n",
       "6017                  0                0  \n",
       "9190                  0                0  \n",
       "3368                  0                0  "
      ]
     },
     "execution_count": 17,
     "metadata": {},
     "output_type": "execute_result"
    }
   ],
   "source": [
    "data.sample(3)"
   ]
  },
  {
   "cell_type": "markdown",
   "metadata": {},
   "source": [
    "## Исследование задачи"
   ]
  },
  {
   "cell_type": "code",
   "execution_count": 18,
   "metadata": {},
   "outputs": [
    {
     "name": "stdout",
     "output_type": "stream",
     "text": [
      "Получили данные в следующей пропорции:\n",
      "80.0 : 20.0\n"
     ]
    }
   ],
   "source": [
    "# разобьем данные на трэйн-тест\n",
    "X_train, X_test, y_train, y_test = split(data, test_size=0.2, random_state=12345)"
   ]
  },
  {
   "cell_type": "markdown",
   "metadata": {},
   "source": [
    "для подбора гиперпараметров воспользуемся GridSearchCV  (непонятно почему нам его так и не дали в теории)  \n",
    "Выведем на экран лучшие гиперпараметры, и лучшую точность при подборе параметров."
   ]
  },
  {
   "cell_type": "code",
   "execution_count": 19,
   "metadata": {},
   "outputs": [
    {
     "name": "stdout",
     "output_type": "stream",
     "text": [
      "{'learning_rate': 0.1, 'max_depth': 6, 'min_samples_leaf': 5, 'min_samples_split': 2, 'n_estimators': 70, 'subsample': 0.8}\n",
      "0.5983211242133251\n",
      "CPU times: user 6min 30s, sys: 1.1 s, total: 6min 32s\n",
      "Wall time: 6min 32s\n"
     ]
    }
   ],
   "source": [
    "%%time\n",
    "\n",
    "# 1. Классификатор по градиентному бустингу\n",
    "gbc = GradientBoostingClassifier(random_state=666)\n",
    "\n",
    "param_grid = {'learning_rate':[0.01, 0.1],\n",
    "              'n_estimators':[x for x in range(70,91,20)],\n",
    "              'max_depth':[x for x in range(4,7)],\n",
    "              'min_samples_split':[x for x in range(2,4)],\n",
    "              'min_samples_leaf':[4,5],\n",
    "              'subsample':[0.6, 0.8],\n",
    "              }\n",
    "\n",
    "grid_search_gbc = GridSearchCV(gbc, param_grid, scoring = 'f1', n_jobs=-1, cv=5)\n",
    "grid_search_gbc.fit(X_train, y_train)\n",
    "\n",
    "print(grid_search_gbc.best_params_)\n",
    "print(grid_search_gbc.best_score_)"
   ]
  },
  {
   "cell_type": "code",
   "execution_count": 20,
   "metadata": {},
   "outputs": [
    {
     "name": "stdout",
     "output_type": "stream",
     "text": [
      "{'criterion': 'gini', 'max_depth': 12, 'min_samples_leaf': 3, 'min_samples_split': 2, 'n_estimators': 200}\n",
      "0.5723053009900163\n",
      "CPU times: user 2min 39s, sys: 804 ms, total: 2min 40s\n",
      "Wall time: 2min 40s\n"
     ]
    }
   ],
   "source": [
    "%%time\n",
    "\n",
    "# 2. Случайный лес\n",
    "rfr = RandomForestClassifier(random_state=666)\n",
    "\n",
    "param_grid = {'n_estimators':[100, 200],\n",
    "              'criterion':['gini', 'entropy'],\n",
    "              'max_depth':[x for x in range(9,13,3)],\n",
    "              'min_samples_split':[x for x in range(2,4)],\n",
    "              'min_samples_leaf':[x for x in range(3,7,3)],\n",
    "              }\n",
    "\n",
    "grid_search_rfr = GridSearchCV(rfr, param_grid, scoring = 'f1', n_jobs=-1, cv=5)\n",
    "grid_search_rfr.fit(X_train, y_train)\n",
    "\n",
    "print(grid_search_rfr.best_params_)\n",
    "print(grid_search_rfr.best_score_)"
   ]
  },
  {
   "cell_type": "code",
   "execution_count": 21,
   "metadata": {},
   "outputs": [
    {
     "name": "stdout",
     "output_type": "stream",
     "text": [
      "{'C': 0.25, 'fit_intercept': True, 'max_iter': 100, 'multi_class': 'multinomial', 'penalty': 'l2', 'solver': 'lbfgs'}\n",
      "0.49465479405794444\n",
      "CPU times: user 18.3 s, sys: 23.2 s, total: 41.5 s\n",
      "Wall time: 41.5 s\n"
     ]
    }
   ],
   "source": [
    "%%time\n",
    "\n",
    "# 3. Логистическая регрессия\n",
    "lr = LogisticRegression(class_weight='balanced', random_state=666)\n",
    "\n",
    "param_grid = {'penalty':['l1', 'l2'],\n",
    "              'C': [0.25, 0.5],\n",
    "              'fit_intercept':[True, False],\n",
    "              'solver':['lbfgs', 'newton-cg'],\n",
    "              'multi_class':['auto', 'multinomial'],\n",
    "              'max_iter':[100, 500]\n",
    "              }\n",
    "\n",
    "grid_search_lr = GridSearchCV(lr, param_grid, scoring = 'f1', n_jobs=-1, cv=5)\n",
    "grid_search_lr.fit(X_train, y_train)\n",
    "\n",
    "print(grid_search_lr.best_params_)\n",
    "print(grid_search_lr.best_score_)"
   ]
  },
  {
   "cell_type": "code",
   "execution_count": 22,
   "metadata": {},
   "outputs": [
    {
     "name": "stdout",
     "output_type": "stream",
     "text": [
      "{'criterion': 'entropy', 'max_depth': 9, 'min_samples_leaf': 6, 'min_samples_split': 2, 'splitter': 'best'}\n",
      "0.5687502957809313\n",
      "CPU times: user 27.5 s, sys: 102 ms, total: 27.6 s\n",
      "Wall time: 27.7 s\n"
     ]
    }
   ],
   "source": [
    "%%time\n",
    "\n",
    "# 4. Дерево решений\n",
    "dtc = DecisionTreeClassifier(random_state=666)\n",
    "\n",
    "param_grid = {'criterion':['gini', 'entropy'],\n",
    "              'splitter':['best', 'random'],\n",
    "              'max_depth':[x for x in range(3,10)],\n",
    "              'min_samples_split':[x for x in range(2,6)],\n",
    "              'min_samples_leaf':[x for x in range(3,10,3)],\n",
    "              }\n",
    "\n",
    "grid_search_dtc = GridSearchCV(dtc, param_grid, scoring = 'f1', n_jobs=-1, cv=5)\n",
    "grid_search_dtc.fit(X_train, y_train)\n",
    "\n",
    "print(grid_search_dtc.best_params_)\n",
    "print(grid_search_dtc.best_score_)"
   ]
  },
  {
   "cell_type": "markdown",
   "metadata": {},
   "source": [
    "Итак, лучше всего себя в этой задаче показал градиентный бустинг. Подставим в него лучшие подобранные параметры и проверим на тестовой выборке.\n"
   ]
  },
  {
   "cell_type": "code",
   "execution_count": 23,
   "metadata": {},
   "outputs": [
    {
     "name": "stdout",
     "output_type": "stream",
     "text": [
      "CPU times: user 1.14 s, sys: 11.3 ms, total: 1.15 s\n",
      "Wall time: 1.15 s\n"
     ]
    },
    {
     "data": {
      "text/plain": [
       "0.5987055016181231"
      ]
     },
     "execution_count": 23,
     "metadata": {},
     "output_type": "execute_result"
    }
   ],
   "source": [
    "%%time\n",
    "\n",
    "gbc = GradientBoostingClassifier(**grid_search_gbc.best_params_, random_state=666)\n",
    "\n",
    "gbc.fit(X_train, y_train)\n",
    "y_pred = gbc.predict(X_test)\n",
    "f1_score(y_test, y_pred)"
   ]
  },
  {
   "cell_type": "markdown",
   "metadata": {},
   "source": [
    "Собственно, условия задачи выполнены ))) f1 > 0.59. Можно сдавать проект )))"
   ]
  },
  {
   "cell_type": "markdown",
   "metadata": {},
   "source": [
    "## Борьба с дисбалансом"
   ]
  },
  {
   "cell_type": "markdown",
   "metadata": {},
   "source": [
    "\n",
    "#### 1. Upsampling\n",
    "\n",
    "_Примечание для себя. Вобщем я сначала, как умный Вася, взял всю выборку, продублировал фичи с единицами (сбалансировал), потом разбил на трэйн тест и удивился, как круто у меня f1 получился 0,84 (круче первого места на Каггле ). Потом дошло - что предсказания идут уже по выученным моделью примерам... Нельзя так )))_"
   ]
  },
  {
   "cell_type": "code",
   "execution_count": 24,
   "metadata": {},
   "outputs": [],
   "source": [
    "# Добавим признаков несбалансированного класса\n",
    "X_train_upsample, y_train_upsample = upsample(X_train, y_train)"
   ]
  },
  {
   "cell_type": "code",
   "execution_count": 25,
   "metadata": {},
   "outputs": [
    {
     "data": {
      "text/plain": [
       "0.5983701979045402"
      ]
     },
     "execution_count": 25,
     "metadata": {},
     "output_type": "execute_result"
    }
   ],
   "source": [
    "# Обучим модель на обогащенных за счет upsampling данных\n",
    "gbc.fit(X_train_upsample, y_train_upsample)\n",
    "\n",
    "# предскажем и выведем f1\n",
    "y_pred = gbc.predict(X_test)\n",
    "f1_score(y_test, y_pred)"
   ]
  },
  {
   "cell_type": "markdown",
   "metadata": {},
   "source": [
    "Теперь похоже на правду. f1 подняли почти на 0.014... (На моей локальной машине результат был намного хуже)"
   ]
  },
  {
   "cell_type": "markdown",
   "metadata": {},
   "source": [
    "#### 2. Downsampling"
   ]
  },
  {
   "cell_type": "code",
   "execution_count": 26,
   "metadata": {},
   "outputs": [],
   "source": [
    "# Уберем признаки несбалансированного класса\n",
    "X_train_downsample, y_train_downsample = downsample(X_train, y_train)"
   ]
  },
  {
   "cell_type": "code",
   "execution_count": 27,
   "metadata": {},
   "outputs": [
    {
     "name": "stdout",
     "output_type": "stream",
     "text": [
      "CPU times: user 614 ms, sys: 3.57 ms, total: 618 ms\n",
      "Wall time: 631 ms\n"
     ]
    },
    {
     "data": {
      "text/plain": [
       "0.5965270684371807"
      ]
     },
     "execution_count": 27,
     "metadata": {},
     "output_type": "execute_result"
    }
   ],
   "source": [
    "%%time\n",
    "\n",
    "# Обучим модель на обогащенных за счет downsampling данных\n",
    "gbc.fit(X_train_downsample, y_train_downsample)\n",
    "\n",
    "# предскажем и выведем f1\n",
    "y_pred = gbc.predict(X_test)\n",
    "f1_score(y_test, y_pred)"
   ]
  },
  {
   "cell_type": "markdown",
   "metadata": {},
   "source": [
    "Хм, результат стал хуже (на локальной хоть и незначительно но улучшился)"
   ]
  },
  {
   "cell_type": "markdown",
   "metadata": {},
   "source": [
    "#### 3. SMOTE (рассмотренный вне теории самостоятельно)"
   ]
  },
  {
   "cell_type": "code",
   "execution_count": 28,
   "metadata": {},
   "outputs": [],
   "source": [
    "# Врагу не сдается наш гордый варяг ))\n",
    "# pip install imbalanced-learn"
   ]
  },
  {
   "cell_type": "code",
   "execution_count": 29,
   "metadata": {},
   "outputs": [
    {
     "data": {
      "text/plain": [
       "0    5787\n",
       "1    5787\n",
       "Name: exited, dtype: int64"
      ]
     },
     "execution_count": 29,
     "metadata": {},
     "output_type": "execute_result"
    }
   ],
   "source": [
    "smote = SMOTE(sampling_strategy='minority', random_state=666)\n",
    "X_train_sm, y_train_sm = smote.fit_resample(X_train, y_train)\n",
    "\n",
    "# проверка\n",
    "y_train_sm.value_counts()"
   ]
  },
  {
   "cell_type": "code",
   "execution_count": 30,
   "metadata": {},
   "outputs": [
    {
     "name": "stdout",
     "output_type": "stream",
     "text": [
      "CPU times: user 2.07 s, sys: 0 ns, total: 2.07 s\n",
      "Wall time: 2.08 s\n"
     ]
    },
    {
     "data": {
      "text/plain": [
       "0.6239782016348775"
      ]
     },
     "execution_count": 30,
     "metadata": {},
     "output_type": "execute_result"
    }
   ],
   "source": [
    "%%time\n",
    "\n",
    "# Обучим модель на обогащенных за счет downsampling данных\n",
    "gbc.fit(X_train_sm, y_train_sm)\n",
    "\n",
    "# предскажем и выведем f1\n",
    "y_pred = gbc.predict(X_test)\n",
    "f1_score(y_test, y_pred)"
   ]
  },
  {
   "cell_type": "markdown",
   "metadata": {},
   "source": [
    "Вот. Что и требовалось доказать. Нормальные инструменты в теории Яндекса не дают. Приходится \"ковырять\" самому.\n",
    "Добавили к f1 примерно 0.03, если пользоваться только данной теорией."
   ]
  },
  {
   "cell_type": "markdown",
   "metadata": {},
   "source": [
    "## Тестирование модели"
   ]
  },
  {
   "cell_type": "code",
   "execution_count": 31,
   "metadata": {},
   "outputs": [
    {
     "name": "stdout",
     "output_type": "stream",
     "text": [
      "AUC-ROC: 0.8580244836931127\n"
     ]
    },
    {
     "data": {
      "image/png": "[encoded data removed]",
      "text/plain": [
       "<Figure size 432x288 with 1 Axes>"
      ]
     },
     "metadata": {
      "needs_background": "light"
     },
     "output_type": "display_data"
    }
   ],
   "source": [
    "# возьмем вероятности отнесения к одному или другому классу\n",
    "probabilities_valid = gbc.predict_proba(X_test)\n",
    "probabilities_one_valid = probabilities_valid[:, 1]\n",
    "\n",
    "# Посчитаем ROC-AUC\n",
    "print('AUC-ROC:', roc_auc_score(y_test, probabilities_one_valid))\n",
    "\n",
    "fpr, tpr, thresholds = roc_curve(y_test, probabilities_one_valid)\n",
    "\n",
    "# построим график\n",
    "plt.figure()\n",
    "plt.plot(fpr, tpr)\n",
    "# ROC-кривая случайной модели (выглядит как прямая)\n",
    "plt.plot([0, 1], [0, 1], linestyle='--')\n",
    "\n",
    "# применим функции plt.xlim() и plt.ylim(), чтобы\n",
    "#   установить границы осей от 0 до 1\n",
    "plt.xlim([0.0, 1.0])\n",
    "plt.ylim([0.0, 1.0])\n",
    "\n",
    "# применим функции plt.xlabel() и plt.ylabel(), чтобы\n",
    "#   подписать оси \"False Positive Rate\" и \"True Positive Rate\"\n",
    "plt.xlabel('False Positive Rate')\n",
    "plt.ylabel('True Positive Rate')\n",
    "\n",
    "# добавим к графику заголовок \"ROC-кривая\" функцией plt.title()\n",
    "plt.title('ROC-кривая')\n",
    "plt.show();"
   ]
  },
  {
   "cell_type": "markdown",
   "metadata": {},
   "source": [
    "Построили рок-кривую, на которой наглядно видно, что наша модель существенно лучше случайной"
   ]
  },
  {
   "cell_type": "markdown",
   "metadata": {},
   "source": [
    "#### Выводы\n",
    "\n",
    "- Загрузили и подготовили данные.  \n",
    "Удалили пропуски, ненужные признаки, проверили на сбалансированность и дубликаты. Предполагаю, что пропуски сделаны яндексом специально, чтобы датасет отличался от представленного на Каггле. Т.о. считаем, что пропуски получены из-за системной, а не человеческой ошибки.  \n",
    "Пропусков немного (меньше 10%), поэтому принял решение их удалить, на сбалансированнойсть выборки это не повлияло. Можно было заполнить пропуски данными с Каггла )).    \n",
    "Аномальных значений в признаках нет.  \n",
    "- Было протестировано 4 модели на несбалансированной выборке.  \n",
    "GradientBoostingClassifier, RandomForestClassifier, LogisticRegression, DecisionTreeClassifier. Подобрали для них оптимальные гиперпараметры. Лучшим себя показал Граддиентный бустинг. В дальнейшей работе использовал его с оптимальными параметрами.  \n",
    "- Исследовали баланс классов.\n",
    "Применили три метода для балансировки. Upsampling, Downsampling и метод SMOTE. Последний показал себя наилучшим образом, улучши модель (f1 увеличили на 0.03).\n",
    "- Построили ROC-кривую, для наглядности. Наглядно видно, что наша модель существенно лучше рандомной модели.\n",
    "\n",
    "Рекомендации. Опыт Каггла показывает, что для получения более высоких результатов целесообразно использовать DL (keras и сверточные слои), но будем считать, что мы до них пока еще не доросли"
   ]
  }
 ],
 "metadata": {
  "ExecuteTimeLog": [
   {
    "duration": 1889,
    "start_time": "2023-04-15T12:24:34.612Z"
   },
   {
    "duration": 7,
    "start_time": "2023-04-15T12:24:54.533Z"
   },
   {
    "duration": 12,
    "start_time": "2023-04-15T12:25:32.637Z"
   },
   {
    "duration": 666,
    "start_time": "2023-04-15T12:25:38.704Z"
   },
   {
    "duration": 82,
    "start_time": "2023-04-15T12:26:21.665Z"
   },
   {
    "duration": 19,
    "start_time": "2023-04-15T12:26:49.206Z"
   },
   {
    "duration": 5,
    "start_time": "2023-04-15T12:26:50.101Z"
   },
   {
    "duration": 6,
    "start_time": "2023-04-15T12:26:51.123Z"
   },
   {
    "duration": 16,
    "start_time": "2023-04-15T12:26:51.972Z"
   },
   {
    "duration": 9,
    "start_time": "2023-04-15T12:26:53.814Z"
   },
   {
    "duration": 5,
    "start_time": "2023-04-15T12:26:56.807Z"
   },
   {
    "duration": 4,
    "start_time": "2023-04-15T12:26:57.991Z"
   },
   {
    "duration": 13,
    "start_time": "2023-04-15T12:27:01.070Z"
   },
   {
    "duration": 8,
    "start_time": "2023-04-15T12:27:01.797Z"
   },
   {
    "duration": 14,
    "start_time": "2023-04-15T12:27:03.909Z"
   },
   {
    "duration": 10,
    "start_time": "2023-04-15T12:27:04.899Z"
   },
   {
    "duration": 11,
    "start_time": "2023-04-15T12:27:07.298Z"
   },
   {
    "duration": 15,
    "start_time": "2023-04-15T12:27:11.902Z"
   },
   {
    "duration": 21,
    "start_time": "2023-04-15T12:27:13.944Z"
   },
   {
    "duration": 401892,
    "start_time": "2023-04-15T12:27:18.164Z"
   },
   {
    "duration": 155636,
    "start_time": "2023-04-15T12:34:00.058Z"
   },
   {
    "duration": 71683,
    "start_time": "2023-04-15T12:36:35.696Z"
   },
   {
    "duration": 26169,
    "start_time": "2023-04-15T12:37:47.381Z"
   },
   {
    "duration": 735,
    "start_time": "2023-04-15T12:55:37.482Z"
   },
   {
    "duration": 23,
    "start_time": "2023-04-15T12:55:46.375Z"
   },
   {
    "duration": 1059,
    "start_time": "2023-04-15T12:55:47.798Z"
   },
   {
    "duration": 9,
    "start_time": "2023-04-15T12:56:15.134Z"
   },
   {
    "duration": 361,
    "start_time": "2023-04-15T12:56:16.099Z"
   },
   {
    "duration": 6256,
    "start_time": "2023-04-15T12:58:49.893Z"
   },
   {
    "duration": 25,
    "start_time": "2023-04-15T12:59:42.915Z"
   },
   {
    "duration": 1173,
    "start_time": "2023-04-15T13:01:18.435Z"
   },
   {
    "duration": 8,
    "start_time": "2023-04-15T13:01:40.768Z"
   },
   {
    "duration": 51,
    "start_time": "2023-04-15T13:01:41.012Z"
   },
   {
    "duration": 4,
    "start_time": "2023-04-15T13:01:41.436Z"
   },
   {
    "duration": 4,
    "start_time": "2023-04-15T13:01:44.683Z"
   },
   {
    "duration": 3,
    "start_time": "2023-04-15T13:01:45.591Z"
   },
   {
    "duration": 15,
    "start_time": "2023-04-15T13:01:46.321Z"
   },
   {
    "duration": 8,
    "start_time": "2023-04-15T13:01:47.220Z"
   },
   {
    "duration": 5,
    "start_time": "2023-04-15T13:01:48.208Z"
   },
   {
    "duration": 5,
    "start_time": "2023-04-15T13:01:48.562Z"
   },
   {
    "duration": 8,
    "start_time": "2023-04-15T13:01:49.568Z"
   },
   {
    "duration": 5,
    "start_time": "2023-04-15T13:01:50.108Z"
   },
   {
    "duration": 9,
    "start_time": "2023-04-15T13:01:51.396Z"
   },
   {
    "duration": 8,
    "start_time": "2023-04-15T13:01:51.892Z"
   },
   {
    "duration": 10,
    "start_time": "2023-04-15T13:01:52.542Z"
   },
   {
    "duration": 10,
    "start_time": "2023-04-15T13:01:53.732Z"
   },
   {
    "duration": 17,
    "start_time": "2023-04-15T13:01:55.375Z"
   },
   {
    "duration": 376496,
    "start_time": "2023-04-15T13:02:06.574Z"
   },
   {
    "duration": 195,
    "start_time": "2023-04-15T13:11:22.105Z"
   },
   {
    "duration": 148771,
    "start_time": "2023-04-15T13:12:01.994Z"
   },
   {
    "duration": 47923,
    "start_time": "2023-04-15T13:14:30.767Z"
   },
   {
    "duration": 26306,
    "start_time": "2023-04-15T13:15:18.694Z"
   },
   {
    "duration": 1142,
    "start_time": "2023-04-15T13:15:45.002Z"
   },
   {
    "duration": 12,
    "start_time": "2023-04-15T13:15:46.145Z"
   },
   {
    "duration": 1755,
    "start_time": "2023-04-15T13:15:46.159Z"
   },
   {
    "duration": 11,
    "start_time": "2023-04-15T13:15:47.916Z"
   },
   {
    "duration": 598,
    "start_time": "2023-04-15T13:15:47.929Z"
   },
   {
    "duration": 2,
    "start_time": "2023-04-15T13:15:48.528Z"
   },
   {
    "duration": 44,
    "start_time": "2023-04-15T13:15:48.532Z"
   },
   {
    "duration": 2068,
    "start_time": "2023-04-15T13:15:48.578Z"
   },
   {
    "duration": 2,
    "start_time": "2023-04-15T13:19:19.223Z"
   },
   {
    "duration": 49,
    "start_time": "2023-04-15T13:19:20.634Z"
   },
   {
    "duration": 2066,
    "start_time": "2023-04-15T13:19:21.425Z"
   },
   {
    "duration": 123,
    "start_time": "2023-04-15T13:21:00.658Z"
   },
   {
    "duration": 3,
    "start_time": "2023-04-15T13:21:13.123Z"
   },
   {
    "duration": 1243,
    "start_time": "2023-04-15T13:21:13.129Z"
   },
   {
    "duration": 10,
    "start_time": "2023-04-15T13:21:14.374Z"
   },
   {
    "duration": 56,
    "start_time": "2023-04-15T13:21:14.385Z"
   },
   {
    "duration": 5,
    "start_time": "2023-04-15T13:21:14.443Z"
   },
   {
    "duration": 15,
    "start_time": "2023-04-15T13:21:14.449Z"
   },
   {
    "duration": 7,
    "start_time": "2023-04-15T13:21:14.466Z"
   },
   {
    "duration": 27,
    "start_time": "2023-04-15T13:21:14.474Z"
   },
   {
    "duration": 10,
    "start_time": "2023-04-15T13:21:14.503Z"
   },
   {
    "duration": 6,
    "start_time": "2023-04-15T13:21:14.515Z"
   },
   {
    "duration": 7,
    "start_time": "2023-04-15T13:21:14.524Z"
   },
   {
    "duration": 62,
    "start_time": "2023-04-15T13:21:14.532Z"
   },
   {
    "duration": 23,
    "start_time": "2023-04-15T13:21:14.596Z"
   },
   {
    "duration": 18,
    "start_time": "2023-04-15T13:21:14.620Z"
   },
   {
    "duration": 34,
    "start_time": "2023-04-15T13:21:14.639Z"
   },
   {
    "duration": 25,
    "start_time": "2023-04-15T13:21:14.675Z"
   },
   {
    "duration": 13,
    "start_time": "2023-04-15T13:21:14.702Z"
   },
   {
    "duration": 18,
    "start_time": "2023-04-15T13:21:14.718Z"
   },
   {
    "duration": 381064,
    "start_time": "2023-04-15T13:21:14.738Z"
   },
   {
    "duration": 149557,
    "start_time": "2023-04-15T13:27:35.803Z"
   },
   {
    "duration": 49917,
    "start_time": "2023-04-15T13:30:05.362Z"
   },
   {
    "duration": 25769,
    "start_time": "2023-04-15T13:30:55.280Z"
   },
   {
    "duration": 1087,
    "start_time": "2023-04-15T13:31:21.051Z"
   },
   {
    "duration": 11,
    "start_time": "2023-04-15T13:31:22.140Z"
   },
   {
    "duration": 1688,
    "start_time": "2023-04-15T13:31:22.153Z"
   },
   {
    "duration": 9,
    "start_time": "2023-04-15T13:31:23.843Z"
   },
   {
    "duration": 567,
    "start_time": "2023-04-15T13:31:23.854Z"
   },
   {
    "duration": 2,
    "start_time": "2023-04-15T13:31:24.423Z"
   },
   {
    "duration": 50,
    "start_time": "2023-04-15T13:31:24.428Z"
   },
   {
    "duration": 2211,
    "start_time": "2023-04-15T13:31:24.479Z"
   },
   {
    "duration": 131,
    "start_time": "2023-04-15T13:31:26.692Z"
   },
   {
    "duration": 4,
    "start_time": "2023-04-15T17:12:23.619Z"
   },
   {
    "duration": 2786,
    "start_time": "2023-04-15T17:12:23.625Z"
   },
   {
    "duration": 9,
    "start_time": "2023-04-15T17:12:26.413Z"
   },
   {
    "duration": 117,
    "start_time": "2023-04-15T17:12:26.424Z"
   },
   {
    "duration": 4,
    "start_time": "2023-04-15T17:12:26.543Z"
   },
   {
    "duration": 4,
    "start_time": "2023-04-15T17:12:26.548Z"
   },
   {
    "duration": 6,
    "start_time": "2023-04-15T17:12:26.553Z"
   },
   {
    "duration": 13,
    "start_time": "2023-04-15T17:12:26.561Z"
   },
   {
    "duration": 7,
    "start_time": "2023-04-15T17:12:26.575Z"
   },
   {
    "duration": 8,
    "start_time": "2023-04-15T17:12:26.584Z"
   },
   {
    "duration": 25,
    "start_time": "2023-04-15T17:12:26.593Z"
   },
   {
    "duration": 6,
    "start_time": "2023-04-15T17:12:26.619Z"
   },
   {
    "duration": 5,
    "start_time": "2023-04-15T17:12:26.636Z"
   },
   {
    "duration": 9,
    "start_time": "2023-04-15T17:12:26.643Z"
   },
   {
    "duration": 7,
    "start_time": "2023-04-15T17:12:26.653Z"
   },
   {
    "duration": 8,
    "start_time": "2023-04-15T17:12:26.662Z"
   },
   {
    "duration": 13,
    "start_time": "2023-04-15T17:12:26.672Z"
   },
   {
    "duration": 65,
    "start_time": "2023-04-15T17:12:26.687Z"
   },
   {
    "duration": 316648,
    "start_time": "2023-04-15T17:12:26.754Z"
   },
   {
    "duration": 124878,
    "start_time": "2023-04-15T17:17:43.404Z"
   },
   {
    "duration": 41773,
    "start_time": "2023-04-15T17:19:48.283Z"
   },
   {
    "duration": 23048,
    "start_time": "2023-04-15T17:20:30.058Z"
   },
   {
    "duration": 637,
    "start_time": "2023-04-15T17:20:53.108Z"
   },
   {
    "duration": 14,
    "start_time": "2023-04-15T17:20:53.746Z"
   },
   {
    "duration": 950,
    "start_time": "2023-04-15T17:20:53.762Z"
   },
   {
    "duration": 10,
    "start_time": "2023-04-15T17:20:54.714Z"
   },
   {
    "duration": 324,
    "start_time": "2023-04-15T17:20:54.725Z"
   },
   {
    "duration": 2,
    "start_time": "2023-04-15T17:20:55.051Z"
   },
   {
    "duration": 51,
    "start_time": "2023-04-15T17:20:55.054Z"
   },
   {
    "duration": 1126,
    "start_time": "2023-04-15T17:20:55.106Z"
   },
   {
    "duration": 127,
    "start_time": "2023-04-15T17:20:56.234Z"
   },
   {
    "duration": 4,
    "start_time": "2023-04-16T17:23:45.043Z"
   },
   {
    "duration": 1683,
    "start_time": "2023-04-16T17:23:46.427Z"
   },
   {
    "duration": 66,
    "start_time": "2023-04-16T17:23:57.347Z"
   },
   {
    "duration": 77,
    "start_time": "2023-04-16T17:24:24.462Z"
   },
   {
    "duration": 97,
    "start_time": "2023-04-16T17:24:59.961Z"
   },
   {
    "duration": 72,
    "start_time": "2023-04-16T17:25:42.434Z"
   },
   {
    "duration": 6867,
    "start_time": "2023-04-16T17:25:50.353Z"
   },
   {
    "duration": 1309,
    "start_time": "2023-04-16T17:26:10.527Z"
   },
   {
    "duration": 8,
    "start_time": "2023-04-16T17:27:38.920Z"
   },
   {
    "duration": 3,
    "start_time": "2023-04-16T17:34:55.224Z"
   },
   {
    "duration": 1290,
    "start_time": "2023-04-16T17:34:55.229Z"
   },
   {
    "duration": 9,
    "start_time": "2023-04-16T17:34:56.521Z"
   },
   {
    "duration": 98,
    "start_time": "2023-04-16T17:34:56.532Z"
   },
   {
    "duration": 7,
    "start_time": "2023-04-16T17:34:56.633Z"
   },
   {
    "duration": 11,
    "start_time": "2023-04-16T17:34:56.642Z"
   },
   {
    "duration": 9,
    "start_time": "2023-04-16T17:34:56.655Z"
   },
   {
    "duration": 25,
    "start_time": "2023-04-16T17:34:56.667Z"
   },
   {
    "duration": 8,
    "start_time": "2023-04-16T17:34:56.694Z"
   },
   {
    "duration": 6,
    "start_time": "2023-04-16T17:34:56.703Z"
   },
   {
    "duration": 8,
    "start_time": "2023-04-16T17:34:56.711Z"
   },
   {
    "duration": 8,
    "start_time": "2023-04-16T17:34:56.721Z"
   },
   {
    "duration": 8,
    "start_time": "2023-04-16T17:34:56.731Z"
   },
   {
    "duration": 13,
    "start_time": "2023-04-16T17:34:56.742Z"
   },
   {
    "duration": 42,
    "start_time": "2023-04-16T17:34:56.757Z"
   },
   {
    "duration": 11,
    "start_time": "2023-04-16T17:34:56.800Z"
   },
   {
    "duration": 12,
    "start_time": "2023-04-16T17:34:56.813Z"
   },
   {
    "duration": 24,
    "start_time": "2023-04-16T17:34:56.827Z"
   },
   {
    "duration": 392264,
    "start_time": "2023-04-16T17:34:56.853Z"
   },
   {
    "duration": 160250,
    "start_time": "2023-04-16T17:41:29.119Z"
   },
   {
    "duration": 41548,
    "start_time": "2023-04-16T17:44:09.371Z"
   },
   {
    "duration": 27712,
    "start_time": "2023-04-16T17:44:50.921Z"
   },
   {
    "duration": 1158,
    "start_time": "2023-04-16T17:45:18.635Z"
   },
   {
    "duration": 12,
    "start_time": "2023-04-16T17:45:19.795Z"
   },
   {
    "duration": 1644,
    "start_time": "2023-04-16T17:45:19.809Z"
   },
   {
    "duration": 14,
    "start_time": "2023-04-16T17:45:21.455Z"
   },
   {
    "duration": 637,
    "start_time": "2023-04-16T17:45:21.470Z"
   },
   {
    "duration": 3,
    "start_time": "2023-04-16T17:45:22.109Z"
   },
   {
    "duration": 49,
    "start_time": "2023-04-16T17:45:22.114Z"
   },
   {
    "duration": 2085,
    "start_time": "2023-04-16T17:45:22.165Z"
   },
   {
    "duration": 154,
    "start_time": "2023-04-16T17:45:24.252Z"
   },
   {
    "duration": 81,
    "start_time": "2023-04-16T17:55:53.546Z"
   }
  ],
  "kernelspec": {
   "display_name": "Python 3 (ipykernel)",
   "language": "python",
   "name": "python3"
  },
  "language_info": {
   "codemirror_mode": {
    "name": "ipython",
    "version": 3
   },
   "file_extension": ".py",
   "mimetype": "text/x-python",
   "name": "python",
   "nbconvert_exporter": "python",
   "pygments_lexer": "ipython3",
   "version": "3.9.5"
  },
  "toc": {
   "base_numbering": 1,
   "nav_menu": {},
   "number_sections": true,
   "sideBar": true,
   "skip_h1_title": true,
   "title_cell": "Содержание",
   "title_sidebar": "Contents",
   "toc_cell": true,
   "toc_position": {},
   "toc_section_display": true,
   "toc_window_display": true
  }
 },
 "nbformat": 4,
 "nbformat_minor": 2
}
