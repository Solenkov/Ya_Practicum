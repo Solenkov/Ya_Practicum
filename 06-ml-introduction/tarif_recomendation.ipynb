{
 "cells": [
  {
   "cell_type": "markdown",
   "metadata": {},
   "source": [
    "# Рекомендация тарифов"
   ]
  },
  {
   "cell_type": "markdown",
   "metadata": {},
   "source": [
    "В вашем распоряжении данные о поведении клиентов, которые уже перешли на эти тарифы (из проекта курса «Статистический анализ данных»). Нужно построить модель для задачи классификации, которая выберет подходящий тариф. Предобработка данных не понадобится — вы её уже сделали.\n",
    "\n",
    "Постройте модель с максимально большим значением *accuracy*. Чтобы сдать проект успешно, нужно довести долю правильных ответов по крайней мере до 0.75. Проверьте *accuracy* на тестовой выборке самостоятельно."
   ]
  },
  {
   "cell_type": "markdown",
   "metadata": {},
   "source": [
    "**описание датасета**  \n",
    "- сalls — количество звонков,  \n",
    "- minutes — суммарная длительность звонков в минутах,  \n",
    "- messages — количество sms-сообщений,  \n",
    "- mb_used — израсходованный интернет-трафик в Мб,  \n",
    "- is_ultra — каким тарифом пользовался в течение месяца («Ультра» — 1, «Смарт» — 0)."
   ]
  },
  {
   "cell_type": "markdown",
   "metadata": {},
   "source": [
    "## Откройте и изучите файл"
   ]
  },
  {
   "cell_type": "code",
   "execution_count": 1,
   "metadata": {},
   "outputs": [],
   "source": [
    "import pandas as pd\n",
    "import numpy as np\n",
    "\n",
    "from sklearn.ensemble import GradientBoostingClassifier, RandomForestClassifier\n",
    "from sklearn.linear_model import LogisticRegression\n",
    "from sklearn.tree import DecisionTreeClassifier\n",
    "from sklearn.dummy import DummyClassifier\n",
    "\n",
    "from sklearn.model_selection import GridSearchCV\n",
    "\n",
    "from sklearn.metrics import accuracy_score\n",
    "from sklearn.model_selection import train_test_split\n",
    "\n",
    "import warnings\n",
    "warnings.filterwarnings('ignore')"
   ]
  },
  {
   "cell_type": "code",
   "execution_count": 2,
   "metadata": {},
   "outputs": [
    {
     "data": {
      "text/html": [
       "<div>\n",
       "<style scoped>\n",
       "    .dataframe tbody tr th:only-of-type {\n",
       "        vertical-align: middle;\n",
       "    }\n",
       "\n",
       "    .dataframe tbody tr th {\n",
       "        vertical-align: top;\n",
       "    }\n",
       "\n",
       "    .dataframe thead th {\n",
       "        text-align: right;\n",
       "    }\n",
       "</style>\n",
       "<table border=\"1\" class=\"dataframe\">\n",
       "  <thead>\n",
       "    <tr style=\"text-align: right;\">\n",
       "      <th></th>\n",
       "      <th>calls</th>\n",
       "      <th>minutes</th>\n",
       "      <th>messages</th>\n",
       "      <th>mb_used</th>\n",
       "      <th>is_ultra</th>\n",
       "    </tr>\n",
       "  </thead>\n",
       "  <tbody>\n",
       "    <tr>\n",
       "      <th>0</th>\n",
       "      <td>40.0</td>\n",
       "      <td>311.90</td>\n",
       "      <td>83.0</td>\n",
       "      <td>19915.42</td>\n",
       "      <td>0</td>\n",
       "    </tr>\n",
       "    <tr>\n",
       "      <th>1</th>\n",
       "      <td>85.0</td>\n",
       "      <td>516.75</td>\n",
       "      <td>56.0</td>\n",
       "      <td>22696.96</td>\n",
       "      <td>0</td>\n",
       "    </tr>\n",
       "  </tbody>\n",
       "</table>\n",
       "</div>"
      ],
      "text/plain": [
       "   calls  minutes  messages   mb_used  is_ultra\n",
       "0   40.0   311.90      83.0  19915.42         0\n",
       "1   85.0   516.75      56.0  22696.96         0"
      ]
     },
     "execution_count": 2,
     "metadata": {},
     "output_type": "execute_result"
    }
   ],
   "source": [
    "try:\n",
    "    df = pd.read_csv('/datasets/users_behavior.csv')\n",
    "except:\n",
    "    df = pd.read_csv('users_behavior.csv')\n",
    "\n",
    "df.head(2)"
   ]
  },
  {
   "cell_type": "code",
   "execution_count": 3,
   "metadata": {},
   "outputs": [
    {
     "name": "stdout",
     "output_type": "stream",
     "text": [
      "<class 'pandas.core.frame.DataFrame'>\n",
      "RangeIndex: 3214 entries, 0 to 3213\n",
      "Data columns (total 5 columns):\n",
      " #   Column    Non-Null Count  Dtype  \n",
      "---  ------    --------------  -----  \n",
      " 0   calls     3214 non-null   float64\n",
      " 1   minutes   3214 non-null   float64\n",
      " 2   messages  3214 non-null   float64\n",
      " 3   mb_used   3214 non-null   float64\n",
      " 4   is_ultra  3214 non-null   int64  \n",
      "dtypes: float64(4), int64(1)\n",
      "memory usage: 125.7 KB\n"
     ]
    }
   ],
   "source": [
    "df.info()"
   ]
  },
  {
   "cell_type": "code",
   "execution_count": 4,
   "metadata": {},
   "outputs": [
    {
     "data": {
      "text/plain": [
       "0"
      ]
     },
     "execution_count": 4,
     "metadata": {},
     "output_type": "execute_result"
    }
   ],
   "source": [
    "df.duplicated().sum()"
   ]
  },
  {
   "cell_type": "markdown",
   "metadata": {},
   "source": [
    "пропусков нет, дубликатов нет. Некоторые типы излишне float, переведем в int."
   ]
  },
  {
   "cell_type": "code",
   "execution_count": 5,
   "metadata": {},
   "outputs": [],
   "source": [
    "# переведем некоторые типы к int\n",
    "df[['calls', 'messages', 'is_ultra']] = df[['calls', 'messages', 'is_ultra']].astype(int)"
   ]
  },
  {
   "cell_type": "code",
   "execution_count": 6,
   "metadata": {},
   "outputs": [
    {
     "data": {
      "text/html": [
       "<div>\n",
       "<style scoped>\n",
       "    .dataframe tbody tr th:only-of-type {\n",
       "        vertical-align: middle;\n",
       "    }\n",
       "\n",
       "    .dataframe tbody tr th {\n",
       "        vertical-align: top;\n",
       "    }\n",
       "\n",
       "    .dataframe thead th {\n",
       "        text-align: right;\n",
       "    }\n",
       "</style>\n",
       "<table border=\"1\" class=\"dataframe\">\n",
       "  <thead>\n",
       "    <tr style=\"text-align: right;\">\n",
       "      <th></th>\n",
       "      <th>calls</th>\n",
       "      <th>minutes</th>\n",
       "      <th>messages</th>\n",
       "      <th>mb_used</th>\n",
       "      <th>is_ultra</th>\n",
       "    </tr>\n",
       "  </thead>\n",
       "  <tbody>\n",
       "    <tr>\n",
       "      <th>count</th>\n",
       "      <td>3214.000000</td>\n",
       "      <td>3214.000000</td>\n",
       "      <td>3214.000000</td>\n",
       "      <td>3214.000000</td>\n",
       "      <td>3214.000000</td>\n",
       "    </tr>\n",
       "    <tr>\n",
       "      <th>mean</th>\n",
       "      <td>63.038892</td>\n",
       "      <td>438.208787</td>\n",
       "      <td>38.281269</td>\n",
       "      <td>17207.673836</td>\n",
       "      <td>0.306472</td>\n",
       "    </tr>\n",
       "    <tr>\n",
       "      <th>std</th>\n",
       "      <td>33.236368</td>\n",
       "      <td>234.569872</td>\n",
       "      <td>36.148326</td>\n",
       "      <td>7570.968246</td>\n",
       "      <td>0.461100</td>\n",
       "    </tr>\n",
       "    <tr>\n",
       "      <th>min</th>\n",
       "      <td>0.000000</td>\n",
       "      <td>0.000000</td>\n",
       "      <td>0.000000</td>\n",
       "      <td>0.000000</td>\n",
       "      <td>0.000000</td>\n",
       "    </tr>\n",
       "    <tr>\n",
       "      <th>25%</th>\n",
       "      <td>40.000000</td>\n",
       "      <td>274.575000</td>\n",
       "      <td>9.000000</td>\n",
       "      <td>12491.902500</td>\n",
       "      <td>0.000000</td>\n",
       "    </tr>\n",
       "    <tr>\n",
       "      <th>50%</th>\n",
       "      <td>62.000000</td>\n",
       "      <td>430.600000</td>\n",
       "      <td>30.000000</td>\n",
       "      <td>16943.235000</td>\n",
       "      <td>0.000000</td>\n",
       "    </tr>\n",
       "    <tr>\n",
       "      <th>75%</th>\n",
       "      <td>82.000000</td>\n",
       "      <td>571.927500</td>\n",
       "      <td>57.000000</td>\n",
       "      <td>21424.700000</td>\n",
       "      <td>1.000000</td>\n",
       "    </tr>\n",
       "    <tr>\n",
       "      <th>max</th>\n",
       "      <td>244.000000</td>\n",
       "      <td>1632.060000</td>\n",
       "      <td>224.000000</td>\n",
       "      <td>49745.730000</td>\n",
       "      <td>1.000000</td>\n",
       "    </tr>\n",
       "  </tbody>\n",
       "</table>\n",
       "</div>"
      ],
      "text/plain": [
       "             calls      minutes     messages       mb_used     is_ultra\n",
       "count  3214.000000  3214.000000  3214.000000   3214.000000  3214.000000\n",
       "mean     63.038892   438.208787    38.281269  17207.673836     0.306472\n",
       "std      33.236368   234.569872    36.148326   7570.968246     0.461100\n",
       "min       0.000000     0.000000     0.000000      0.000000     0.000000\n",
       "25%      40.000000   274.575000     9.000000  12491.902500     0.000000\n",
       "50%      62.000000   430.600000    30.000000  16943.235000     0.000000\n",
       "75%      82.000000   571.927500    57.000000  21424.700000     1.000000\n",
       "max     244.000000  1632.060000   224.000000  49745.730000     1.000000"
      ]
     },
     "execution_count": 6,
     "metadata": {},
     "output_type": "execute_result"
    }
   ],
   "source": [
    "df.describe()"
   ]
  },
  {
   "cell_type": "code",
   "execution_count": 7,
   "metadata": {},
   "outputs": [
    {
     "data": {
      "text/plain": [
       "0    2229\n",
       "1     985\n",
       "Name: is_ultra, dtype: int64"
      ]
     },
     "execution_count": 7,
     "metadata": {},
     "output_type": "execute_result"
    }
   ],
   "source": [
    "df['is_ultra'].value_counts()"
   ]
  },
  {
   "cell_type": "markdown",
   "metadata": {},
   "source": [
    "Выборка не сбалансирована, с тарифом ultra - примерно треть клиентов"
   ]
  },
  {
   "cell_type": "markdown",
   "metadata": {},
   "source": [
    "## Разбейте данные на выборки\n",
    "\n",
    "Так как мы применяем кроссвалидацию в сетке GridSearchCV, то разобъем данные на две выборки: тренировочную и тестовую."
   ]
  },
  {
   "cell_type": "code",
   "execution_count": 8,
   "metadata": {},
   "outputs": [],
   "source": [
    "\n",
    "X_train, X_test, y_train, y_test = train_test_split(df.drop('is_ultra', axis=1), df['is_ultra'],\n",
    "                                              random_state=12345,\n",
    "                                              test_size=0.3)"
   ]
  },
  {
   "cell_type": "code",
   "execution_count": 9,
   "metadata": {},
   "outputs": [
    {
     "name": "stdout",
     "output_type": "stream",
     "text": [
      "Получили данные в следующей пропорции:\n",
      "70.0 : 30.0\n"
     ]
    }
   ],
   "source": [
    "# проверка\n",
    "print(\"Получили данные в следующей пропорции:\")\n",
    "print(round(100*X_train.shape[0]/df.shape[0],0), \":\",\n",
    "      # round(100*X_val.shape[0]/df.shape[0],0), \":\",\n",
    "      round(100*X_test.shape[0]/df.shape[0],0))"
   ]
  },
  {
   "cell_type": "markdown",
   "metadata": {},
   "source": [
    "## Исследуйте модели\n",
    "\n",
    "для подбора гиперпараметров велосипед с циклами изобретать не будем, воспользуемся старым добрым GridSearchCV\n",
    "Выведем на экран лучшие гиперпараметры, и лучшую точность при подборе параметров."
   ]
  },
  {
   "cell_type": "code",
   "execution_count": 10,
   "metadata": {},
   "outputs": [
    {
     "name": "stdout",
     "output_type": "stream",
     "text": [
      "{'learning_rate': 0.01, 'max_depth': 3, 'min_samples_leaf': 1, 'min_samples_split': 2, 'n_estimators': 110, 'subsample': 0.6}\n",
      "0.7972551348676069\n"
     ]
    }
   ],
   "source": [
    "# 1. Классификатор по градиентному бустингу\n",
    "gbc = GradientBoostingClassifier(random_state=666)\n",
    "\n",
    "param_grid = {'learning_rate':[0.001, 0.01],\n",
    "              'n_estimators':[x for x in range(90,111,20)],\n",
    "              'max_depth':[x for x in range(2,4)],\n",
    "              'min_samples_split':[x for x in range(2,4)],\n",
    "              'min_samples_leaf':[1,2],\n",
    "              'subsample':[0.6, 0.8],\n",
    "              }\n",
    "\n",
    "grid_search_gbc = GridSearchCV(gbc, param_grid, scoring = 'accuracy', n_jobs=-1, cv=5)\n",
    "grid_search_gbc.fit(X_train, y_train)\n",
    "\n",
    "print(grid_search_gbc.best_params_)\n",
    "print(grid_search_gbc.best_score_)"
   ]
  },
  {
   "cell_type": "code",
   "execution_count": 11,
   "metadata": {
    "scrolled": true
   },
   "outputs": [
    {
     "name": "stdout",
     "output_type": "stream",
     "text": [
      "{'criterion': 'entropy', 'max_depth': 12, 'min_samples_leaf': 3, 'min_samples_split': 2, 'n_estimators': 100}\n",
      "0.8177035387280377\n"
     ]
    }
   ],
   "source": [
    "# 2. Случайный лес\n",
    "rfc = RandomForestClassifier(random_state=666)\n",
    "\n",
    "param_grid = {'n_estimators':[100, 200],\n",
    "              'criterion':['gini', 'entropy'],\n",
    "              'max_depth':[x for x in range(12,16,3)],\n",
    "              'min_samples_split':[x for x in range(2,4)],\n",
    "              'min_samples_leaf':[x for x in range(3,5)],\n",
    "              }\n",
    "\n",
    "grid_search_rfc = GridSearchCV(rfc, param_grid, scoring = 'accuracy', n_jobs=-1, cv=5)\n",
    "grid_search_rfc.fit(X_train, y_train)\n",
    "\n",
    "print(grid_search_rfc.best_params_)\n",
    "print(grid_search_rfc.best_score_)\n"
   ]
  },
  {
   "cell_type": "code",
   "execution_count": 12,
   "metadata": {},
   "outputs": [
    {
     "name": "stdout",
     "output_type": "stream",
     "text": [
      "{'C': 0.1, 'fit_intercept': True, 'multi_class': 'auto', 'penalty': 'l2'}\n",
      "0.7341163078445929\n"
     ]
    }
   ],
   "source": [
    "# 3. Логистическая регрессия\n",
    "lr = LogisticRegression(random_state=666)\n",
    "\n",
    "param_grid = {'penalty':['l1', 'l2'],\n",
    "              'C': [0.1, 0.25],\n",
    "              'fit_intercept':[True, False],\n",
    "              #'solver':['lbfgs', 'liblinear', 'newton-cg', 'newton-cholesky', 'sag', 'saga'],\n",
    "              'multi_class':['auto', 'ovr', 'multinomial'],\n",
    "              #'max_iter':[100, 500, 2000]\n",
    "              }\n",
    "\n",
    "grid_search_lr = GridSearchCV(lr, param_grid, scoring = 'accuracy', n_jobs=-1, cv=5)\n",
    "grid_search_lr.fit(X_train, y_train)\n",
    "\n",
    "print(grid_search_lr.best_params_)\n",
    "print(grid_search_lr.best_score_)"
   ]
  },
  {
   "cell_type": "code",
   "execution_count": 13,
   "metadata": {
    "scrolled": true
   },
   "outputs": [
    {
     "name": "stdout",
     "output_type": "stream",
     "text": [
      "{'criterion': 'gini', 'max_depth': 7, 'min_samples_leaf': 8, 'min_samples_split': 3, 'splitter': 'best'}\n",
      "0.800807720861173\n"
     ]
    }
   ],
   "source": [
    "# 4. Дерево решений\n",
    "dtc = DecisionTreeClassifier(criterion='entropy', max_depth=4)\n",
    "\n",
    "param_grid = {'criterion':['gini', 'entropy'],\n",
    "              'splitter':['best', 'random'],\n",
    "              'max_depth':[x for x in range(6,8)],\n",
    "              'min_samples_split':[x for x in range(3,5)],\n",
    "              'min_samples_leaf':[x for x in range(8,10)],\n",
    "              }\n",
    "\n",
    "grid_search_dtc = GridSearchCV(dtc, param_grid, scoring = 'accuracy', n_jobs=-1, cv=5)\n",
    "grid_search_dtc.fit(X_train, y_train)\n",
    "\n",
    "print(grid_search_dtc.best_params_)\n",
    "print(grid_search_dtc.best_score_)"
   ]
  },
  {
   "cell_type": "markdown",
   "metadata": {},
   "source": [
    "**предварительные выводы**  \n",
    "Итак, использовали сетку для подбора гиперпараметров, определили лучшую модель и гиперпараметры для нее.\n",
    "первое место занимает случайный лес, последнее - логистическая регрессия. Дальше будем работать со случайным лесом."
   ]
  },
  {
   "cell_type": "markdown",
   "metadata": {},
   "source": [
    "## Проверьте модель на тестовой выборке  \n",
    "\n",
    "Посмототрим на результат выбранной модели на тестовой выборке для выбранной модели"
   ]
  },
  {
   "cell_type": "code",
   "execution_count": 14,
   "metadata": {},
   "outputs": [
    {
     "name": "stdout",
     "output_type": "stream",
     "text": [
      "Случайный лес:\n",
      "На тренировочной выборке: 0.888\n",
      "На тестовой выборке: 0.803\n"
     ]
    }
   ],
   "source": [
    "print('Случайный лес:')\n",
    "print('На тренировочной выборке:', accuracy_score(grid_search_rfc.predict(X_train), y_train).round(3))\n",
    "print('На тестовой выборке:', accuracy_score(grid_search_rfc.predict(X_test), y_test).round(3))"
   ]
  },
  {
   "cell_type": "markdown",
   "metadata": {},
   "source": [
    "Итак, у нас получилось добиться неплохого качества (accuracy = 0.8 на тестовой выборке) в выбранной модели случайного леса."
   ]
  },
  {
   "cell_type": "markdown",
   "metadata": {},
   "source": [
    "## (бонус) Проверьте модели на адекватность"
   ]
  },
  {
   "cell_type": "code",
   "execution_count": 15,
   "metadata": {},
   "outputs": [
    {
     "name": "stdout",
     "output_type": "stream",
     "text": [
      "точность думми на валидационной выборке 0.6927523343708315\n",
      "точность думми на тестовой выборке 0.6953367875647668\n"
     ]
    }
   ],
   "source": [
    "dummy_clf = DummyClassifier(strategy=\"most_frequent\", random_state=666)\n",
    "\n",
    "dummy_clf.fit(X_train, y_train)\n",
    "\n",
    "print('точность думми на валидационной выборке', dummy_clf.score(X_train, y_train))\n",
    "print('точность думми на тестовой выборке', dummy_clf.score(X_test, y_test))"
   ]
  },
  {
   "cell_type": "markdown",
   "metadata": {},
   "source": [
    "Как видим, точность нашей модели выше чем у думми, поэтому можем считать нашу модель адекватной и эффективной"
   ]
  },
  {
   "cell_type": "markdown",
   "metadata": {},
   "source": [
    "## Выводы\n",
    "\n",
    "- Данные чистые, без пропусков, дубликатов и аномалий. Единственное, что мы сделали - чуть облегчили датасет, за счет изменения типа некоторых данных на int  \n",
    "- Выбрали четыре модели: GradientBoostingClassifier, RandomForestClassifier, LogisticRegression, DecisionTreeClassifier. Подобрали для них оптимальные гиперпараметры. Лучшими себя как обычно показали Граддиентный бустинг и случайный лес. Но случайный лес чуть лучше, поэтому выбрали его. Над регрессией надо шаманить признаки, чтобы получить более достойный вариант модели. \n",
    "- Accuracy на тестовой выборке для модели RandomForestClassifier получили на уровне 0.8\n",
    "- Сравнили с baseline моделью DummyClassifier для оценки моделей на адекватность. Адекватность и эффективность подтвердили.\n",
    "- Дальнейшие рекомендации: \n",
    "    - можно попробовать добавить StandartScaler, посмотреть на поведение моделей (на случайный лес он обычно не влияет, а вот на логистическую регрессию может повлиять в лучшую сторону);\n",
    "    - можно попробовать сделать стеккинг;\n",
    "    - можно попробовать DL, но это уже совсем другая история..."
   ]
  }
 ],
 "metadata": {
  "ExecuteTimeLog": [
   {
    "duration": 1441,
    "start_time": "2023-03-27T21:21:09.136Z"
   },
   {
    "duration": 130,
    "start_time": "2023-03-27T21:21:10.579Z"
   },
   {
    "duration": 12,
    "start_time": "2023-03-27T21:21:10.711Z"
   },
   {
    "duration": 7,
    "start_time": "2023-03-27T21:21:10.725Z"
   },
   {
    "duration": 5,
    "start_time": "2023-03-27T21:21:10.734Z"
   },
   {
    "duration": 21,
    "start_time": "2023-03-27T21:21:10.741Z"
   },
   {
    "duration": 12,
    "start_time": "2023-03-27T21:21:10.764Z"
   },
   {
    "duration": 9,
    "start_time": "2023-03-27T21:21:10.778Z"
   },
   {
    "duration": 8,
    "start_time": "2023-03-27T21:21:10.789Z"
   },
   {
    "duration": 1107224,
    "start_time": "2023-03-27T21:21:10.799Z"
   },
   {
    "duration": 612307,
    "start_time": "2023-03-27T21:39:38.025Z"
   },
   {
    "duration": 198622,
    "start_time": "2023-03-27T21:49:50.333Z"
   },
   {
    "duration": 9101,
    "start_time": "2023-03-27T21:53:08.964Z"
   },
   {
    "duration": 146,
    "start_time": "2023-03-27T21:53:18.067Z"
   },
   {
    "duration": 6,
    "start_time": "2023-03-27T21:53:18.215Z"
   },
   {
    "duration": 2256,
    "start_time": "2023-03-27T22:06:10.926Z"
   },
   {
    "duration": 48,
    "start_time": "2023-03-27T22:06:13.184Z"
   },
   {
    "duration": 24,
    "start_time": "2023-03-27T22:06:13.235Z"
   },
   {
    "duration": 11,
    "start_time": "2023-03-27T22:06:13.261Z"
   },
   {
    "duration": 10,
    "start_time": "2023-03-27T22:06:13.274Z"
   },
   {
    "duration": 32,
    "start_time": "2023-03-27T22:06:13.287Z"
   },
   {
    "duration": 25,
    "start_time": "2023-03-27T22:06:13.321Z"
   },
   {
    "duration": 20,
    "start_time": "2023-03-27T22:06:13.348Z"
   },
   {
    "duration": 12,
    "start_time": "2023-03-27T22:06:13.370Z"
   },
   {
    "duration": 1453408,
    "start_time": "2023-03-27T22:06:13.386Z"
   },
   {
    "duration": 200,
    "start_time": "2023-03-27T22:30:26.796Z"
   },
   {
    "duration": 0,
    "start_time": "2023-03-27T22:30:26.998Z"
   },
   {
    "duration": 0,
    "start_time": "2023-03-27T22:30:27.005Z"
   },
   {
    "duration": 0,
    "start_time": "2023-03-27T22:30:27.007Z"
   },
   {
    "duration": 0,
    "start_time": "2023-03-27T22:30:27.008Z"
   },
   {
    "duration": 0,
    "start_time": "2023-03-27T22:30:27.010Z"
   },
   {
    "duration": 260042,
    "start_time": "2023-03-27T22:31:18.905Z"
   },
   {
    "duration": 11043,
    "start_time": "2023-03-27T22:35:38.949Z"
   },
   {
    "duration": 27,
    "start_time": "2023-03-27T22:35:49.993Z"
   },
   {
    "duration": 0,
    "start_time": "2023-03-27T22:35:50.021Z"
   },
   {
    "duration": 11,
    "start_time": "2023-03-27T22:51:01.842Z"
   },
   {
    "duration": 1158,
    "start_time": "2023-03-29T16:41:39.751Z"
   },
   {
    "duration": 129,
    "start_time": "2023-03-29T16:41:46.417Z"
   },
   {
    "duration": 11,
    "start_time": "2023-03-29T16:41:47.226Z"
   },
   {
    "duration": 6,
    "start_time": "2023-03-29T16:41:47.560Z"
   },
   {
    "duration": 6,
    "start_time": "2023-03-29T16:41:48.926Z"
   },
   {
    "duration": 24,
    "start_time": "2023-03-29T16:41:49.056Z"
   },
   {
    "duration": 6,
    "start_time": "2023-03-29T16:41:49.801Z"
   },
   {
    "duration": 6,
    "start_time": "2023-03-29T16:41:52.437Z"
   },
   {
    "duration": 4,
    "start_time": "2023-03-29T16:43:55.626Z"
   },
   {
    "duration": 7,
    "start_time": "2023-03-29T16:44:16.122Z"
   },
   {
    "duration": 4,
    "start_time": "2023-03-29T16:44:34.261Z"
   },
   {
    "duration": 6,
    "start_time": "2023-03-29T16:44:42.528Z"
   },
   {
    "duration": 4,
    "start_time": "2023-03-29T16:44:43.129Z"
   },
   {
    "duration": 62781,
    "start_time": "2023-03-29T16:48:10.194Z"
   },
   {
    "duration": 96,
    "start_time": "2023-03-29T16:51:22.689Z"
   },
   {
    "duration": 11,
    "start_time": "2023-03-29T16:51:54.902Z"
   },
   {
    "duration": 86618,
    "start_time": "2023-03-29T16:52:03.966Z"
   },
   {
    "duration": 257216,
    "start_time": "2023-03-29T16:54:58.305Z"
   },
   {
    "duration": 461,
    "start_time": "2023-03-29T17:00:25.076Z"
   },
   {
    "duration": 1827,
    "start_time": "2023-03-29T17:00:33.030Z"
   },
   {
    "duration": 1048,
    "start_time": "2023-03-29T17:01:57.173Z"
   },
   {
    "duration": 121,
    "start_time": "2023-03-29T17:05:56.739Z"
   },
   {
    "duration": 86,
    "start_time": "2023-03-29T17:06:45.013Z"
   },
   {
    "duration": 75,
    "start_time": "2023-03-29T17:06:52.266Z"
   },
   {
    "duration": 10,
    "start_time": "2023-03-29T17:09:03.276Z"
   },
   {
    "duration": 1151,
    "start_time": "2023-03-29T17:15:28.455Z"
   },
   {
    "duration": 41,
    "start_time": "2023-03-29T17:15:29.608Z"
   },
   {
    "duration": 19,
    "start_time": "2023-03-29T17:15:29.650Z"
   },
   {
    "duration": 57,
    "start_time": "2023-03-29T17:15:29.672Z"
   },
   {
    "duration": 36,
    "start_time": "2023-03-29T17:15:29.731Z"
   },
   {
    "duration": 60,
    "start_time": "2023-03-29T17:15:29.770Z"
   },
   {
    "duration": 34,
    "start_time": "2023-03-29T17:15:29.832Z"
   },
   {
    "duration": 35,
    "start_time": "2023-03-29T17:15:29.867Z"
   },
   {
    "duration": 21,
    "start_time": "2023-03-29T17:15:29.904Z"
   },
   {
    "duration": 64448,
    "start_time": "2023-03-29T17:15:29.927Z"
   },
   {
    "duration": 92192,
    "start_time": "2023-03-29T17:16:34.376Z"
   },
   {
    "duration": 1812,
    "start_time": "2023-03-29T17:18:06.569Z"
   },
   {
    "duration": 1155,
    "start_time": "2023-03-29T17:18:08.385Z"
   },
   {
    "duration": 86,
    "start_time": "2023-03-29T17:18:09.542Z"
   },
   {
    "duration": 9,
    "start_time": "2023-03-29T17:18:09.630Z"
   },
   {
    "duration": 2174,
    "start_time": "2023-03-29T18:18:04.296Z"
   },
   {
    "duration": 42,
    "start_time": "2023-03-29T18:18:06.472Z"
   },
   {
    "duration": 14,
    "start_time": "2023-03-29T18:18:06.516Z"
   },
   {
    "duration": 12,
    "start_time": "2023-03-29T18:18:06.533Z"
   },
   {
    "duration": 29,
    "start_time": "2023-03-29T18:18:06.547Z"
   },
   {
    "duration": 76,
    "start_time": "2023-03-29T18:18:06.578Z"
   },
   {
    "duration": 14,
    "start_time": "2023-03-29T18:18:06.655Z"
   },
   {
    "duration": 8,
    "start_time": "2023-03-29T18:18:06.670Z"
   },
   {
    "duration": 17,
    "start_time": "2023-03-29T18:18:06.679Z"
   },
   {
    "duration": 56607,
    "start_time": "2023-03-29T18:18:06.698Z"
   },
   {
    "duration": 79865,
    "start_time": "2023-03-29T18:19:03.307Z"
   },
   {
    "duration": 1477,
    "start_time": "2023-03-29T18:20:23.174Z"
   },
   {
    "duration": 963,
    "start_time": "2023-03-29T18:20:24.653Z"
   },
   {
    "duration": 74,
    "start_time": "2023-03-29T18:20:25.618Z"
   },
   {
    "duration": 7,
    "start_time": "2023-03-29T18:20:25.694Z"
   }
  ],
  "kernelspec": {
   "display_name": "Python 3 (ipykernel)",
   "language": "python",
   "name": "python3"
  },
  "language_info": {
   "codemirror_mode": {
    "name": "ipython",
    "version": 3
   },
   "file_extension": ".py",
   "mimetype": "text/x-python",
   "name": "python",
   "nbconvert_exporter": "python",
   "pygments_lexer": "ipython3",
   "version": "3.9.5"
  },
  "toc": {
   "base_numbering": 1,
   "nav_menu": {},
   "number_sections": true,
   "sideBar": true,
   "skip_h1_title": true,
   "title_cell": "Table of Contents",
   "title_sidebar": "Contents",
   "toc_cell": false,
   "toc_position": {},
   "toc_section_display": true,
   "toc_window_display": false
  }
 },
 "nbformat": 4,
 "nbformat_minor": 2
}
