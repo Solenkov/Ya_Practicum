{
 "cells": [
  {
   "cell_type": "markdown",
   "metadata": {},
   "source": [
    "##  Исследование продаж компьютерных игр\n",
    "\n",
    "В нашем распоряжении датасет с данными о продажах компьютерных игр. Фичи - исторические данные о продажах игр, оценки пользователей и экспертов, жанры и платформы (например, Xbox или PlayStation).  \n",
    "**Цель:**   \n",
    "Нужно выявить определяющие успешность игры закономерности, что позволит сделать ставку на потенциально популярный продукт и спланировать рекламные кампании.  \n",
    "\n",
    "**Ход исследования:**  \n",
    "1. Подготовка данных. Данные предоставлены платформой в виде файла. О данных ничего не известно, поэтому предварительно их оценим на пропуски, дубликаты, выбросы.  \n",
    "2. Исследовательский анализ данных. Посмотрим различные закономерности между признаками.  \n",
    "3. Составим портрет пользователя в зависимости от региона (NA, EU, JP).  \n",
    "4. Проверим гипотезы:  \n",
    "Средние пользовательские рейтинги платформ Xbox One и PC одинаковые;  \n",
    "Средние пользовательские рейтинги жанров Action (англ. «действие», экшен-игры) и Sports (англ. «спортивные соревнования») разные.\n"
   ]
  },
  {
   "cell_type": "code",
   "execution_count": 1,
   "metadata": {},
   "outputs": [],
   "source": [
    "import pandas as pd\n",
    "import numpy as np\n",
    "from scipy import stats as st\n",
    "\n",
    "#from pandas_profiling import ProfileReport\n",
    "\n",
    "import re\n",
    "import time\n",
    "import requests\n",
    "from bs4 import BeautifulSoup\n",
    "\n",
    "import matplotlib.pyplot as plt\n",
    "import seaborn as sns\n",
    "%matplotlib inline\n",
    "\n",
    "from sklearn.feature_selection import f_classif\n",
    "from sklearn.ensemble import RandomForestRegressor\n",
    "\n",
    "\n",
    "import warnings\n",
    "warnings.filterwarnings(\"ignore\")\n",
    "\n",
    "pd.set_option('display.max_rows', 50) \n",
    "pd.set_option('display.max_columns', 50)"
   ]
  },
  {
   "cell_type": "code",
   "execution_count": 2,
   "metadata": {},
   "outputs": [],
   "source": [
    "# functions place\n",
    "\n",
    "def get_soup(url):\n",
    "    \"\"\"\n",
    "    на вход ссылка\n",
    "    имитируем поведение браузера\n",
    "    возвращаем объект - 'супчик'\n",
    "    \"\"\"\n",
    "  \n",
    "    headers = {'User-Agent': 'Mozilla/5.0 (Macintosh; Intel Mac OS X 10_11_6) AppleWebKit/537.36 (KHTML, like Gecko) Chrome/61.0.3163.100 Safari/537.36',\n",
    "            #'User-Agent': '*',\n",
    "             'Accept': 'text/html,application/xhtml+xml,application/xml;q=0.9,*/*;q=0.8',\n",
    "             'Accept-Language': 'en-US,en;q=0.5',\n",
    "             'Accept-Encoding': 'gzip, deflate',\n",
    "             'Connection': 'keep-alive',\n",
    "             'Upgrade-Insecure-Requests': '1',\n",
    "            }\n",
    "    \n",
    "    try:\n",
    "        s = requests.Session()\n",
    "        s.headers.update(headers)\n",
    "        r = s.get(url,allow_redirects=False)\n",
    "    except:\n",
    "        return 0\n",
    "    if r.status_code != 200:\n",
    "        return 0\n",
    "    else:\n",
    "        return BeautifulSoup(r.text, 'html.parser')\n",
    "    \n",
    "\n",
    "def f_look_category_feature(data, feature):\n",
    "    (\n",
    "    data.groupby(feature)\n",
    "    [feature].agg(['count'])\n",
    "    .sort_values(by='count', ascending=False)\n",
    "    .plot(kind='bar', figsize=(15,7))\n",
    "    )\n",
    "\n",
    "def make_plot(data, feature, sales='total_sales', years='year_of_release', year_min=1990, year_max=2016, lim=0.1):\n",
    "    \"\"\"\n",
    "    Строим график признака по годам\n",
    "    \"\"\"\n",
    "    # сгруппируем по признаку, по умолчанию total_sales, \n",
    "    gr_feature = data.groupby(feature).agg({sales:'sum'}).sort_values(by=sales, ascending=False)\n",
    "    pop_features = gr_feature[:12].index.to_list()\n",
    "    \n",
    "    # строим график\n",
    "    plt.figure(figsize=(15, 7))\n",
    "    for sign in pop_features:\n",
    "        feature_per_year = (\n",
    "                            data.loc[data[feature]==sign][[years, sales]]\n",
    "                            .groupby(years)\n",
    "                            .agg({sales:'sum'})\n",
    "                            )\n",
    "        #plt.plot(feature_per_year[feature_per_year[sales] > feature_per_year[sales].quantile(lim)], label = sign)\n",
    "        plt.plot(feature_per_year, label = sign)\n",
    "\n",
    "    plt.xticks(data.year_of_release.unique(), rotation=45)\n",
    "    plt.xlim(year_min, year_max)\n",
    "    plt.legend()\n",
    "    plt.grid(linestyle='-');\n",
    "\n",
    "\n",
    "region_sales = ['na_sales', 'eu_sales', 'jp_sales', 'other_sales']\n",
    "\n",
    "def check_region(data, region, feature):\n",
    "    reg_feature = data.groupby(feature).agg({region:'sum'}).sort_values(by=region, ascending=False).head()\n",
    "    reg_feature.plot(kind='bar')\n",
    "    plt.show()\n",
    "    reg_feature['percents'] = round(100*reg_feature[region]/reg_feature[region].sum(),1)\n",
    "    display(reg_feature[['percents']])\n",
    "\n",
    "def namestr(obj, namespace):\n",
    "    return [name for name in namespace if namespace[name] is obj]\n",
    "\n",
    "def print_mesures(serie):\n",
    "    print(f\"\"\"Меры для {namestr(serie, globals())[0]} \n",
    "     медиана - {serie.describe().iloc[5].round(2)}\n",
    "     среднее - {serie.describe().iloc[1].round(2)}\n",
    "     минимум - {serie.describe().iloc[3].round(2)}\n",
    "     максимум - {serie.describe().iloc[7].round(2)}\n",
    "     стандартное отклонение - {serie.describe().iloc[2].round(2)}\n",
    "     \"\"\")\n",
    "    print('-'*60)\n"
   ]
  },
  {
   "cell_type": "code",
   "execution_count": 3,
   "metadata": {},
   "outputs": [
    {
     "data": {
      "text/html": [
       "<div>\n",
       "<style scoped>\n",
       "    .dataframe tbody tr th:only-of-type {\n",
       "        vertical-align: middle;\n",
       "    }\n",
       "\n",
       "    .dataframe tbody tr th {\n",
       "        vertical-align: top;\n",
       "    }\n",
       "\n",
       "    .dataframe thead th {\n",
       "        text-align: right;\n",
       "    }\n",
       "</style>\n",
       "<table border=\"1\" class=\"dataframe\">\n",
       "  <thead>\n",
       "    <tr style=\"text-align: right;\">\n",
       "      <th></th>\n",
       "      <th>Name</th>\n",
       "      <th>Platform</th>\n",
       "      <th>Year_of_Release</th>\n",
       "      <th>Genre</th>\n",
       "      <th>NA_sales</th>\n",
       "      <th>EU_sales</th>\n",
       "      <th>JP_sales</th>\n",
       "      <th>Other_sales</th>\n",
       "      <th>Critic_Score</th>\n",
       "      <th>User_Score</th>\n",
       "      <th>Rating</th>\n",
       "    </tr>\n",
       "  </thead>\n",
       "  <tbody>\n",
       "    <tr>\n",
       "      <th>7777</th>\n",
       "      <td>Conflict: Denied Ops</td>\n",
       "      <td>X360</td>\n",
       "      <td>2008.0</td>\n",
       "      <td>Shooter</td>\n",
       "      <td>0.08</td>\n",
       "      <td>0.09</td>\n",
       "      <td>0.0</td>\n",
       "      <td>0.02</td>\n",
       "      <td>52.0</td>\n",
       "      <td>4.9</td>\n",
       "      <td>M</td>\n",
       "    </tr>\n",
       "    <tr>\n",
       "      <th>13953</th>\n",
       "      <td>Crypt Killer</td>\n",
       "      <td>PS</td>\n",
       "      <td>1997.0</td>\n",
       "      <td>Shooter</td>\n",
       "      <td>0.02</td>\n",
       "      <td>0.01</td>\n",
       "      <td>0.0</td>\n",
       "      <td>0.00</td>\n",
       "      <td>NaN</td>\n",
       "      <td>NaN</td>\n",
       "      <td>NaN</td>\n",
       "    </tr>\n",
       "  </tbody>\n",
       "</table>\n",
       "</div>"
      ],
      "text/plain": [
       "                       Name Platform  Year_of_Release    Genre  NA_sales  \\\n",
       "7777   Conflict: Denied Ops     X360           2008.0  Shooter      0.08   \n",
       "13953          Crypt Killer       PS           1997.0  Shooter      0.02   \n",
       "\n",
       "       EU_sales  JP_sales  Other_sales  Critic_Score User_Score Rating  \n",
       "7777       0.09       0.0         0.02          52.0        4.9      M  \n",
       "13953      0.01       0.0         0.00           NaN        NaN    NaN  "
      ]
     },
     "execution_count": 3,
     "metadata": {},
     "output_type": "execute_result"
    }
   ],
   "source": [
    "try:\n",
    "    data = pd.read_csv('games.csv')\n",
    "except:\n",
    "    data = pd.read_csv('/datasets/games.csv')\n",
    "df = data.copy() # оставим себе копию для проверки\n",
    "data.sample(2)"
   ]
  },
  {
   "cell_type": "markdown",
   "metadata": {},
   "source": [
    "### Описание данных\n",
    "- Name — название игры  \n",
    "- Platform — платформа  \n",
    "- Year_of_Release — год выпуска  \n",
    "- Genre — жанр игры  \n",
    "- NA_sales — продажи в Северной Америке (миллионы проданных копий)  \n",
    "- EU_sales — продажи в Европе (миллионы проданных копий)  \n",
    "- JP_sales — продажи в Японии (миллионы проданных копий)  \n",
    "- Other_sales — продажи в других странах (миллионы проданных копий)  \n",
    "- Critic_Score — оценка критиков (максимум 100)  \n",
    "- User_Score — оценка пользователей (максимум 10)  \n",
    "- Rating — рейтинг от организации ESRB (англ. Entertainment Software Rating Board). Эта ассоциация определяет рейтинг компьютерных игр и присваивает им подходящую возрастную категорию."
   ]
  },
  {
   "cell_type": "code",
   "execution_count": 4,
   "metadata": {},
   "outputs": [
    {
     "name": "stdout",
     "output_type": "stream",
     "text": [
      "<class 'pandas.core.frame.DataFrame'>\n",
      "RangeIndex: 16715 entries, 0 to 16714\n",
      "Data columns (total 11 columns):\n",
      " #   Column           Non-Null Count  Dtype  \n",
      "---  ------           --------------  -----  \n",
      " 0   Name             16713 non-null  object \n",
      " 1   Platform         16715 non-null  object \n",
      " 2   Year_of_Release  16446 non-null  float64\n",
      " 3   Genre            16713 non-null  object \n",
      " 4   NA_sales         16715 non-null  float64\n",
      " 5   EU_sales         16715 non-null  float64\n",
      " 6   JP_sales         16715 non-null  float64\n",
      " 7   Other_sales      16715 non-null  float64\n",
      " 8   Critic_Score     8137 non-null   float64\n",
      " 9   User_Score       10014 non-null  object \n",
      " 10  Rating           9949 non-null   object \n",
      "dtypes: float64(6), object(5)\n",
      "memory usage: 1.4+ MB\n"
     ]
    }
   ],
   "source": [
    "# посмотрим на датасет\n",
    "data.info()"
   ]
  },
  {
   "cell_type": "markdown",
   "metadata": {},
   "source": [
    "- Видим, что в датасете 16.7 тыс строк.\n",
    "- Много пропусков (40-50%) в ранговых оценках: Critic_Score, User_Score, Rating\n",
    "- В остальных признаках пропусков немного\n",
    "- Год релиза зачем то имеет тип float\n",
    "- Рейтинговые оценки Rating и User_Score почему то в формате object"
   ]
  },
  {
   "cell_type": "code",
   "execution_count": 5,
   "metadata": {},
   "outputs": [
    {
     "data": {
      "image/png": "[encoded data removed]",
      "text/plain": [
       "<Figure size 1440x1080 with 6 Axes>"
      ]
     },
     "metadata": {
      "needs_background": "light"
     },
     "output_type": "display_data"
    }
   ],
   "source": [
    "# посмотрим на гистограммы, но данных таким образом немного. Смотреть надо каждый признак индивидуально\n",
    "# и следующий примененный метод подходит для этого намного лучше\n",
    "data.hist(figsize=(20,15));\n"
   ]
  },
  {
   "cell_type": "code",
   "execution_count": 6,
   "metadata": {},
   "outputs": [],
   "source": [
    "# Мне больше нравится метод ProfileReport из pandas_profiling. Дает более полное первичное описание признаков\n",
    "#profile = ProfileReport(data)\n",
    "# profile"
   ]
  },
  {
   "cell_type": "code",
   "execution_count": 7,
   "metadata": {},
   "outputs": [],
   "source": [
    "# скинем отчет в отдельный html файл для удобства\n",
    "#profile.to_file(r\"first_look_games_sales.html\")"
   ]
  },
  {
   "cell_type": "markdown",
   "metadata": {},
   "source": [
    "### Предобработка"
   ]
  },
  {
   "cell_type": "code",
   "execution_count": 8,
   "metadata": {},
   "outputs": [],
   "source": [
    "# Приведём названия столбцов к нижнему регистру\n",
    "data.columns = data.columns.str.lower()"
   ]
  },
  {
   "cell_type": "code",
   "execution_count": 9,
   "metadata": {},
   "outputs": [
    {
     "data": {
      "text/plain": [
       "0"
      ]
     },
     "execution_count": 9,
     "metadata": {},
     "output_type": "execute_result"
    }
   ],
   "source": [
    "# Посмотрим на полные дубликаты.\n",
    "data.duplicated().sum()"
   ]
  },
  {
   "cell_type": "markdown",
   "metadata": {},
   "source": [
    "Видим, что полных дубликатов в датасете нет.  \n",
    "Теперь помотрим на каждый признак индивидуально"
   ]
  },
  {
   "cell_type": "markdown",
   "metadata": {},
   "source": [
    "**name**  \n",
    "Название игры."
   ]
  },
  {
   "cell_type": "code",
   "execution_count": 10,
   "metadata": {},
   "outputs": [
    {
     "data": {
      "text/html": [
       "<div>\n",
       "<style scoped>\n",
       "    .dataframe tbody tr th:only-of-type {\n",
       "        vertical-align: middle;\n",
       "    }\n",
       "\n",
       "    .dataframe tbody tr th {\n",
       "        vertical-align: top;\n",
       "    }\n",
       "\n",
       "    .dataframe thead th {\n",
       "        text-align: right;\n",
       "    }\n",
       "</style>\n",
       "<table border=\"1\" class=\"dataframe\">\n",
       "  <thead>\n",
       "    <tr style=\"text-align: right;\">\n",
       "      <th></th>\n",
       "      <th>name</th>\n",
       "      <th>platform</th>\n",
       "      <th>year_of_release</th>\n",
       "      <th>genre</th>\n",
       "      <th>na_sales</th>\n",
       "      <th>eu_sales</th>\n",
       "      <th>jp_sales</th>\n",
       "      <th>other_sales</th>\n",
       "      <th>critic_score</th>\n",
       "      <th>user_score</th>\n",
       "      <th>rating</th>\n",
       "    </tr>\n",
       "  </thead>\n",
       "  <tbody>\n",
       "    <tr>\n",
       "      <th>659</th>\n",
       "      <td>NaN</td>\n",
       "      <td>GEN</td>\n",
       "      <td>1993.0</td>\n",
       "      <td>NaN</td>\n",
       "      <td>1.78</td>\n",
       "      <td>0.53</td>\n",
       "      <td>0.00</td>\n",
       "      <td>0.08</td>\n",
       "      <td>NaN</td>\n",
       "      <td>NaN</td>\n",
       "      <td>NaN</td>\n",
       "    </tr>\n",
       "    <tr>\n",
       "      <th>14244</th>\n",
       "      <td>NaN</td>\n",
       "      <td>GEN</td>\n",
       "      <td>1993.0</td>\n",
       "      <td>NaN</td>\n",
       "      <td>0.00</td>\n",
       "      <td>0.00</td>\n",
       "      <td>0.03</td>\n",
       "      <td>0.00</td>\n",
       "      <td>NaN</td>\n",
       "      <td>NaN</td>\n",
       "      <td>NaN</td>\n",
       "    </tr>\n",
       "  </tbody>\n",
       "</table>\n",
       "</div>"
      ],
      "text/plain": [
       "      name platform  year_of_release genre  na_sales  eu_sales  jp_sales  \\\n",
       "659    NaN      GEN           1993.0   NaN      1.78      0.53      0.00   \n",
       "14244  NaN      GEN           1993.0   NaN      0.00      0.00      0.03   \n",
       "\n",
       "       other_sales  critic_score user_score rating  \n",
       "659           0.08           NaN        NaN    NaN  \n",
       "14244         0.00           NaN        NaN    NaN  "
      ]
     },
     "execution_count": 10,
     "metadata": {},
     "output_type": "execute_result"
    }
   ],
   "source": [
    "# Есть два пропуска у каких-то игр 93-го года. Кстати у них же пропуски и в столбце жанр. \n",
    "data[data['name'].isna()]"
   ]
  },
  {
   "cell_type": "code",
   "execution_count": 11,
   "metadata": {},
   "outputs": [],
   "source": [
    "# Не надо нам такие безымянные игры \n",
    "data = data[~data['name'].isna()]"
   ]
  },
  {
   "cell_type": "code",
   "execution_count": 12,
   "metadata": {},
   "outputs": [
    {
     "data": {
      "text/plain": [
       "11559"
      ]
     },
     "execution_count": 12,
     "metadata": {},
     "output_type": "execute_result"
    }
   ],
   "source": [
    "# Всего уникальных значений\n",
    "data['name'].nunique()"
   ]
  },
  {
   "cell_type": "code",
   "execution_count": 13,
   "metadata": {},
   "outputs": [
    {
     "data": {
      "text/html": [
       "<div>\n",
       "<style scoped>\n",
       "    .dataframe tbody tr th:only-of-type {\n",
       "        vertical-align: middle;\n",
       "    }\n",
       "\n",
       "    .dataframe tbody tr th {\n",
       "        vertical-align: top;\n",
       "    }\n",
       "\n",
       "    .dataframe thead th {\n",
       "        text-align: right;\n",
       "    }\n",
       "</style>\n",
       "<table border=\"1\" class=\"dataframe\">\n",
       "  <thead>\n",
       "    <tr style=\"text-align: right;\">\n",
       "      <th></th>\n",
       "      <th>name</th>\n",
       "      <th>platform</th>\n",
       "      <th>year_of_release</th>\n",
       "      <th>genre</th>\n",
       "      <th>na_sales</th>\n",
       "      <th>eu_sales</th>\n",
       "      <th>jp_sales</th>\n",
       "      <th>other_sales</th>\n",
       "      <th>critic_score</th>\n",
       "      <th>user_score</th>\n",
       "      <th>rating</th>\n",
       "    </tr>\n",
       "  </thead>\n",
       "  <tbody>\n",
       "    <tr>\n",
       "      <th>126</th>\n",
       "      <td>FIFA 14</td>\n",
       "      <td>PS3</td>\n",
       "      <td>2013.0</td>\n",
       "      <td>Sports</td>\n",
       "      <td>0.78</td>\n",
       "      <td>4.24</td>\n",
       "      <td>0.07</td>\n",
       "      <td>1.37</td>\n",
       "      <td>86.0</td>\n",
       "      <td>4.3</td>\n",
       "      <td>E</td>\n",
       "    </tr>\n",
       "    <tr>\n",
       "      <th>253</th>\n",
       "      <td>Need for Speed: Most Wanted</td>\n",
       "      <td>PS2</td>\n",
       "      <td>2005.0</td>\n",
       "      <td>Racing</td>\n",
       "      <td>2.03</td>\n",
       "      <td>1.79</td>\n",
       "      <td>0.08</td>\n",
       "      <td>0.47</td>\n",
       "      <td>82.0</td>\n",
       "      <td>9.1</td>\n",
       "      <td>T</td>\n",
       "    </tr>\n",
       "    <tr>\n",
       "      <th>271</th>\n",
       "      <td>FIFA 14</td>\n",
       "      <td>X360</td>\n",
       "      <td>2013.0</td>\n",
       "      <td>Sports</td>\n",
       "      <td>0.92</td>\n",
       "      <td>2.89</td>\n",
       "      <td>0.01</td>\n",
       "      <td>0.40</td>\n",
       "      <td>84.0</td>\n",
       "      <td>4.2</td>\n",
       "      <td>E</td>\n",
       "    </tr>\n",
       "    <tr>\n",
       "      <th>469</th>\n",
       "      <td>FIFA 14</td>\n",
       "      <td>PS4</td>\n",
       "      <td>2013.0</td>\n",
       "      <td>Sports</td>\n",
       "      <td>0.61</td>\n",
       "      <td>1.85</td>\n",
       "      <td>0.11</td>\n",
       "      <td>0.44</td>\n",
       "      <td>87.0</td>\n",
       "      <td>6.3</td>\n",
       "      <td>E</td>\n",
       "    </tr>\n",
       "    <tr>\n",
       "      <th>523</th>\n",
       "      <td>Need for Speed: Most Wanted</td>\n",
       "      <td>PS3</td>\n",
       "      <td>2012.0</td>\n",
       "      <td>Racing</td>\n",
       "      <td>0.71</td>\n",
       "      <td>1.46</td>\n",
       "      <td>0.06</td>\n",
       "      <td>0.58</td>\n",
       "      <td>NaN</td>\n",
       "      <td>NaN</td>\n",
       "      <td>NaN</td>\n",
       "    </tr>\n",
       "    <tr>\n",
       "      <th>730</th>\n",
       "      <td>LEGO Marvel Super Heroes</td>\n",
       "      <td>X360</td>\n",
       "      <td>2013.0</td>\n",
       "      <td>Action</td>\n",
       "      <td>1.24</td>\n",
       "      <td>0.79</td>\n",
       "      <td>0.00</td>\n",
       "      <td>0.19</td>\n",
       "      <td>80.0</td>\n",
       "      <td>7.6</td>\n",
       "      <td>E10+</td>\n",
       "    </tr>\n",
       "    <tr>\n",
       "      <th>945</th>\n",
       "      <td>LEGO Marvel Super Heroes</td>\n",
       "      <td>PS3</td>\n",
       "      <td>2013.0</td>\n",
       "      <td>Action</td>\n",
       "      <td>0.77</td>\n",
       "      <td>0.76</td>\n",
       "      <td>0.01</td>\n",
       "      <td>0.29</td>\n",
       "      <td>82.0</td>\n",
       "      <td>7.9</td>\n",
       "      <td>E10+</td>\n",
       "    </tr>\n",
       "    <tr>\n",
       "      <th>1139</th>\n",
       "      <td>LEGO Marvel Super Heroes</td>\n",
       "      <td>PS4</td>\n",
       "      <td>2013.0</td>\n",
       "      <td>Action</td>\n",
       "      <td>0.59</td>\n",
       "      <td>0.76</td>\n",
       "      <td>0.01</td>\n",
       "      <td>0.26</td>\n",
       "      <td>83.0</td>\n",
       "      <td>7.7</td>\n",
       "      <td>E10+</td>\n",
       "    </tr>\n",
       "    <tr>\n",
       "      <th>1190</th>\n",
       "      <td>Need for Speed: Most Wanted</td>\n",
       "      <td>X360</td>\n",
       "      <td>2012.0</td>\n",
       "      <td>Racing</td>\n",
       "      <td>0.62</td>\n",
       "      <td>0.78</td>\n",
       "      <td>0.01</td>\n",
       "      <td>0.15</td>\n",
       "      <td>83.0</td>\n",
       "      <td>8.5</td>\n",
       "      <td>T</td>\n",
       "    </tr>\n",
       "    <tr>\n",
       "      <th>1591</th>\n",
       "      <td>Need for Speed: Most Wanted</td>\n",
       "      <td>X360</td>\n",
       "      <td>2005.0</td>\n",
       "      <td>Racing</td>\n",
       "      <td>1.00</td>\n",
       "      <td>0.13</td>\n",
       "      <td>0.02</td>\n",
       "      <td>0.10</td>\n",
       "      <td>83.0</td>\n",
       "      <td>8.5</td>\n",
       "      <td>T</td>\n",
       "    </tr>\n",
       "    <tr>\n",
       "      <th>1753</th>\n",
       "      <td>FIFA 14</td>\n",
       "      <td>XOne</td>\n",
       "      <td>2013.0</td>\n",
       "      <td>Sports</td>\n",
       "      <td>0.41</td>\n",
       "      <td>0.66</td>\n",
       "      <td>0.00</td>\n",
       "      <td>0.09</td>\n",
       "      <td>88.0</td>\n",
       "      <td>5.8</td>\n",
       "      <td>E</td>\n",
       "    </tr>\n",
       "    <tr>\n",
       "      <th>1959</th>\n",
       "      <td>LEGO Marvel Super Heroes</td>\n",
       "      <td>XOne</td>\n",
       "      <td>2013.0</td>\n",
       "      <td>Action</td>\n",
       "      <td>0.61</td>\n",
       "      <td>0.35</td>\n",
       "      <td>0.00</td>\n",
       "      <td>0.09</td>\n",
       "      <td>NaN</td>\n",
       "      <td>6.8</td>\n",
       "      <td>E10+</td>\n",
       "    </tr>\n",
       "    <tr>\n",
       "      <th>1998</th>\n",
       "      <td>Need for Speed: Most Wanted</td>\n",
       "      <td>XB</td>\n",
       "      <td>2005.0</td>\n",
       "      <td>Racing</td>\n",
       "      <td>0.53</td>\n",
       "      <td>0.46</td>\n",
       "      <td>0.00</td>\n",
       "      <td>0.05</td>\n",
       "      <td>83.0</td>\n",
       "      <td>8.8</td>\n",
       "      <td>T</td>\n",
       "    </tr>\n",
       "    <tr>\n",
       "      <th>2048</th>\n",
       "      <td>Need for Speed: Most Wanted</td>\n",
       "      <td>PSV</td>\n",
       "      <td>2012.0</td>\n",
       "      <td>Racing</td>\n",
       "      <td>0.33</td>\n",
       "      <td>0.45</td>\n",
       "      <td>0.01</td>\n",
       "      <td>0.22</td>\n",
       "      <td>NaN</td>\n",
       "      <td>NaN</td>\n",
       "      <td>NaN</td>\n",
       "    </tr>\n",
       "    <tr>\n",
       "      <th>2313</th>\n",
       "      <td>LEGO Marvel Super Heroes</td>\n",
       "      <td>3DS</td>\n",
       "      <td>2013.0</td>\n",
       "      <td>Action</td>\n",
       "      <td>0.42</td>\n",
       "      <td>0.36</td>\n",
       "      <td>0.04</td>\n",
       "      <td>0.07</td>\n",
       "      <td>61.0</td>\n",
       "      <td>5.2</td>\n",
       "      <td>E10+</td>\n",
       "    </tr>\n",
       "    <tr>\n",
       "      <th>2778</th>\n",
       "      <td>LEGO Marvel Super Heroes</td>\n",
       "      <td>WiiU</td>\n",
       "      <td>2013.0</td>\n",
       "      <td>Action</td>\n",
       "      <td>0.31</td>\n",
       "      <td>0.35</td>\n",
       "      <td>0.02</td>\n",
       "      <td>0.06</td>\n",
       "      <td>82.0</td>\n",
       "      <td>8</td>\n",
       "      <td>E10+</td>\n",
       "    </tr>\n",
       "    <tr>\n",
       "      <th>3581</th>\n",
       "      <td>Need for Speed: Most Wanted</td>\n",
       "      <td>GC</td>\n",
       "      <td>2005.0</td>\n",
       "      <td>Racing</td>\n",
       "      <td>0.43</td>\n",
       "      <td>0.11</td>\n",
       "      <td>0.00</td>\n",
       "      <td>0.02</td>\n",
       "      <td>80.0</td>\n",
       "      <td>9.1</td>\n",
       "      <td>T</td>\n",
       "    </tr>\n",
       "    <tr>\n",
       "      <th>3876</th>\n",
       "      <td>LEGO Marvel Super Heroes</td>\n",
       "      <td>PSV</td>\n",
       "      <td>2013.0</td>\n",
       "      <td>Action</td>\n",
       "      <td>0.11</td>\n",
       "      <td>0.29</td>\n",
       "      <td>0.00</td>\n",
       "      <td>0.11</td>\n",
       "      <td>NaN</td>\n",
       "      <td>NaN</td>\n",
       "      <td>NaN</td>\n",
       "    </tr>\n",
       "    <tr>\n",
       "      <th>4699</th>\n",
       "      <td>FIFA 14</td>\n",
       "      <td>PSV</td>\n",
       "      <td>2013.0</td>\n",
       "      <td>Sports</td>\n",
       "      <td>0.08</td>\n",
       "      <td>0.23</td>\n",
       "      <td>0.01</td>\n",
       "      <td>0.09</td>\n",
       "      <td>NaN</td>\n",
       "      <td>1.8</td>\n",
       "      <td>E</td>\n",
       "    </tr>\n",
       "    <tr>\n",
       "      <th>4809</th>\n",
       "      <td>FIFA 14</td>\n",
       "      <td>PC</td>\n",
       "      <td>2013.0</td>\n",
       "      <td>Sports</td>\n",
       "      <td>0.01</td>\n",
       "      <td>0.36</td>\n",
       "      <td>0.00</td>\n",
       "      <td>0.03</td>\n",
       "      <td>87.0</td>\n",
       "      <td>4.6</td>\n",
       "      <td>E</td>\n",
       "    </tr>\n",
       "    <tr>\n",
       "      <th>4985</th>\n",
       "      <td>FIFA 14</td>\n",
       "      <td>Wii</td>\n",
       "      <td>2013.0</td>\n",
       "      <td>Sports</td>\n",
       "      <td>0.00</td>\n",
       "      <td>0.36</td>\n",
       "      <td>0.00</td>\n",
       "      <td>0.02</td>\n",
       "      <td>NaN</td>\n",
       "      <td>4.3</td>\n",
       "      <td>E</td>\n",
       "    </tr>\n",
       "    <tr>\n",
       "      <th>5054</th>\n",
       "      <td>LEGO Marvel Super Heroes</td>\n",
       "      <td>DS</td>\n",
       "      <td>2013.0</td>\n",
       "      <td>Action</td>\n",
       "      <td>0.22</td>\n",
       "      <td>0.13</td>\n",
       "      <td>0.00</td>\n",
       "      <td>0.03</td>\n",
       "      <td>NaN</td>\n",
       "      <td>4.8</td>\n",
       "      <td>E10+</td>\n",
       "    </tr>\n",
       "    <tr>\n",
       "      <th>5972</th>\n",
       "      <td>Need for Speed: Most Wanted</td>\n",
       "      <td>PC</td>\n",
       "      <td>2005.0</td>\n",
       "      <td>Racing</td>\n",
       "      <td>0.02</td>\n",
       "      <td>0.23</td>\n",
       "      <td>0.00</td>\n",
       "      <td>0.04</td>\n",
       "      <td>82.0</td>\n",
       "      <td>8.5</td>\n",
       "      <td>T</td>\n",
       "    </tr>\n",
       "    <tr>\n",
       "      <th>6273</th>\n",
       "      <td>Need for Speed: Most Wanted</td>\n",
       "      <td>WiiU</td>\n",
       "      <td>2013.0</td>\n",
       "      <td>Racing</td>\n",
       "      <td>0.13</td>\n",
       "      <td>0.12</td>\n",
       "      <td>0.00</td>\n",
       "      <td>0.02</td>\n",
       "      <td>NaN</td>\n",
       "      <td>NaN</td>\n",
       "      <td>NaN</td>\n",
       "    </tr>\n",
       "    <tr>\n",
       "      <th>6410</th>\n",
       "      <td>Need for Speed: Most Wanted</td>\n",
       "      <td>DS</td>\n",
       "      <td>2005.0</td>\n",
       "      <td>Racing</td>\n",
       "      <td>0.24</td>\n",
       "      <td>0.01</td>\n",
       "      <td>0.00</td>\n",
       "      <td>0.02</td>\n",
       "      <td>45.0</td>\n",
       "      <td>6.1</td>\n",
       "      <td>E</td>\n",
       "    </tr>\n",
       "    <tr>\n",
       "      <th>6473</th>\n",
       "      <td>Need for Speed: Most Wanted</td>\n",
       "      <td>GBA</td>\n",
       "      <td>2005.0</td>\n",
       "      <td>Racing</td>\n",
       "      <td>0.19</td>\n",
       "      <td>0.07</td>\n",
       "      <td>0.00</td>\n",
       "      <td>0.00</td>\n",
       "      <td>NaN</td>\n",
       "      <td>8.3</td>\n",
       "      <td>E</td>\n",
       "    </tr>\n",
       "    <tr>\n",
       "      <th>6871</th>\n",
       "      <td>FIFA 14</td>\n",
       "      <td>3DS</td>\n",
       "      <td>2013.0</td>\n",
       "      <td>Sports</td>\n",
       "      <td>0.00</td>\n",
       "      <td>0.22</td>\n",
       "      <td>0.00</td>\n",
       "      <td>0.01</td>\n",
       "      <td>NaN</td>\n",
       "      <td>NaN</td>\n",
       "      <td>NaN</td>\n",
       "    </tr>\n",
       "    <tr>\n",
       "      <th>7875</th>\n",
       "      <td>FIFA 14</td>\n",
       "      <td>PSP</td>\n",
       "      <td>2013.0</td>\n",
       "      <td>Sports</td>\n",
       "      <td>0.00</td>\n",
       "      <td>0.15</td>\n",
       "      <td>0.00</td>\n",
       "      <td>0.04</td>\n",
       "      <td>NaN</td>\n",
       "      <td>3.4</td>\n",
       "      <td>E</td>\n",
       "    </tr>\n",
       "    <tr>\n",
       "      <th>8369</th>\n",
       "      <td>LEGO Marvel Super Heroes</td>\n",
       "      <td>PC</td>\n",
       "      <td>2013.0</td>\n",
       "      <td>Action</td>\n",
       "      <td>0.04</td>\n",
       "      <td>0.12</td>\n",
       "      <td>0.00</td>\n",
       "      <td>0.01</td>\n",
       "      <td>78.0</td>\n",
       "      <td>8.1</td>\n",
       "      <td>E10+</td>\n",
       "    </tr>\n",
       "    <tr>\n",
       "      <th>11715</th>\n",
       "      <td>Need for Speed: Most Wanted</td>\n",
       "      <td>PC</td>\n",
       "      <td>2012.0</td>\n",
       "      <td>Racing</td>\n",
       "      <td>0.00</td>\n",
       "      <td>0.06</td>\n",
       "      <td>0.00</td>\n",
       "      <td>0.02</td>\n",
       "      <td>82.0</td>\n",
       "      <td>8.5</td>\n",
       "      <td>T</td>\n",
       "    </tr>\n",
       "  </tbody>\n",
       "</table>\n",
       "</div>"
      ],
      "text/plain": [
       "                              name platform  year_of_release   genre  \\\n",
       "126                        FIFA 14      PS3           2013.0  Sports   \n",
       "253    Need for Speed: Most Wanted      PS2           2005.0  Racing   \n",
       "271                        FIFA 14     X360           2013.0  Sports   \n",
       "469                        FIFA 14      PS4           2013.0  Sports   \n",
       "523    Need for Speed: Most Wanted      PS3           2012.0  Racing   \n",
       "730       LEGO Marvel Super Heroes     X360           2013.0  Action   \n",
       "945       LEGO Marvel Super Heroes      PS3           2013.0  Action   \n",
       "1139      LEGO Marvel Super Heroes      PS4           2013.0  Action   \n",
       "1190   Need for Speed: Most Wanted     X360           2012.0  Racing   \n",
       "1591   Need for Speed: Most Wanted     X360           2005.0  Racing   \n",
       "1753                       FIFA 14     XOne           2013.0  Sports   \n",
       "1959      LEGO Marvel Super Heroes     XOne           2013.0  Action   \n",
       "1998   Need for Speed: Most Wanted       XB           2005.0  Racing   \n",
       "2048   Need for Speed: Most Wanted      PSV           2012.0  Racing   \n",
       "2313      LEGO Marvel Super Heroes      3DS           2013.0  Action   \n",
       "2778      LEGO Marvel Super Heroes     WiiU           2013.0  Action   \n",
       "3581   Need for Speed: Most Wanted       GC           2005.0  Racing   \n",
       "3876      LEGO Marvel Super Heroes      PSV           2013.0  Action   \n",
       "4699                       FIFA 14      PSV           2013.0  Sports   \n",
       "4809                       FIFA 14       PC           2013.0  Sports   \n",
       "4985                       FIFA 14      Wii           2013.0  Sports   \n",
       "5054      LEGO Marvel Super Heroes       DS           2013.0  Action   \n",
       "5972   Need for Speed: Most Wanted       PC           2005.0  Racing   \n",
       "6273   Need for Speed: Most Wanted     WiiU           2013.0  Racing   \n",
       "6410   Need for Speed: Most Wanted       DS           2005.0  Racing   \n",
       "6473   Need for Speed: Most Wanted      GBA           2005.0  Racing   \n",
       "6871                       FIFA 14      3DS           2013.0  Sports   \n",
       "7875                       FIFA 14      PSP           2013.0  Sports   \n",
       "8369      LEGO Marvel Super Heroes       PC           2013.0  Action   \n",
       "11715  Need for Speed: Most Wanted       PC           2012.0  Racing   \n",
       "\n",
       "       na_sales  eu_sales  jp_sales  other_sales  critic_score user_score  \\\n",
       "126        0.78      4.24      0.07         1.37          86.0        4.3   \n",
       "253        2.03      1.79      0.08         0.47          82.0        9.1   \n",
       "271        0.92      2.89      0.01         0.40          84.0        4.2   \n",
       "469        0.61      1.85      0.11         0.44          87.0        6.3   \n",
       "523        0.71      1.46      0.06         0.58           NaN        NaN   \n",
       "730        1.24      0.79      0.00         0.19          80.0        7.6   \n",
       "945        0.77      0.76      0.01         0.29          82.0        7.9   \n",
       "1139       0.59      0.76      0.01         0.26          83.0        7.7   \n",
       "1190       0.62      0.78      0.01         0.15          83.0        8.5   \n",
       "1591       1.00      0.13      0.02         0.10          83.0        8.5   \n",
       "1753       0.41      0.66      0.00         0.09          88.0        5.8   \n",
       "1959       0.61      0.35      0.00         0.09           NaN        6.8   \n",
       "1998       0.53      0.46      0.00         0.05          83.0        8.8   \n",
       "2048       0.33      0.45      0.01         0.22           NaN        NaN   \n",
       "2313       0.42      0.36      0.04         0.07          61.0        5.2   \n",
       "2778       0.31      0.35      0.02         0.06          82.0          8   \n",
       "3581       0.43      0.11      0.00         0.02          80.0        9.1   \n",
       "3876       0.11      0.29      0.00         0.11           NaN        NaN   \n",
       "4699       0.08      0.23      0.01         0.09           NaN        1.8   \n",
       "4809       0.01      0.36      0.00         0.03          87.0        4.6   \n",
       "4985       0.00      0.36      0.00         0.02           NaN        4.3   \n",
       "5054       0.22      0.13      0.00         0.03           NaN        4.8   \n",
       "5972       0.02      0.23      0.00         0.04          82.0        8.5   \n",
       "6273       0.13      0.12      0.00         0.02           NaN        NaN   \n",
       "6410       0.24      0.01      0.00         0.02          45.0        6.1   \n",
       "6473       0.19      0.07      0.00         0.00           NaN        8.3   \n",
       "6871       0.00      0.22      0.00         0.01           NaN        NaN   \n",
       "7875       0.00      0.15      0.00         0.04           NaN        3.4   \n",
       "8369       0.04      0.12      0.00         0.01          78.0        8.1   \n",
       "11715      0.00      0.06      0.00         0.02          82.0        8.5   \n",
       "\n",
       "      rating  \n",
       "126        E  \n",
       "253        T  \n",
       "271        E  \n",
       "469        E  \n",
       "523      NaN  \n",
       "730     E10+  \n",
       "945     E10+  \n",
       "1139    E10+  \n",
       "1190       T  \n",
       "1591       T  \n",
       "1753       E  \n",
       "1959    E10+  \n",
       "1998       T  \n",
       "2048     NaN  \n",
       "2313    E10+  \n",
       "2778    E10+  \n",
       "3581       T  \n",
       "3876     NaN  \n",
       "4699       E  \n",
       "4809       E  \n",
       "4985       E  \n",
       "5054    E10+  \n",
       "5972       T  \n",
       "6273     NaN  \n",
       "6410       E  \n",
       "6473       E  \n",
       "6871     NaN  \n",
       "7875       E  \n",
       "8369    E10+  \n",
       "11715      T  "
      ]
     },
     "execution_count": 13,
     "metadata": {},
     "output_type": "execute_result"
    }
   ],
   "source": [
    "# Посмотрим на повторения самых популярных игр (популярных в плане частого повторения в name)\n",
    "often_names = data['name'].value_counts().index[0:3] \n",
    "data[data['name'].isin(often_names)]"
   ]
  },
  {
   "cell_type": "markdown",
   "metadata": {},
   "source": [
    "Видим, что повторяющиеся игры представлены на разных платформах, а так же могут иметь разные годы релиза (ремейки)"
   ]
  },
  {
   "cell_type": "code",
   "execution_count": 14,
   "metadata": {},
   "outputs": [
    {
     "data": {
      "text/plain": [
       "name\n",
       "Wii Sports            41.36\n",
       "Super Mario Bros.     32.48\n",
       "Duck Hunt             26.93\n",
       "Tetris                26.17\n",
       "Grand Theft Auto V    23.84\n",
       "Name: na_sales, dtype: float64"
      ]
     },
     "execution_count": 14,
     "metadata": {},
     "output_type": "execute_result"
    }
   ],
   "source": [
    "# И ради интереса посмотрим топ-5 самых продаваемых игр (посмотрим по америке)\n",
    "data.groupby('name')['na_sales'].sum().sort_values(ascending=False).head()"
   ]
  },
  {
   "cell_type": "markdown",
   "metadata": {},
   "source": [
    "Видим, что тетрис и супер марио порвали даже ГТА 5 ))"
   ]
  },
  {
   "cell_type": "markdown",
   "metadata": {},
   "source": [
    "**platform**  \n",
    "Платформа для которой была выпущена игра. (Пропусков нет, тип - object)"
   ]
  },
  {
   "cell_type": "code",
   "execution_count": 15,
   "metadata": {},
   "outputs": [
    {
     "data": {
      "text/plain": [
       "31"
      ]
     },
     "execution_count": 15,
     "metadata": {},
     "output_type": "execute_result"
    }
   ],
   "source": [
    "# количество платформ\n",
    "data['platform'].nunique()"
   ]
  },
  {
   "cell_type": "code",
   "execution_count": 16,
   "metadata": {},
   "outputs": [
    {
     "data": {
      "image/png": "[encoded data removed]",
      "text/plain": [
       "<Figure size 1080x504 with 1 Axes>"
      ]
     },
     "metadata": {
      "needs_background": "light"
     },
     "output_type": "display_data"
    }
   ],
   "source": [
    "# посмотрим количество игровых платформ, которые придумало человечество  на графике (ну и количество выпущенных для них игр)\n",
    "f_look_category_feature(data, 'platform')"
   ]
  },
  {
   "cell_type": "markdown",
   "metadata": {},
   "source": [
    "Однако PC далеко (ну не очень конечно) не первый, а занимаает в этом вопросе почетное 7ое место. Так же есть платформы для которых выпущены по одной игре.  \n",
    "есть мысль в дальнейшем объединить непопулярные платформы в одну, типа 'others', но надо чуть глубже покопать индустрию, может это какие то новые разработки с огромной перспективой развития."
   ]
  },
  {
   "cell_type": "code",
   "execution_count": 17,
   "metadata": {},
   "outputs": [
    {
     "data": {
      "text/html": [
       "<div>\n",
       "<style scoped>\n",
       "    .dataframe tbody tr th:only-of-type {\n",
       "        vertical-align: middle;\n",
       "    }\n",
       "\n",
       "    .dataframe tbody tr th {\n",
       "        vertical-align: top;\n",
       "    }\n",
       "\n",
       "    .dataframe thead th {\n",
       "        text-align: right;\n",
       "    }\n",
       "</style>\n",
       "<table border=\"1\" class=\"dataframe\">\n",
       "  <thead>\n",
       "    <tr style=\"text-align: right;\">\n",
       "      <th></th>\n",
       "      <th>name</th>\n",
       "      <th>platform</th>\n",
       "      <th>year_of_release</th>\n",
       "      <th>genre</th>\n",
       "      <th>na_sales</th>\n",
       "      <th>eu_sales</th>\n",
       "      <th>jp_sales</th>\n",
       "      <th>other_sales</th>\n",
       "      <th>critic_score</th>\n",
       "      <th>user_score</th>\n",
       "      <th>rating</th>\n",
       "    </tr>\n",
       "  </thead>\n",
       "  <tbody>\n",
       "    <tr>\n",
       "      <th>3926</th>\n",
       "      <td>Final Fantasy</td>\n",
       "      <td>WS</td>\n",
       "      <td>2000.0</td>\n",
       "      <td>Role-Playing</td>\n",
       "      <td>0.0</td>\n",
       "      <td>0.0</td>\n",
       "      <td>0.51</td>\n",
       "      <td>0.0</td>\n",
       "      <td>NaN</td>\n",
       "      <td>NaN</td>\n",
       "      <td>NaN</td>\n",
       "    </tr>\n",
       "    <tr>\n",
       "      <th>6110</th>\n",
       "      <td>Digimon Adventure: Anode Tamer</td>\n",
       "      <td>WS</td>\n",
       "      <td>1999.0</td>\n",
       "      <td>Role-Playing</td>\n",
       "      <td>0.0</td>\n",
       "      <td>0.0</td>\n",
       "      <td>0.28</td>\n",
       "      <td>0.0</td>\n",
       "      <td>NaN</td>\n",
       "      <td>NaN</td>\n",
       "      <td>NaN</td>\n",
       "    </tr>\n",
       "    <tr>\n",
       "      <th>6650</th>\n",
       "      <td>Final Fantasy II</td>\n",
       "      <td>WS</td>\n",
       "      <td>2001.0</td>\n",
       "      <td>Role-Playing</td>\n",
       "      <td>0.0</td>\n",
       "      <td>0.0</td>\n",
       "      <td>0.25</td>\n",
       "      <td>0.0</td>\n",
       "      <td>NaN</td>\n",
       "      <td>NaN</td>\n",
       "      <td>NaN</td>\n",
       "    </tr>\n",
       "    <tr>\n",
       "      <th>8039</th>\n",
       "      <td>Chocobo no Fushigi Dungeon for WonderSwan</td>\n",
       "      <td>WS</td>\n",
       "      <td>1999.0</td>\n",
       "      <td>Role-Playing</td>\n",
       "      <td>0.0</td>\n",
       "      <td>0.0</td>\n",
       "      <td>0.18</td>\n",
       "      <td>0.0</td>\n",
       "      <td>NaN</td>\n",
       "      <td>NaN</td>\n",
       "      <td>NaN</td>\n",
       "    </tr>\n",
       "    <tr>\n",
       "      <th>8294</th>\n",
       "      <td>Super Robot Taisen Compact 2 Dai-1-Bu</td>\n",
       "      <td>WS</td>\n",
       "      <td>2000.0</td>\n",
       "      <td>Strategy</td>\n",
       "      <td>0.0</td>\n",
       "      <td>0.0</td>\n",
       "      <td>0.17</td>\n",
       "      <td>0.0</td>\n",
       "      <td>NaN</td>\n",
       "      <td>NaN</td>\n",
       "      <td>NaN</td>\n",
       "    </tr>\n",
       "    <tr>\n",
       "      <th>9223</th>\n",
       "      <td>Doukyuusei</td>\n",
       "      <td>TG16</td>\n",
       "      <td>1995.0</td>\n",
       "      <td>Adventure</td>\n",
       "      <td>0.0</td>\n",
       "      <td>0.0</td>\n",
       "      <td>0.14</td>\n",
       "      <td>0.0</td>\n",
       "      <td>NaN</td>\n",
       "      <td>NaN</td>\n",
       "      <td>NaN</td>\n",
       "    </tr>\n",
       "    <tr>\n",
       "      <th>12663</th>\n",
       "      <td>Policenauts</td>\n",
       "      <td>3DO</td>\n",
       "      <td>1995.0</td>\n",
       "      <td>Adventure</td>\n",
       "      <td>0.0</td>\n",
       "      <td>0.0</td>\n",
       "      <td>0.06</td>\n",
       "      <td>0.0</td>\n",
       "      <td>NaN</td>\n",
       "      <td>NaN</td>\n",
       "      <td>NaN</td>\n",
       "    </tr>\n",
       "    <tr>\n",
       "      <th>13571</th>\n",
       "      <td>Sonic the Hedgehog 2 (8-bit)</td>\n",
       "      <td>GG</td>\n",
       "      <td>1992.0</td>\n",
       "      <td>Platform</td>\n",
       "      <td>0.0</td>\n",
       "      <td>0.0</td>\n",
       "      <td>0.04</td>\n",
       "      <td>0.0</td>\n",
       "      <td>NaN</td>\n",
       "      <td>NaN</td>\n",
       "      <td>NaN</td>\n",
       "    </tr>\n",
       "    <tr>\n",
       "      <th>14224</th>\n",
       "      <td>SD Gundam G Generation: Gather Beat 2</td>\n",
       "      <td>WS</td>\n",
       "      <td>2001.0</td>\n",
       "      <td>Strategy</td>\n",
       "      <td>0.0</td>\n",
       "      <td>0.0</td>\n",
       "      <td>0.03</td>\n",
       "      <td>0.0</td>\n",
       "      <td>NaN</td>\n",
       "      <td>NaN</td>\n",
       "      <td>NaN</td>\n",
       "    </tr>\n",
       "    <tr>\n",
       "      <th>14634</th>\n",
       "      <td>Blue Breaker: Ken Yorimo Hohoemi o</td>\n",
       "      <td>PCFX</td>\n",
       "      <td>1996.0</td>\n",
       "      <td>Role-Playing</td>\n",
       "      <td>0.0</td>\n",
       "      <td>0.0</td>\n",
       "      <td>0.03</td>\n",
       "      <td>0.0</td>\n",
       "      <td>NaN</td>\n",
       "      <td>NaN</td>\n",
       "      <td>NaN</td>\n",
       "    </tr>\n",
       "    <tr>\n",
       "      <th>15076</th>\n",
       "      <td>Bust-A-Move</td>\n",
       "      <td>3DO</td>\n",
       "      <td>1994.0</td>\n",
       "      <td>Puzzle</td>\n",
       "      <td>0.0</td>\n",
       "      <td>0.0</td>\n",
       "      <td>0.02</td>\n",
       "      <td>0.0</td>\n",
       "      <td>NaN</td>\n",
       "      <td>NaN</td>\n",
       "      <td>NaN</td>\n",
       "    </tr>\n",
       "    <tr>\n",
       "      <th>15560</th>\n",
       "      <td>Sotsugyou II: Neo Generation Special</td>\n",
       "      <td>3DO</td>\n",
       "      <td>1995.0</td>\n",
       "      <td>Simulation</td>\n",
       "      <td>0.0</td>\n",
       "      <td>0.0</td>\n",
       "      <td>0.02</td>\n",
       "      <td>0.0</td>\n",
       "      <td>NaN</td>\n",
       "      <td>NaN</td>\n",
       "      <td>NaN</td>\n",
       "    </tr>\n",
       "    <tr>\n",
       "      <th>15633</th>\n",
       "      <td>Ginga Fukei Densetsu: Sapphire</td>\n",
       "      <td>TG16</td>\n",
       "      <td>1995.0</td>\n",
       "      <td>Shooter</td>\n",
       "      <td>0.0</td>\n",
       "      <td>0.0</td>\n",
       "      <td>0.02</td>\n",
       "      <td>0.0</td>\n",
       "      <td>NaN</td>\n",
       "      <td>NaN</td>\n",
       "      <td>NaN</td>\n",
       "    </tr>\n",
       "  </tbody>\n",
       "</table>\n",
       "</div>"
      ],
      "text/plain": [
       "                                            name platform  year_of_release  \\\n",
       "3926                               Final Fantasy       WS           2000.0   \n",
       "6110              Digimon Adventure: Anode Tamer       WS           1999.0   \n",
       "6650                            Final Fantasy II       WS           2001.0   \n",
       "8039   Chocobo no Fushigi Dungeon for WonderSwan       WS           1999.0   \n",
       "8294       Super Robot Taisen Compact 2 Dai-1-Bu       WS           2000.0   \n",
       "9223                                  Doukyuusei     TG16           1995.0   \n",
       "12663                                Policenauts      3DO           1995.0   \n",
       "13571               Sonic the Hedgehog 2 (8-bit)       GG           1992.0   \n",
       "14224      SD Gundam G Generation: Gather Beat 2       WS           2001.0   \n",
       "14634         Blue Breaker: Ken Yorimo Hohoemi o     PCFX           1996.0   \n",
       "15076                                Bust-A-Move      3DO           1994.0   \n",
       "15560       Sotsugyou II: Neo Generation Special      3DO           1995.0   \n",
       "15633             Ginga Fukei Densetsu: Sapphire     TG16           1995.0   \n",
       "\n",
       "              genre  na_sales  eu_sales  jp_sales  other_sales  critic_score  \\\n",
       "3926   Role-Playing       0.0       0.0      0.51          0.0           NaN   \n",
       "6110   Role-Playing       0.0       0.0      0.28          0.0           NaN   \n",
       "6650   Role-Playing       0.0       0.0      0.25          0.0           NaN   \n",
       "8039   Role-Playing       0.0       0.0      0.18          0.0           NaN   \n",
       "8294       Strategy       0.0       0.0      0.17          0.0           NaN   \n",
       "9223      Adventure       0.0       0.0      0.14          0.0           NaN   \n",
       "12663     Adventure       0.0       0.0      0.06          0.0           NaN   \n",
       "13571      Platform       0.0       0.0      0.04          0.0           NaN   \n",
       "14224      Strategy       0.0       0.0      0.03          0.0           NaN   \n",
       "14634  Role-Playing       0.0       0.0      0.03          0.0           NaN   \n",
       "15076        Puzzle       0.0       0.0      0.02          0.0           NaN   \n",
       "15560    Simulation       0.0       0.0      0.02          0.0           NaN   \n",
       "15633       Shooter       0.0       0.0      0.02          0.0           NaN   \n",
       "\n",
       "      user_score rating  \n",
       "3926         NaN    NaN  \n",
       "6110         NaN    NaN  \n",
       "6650         NaN    NaN  \n",
       "8039         NaN    NaN  \n",
       "8294         NaN    NaN  \n",
       "9223         NaN    NaN  \n",
       "12663        NaN    NaN  \n",
       "13571        NaN    NaN  \n",
       "14224        NaN    NaN  \n",
       "14634        NaN    NaN  \n",
       "15076        NaN    NaN  \n",
       "15560        NaN    NaN  \n",
       "15633        NaN    NaN  "
      ]
     },
     "execution_count": 17,
     "metadata": {},
     "output_type": "execute_result"
    }
   ],
   "source": [
    "# Посмотрим на хвостик (непопулярные платформы)\n",
    "not_popular_platforms = data.groupby('platform')['platform'].agg(['count']).sort_values(by='count').head().index\n",
    "data[data['platform'].isin(not_popular_platforms)]\n"
   ]
  },
  {
   "cell_type": "markdown",
   "metadata": {},
   "source": [
    "Да, видим, что продажи были небольшие, только в японии, и игры лохматых годов, что подтверждает догадку о том, что такие платформы, которые \"не выстрелили\" скорее всего будет логично объединить в один тип, например, 'loosers'"
   ]
  },
  {
   "cell_type": "markdown",
   "metadata": {},
   "source": [
    "**year_of_release**  \n",
    "Год выпуска игры. \n",
    "Здесь сразу бросается в глаза, что тип float не подходит для данного признака. А так же небольшое(чуть меньше трехсот) наличие пропусков"
   ]
  },
  {
   "cell_type": "code",
   "execution_count": 18,
   "metadata": {},
   "outputs": [
    {
     "name": "stdout",
     "output_type": "stream",
     "text": [
      "удалось спарсить:  130\n"
     ]
    }
   ],
   "source": [
    "# поменять тип при наличии пропусков в принципе можно, но не нужно. Сначала заполним пропуски, а потом изменим и тип признака\n",
    "games_lost_years = data[data['year_of_release'].isna()]['name'].unique()\n",
    "\n",
    "# Лучше день потерять потом за пять минут долететь. Парсим Wiki\n",
    "path = 'https://en.wikipedia.org/wiki/'\n",
    "\n",
    "#urls = []\n",
    "games_found = {}\n",
    "for game in games_lost_years:\n",
    "    url = path + game.replace(' ', '_')\n",
    "    #urls.append(url)\n",
    "    try:\n",
    "        soup = get_soup(url)\n",
    "        My_table = soup.find('table').text.split('Release')[1]\n",
    "        My_table = My_table.replace('\\n', '')\n",
    "        match = re.search('\\d\\d\\d\\d', My_table) \n",
    "        games_found[game] = int(match[0])\n",
    "        time.sleep(0.1)\n",
    "    except:\n",
    "        try:\n",
    "            soup = get_soup(url+'_(video_game)')\n",
    "            My_table = soup.find('table').text.split('Release')[1]\n",
    "            My_table = My_table.replace('\\n', '')\n",
    "            match = re.search('\\d\\d\\d\\d', My_table) \n",
    "            games_found[game] = int(match[0])\n",
    "            time.sleep(0.1)\n",
    "        except:\n",
    "            games_found[game] = np.nan\n",
    "            time.sleep(0.1)\n",
    "\n",
    "# итого получилось спарсить:\n",
    "count = 0\n",
    "for i,j in games_found.items():\n",
    "    if j is not np.nan:\n",
    "        count += 1\n",
    "print(\"удалось спарсить: \", count)"
   ]
  },
  {
   "cell_type": "code",
   "execution_count": 19,
   "metadata": {},
   "outputs": [],
   "source": [
    "# в некоторых названиях есть год, предположительно год выпуска. Возьмем его за основу для даты релиза\n",
    "count = 0\n",
    "for i,j in games_found.items():\n",
    "    if j is np.nan:\n",
    "        try:\n",
    "            match = re.search('\\d{4}', i) \n",
    "            games_found[i] = int(match[0])\n",
    "        except:\n",
    "            continue"
   ]
  },
  {
   "cell_type": "code",
   "execution_count": 20,
   "metadata": {},
   "outputs": [
    {
     "name": "stdout",
     "output_type": "stream",
     "text": [
      "Итого осталось пропусков:  99\n"
     ]
    }
   ],
   "source": [
    "# Заполним пропуски спарсенными данными\n",
    "for i in range(data.shape[0]):\n",
    "    if data['year_of_release'].iloc[i] > 1900:\n",
    "        continue\n",
    "    else:\n",
    "        data['year_of_release'].iloc[i] = games_found[data['name'].iloc[i]]\n",
    "\n",
    "print('Итого осталось пропусков: ', data['year_of_release'].isna().sum())"
   ]
  },
  {
   "cell_type": "code",
   "execution_count": 21,
   "metadata": {},
   "outputs": [
    {
     "data": {
      "text/plain": [
       "73"
      ]
     },
     "execution_count": 21,
     "metadata": {},
     "output_type": "execute_result"
    }
   ],
   "source": [
    "# Осталось 99 пропусков. Попробуем заполнить их данными, если у такой игры уже был выход на другой платформе - этим же годом\n",
    "# у большинства игр выход на разных когсолях зачастую совпадает\n",
    "\n",
    "data.loc[data['year_of_release'].isna(), 'year_of_release'] = \\\n",
    "        data.loc[data['year_of_release'].isna(), 'name'].map(data.groupby('name')['year_of_release'].first())\n",
    "\n",
    "data['year_of_release'].isna().sum()"
   ]
  },
  {
   "cell_type": "code",
   "execution_count": 22,
   "metadata": {},
   "outputs": [],
   "source": [
    "# Остаток, который не получилось заполнить - удалим и поменяем тип данных на int\n",
    "data = data[~data['year_of_release'].isna()]\n",
    "data['year_of_release'] = data['year_of_release'].astype('int')\n"
   ]
  },
  {
   "cell_type": "markdown",
   "metadata": {},
   "source": [
    "Что можно сказкать предварительно по этому признаку. В идеале (в реальной жизни) - выяснить причину пропусков. Техническая ошибка или какая то другая. Их немного, можно было сразу убрать, но для тренировки попробовали: парсинг, заполнили датой если она была в названии, и заполнили датой, если уже была информация о дате на другой платтформе."
   ]
  },
  {
   "cell_type": "markdown",
   "metadata": {},
   "source": [
    "**genre**  \n",
    "Жанр игры. Пропусков нет. Тип Object"
   ]
  },
  {
   "cell_type": "code",
   "execution_count": 23,
   "metadata": {},
   "outputs": [
    {
     "data": {
      "image/png": "[encoded data removed]",
      "text/plain": [
       "<Figure size 1080x504 with 1 Axes>"
      ]
     },
     "metadata": {
      "needs_background": "light"
     },
     "output_type": "display_data"
    }
   ],
   "source": [
    "f_look_category_feature(data, 'genre')"
   ]
  },
  {
   "cell_type": "markdown",
   "metadata": {},
   "source": [
    "Ничего неадекватного не видно. Самый популярный жанр - Action, самый не популярный - puzzle. Моё любимое RPG на 4ом месте"
   ]
  },
  {
   "cell_type": "markdown",
   "metadata": {},
   "source": [
    "**na_sales**  \n",
    "**eu_sales**  \n",
    "**jp_sales**   \n",
    "**other_sales**\n",
    "\n",
    "По сути - целевые переменные. А именно продажи в америке, европе, японии и других странах.  \n",
    "Пропусков нет. Тип float. Тут интересно посмотреть предварительно - какой из регионов является доминирующим по продажам, чтобы понять не какую аудиторию делать акцент в продажах.\n"
   ]
  },
  {
   "cell_type": "code",
   "execution_count": 24,
   "metadata": {},
   "outputs": [
    {
     "data": {
      "text/plain": [
       "<AxesSubplot:title={'center':'Regions Sales'}>"
      ]
     },
     "execution_count": 24,
     "metadata": {},
     "output_type": "execute_result"
    },
    {
     "data": {
      "image/png": "[encoded data removed]",
      "text/plain": [
       "<Figure size 720x360 with 1 Axes>"
      ]
     },
     "metadata": {
      "needs_background": "light"
     },
     "output_type": "display_data"
    }
   ],
   "source": [
    "data[['na_sales', 'eu_sales', 'jp_sales', 'other_sales']].sum().plot(kind='bar', figsize=(10,5), title='Regions Sales')"
   ]
  },
  {
   "cell_type": "markdown",
   "metadata": {},
   "source": [
    "Видим, что примерно половина всех продаж приходится на америку (северную). Примерно половина всех продаж."
   ]
  },
  {
   "cell_type": "markdown",
   "metadata": {},
   "source": [
    "**critic_score**  \n",
    "**user_score**  \n",
    "Рейтинговые очки критиков и пользователей. Очень много пропусков почти до 60%по рейтнгу пользователей. Тип  float и Object. Возможно многие игры очень непопулярные и просто не попадают в рейтинг.  \n",
    "Предварительно можно посмотреть:    \n",
    "- сколько продаж приходится на игры с рейтингом и без по разным регионам  \n",
    "- насколько пересекается отсутствие рейтинга по разным форматам между собой\n",
    "- какая между рейтингом пользователей и критиков корреляция"
   ]
  },
  {
   "cell_type": "code",
   "execution_count": 25,
   "metadata": {},
   "outputs": [
    {
     "data": {
      "text/plain": [
       "False    0.52\n",
       "True     0.48\n",
       "Name: unpopular, dtype: float64"
      ]
     },
     "execution_count": 25,
     "metadata": {},
     "output_type": "execute_result"
    }
   ],
   "source": [
    "# добавим столбец, в котором будет указано, если игра вообще отсутствует в каком либо рейтинге\n",
    "data['unpopular'] = (data['critic_score'].isna()) & ((data['user_score'].isna())|(data['user_score']=='tbd'))\n",
    "data['unpopular'].value_counts(normalize=True).round(2)\n"
   ]
  },
  {
   "cell_type": "markdown",
   "metadata": {},
   "source": [
    "Видим, что почти половина игр отстутствует в любом рейтинге."
   ]
  },
  {
   "cell_type": "code",
   "execution_count": 26,
   "metadata": {},
   "outputs": [],
   "source": [
    "# добавим столбец с общими продажами\n",
    "data['total_sales'] = data['na_sales'] + data['eu_sales'] + data['jp_sales'] + data['other_sales']"
   ]
  },
  {
   "cell_type": "code",
   "execution_count": 27,
   "metadata": {},
   "outputs": [
    {
     "data": {
      "text/html": [
       "<div>\n",
       "<style scoped>\n",
       "    .dataframe tbody tr th:only-of-type {\n",
       "        vertical-align: middle;\n",
       "    }\n",
       "\n",
       "    .dataframe tbody tr th {\n",
       "        vertical-align: top;\n",
       "    }\n",
       "\n",
       "    .dataframe thead tr th {\n",
       "        text-align: left;\n",
       "    }\n",
       "\n",
       "    .dataframe thead tr:last-of-type th {\n",
       "        text-align: right;\n",
       "    }\n",
       "</style>\n",
       "<table border=\"1\" class=\"dataframe\">\n",
       "  <thead>\n",
       "    <tr>\n",
       "      <th></th>\n",
       "      <th>count</th>\n",
       "      <th>sum</th>\n",
       "    </tr>\n",
       "    <tr>\n",
       "      <th></th>\n",
       "      <th>total_sales</th>\n",
       "      <th>total_sales</th>\n",
       "    </tr>\n",
       "    <tr>\n",
       "      <th>unpopular</th>\n",
       "      <th></th>\n",
       "      <th></th>\n",
       "    </tr>\n",
       "  </thead>\n",
       "  <tbody>\n",
       "    <tr>\n",
       "      <th>False</th>\n",
       "      <td>8690</td>\n",
       "      <td>5831.16</td>\n",
       "    </tr>\n",
       "    <tr>\n",
       "      <th>True</th>\n",
       "      <td>7950</td>\n",
       "      <td>3069.46</td>\n",
       "    </tr>\n",
       "  </tbody>\n",
       "</table>\n",
       "</div>"
      ],
      "text/plain": [
       "                count         sum\n",
       "          total_sales total_sales\n",
       "unpopular                        \n",
       "False            8690     5831.16\n",
       "True             7950     3069.46"
      ]
     },
     "execution_count": 27,
     "metadata": {},
     "output_type": "execute_result"
    }
   ],
   "source": [
    "# посмотрим сводную информацию\n",
    "data.pivot_table(index = 'unpopular', values = 'total_sales', aggfunc = ['count', 'sum'])"
   ]
  },
  {
   "cell_type": "markdown",
   "metadata": {},
   "source": [
    "Так же видим, что по продажам непопулярные игры составляют почти треть от общих продаж. Прилично.  \n",
    "Посмотрим на каждый рейтинг в отдельности"
   ]
  },
  {
   "cell_type": "code",
   "execution_count": 28,
   "metadata": {},
   "outputs": [
    {
     "data": {
      "image/png": "[encoded data removed]",
      "text/plain": [
       "<Figure size 1080x504 with 1 Axes>"
      ]
     },
     "metadata": {
      "needs_background": "light"
     },
     "output_type": "display_data"
    },
    {
     "data": {
      "image/png": "[encoded data removed]",
      "text/plain": [
       "<Figure size 1080x504 with 1 Axes>"
      ]
     },
     "metadata": {
      "needs_background": "light"
     },
     "output_type": "display_data"
    }
   ],
   "source": [
    "for rating in ['critic_score', 'user_score']:\n",
    "    f_look_category_feature(data, rating)"
   ]
  },
  {
   "cell_type": "markdown",
   "metadata": {},
   "source": [
    "По сути признаки числовые. В признаке user_score попало какое-то \"tbd\" из-за чего тип признака стал object.  \n",
    "Предположительно tbd = to be detected (determinated, decided...) (типа еще не определен)  \n",
    "Видно, что critic_score по сути должен быть int (переведем)\n",
    "А так же Посмотрим распределение признаков"
   ]
  },
  {
   "cell_type": "code",
   "execution_count": 29,
   "metadata": {},
   "outputs": [
    {
     "data": {
      "text/plain": [
       "<AxesSubplot:>"
      ]
     },
     "execution_count": 29,
     "metadata": {},
     "output_type": "execute_result"
    },
    {
     "data": {
      "image/png": "[encoded data removed]",
      "text/plain": [
       "<Figure size 720x360 with 1 Axes>"
      ]
     },
     "metadata": {
      "needs_background": "light"
     },
     "output_type": "display_data"
    }
   ],
   "source": [
    "data['critic_score'].hist(bins=30, figsize=(10,5))"
   ]
  },
  {
   "cell_type": "markdown",
   "metadata": {},
   "source": [
    "Распределение близко к нормальному, максимум примерно на 70, смещение распределения вправо (хвост влево)."
   ]
  },
  {
   "cell_type": "code",
   "execution_count": 30,
   "metadata": {},
   "outputs": [
    {
     "data": {
      "text/plain": [
       "<AxesSubplot:>"
      ]
     },
     "execution_count": 30,
     "metadata": {},
     "output_type": "execute_result"
    },
    {
     "data": {
      "image/png": "[encoded data removed]",
      "text/plain": [
       "<Figure size 720x360 with 1 Axes>"
      ]
     },
     "metadata": {
      "needs_background": "light"
     },
     "output_type": "display_data"
    }
   ],
   "source": [
    "# чтобы посмотреть на второй признак надо сначала избавиться от 'tbd', nan, и перевести в числовой формат\n",
    "data[(data['user_score'] != 'tbd')&(~data['user_score'].isna())]['user_score'].astype('float').hist(bins = 30, figsize=(10,5))"
   ]
  },
  {
   "cell_type": "markdown",
   "metadata": {},
   "source": [
    "Распределение похоже на предыдущее. Близко к нормальному, смещение вправо (хвост вытянут влево). Пик чуть больше 8.\n",
    "\n",
    "Избавимся от пропусков. Удалять нецелесообразно - большой пласт информации, поэтому поставим заглушку: все nan и tbd заменим на -1. Переведем второй признак в числовой формат, а первый в тип int"
   ]
  },
  {
   "cell_type": "code",
   "execution_count": 31,
   "metadata": {},
   "outputs": [],
   "source": [
    "data['critic_score'].fillna(-1, inplace=True)\n",
    "data['user_score'].fillna(-1, inplace=True)\n",
    "data.loc[data['user_score']=='tbd', 'user_score'] = -1\n",
    "data['critic_score'] = data['critic_score'].astype(int)\n",
    "data['user_score'] = data['user_score'].astype(float)"
   ]
  },
  {
   "cell_type": "code",
   "execution_count": 32,
   "metadata": {},
   "outputs": [
    {
     "data": {
      "text/html": [
       "<div>\n",
       "<style scoped>\n",
       "    .dataframe tbody tr th:only-of-type {\n",
       "        vertical-align: middle;\n",
       "    }\n",
       "\n",
       "    .dataframe tbody tr th {\n",
       "        vertical-align: top;\n",
       "    }\n",
       "\n",
       "    .dataframe thead th {\n",
       "        text-align: right;\n",
       "    }\n",
       "</style>\n",
       "<table border=\"1\" class=\"dataframe\">\n",
       "  <thead>\n",
       "    <tr style=\"text-align: right;\">\n",
       "      <th></th>\n",
       "      <th>critic_score</th>\n",
       "      <th>user_score</th>\n",
       "    </tr>\n",
       "  </thead>\n",
       "  <tbody>\n",
       "    <tr>\n",
       "      <th>critic_score</th>\n",
       "      <td>1.000000</td>\n",
       "      <td>0.241319</td>\n",
       "    </tr>\n",
       "    <tr>\n",
       "      <th>user_score</th>\n",
       "      <td>0.241319</td>\n",
       "      <td>1.000000</td>\n",
       "    </tr>\n",
       "  </tbody>\n",
       "</table>\n",
       "</div>"
      ],
      "text/plain": [
       "              critic_score  user_score\n",
       "critic_score      1.000000    0.241319\n",
       "user_score        0.241319    1.000000"
      ]
     },
     "execution_count": 32,
     "metadata": {},
     "output_type": "execute_result"
    }
   ],
   "source": [
    "# Посмотрим корреляцию между признаками (за исключением неопределенных -1)\n",
    "data[(data['critic_score']!=-1)|((data['user_score']!=-1)) ][['critic_score', 'user_score']].corr()"
   ]
  },
  {
   "cell_type": "markdown",
   "metadata": {},
   "source": [
    "Корреляция есть. Прямая, существенная, но от единицы далека. Если оставить -1 - то корреляция 0.8 (что объясняется большим количеством пропусков)"
   ]
  },
  {
   "cell_type": "markdown",
   "metadata": {},
   "source": [
    "**rating**  \n",
    "Рейтинг ESRB"
   ]
  },
  {
   "cell_type": "code",
   "execution_count": 33,
   "metadata": {},
   "outputs": [
    {
     "data": {
      "image/png": "[encoded data removed]",
      "text/plain": [
       "<Figure size 1080x504 with 1 Axes>"
      ]
     },
     "metadata": {
      "needs_background": "light"
     },
     "output_type": "display_data"
    }
   ],
   "source": [
    "f_look_category_feature(data, 'rating')"
   ]
  },
  {
   "cell_type": "markdown",
   "metadata": {},
   "source": [
    "«T» («Teen») — «Подросткам 13—19 лет»: Игра подходит для подростков старше 13 лет. Проекты из данной категории могут содержать насилие, непристойные сцены, грубый юмор, в меру откровенное сексуальное содержимое, кровь или нечастое использование ненормативной лексики.  \n",
    "«E» («Everyone») — «Для всех»: Содержание вполне подходит для возрастной категории старше 6 лет; такие игры могут понравиться и взрослым.  \n",
    "«E10+» («Everyone 10 and older») — «Для всех старше 10 лет»  \n",
    "«M» («Mature») — «От 17 лет»: Материалы игры не подходят для возрастной категории младше 17 лет. Проекты с данным рейтингом могут содержать достаточно жестокое насилие, большое количество крови с расчленением, непристойные сексуальные сцены или грубую ненормативную лексику\n",
    "\n",
    "Остальные рейтинги столь незначительны, так что мы их переименуем в other  \n",
    "Пропуски заполним unknown"
   ]
  },
  {
   "cell_type": "code",
   "execution_count": 34,
   "metadata": {},
   "outputs": [],
   "source": [
    "data.loc[data['rating'].isin(['EC', 'K-A', 'RP', 'AO']), 'rating'] = 'other'\n",
    "data.loc[data['rating'].isna(), 'rating'] = 'uknown'"
   ]
  },
  {
   "cell_type": "code",
   "execution_count": 35,
   "metadata": {},
   "outputs": [
    {
     "data": {
      "image/png": "[encoded data removed]",
      "text/plain": [
       "<Figure size 432x288 with 1 Axes>"
      ]
     },
     "metadata": {},
     "output_type": "display_data"
    }
   ],
   "source": [
    "# Посмотрим получившийся пирожок по рейтингу ESRB\n",
    "data['rating'].value_counts().plot(kind='pie', \n",
    "                                   autopct='%1.1f%%', \n",
    "                                   radius=2.0, \n",
    "                                   ylabel = '',\n",
    "                                   title = 'Rating ESRB',\n",
    "                                   labeldistance=0.35,\n",
    "                                   ).legend(bbox_to_anchor=(1.3, 1.3));"
   ]
  },
  {
   "cell_type": "markdown",
   "metadata": {},
   "source": [
    "**Предварительный вывод**  \n",
    "На этом шаге мы провели следующую предобработку:  \n",
    "- Заменили названия столбцов (приведили к нижнему регистру);\n",
    "- Преобразовали в int 'year_of_release' и 'critic_score' (float был излишним). Признаки о продажах тип не меняли, можно было бы перевести из  миллионов перевести в шт. и сделать так же int но решили оставить как есть. Признак  'critic_score' перевели во float, так как у оценок вещественный тип (нецелое)\n",
    "- Заполнили пропуски признака 'year_of_release' частично спарсенными данными, частично из названия игр, частично по имеющимся о таких играх данных для разработанных для других платформ (остаток удалили). В признаках critic_score, user_score, rating на пропуски поставили заглушки, так получить такие данные довольно сложно (можно было бы поискать рейтинги на различных сайтах и спарсить их оттуда, но это не укладывается в рамки работы, предполагаю что парсить пришлось бы не один сайт). Заполнять же такое кол-во пропуссков медианой или средним - нецелесообразно, лучше добавить категориальный признак (есть рейтинг или нет) \n",
    "Возможно пропуски вызваны техничесским сбоем, возможно часть игр просто не оценивалась критиками и игроками (а может комбинация причин)\n",
    "- при обработке пропусков обратили внимание на аббревиатуру 'tbd' в столбце с оценкой пользователей. Также поставили на него заглушку, так по сути данных по таким играм нет;\n",
    "- добавили вспомагательные столбцы: total_sales (суммарная продажа во всех регионах) и unpopular(игра отсутствует в оценке критиков и пользователей)\n"
   ]
  },
  {
   "cell_type": "code",
   "execution_count": 36,
   "metadata": {},
   "outputs": [
    {
     "name": "stdout",
     "output_type": "stream",
     "text": [
      "<class 'pandas.core.frame.DataFrame'>\n",
      "Int64Index: 16640 entries, 0 to 16714\n",
      "Data columns (total 13 columns):\n",
      " #   Column           Non-Null Count  Dtype  \n",
      "---  ------           --------------  -----  \n",
      " 0   name             16640 non-null  object \n",
      " 1   platform         16640 non-null  object \n",
      " 2   year_of_release  16640 non-null  int64  \n",
      " 3   genre            16640 non-null  object \n",
      " 4   na_sales         16640 non-null  float64\n",
      " 5   eu_sales         16640 non-null  float64\n",
      " 6   jp_sales         16640 non-null  float64\n",
      " 7   other_sales      16640 non-null  float64\n",
      " 8   critic_score     16640 non-null  int64  \n",
      " 9   user_score       16640 non-null  float64\n",
      " 10  rating           16640 non-null  object \n",
      " 11  unpopular        16640 non-null  bool   \n",
      " 12  total_sales      16640 non-null  float64\n",
      "dtypes: bool(1), float64(6), int64(2), object(4)\n",
      "memory usage: 2.2+ MB\n"
     ]
    }
   ],
   "source": [
    "# проверка\n",
    "data.info()"
   ]
  },
  {
   "cell_type": "markdown",
   "metadata": {},
   "source": [
    "### Исследовательский анализ данных. Посмотрим различные закономерности между признаками.  "
   ]
  },
  {
   "cell_type": "code",
   "execution_count": 37,
   "metadata": {},
   "outputs": [
    {
     "data": {
      "text/plain": [
       "<AxesSubplot:>"
      ]
     },
     "execution_count": 37,
     "metadata": {},
     "output_type": "execute_result"
    },
    {
     "data": {
      "image/png": "[encoded data removed]",
      "text/plain": [
       "<Figure size 720x360 with 1 Axes>"
      ]
     },
     "metadata": {
      "needs_background": "light"
     },
     "output_type": "display_data"
    }
   ],
   "source": [
    "# Посмотрим, сколько игр выпускалось в разные годы. \n",
    "data['year_of_release'].hist(bins = 40, figsize=(10,5))"
   ]
  },
  {
   "cell_type": "markdown",
   "metadata": {},
   "source": [
    "Пик выпуска игр пришелся на 2005-2010 годы. Для анализа и бюджетипрования следующих периодов я бы сконцентрировался на последних годах. Рост наметился примерно с 1995 года, более старые игры я бы точно не рассматривал. \n",
    "\n",
    "**platform**  \n",
    "у нас 31 уникальная игровая платформа за представленный в датасете период."
   ]
  },
  {
   "cell_type": "code",
   "execution_count": 38,
   "metadata": {},
   "outputs": [
    {
     "data": {
      "text/plain": [
       "<AxesSubplot:xlabel='platform'>"
      ]
     },
     "execution_count": 38,
     "metadata": {},
     "output_type": "execute_result"
    },
    {
     "data": {
      "image/png": "[encoded data removed]",
      "text/plain": [
       "<Figure size 720x360 with 1 Axes>"
      ]
     },
     "metadata": {
      "needs_background": "light"
     },
     "output_type": "display_data"
    }
   ],
   "source": [
    "# Посмотрим, какие платформы были наиболее популярны в продажах\n",
    "gr_platforms = data.groupby('platform').agg({'total_sales':'sum'}).sort_values(by='total_sales', ascending=False)\n",
    "gr_platforms.plot(kind='bar', figsize=(10,5))"
   ]
  },
  {
   "cell_type": "code",
   "execution_count": 39,
   "metadata": {},
   "outputs": [
    {
     "data": {
      "text/plain": [
       "total_sales    0.820799\n",
       "dtype: float64"
      ]
     },
     "execution_count": 39,
     "metadata": {},
     "output_type": "execute_result"
    }
   ],
   "source": [
    "# Поступим по принципу Паррето (20% приносят 80% результата). \n",
    "# Будем считать платформы с наибольшими продажами те, у которых продажи суммарно составляют 80%\n",
    "gr_platforms[:12].sum()/gr_platforms.sum()\n"
   ]
  },
  {
   "cell_type": "code",
   "execution_count": 40,
   "metadata": {},
   "outputs": [
    {
     "data": {
      "image/png": "[encoded data removed]",
      "text/plain": [
       "<Figure size 1080x504 with 1 Axes>"
      ]
     },
     "metadata": {
      "needs_background": "light"
     },
     "output_type": "display_data"
    }
   ],
   "source": [
    "# Будем считать наиболее эффективными дюжину платформ, которые приносят более всего продаж\n",
    "pop_platforms = gr_platforms[:12].index.to_list()\n",
    "\n",
    "# Посмотрим как эти платформы вели себя по годам\n",
    "make_plot(data, 'platform')"
   ]
  },
  {
   "cell_type": "markdown",
   "metadata": {},
   "source": [
    "Получили очень \"наглядный график\" по платформам по годам. Нижние пороги обрезал до 0.1 квантиля. В принципе можно из графика понять, что при планировании на следующий год можно обрезать из этих платформ PS, PS2, XB, GBA - видно, что их популярность уже закончилась. Соответственно и год можно для анализа обрезать до 2011-го, чтобы не тянуть за собой устаревшие исторические зависимости и исключить из анализа устаревшие игры, жанры, платформы. \n",
    "\n",
    "Ответить на вопрос: за какой характерный срок появляются новые и исчезают старые платформы? из графика конечно можно, но не очень наглядно. Чуть пошаманим\n",
    "\n"
   ]
  },
  {
   "cell_type": "code",
   "execution_count": 41,
   "metadata": {},
   "outputs": [
    {
     "data": {
      "text/plain": [
       "count    31.000000\n",
       "mean      9.709677\n",
       "std       8.664847\n",
       "min       0.000000\n",
       "25%       3.000000\n",
       "50%       8.000000\n",
       "75%      11.500000\n",
       "max      31.000000\n",
       "Name: diff_year, dtype: float64"
      ]
     },
     "execution_count": 41,
     "metadata": {},
     "output_type": "execute_result"
    }
   ],
   "source": [
    "# Сгруппируем по платформам в отдельный датафрейм\n",
    "df_gr_platform = data.groupby('platform').agg({'year_of_release':['max', 'min']})\n",
    "# добавим столбец с разницей\n",
    "df_gr_platform['diff_year'] = df_gr_platform.iloc[:,0] - df_gr_platform.iloc[:,1]\n",
    "df_gr_platform['diff_year'].describe()"
   ]
  },
  {
   "cell_type": "markdown",
   "metadata": {},
   "source": [
    "В общем по медиане можно сказать что продолжительность жизни платформы 8 лет, 1й и 3й квантиль - 3 и 11.5 лет соответственно. Чтобы не зацепить устаревшие закономерности возьмем данные как половину от медианы (+последний неполный год), то есть с 2011 года"
   ]
  },
  {
   "cell_type": "code",
   "execution_count": 42,
   "metadata": {},
   "outputs": [
    {
     "data": {
      "text/html": [
       "<div>\n",
       "<style scoped>\n",
       "    .dataframe tbody tr th:only-of-type {\n",
       "        vertical-align: middle;\n",
       "    }\n",
       "\n",
       "    .dataframe tbody tr th {\n",
       "        vertical-align: top;\n",
       "    }\n",
       "\n",
       "    .dataframe thead tr th {\n",
       "        text-align: left;\n",
       "    }\n",
       "\n",
       "    .dataframe thead tr:last-of-type th {\n",
       "        text-align: right;\n",
       "    }\n",
       "</style>\n",
       "<table border=\"1\" class=\"dataframe\">\n",
       "  <thead>\n",
       "    <tr>\n",
       "      <th></th>\n",
       "      <th colspan=\"2\" halign=\"left\">year_of_release</th>\n",
       "      <th>diff_year</th>\n",
       "    </tr>\n",
       "    <tr>\n",
       "      <th></th>\n",
       "      <th>max</th>\n",
       "      <th>min</th>\n",
       "      <th></th>\n",
       "    </tr>\n",
       "    <tr>\n",
       "      <th>platform</th>\n",
       "      <th></th>\n",
       "      <th></th>\n",
       "      <th></th>\n",
       "    </tr>\n",
       "  </thead>\n",
       "  <tbody>\n",
       "    <tr>\n",
       "      <th>PS2</th>\n",
       "      <td>2011</td>\n",
       "      <td>1989</td>\n",
       "      <td>22</td>\n",
       "    </tr>\n",
       "    <tr>\n",
       "      <th>X360</th>\n",
       "      <td>2016</td>\n",
       "      <td>2005</td>\n",
       "      <td>11</td>\n",
       "    </tr>\n",
       "    <tr>\n",
       "      <th>PS3</th>\n",
       "      <td>2016</td>\n",
       "      <td>1988</td>\n",
       "      <td>28</td>\n",
       "    </tr>\n",
       "    <tr>\n",
       "      <th>Wii</th>\n",
       "      <td>2016</td>\n",
       "      <td>2005</td>\n",
       "      <td>11</td>\n",
       "    </tr>\n",
       "    <tr>\n",
       "      <th>DS</th>\n",
       "      <td>2013</td>\n",
       "      <td>1985</td>\n",
       "      <td>28</td>\n",
       "    </tr>\n",
       "    <tr>\n",
       "      <th>PS</th>\n",
       "      <td>2003</td>\n",
       "      <td>1994</td>\n",
       "      <td>9</td>\n",
       "    </tr>\n",
       "    <tr>\n",
       "      <th>GBA</th>\n",
       "      <td>2007</td>\n",
       "      <td>1984</td>\n",
       "      <td>23</td>\n",
       "    </tr>\n",
       "    <tr>\n",
       "      <th>PS4</th>\n",
       "      <td>2016</td>\n",
       "      <td>2013</td>\n",
       "      <td>3</td>\n",
       "    </tr>\n",
       "    <tr>\n",
       "      <th>PSP</th>\n",
       "      <td>2015</td>\n",
       "      <td>2004</td>\n",
       "      <td>11</td>\n",
       "    </tr>\n",
       "    <tr>\n",
       "      <th>PC</th>\n",
       "      <td>2016</td>\n",
       "      <td>1985</td>\n",
       "      <td>31</td>\n",
       "    </tr>\n",
       "    <tr>\n",
       "      <th>3DS</th>\n",
       "      <td>2016</td>\n",
       "      <td>2000</td>\n",
       "      <td>16</td>\n",
       "    </tr>\n",
       "    <tr>\n",
       "      <th>XB</th>\n",
       "      <td>2008</td>\n",
       "      <td>2000</td>\n",
       "      <td>8</td>\n",
       "    </tr>\n",
       "  </tbody>\n",
       "</table>\n",
       "</div>"
      ],
      "text/plain": [
       "         year_of_release       diff_year\n",
       "                     max   min          \n",
       "platform                                \n",
       "PS2                 2011  1989        22\n",
       "X360                2016  2005        11\n",
       "PS3                 2016  1988        28\n",
       "Wii                 2016  2005        11\n",
       "DS                  2013  1985        28\n",
       "PS                  2003  1994         9\n",
       "GBA                 2007  1984        23\n",
       "PS4                 2016  2013         3\n",
       "PSP                 2015  2004        11\n",
       "PC                  2016  1985        31\n",
       "3DS                 2016  2000        16\n",
       "XB                  2008  2000         8"
      ]
     },
     "execution_count": 42,
     "metadata": {},
     "output_type": "execute_result"
    }
   ],
   "source": [
    "df_gr_platform.loc[pop_platforms]"
   ]
  },
  {
   "cell_type": "markdown",
   "metadata": {},
   "source": [
    "Кстати, видим аномалию. В PS3 первая игра - 1988 году, хотя платформа вышла в 2006 году. Проверим"
   ]
  },
  {
   "cell_type": "code",
   "execution_count": 43,
   "metadata": {},
   "outputs": [
    {
     "data": {
      "text/html": [
       "<div>\n",
       "<style scoped>\n",
       "    .dataframe tbody tr th:only-of-type {\n",
       "        vertical-align: middle;\n",
       "    }\n",
       "\n",
       "    .dataframe tbody tr th {\n",
       "        vertical-align: top;\n",
       "    }\n",
       "\n",
       "    .dataframe thead th {\n",
       "        text-align: right;\n",
       "    }\n",
       "</style>\n",
       "<table border=\"1\" class=\"dataframe\">\n",
       "  <thead>\n",
       "    <tr style=\"text-align: right;\">\n",
       "      <th></th>\n",
       "      <th>name</th>\n",
       "      <th>platform</th>\n",
       "      <th>year_of_release</th>\n",
       "      <th>genre</th>\n",
       "      <th>na_sales</th>\n",
       "      <th>eu_sales</th>\n",
       "      <th>jp_sales</th>\n",
       "      <th>other_sales</th>\n",
       "      <th>critic_score</th>\n",
       "      <th>user_score</th>\n",
       "      <th>rating</th>\n",
       "      <th>unpopular</th>\n",
       "      <th>total_sales</th>\n",
       "    </tr>\n",
       "  </thead>\n",
       "  <tbody>\n",
       "    <tr>\n",
       "      <th>4127</th>\n",
       "      <td>Sonic the Hedgehog</td>\n",
       "      <td>PS3</td>\n",
       "      <td>1991</td>\n",
       "      <td>Platform</td>\n",
       "      <td>0.00</td>\n",
       "      <td>0.48</td>\n",
       "      <td>0.0</td>\n",
       "      <td>0.00</td>\n",
       "      <td>43</td>\n",
       "      <td>4.1</td>\n",
       "      <td>E10+</td>\n",
       "      <td>False</td>\n",
       "      <td>0.48</td>\n",
       "    </tr>\n",
       "    <tr>\n",
       "      <th>8500</th>\n",
       "      <td>Splatterhouse</td>\n",
       "      <td>PS3</td>\n",
       "      <td>1988</td>\n",
       "      <td>Action</td>\n",
       "      <td>0.13</td>\n",
       "      <td>0.02</td>\n",
       "      <td>0.0</td>\n",
       "      <td>0.02</td>\n",
       "      <td>59</td>\n",
       "      <td>7.7</td>\n",
       "      <td>M</td>\n",
       "      <td>False</td>\n",
       "      <td>0.17</td>\n",
       "    </tr>\n",
       "  </tbody>\n",
       "</table>\n",
       "</div>"
      ],
      "text/plain": [
       "                    name platform  year_of_release     genre  na_sales  \\\n",
       "4127  Sonic the Hedgehog      PS3             1991  Platform      0.00   \n",
       "8500       Splatterhouse      PS3             1988    Action      0.13   \n",
       "\n",
       "      eu_sales  jp_sales  other_sales  critic_score  user_score rating  \\\n",
       "4127      0.48       0.0         0.00            43         4.1   E10+   \n",
       "8500      0.02       0.0         0.02            59         7.7      M   \n",
       "\n",
       "      unpopular  total_sales  \n",
       "4127      False         0.48  \n",
       "8500      False         0.17  "
      ]
     },
     "execution_count": 43,
     "metadata": {},
     "output_type": "execute_result"
    }
   ],
   "source": [
    "data[((data['platform']=='PS3')&(data['year_of_release']<2006))]"
   ]
  },
  {
   "cell_type": "markdown",
   "metadata": {},
   "source": [
    "Хорошо, что заметили эту аномалию.\n",
    "Проверим на всякий случай и другие платформы. Парсить не будем - платформ не много, качаем навык гуглениия:  \n",
    "PS2 - 2000  \n",
    "PS3 - 2006  \n",
    "X360 - 2005  \n",
    "Wii - 2006  \n",
    "DS - 2004  \n",
    "PS - 1994  \n",
    "PS4 - 2013  \n",
    "3DS - 2011  \n",
    "XB - 2001  \n",
    "\n",
    "Однако. Видим, что аномалии есть и на других платформах. Уберем"
   ]
  },
  {
   "cell_type": "code",
   "execution_count": 44,
   "metadata": {},
   "outputs": [],
   "source": [
    "# Уберем аномальные игры\n",
    "platf_dict = {'PS2':2000,\n",
    "              'PS3':2006,\n",
    "              'X360':2005,\n",
    "              'Wii':2006,\n",
    "              'DS':2004,\n",
    "              'PS':1994,\n",
    "              'PS4':2013,\n",
    "              '3DS':2011,\n",
    "              'XB':2001}\n",
    "\n",
    "for i,j in platf_dict.items():\n",
    "    data = data[~((data['platform']==i)&(data['year_of_release']<j))]"
   ]
  },
  {
   "cell_type": "code",
   "execution_count": 45,
   "metadata": {},
   "outputs": [
    {
     "data": {
      "text/html": [
       "<div>\n",
       "<style scoped>\n",
       "    .dataframe tbody tr th:only-of-type {\n",
       "        vertical-align: middle;\n",
       "    }\n",
       "\n",
       "    .dataframe tbody tr th {\n",
       "        vertical-align: top;\n",
       "    }\n",
       "\n",
       "    .dataframe thead tr th {\n",
       "        text-align: left;\n",
       "    }\n",
       "\n",
       "    .dataframe thead tr:last-of-type th {\n",
       "        text-align: right;\n",
       "    }\n",
       "</style>\n",
       "<table border=\"1\" class=\"dataframe\">\n",
       "  <thead>\n",
       "    <tr>\n",
       "      <th></th>\n",
       "      <th colspan=\"2\" halign=\"left\">year_of_release</th>\n",
       "      <th>diff_year</th>\n",
       "    </tr>\n",
       "    <tr>\n",
       "      <th></th>\n",
       "      <th>max</th>\n",
       "      <th>min</th>\n",
       "      <th></th>\n",
       "    </tr>\n",
       "    <tr>\n",
       "      <th>platform</th>\n",
       "      <th></th>\n",
       "      <th></th>\n",
       "      <th></th>\n",
       "    </tr>\n",
       "  </thead>\n",
       "  <tbody>\n",
       "    <tr>\n",
       "      <th>PS2</th>\n",
       "      <td>2011</td>\n",
       "      <td>1989</td>\n",
       "      <td>22</td>\n",
       "    </tr>\n",
       "    <tr>\n",
       "      <th>X360</th>\n",
       "      <td>2016</td>\n",
       "      <td>2005</td>\n",
       "      <td>11</td>\n",
       "    </tr>\n",
       "    <tr>\n",
       "      <th>PS3</th>\n",
       "      <td>2016</td>\n",
       "      <td>1988</td>\n",
       "      <td>28</td>\n",
       "    </tr>\n",
       "    <tr>\n",
       "      <th>Wii</th>\n",
       "      <td>2016</td>\n",
       "      <td>2005</td>\n",
       "      <td>11</td>\n",
       "    </tr>\n",
       "    <tr>\n",
       "      <th>DS</th>\n",
       "      <td>2013</td>\n",
       "      <td>1985</td>\n",
       "      <td>28</td>\n",
       "    </tr>\n",
       "    <tr>\n",
       "      <th>PS</th>\n",
       "      <td>2003</td>\n",
       "      <td>1994</td>\n",
       "      <td>9</td>\n",
       "    </tr>\n",
       "    <tr>\n",
       "      <th>GBA</th>\n",
       "      <td>2007</td>\n",
       "      <td>1984</td>\n",
       "      <td>23</td>\n",
       "    </tr>\n",
       "    <tr>\n",
       "      <th>PS4</th>\n",
       "      <td>2016</td>\n",
       "      <td>2013</td>\n",
       "      <td>3</td>\n",
       "    </tr>\n",
       "    <tr>\n",
       "      <th>PSP</th>\n",
       "      <td>2015</td>\n",
       "      <td>2004</td>\n",
       "      <td>11</td>\n",
       "    </tr>\n",
       "    <tr>\n",
       "      <th>PC</th>\n",
       "      <td>2016</td>\n",
       "      <td>1985</td>\n",
       "      <td>31</td>\n",
       "    </tr>\n",
       "    <tr>\n",
       "      <th>3DS</th>\n",
       "      <td>2016</td>\n",
       "      <td>2000</td>\n",
       "      <td>16</td>\n",
       "    </tr>\n",
       "    <tr>\n",
       "      <th>XB</th>\n",
       "      <td>2008</td>\n",
       "      <td>2000</td>\n",
       "      <td>8</td>\n",
       "    </tr>\n",
       "  </tbody>\n",
       "</table>\n",
       "</div>"
      ],
      "text/plain": [
       "         year_of_release       diff_year\n",
       "                     max   min          \n",
       "platform                                \n",
       "PS2                 2011  1989        22\n",
       "X360                2016  2005        11\n",
       "PS3                 2016  1988        28\n",
       "Wii                 2016  2005        11\n",
       "DS                  2013  1985        28\n",
       "PS                  2003  1994         9\n",
       "GBA                 2007  1984        23\n",
       "PS4                 2016  2013         3\n",
       "PSP                 2015  2004        11\n",
       "PC                  2016  1985        31\n",
       "3DS                 2016  2000        16\n",
       "XB                  2008  2000         8"
      ]
     },
     "execution_count": 45,
     "metadata": {},
     "output_type": "execute_result"
    }
   ],
   "source": [
    "df_gr_platform.loc[pop_platforms]"
   ]
  },
  {
   "cell_type": "markdown",
   "metadata": {},
   "source": [
    "Здесь более наглядно, чем на графике видно, что от платформ PS, PS2, DS, XB, GBA - можно отказаться при анализе на следующий год, так как максимальный год, когда на них выпускались игры - до 2013 года.  \n",
    "Можно конечно еще убрать и PSP, но вдруг на него просто нет данных, последняя игра на неё была в 2015-м. Оставим.  \n",
    "\n",
    "Итак, оставим себе для анализа данные по выбранным платформам"
   ]
  },
  {
   "cell_type": "code",
   "execution_count": 46,
   "metadata": {},
   "outputs": [
    {
     "data": {
      "text/plain": [
       "(3040, 13)"
      ]
     },
     "execution_count": 46,
     "metadata": {},
     "output_type": "execute_result"
    }
   ],
   "source": [
    "\n",
    "for x in ['PS', 'PS2', 'DS', 'XB', 'GBA']:\n",
    "    try:\n",
    "        pop_platforms.remove(x)\n",
    "    except:\n",
    "        continue\n",
    "\n",
    "data = data[(data['platform'].isin(pop_platforms))&(data['year_of_release']>=2011)]\n",
    "data.shape"
   ]
  },
  {
   "cell_type": "markdown",
   "metadata": {},
   "source": [
    "Посмотрим, какие из выбранных платформ наиболее прибыльные"
   ]
  },
  {
   "cell_type": "code",
   "execution_count": 47,
   "metadata": {},
   "outputs": [
    {
     "data": {
      "image/png": "[encoded data removed]",
      "text/plain": [
       "<Figure size 720x432 with 1 Axes>"
      ]
     },
     "metadata": {
      "needs_background": "light"
     },
     "output_type": "display_data"
    }
   ],
   "source": [
    "(\n",
    "data.groupby('platform').agg({'total_sales': 'sum'})\n",
    "    .plot(kind='bar', figsize=(10,6))\n",
    ");"
   ]
  },
  {
   "cell_type": "markdown",
   "metadata": {},
   "source": [
    "Наиболее прибыльными являются последние плойки PS3 и PS4, а также X360. Но логика подсказывает, что возможно у них уже был пик продаж, а сейчас спад. Возможно наоборот стоит обратить внимание на более развивающиеся платформы.  \n",
    "\n",
    "Посмотрим по этим платформам график по годам."
   ]
  },
  {
   "cell_type": "code",
   "execution_count": 48,
   "metadata": {},
   "outputs": [
    {
     "data": {
      "image/png": "[encoded data removed]",
      "text/plain": [
       "<Figure size 1080x504 with 1 Axes>"
      ]
     },
     "metadata": {
      "needs_background": "light"
     },
     "output_type": "display_data"
    }
   ],
   "source": [
    "make_plot(data, 'platform', year_min=2011, lim=0)"
   ]
  },
  {
   "cell_type": "markdown",
   "metadata": {},
   "source": [
    "При меньшем количестве платформ смотреть уже удобнее. Видим тренд на снижение по всем игровым платформам. Возможно это обусловлено большей популяризацией игр на телефонах (развитие смартфонов как раз началось где то в те годы)\n",
    "\n",
    "Причем, чем больше продаж было всего на платформе, тем более резкий спад имеем к 2016му году.  \n",
    "Отметить хочется только последнюю плойку PS4, возможно год не полный - и такого падения в итоге по ней не будет. Да и появилась она незадолго до бюджетируемого года, вобщем очень перспективная."
   ]
  },
  {
   "cell_type": "code",
   "execution_count": 49,
   "metadata": {
    "scrolled": true
   },
   "outputs": [
    {
     "data": {
      "text/plain": [
       "Text(0.5, 1.0, 'популярные платформы')"
      ]
     },
     "execution_count": 49,
     "metadata": {},
     "output_type": "execute_result"
    },
    {
     "data": {
      "image/png": "[encoded data removed]",
      "text/plain": [
       "<Figure size 1224x576 with 1 Axes>"
      ]
     },
     "metadata": {
      "needs_background": "light"
     },
     "output_type": "display_data"
    }
   ],
   "source": [
    "# Посмотрим на боксплоты по этим платформам\n",
    "plt.figure(figsize=(17, 8))\n",
    "sns.boxplot(data['platform'], data['total_sales'])\n",
    "plt.yscale('log')\n",
    "plt.title('популярные платформы')"
   ]
  },
  {
   "cell_type": "markdown",
   "metadata": {},
   "source": [
    "Я бы не сказал, что по боксплотам ярко выражено преобладание тех или иных платформ. Чуть Выделяются в лучшую сторону X360, PS3, PS4. А вот PSP опять обращает на себя внимание в плане отказа от включения в стратегию 2017го года."
   ]
  },
  {
   "cell_type": "markdown",
   "metadata": {},
   "source": [
    "Посмотрим, как влияют на продажи внутри платформ отзывы пользователей и критиков.\n",
    "Построим диаграммы рассеяния и посчитаем корреляцию между отзывами и продажами.\n",
    "\n",
    "**продажи vs критики**"
   ]
  },
  {
   "cell_type": "code",
   "execution_count": 50,
   "metadata": {},
   "outputs": [
    {
     "name": "stdout",
     "output_type": "stream",
     "text": [
      "Корреляция по платформе X360:\n"
     ]
    },
    {
     "data": {
      "text/html": [
       "<div>\n",
       "<style scoped>\n",
       "    .dataframe tbody tr th:only-of-type {\n",
       "        vertical-align: middle;\n",
       "    }\n",
       "\n",
       "    .dataframe tbody tr th {\n",
       "        vertical-align: top;\n",
       "    }\n",
       "\n",
       "    .dataframe thead th {\n",
       "        text-align: right;\n",
       "    }\n",
       "</style>\n",
       "<table border=\"1\" class=\"dataframe\">\n",
       "  <thead>\n",
       "    <tr style=\"text-align: right;\">\n",
       "      <th></th>\n",
       "      <th>critic_score</th>\n",
       "    </tr>\n",
       "  </thead>\n",
       "  <tbody>\n",
       "    <tr>\n",
       "      <th>total_sales</th>\n",
       "      <td>0.39</td>\n",
       "    </tr>\n",
       "  </tbody>\n",
       "</table>\n",
       "</div>"
      ],
      "text/plain": [
       "             critic_score\n",
       "total_sales          0.39"
      ]
     },
     "metadata": {},
     "output_type": "display_data"
    },
    {
     "data": {
      "image/png": "[encoded data removed]",
      "text/plain": [
       "<Figure size 1080x504 with 1 Axes>"
      ]
     },
     "metadata": {
      "needs_background": "light"
     },
     "output_type": "display_data"
    },
    {
     "name": "stdout",
     "output_type": "stream",
     "text": [
      "Корреляция по платформе PS3:\n"
     ]
    },
    {
     "data": {
      "text/html": [
       "<div>\n",
       "<style scoped>\n",
       "    .dataframe tbody tr th:only-of-type {\n",
       "        vertical-align: middle;\n",
       "    }\n",
       "\n",
       "    .dataframe tbody tr th {\n",
       "        vertical-align: top;\n",
       "    }\n",
       "\n",
       "    .dataframe thead th {\n",
       "        text-align: right;\n",
       "    }\n",
       "</style>\n",
       "<table border=\"1\" class=\"dataframe\">\n",
       "  <thead>\n",
       "    <tr style=\"text-align: right;\">\n",
       "      <th></th>\n",
       "      <th>critic_score</th>\n",
       "    </tr>\n",
       "  </thead>\n",
       "  <tbody>\n",
       "    <tr>\n",
       "      <th>total_sales</th>\n",
       "      <td>0.38</td>\n",
       "    </tr>\n",
       "  </tbody>\n",
       "</table>\n",
       "</div>"
      ],
      "text/plain": [
       "             critic_score\n",
       "total_sales          0.38"
      ]
     },
     "metadata": {},
     "output_type": "display_data"
    },
    {
     "data": {
      "image/png": "[encoded data removed]",
      "text/plain": [
       "<Figure size 1080x504 with 1 Axes>"
      ]
     },
     "metadata": {
      "needs_background": "light"
     },
     "output_type": "display_data"
    },
    {
     "name": "stdout",
     "output_type": "stream",
     "text": [
      "Корреляция по платформе Wii:\n"
     ]
    },
    {
     "data": {
      "text/html": [
       "<div>\n",
       "<style scoped>\n",
       "    .dataframe tbody tr th:only-of-type {\n",
       "        vertical-align: middle;\n",
       "    }\n",
       "\n",
       "    .dataframe tbody tr th {\n",
       "        vertical-align: top;\n",
       "    }\n",
       "\n",
       "    .dataframe thead th {\n",
       "        text-align: right;\n",
       "    }\n",
       "</style>\n",
       "<table border=\"1\" class=\"dataframe\">\n",
       "  <thead>\n",
       "    <tr style=\"text-align: right;\">\n",
       "      <th></th>\n",
       "      <th>critic_score</th>\n",
       "    </tr>\n",
       "  </thead>\n",
       "  <tbody>\n",
       "    <tr>\n",
       "      <th>total_sales</th>\n",
       "      <td>0.3</td>\n",
       "    </tr>\n",
       "  </tbody>\n",
       "</table>\n",
       "</div>"
      ],
      "text/plain": [
       "             critic_score\n",
       "total_sales           0.3"
      ]
     },
     "metadata": {},
     "output_type": "display_data"
    },
    {
     "data": {
      "image/png": "[encoded data removed]",
      "text/plain": [
       "<Figure size 1080x504 with 1 Axes>"
      ]
     },
     "metadata": {
      "needs_background": "light"
     },
     "output_type": "display_data"
    },
    {
     "name": "stdout",
     "output_type": "stream",
     "text": [
      "Корреляция по платформе PS4:\n"
     ]
    },
    {
     "data": {
      "text/html": [
       "<div>\n",
       "<style scoped>\n",
       "    .dataframe tbody tr th:only-of-type {\n",
       "        vertical-align: middle;\n",
       "    }\n",
       "\n",
       "    .dataframe tbody tr th {\n",
       "        vertical-align: top;\n",
       "    }\n",
       "\n",
       "    .dataframe thead th {\n",
       "        text-align: right;\n",
       "    }\n",
       "</style>\n",
       "<table border=\"1\" class=\"dataframe\">\n",
       "  <thead>\n",
       "    <tr style=\"text-align: right;\">\n",
       "      <th></th>\n",
       "      <th>critic_score</th>\n",
       "    </tr>\n",
       "  </thead>\n",
       "  <tbody>\n",
       "    <tr>\n",
       "      <th>total_sales</th>\n",
       "      <td>0.41</td>\n",
       "    </tr>\n",
       "  </tbody>\n",
       "</table>\n",
       "</div>"
      ],
      "text/plain": [
       "             critic_score\n",
       "total_sales          0.41"
      ]
     },
     "metadata": {},
     "output_type": "display_data"
    },
    {
     "data": {
      "image/png": "[encoded data removed]",
      "text/plain": [
       "<Figure size 1080x504 with 1 Axes>"
      ]
     },
     "metadata": {
      "needs_background": "light"
     },
     "output_type": "display_data"
    },
    {
     "name": "stdout",
     "output_type": "stream",
     "text": [
      "Корреляция по платформе PSP:\n"
     ]
    },
    {
     "data": {
      "text/html": [
       "<div>\n",
       "<style scoped>\n",
       "    .dataframe tbody tr th:only-of-type {\n",
       "        vertical-align: middle;\n",
       "    }\n",
       "\n",
       "    .dataframe tbody tr th {\n",
       "        vertical-align: top;\n",
       "    }\n",
       "\n",
       "    .dataframe thead th {\n",
       "        text-align: right;\n",
       "    }\n",
       "</style>\n",
       "<table border=\"1\" class=\"dataframe\">\n",
       "  <thead>\n",
       "    <tr style=\"text-align: right;\">\n",
       "      <th></th>\n",
       "      <th>critic_score</th>\n",
       "    </tr>\n",
       "  </thead>\n",
       "  <tbody>\n",
       "    <tr>\n",
       "      <th>total_sales</th>\n",
       "      <td>0.36</td>\n",
       "    </tr>\n",
       "  </tbody>\n",
       "</table>\n",
       "</div>"
      ],
      "text/plain": [
       "             critic_score\n",
       "total_sales          0.36"
      ]
     },
     "metadata": {},
     "output_type": "display_data"
    },
    {
     "data": {
      "image/png": "[encoded data removed]",
      "text/plain": [
       "<Figure size 1080x504 with 1 Axes>"
      ]
     },
     "metadata": {
      "needs_background": "light"
     },
     "output_type": "display_data"
    },
    {
     "name": "stdout",
     "output_type": "stream",
     "text": [
      "Корреляция по платформе PC:\n"
     ]
    },
    {
     "data": {
      "text/html": [
       "<div>\n",
       "<style scoped>\n",
       "    .dataframe tbody tr th:only-of-type {\n",
       "        vertical-align: middle;\n",
       "    }\n",
       "\n",
       "    .dataframe tbody tr th {\n",
       "        vertical-align: top;\n",
       "    }\n",
       "\n",
       "    .dataframe thead th {\n",
       "        text-align: right;\n",
       "    }\n",
       "</style>\n",
       "<table border=\"1\" class=\"dataframe\">\n",
       "  <thead>\n",
       "    <tr style=\"text-align: right;\">\n",
       "      <th></th>\n",
       "      <th>critic_score</th>\n",
       "    </tr>\n",
       "  </thead>\n",
       "  <tbody>\n",
       "    <tr>\n",
       "      <th>total_sales</th>\n",
       "      <td>0.32</td>\n",
       "    </tr>\n",
       "  </tbody>\n",
       "</table>\n",
       "</div>"
      ],
      "text/plain": [
       "             critic_score\n",
       "total_sales          0.32"
      ]
     },
     "metadata": {},
     "output_type": "display_data"
    },
    {
     "data": {
      "image/png": "[encoded data removed]",
      "text/plain": [
       "<Figure size 1080x504 with 1 Axes>"
      ]
     },
     "metadata": {
      "needs_background": "light"
     },
     "output_type": "display_data"
    },
    {
     "name": "stdout",
     "output_type": "stream",
     "text": [
      "Корреляция по платформе 3DS:\n"
     ]
    },
    {
     "data": {
      "text/html": [
       "<div>\n",
       "<style scoped>\n",
       "    .dataframe tbody tr th:only-of-type {\n",
       "        vertical-align: middle;\n",
       "    }\n",
       "\n",
       "    .dataframe tbody tr th {\n",
       "        vertical-align: top;\n",
       "    }\n",
       "\n",
       "    .dataframe thead th {\n",
       "        text-align: right;\n",
       "    }\n",
       "</style>\n",
       "<table border=\"1\" class=\"dataframe\">\n",
       "  <thead>\n",
       "    <tr style=\"text-align: right;\">\n",
       "      <th></th>\n",
       "      <th>critic_score</th>\n",
       "    </tr>\n",
       "  </thead>\n",
       "  <tbody>\n",
       "    <tr>\n",
       "      <th>total_sales</th>\n",
       "      <td>0.35</td>\n",
       "    </tr>\n",
       "  </tbody>\n",
       "</table>\n",
       "</div>"
      ],
      "text/plain": [
       "             critic_score\n",
       "total_sales          0.35"
      ]
     },
     "metadata": {},
     "output_type": "display_data"
    },
    {
     "data": {
      "image/png": "[encoded data removed]",
      "text/plain": [
       "<Figure size 1080x504 with 1 Axes>"
      ]
     },
     "metadata": {
      "needs_background": "light"
     },
     "output_type": "display_data"
    }
   ],
   "source": [
    "corr_features = ['total_sales', 'critic_score']\n",
    "\n",
    "for platform in pop_platforms:\n",
    "    \n",
    "    df_pl = (data[(data['platform']==platform)\n",
    "                 &(data['critic_score']>-1)]\n",
    "            [['total_sales', 'critic_score']]\n",
    "            )\n",
    "    \n",
    "    print(f'Корреляция по платформе {platform}:')\n",
    "    display(df_pl.corr().iloc[:1,1:].round(2))\n",
    "    \n",
    "    plt.figure(figsize=(15,7))\n",
    "    \n",
    "    plt.scatter(data[(data['platform']==platform)&(data['critic_score']>-1)]['total_sales'], \n",
    "            data[(data['platform']==platform)&(data['critic_score']>-1)]['critic_score'])\n",
    "    \n",
    "    plt.show()\n"
   ]
  },
  {
   "cell_type": "markdown",
   "metadata": {},
   "source": [
    "**продажи vs юзеры**"
   ]
  },
  {
   "cell_type": "code",
   "execution_count": 51,
   "metadata": {},
   "outputs": [
    {
     "name": "stdout",
     "output_type": "stream",
     "text": [
      "Корреляция по платформе X360:\n"
     ]
    },
    {
     "data": {
      "text/html": [
       "<div>\n",
       "<style scoped>\n",
       "    .dataframe tbody tr th:only-of-type {\n",
       "        vertical-align: middle;\n",
       "    }\n",
       "\n",
       "    .dataframe tbody tr th {\n",
       "        vertical-align: top;\n",
       "    }\n",
       "\n",
       "    .dataframe thead th {\n",
       "        text-align: right;\n",
       "    }\n",
       "</style>\n",
       "<table border=\"1\" class=\"dataframe\">\n",
       "  <thead>\n",
       "    <tr style=\"text-align: right;\">\n",
       "      <th></th>\n",
       "      <th>user_score</th>\n",
       "    </tr>\n",
       "  </thead>\n",
       "  <tbody>\n",
       "    <tr>\n",
       "      <th>total_sales</th>\n",
       "      <td>0.04</td>\n",
       "    </tr>\n",
       "  </tbody>\n",
       "</table>\n",
       "</div>"
      ],
      "text/plain": [
       "             user_score\n",
       "total_sales        0.04"
      ]
     },
     "metadata": {},
     "output_type": "display_data"
    },
    {
     "data": {
      "image/png": "[encoded data removed]",
      "text/plain": [
       "<Figure size 1080x504 with 1 Axes>"
      ]
     },
     "metadata": {
      "needs_background": "light"
     },
     "output_type": "display_data"
    },
    {
     "name": "stdout",
     "output_type": "stream",
     "text": [
      "Корреляция по платформе PS3:\n"
     ]
    },
    {
     "data": {
      "text/html": [
       "<div>\n",
       "<style scoped>\n",
       "    .dataframe tbody tr th:only-of-type {\n",
       "        vertical-align: middle;\n",
       "    }\n",
       "\n",
       "    .dataframe tbody tr th {\n",
       "        vertical-align: top;\n",
       "    }\n",
       "\n",
       "    .dataframe thead th {\n",
       "        text-align: right;\n",
       "    }\n",
       "</style>\n",
       "<table border=\"1\" class=\"dataframe\">\n",
       "  <thead>\n",
       "    <tr style=\"text-align: right;\">\n",
       "      <th></th>\n",
       "      <th>user_score</th>\n",
       "    </tr>\n",
       "  </thead>\n",
       "  <tbody>\n",
       "    <tr>\n",
       "      <th>total_sales</th>\n",
       "      <td>0.01</td>\n",
       "    </tr>\n",
       "  </tbody>\n",
       "</table>\n",
       "</div>"
      ],
      "text/plain": [
       "             user_score\n",
       "total_sales        0.01"
      ]
     },
     "metadata": {},
     "output_type": "display_data"
    },
    {
     "data": {
      "image/png": "[encoded data removed]",
      "text/plain": [
       "<Figure size 1080x504 with 1 Axes>"
      ]
     },
     "metadata": {
      "needs_background": "light"
     },
     "output_type": "display_data"
    },
    {
     "name": "stdout",
     "output_type": "stream",
     "text": [
      "Корреляция по платформе Wii:\n"
     ]
    },
    {
     "data": {
      "text/html": [
       "<div>\n",
       "<style scoped>\n",
       "    .dataframe tbody tr th:only-of-type {\n",
       "        vertical-align: middle;\n",
       "    }\n",
       "\n",
       "    .dataframe tbody tr th {\n",
       "        vertical-align: top;\n",
       "    }\n",
       "\n",
       "    .dataframe thead th {\n",
       "        text-align: right;\n",
       "    }\n",
       "</style>\n",
       "<table border=\"1\" class=\"dataframe\">\n",
       "  <thead>\n",
       "    <tr style=\"text-align: right;\">\n",
       "      <th></th>\n",
       "      <th>user_score</th>\n",
       "    </tr>\n",
       "  </thead>\n",
       "  <tbody>\n",
       "    <tr>\n",
       "      <th>total_sales</th>\n",
       "      <td>0.15</td>\n",
       "    </tr>\n",
       "  </tbody>\n",
       "</table>\n",
       "</div>"
      ],
      "text/plain": [
       "             user_score\n",
       "total_sales        0.15"
      ]
     },
     "metadata": {},
     "output_type": "display_data"
    },
    {
     "data": {
      "image/png": "[encoded data removed]",
      "text/plain": [
       "<Figure size 1080x504 with 1 Axes>"
      ]
     },
     "metadata": {
      "needs_background": "light"
     },
     "output_type": "display_data"
    },
    {
     "name": "stdout",
     "output_type": "stream",
     "text": [
      "Корреляция по платформе PS4:\n"
     ]
    },
    {
     "data": {
      "text/html": [
       "<div>\n",
       "<style scoped>\n",
       "    .dataframe tbody tr th:only-of-type {\n",
       "        vertical-align: middle;\n",
       "    }\n",
       "\n",
       "    .dataframe tbody tr th {\n",
       "        vertical-align: top;\n",
       "    }\n",
       "\n",
       "    .dataframe thead th {\n",
       "        text-align: right;\n",
       "    }\n",
       "</style>\n",
       "<table border=\"1\" class=\"dataframe\">\n",
       "  <thead>\n",
       "    <tr style=\"text-align: right;\">\n",
       "      <th></th>\n",
       "      <th>user_score</th>\n",
       "    </tr>\n",
       "  </thead>\n",
       "  <tbody>\n",
       "    <tr>\n",
       "      <th>total_sales</th>\n",
       "      <td>-0.03</td>\n",
       "    </tr>\n",
       "  </tbody>\n",
       "</table>\n",
       "</div>"
      ],
      "text/plain": [
       "             user_score\n",
       "total_sales       -0.03"
      ]
     },
     "metadata": {},
     "output_type": "display_data"
    },
    {
     "data": {
      "image/png": "[encoded data removed]",
      "text/plain": [
       "<Figure size 1080x504 with 1 Axes>"
      ]
     },
     "metadata": {
      "needs_background": "light"
     },
     "output_type": "display_data"
    },
    {
     "name": "stdout",
     "output_type": "stream",
     "text": [
      "Корреляция по платформе PSP:\n"
     ]
    },
    {
     "data": {
      "text/html": [
       "<div>\n",
       "<style scoped>\n",
       "    .dataframe tbody tr th:only-of-type {\n",
       "        vertical-align: middle;\n",
       "    }\n",
       "\n",
       "    .dataframe tbody tr th {\n",
       "        vertical-align: top;\n",
       "    }\n",
       "\n",
       "    .dataframe thead th {\n",
       "        text-align: right;\n",
       "    }\n",
       "</style>\n",
       "<table border=\"1\" class=\"dataframe\">\n",
       "  <thead>\n",
       "    <tr style=\"text-align: right;\">\n",
       "      <th></th>\n",
       "      <th>user_score</th>\n",
       "    </tr>\n",
       "  </thead>\n",
       "  <tbody>\n",
       "    <tr>\n",
       "      <th>total_sales</th>\n",
       "      <td>0.01</td>\n",
       "    </tr>\n",
       "  </tbody>\n",
       "</table>\n",
       "</div>"
      ],
      "text/plain": [
       "             user_score\n",
       "total_sales        0.01"
      ]
     },
     "metadata": {},
     "output_type": "display_data"
    },
    {
     "data": {
      "image/png": "[encoded data removed]",
      "text/plain": [
       "<Figure size 1080x504 with 1 Axes>"
      ]
     },
     "metadata": {
      "needs_background": "light"
     },
     "output_type": "display_data"
    },
    {
     "name": "stdout",
     "output_type": "stream",
     "text": [
      "Корреляция по платформе PC:\n"
     ]
    },
    {
     "data": {
      "text/html": [
       "<div>\n",
       "<style scoped>\n",
       "    .dataframe tbody tr th:only-of-type {\n",
       "        vertical-align: middle;\n",
       "    }\n",
       "\n",
       "    .dataframe tbody tr th {\n",
       "        vertical-align: top;\n",
       "    }\n",
       "\n",
       "    .dataframe thead th {\n",
       "        text-align: right;\n",
       "    }\n",
       "</style>\n",
       "<table border=\"1\" class=\"dataframe\">\n",
       "  <thead>\n",
       "    <tr style=\"text-align: right;\">\n",
       "      <th></th>\n",
       "      <th>user_score</th>\n",
       "    </tr>\n",
       "  </thead>\n",
       "  <tbody>\n",
       "    <tr>\n",
       "      <th>total_sales</th>\n",
       "      <td>-0.05</td>\n",
       "    </tr>\n",
       "  </tbody>\n",
       "</table>\n",
       "</div>"
      ],
      "text/plain": [
       "             user_score\n",
       "total_sales       -0.05"
      ]
     },
     "metadata": {},
     "output_type": "display_data"
    },
    {
     "data": {
      "image/png": "[encoded data removed]",
      "text/plain": [
       "<Figure size 1080x504 with 1 Axes>"
      ]
     },
     "metadata": {
      "needs_background": "light"
     },
     "output_type": "display_data"
    },
    {
     "name": "stdout",
     "output_type": "stream",
     "text": [
      "Корреляция по платформе 3DS:\n"
     ]
    },
    {
     "data": {
      "text/html": [
       "<div>\n",
       "<style scoped>\n",
       "    .dataframe tbody tr th:only-of-type {\n",
       "        vertical-align: middle;\n",
       "    }\n",
       "\n",
       "    .dataframe tbody tr th {\n",
       "        vertical-align: top;\n",
       "    }\n",
       "\n",
       "    .dataframe thead th {\n",
       "        text-align: right;\n",
       "    }\n",
       "</style>\n",
       "<table border=\"1\" class=\"dataframe\">\n",
       "  <thead>\n",
       "    <tr style=\"text-align: right;\">\n",
       "      <th></th>\n",
       "      <th>user_score</th>\n",
       "    </tr>\n",
       "  </thead>\n",
       "  <tbody>\n",
       "    <tr>\n",
       "      <th>total_sales</th>\n",
       "      <td>0.22</td>\n",
       "    </tr>\n",
       "  </tbody>\n",
       "</table>\n",
       "</div>"
      ],
      "text/plain": [
       "             user_score\n",
       "total_sales        0.22"
      ]
     },
     "metadata": {},
     "output_type": "display_data"
    },
    {
     "data": {
      "image/png": "[encoded data removed]",
      "text/plain": [
       "<Figure size 1080x504 with 1 Axes>"
      ]
     },
     "metadata": {
      "needs_background": "light"
     },
     "output_type": "display_data"
    }
   ],
   "source": [
    "corr_features = ['total_sales', 'user_score']\n",
    "\n",
    "for platform in pop_platforms:\n",
    "    \n",
    "    df_pl = (data[(data['platform']==platform)\n",
    "                 &(data['user_score']>-1)]\n",
    "            [['total_sales', 'user_score']]\n",
    "            )\n",
    "    \n",
    "    print(f'Корреляция по платформе {platform}:')\n",
    "    display(df_pl.corr().iloc[:1,1:].round(2))\n",
    "    \n",
    "    plt.figure(figsize=(15,7))\n",
    "    \n",
    "    plt.scatter(data[(data['platform']==platform)&(data['user_score']>-1)]['total_sales'], \n",
    "            data[(data['platform']==platform)&(data['user_score']>-1)]['user_score'], color='orange')\n",
    "    \n",
    "    plt.show()"
   ]
  },
  {
   "cell_type": "markdown",
   "metadata": {},
   "source": [
    "Из графиков видно, что корреляция тотальных продаж выше с оценкой критиков, чем с оценкой пользователей и состтавляет 0.3-0.4.\n",
    "Выбивается только корреляция по платформе Wii (самая низкая 0.17 у критиков и 0.11 у пользователей).\n",
    "Корреляция продаж с отзывами пользователей на платформах: PC и PS4 можно сказать вообще отсутствует."
   ]
  },
  {
   "cell_type": "markdown",
   "metadata": {},
   "source": [
    "Посмотрим еще раз на жанры игр"
   ]
  },
  {
   "cell_type": "code",
   "execution_count": 52,
   "metadata": {},
   "outputs": [
    {
     "data": {
      "image/png": "[encoded data removed]",
      "text/plain": [
       "<Figure size 1080x432 with 1 Axes>"
      ]
     },
     "metadata": {
      "needs_background": "light"
     },
     "output_type": "display_data"
    }
   ],
   "source": [
    "(\n",
    "data.groupby('genre')['total_sales'].agg(['count', 'sum'])\n",
    "    .sort_values(by='sum', ascending=False)\n",
    "    .plot(kind='bar', figsize=(15,6))\n",
    ");"
   ]
  },
  {
   "cell_type": "markdown",
   "metadata": {},
   "source": [
    "Видно, что такие жанры как Action, Sports, Shooter, Misc, RPG имеют более высокие продажи, чем другие. Меньше всего продаж у стретегий и паззлов."
   ]
  },
  {
   "cell_type": "code",
   "execution_count": 53,
   "metadata": {},
   "outputs": [
    {
     "data": {
      "image/png": "[encoded data removed]",
      "text/plain": [
       "<Figure size 1080x432 with 1 Axes>"
      ]
     },
     "metadata": {
      "needs_background": "light"
     },
     "output_type": "display_data"
    }
   ],
   "source": [
    "(\n",
    "data.groupby('genre')['total_sales'].agg(['median'])\n",
    "    .sort_values(by='median', ascending=False)\n",
    "    .plot(kind='bar', figsize=(15,6), color='pink')\n",
    ");\n"
   ]
  },
  {
   "cell_type": "markdown",
   "metadata": {},
   "source": [
    "А вот в медианных продажах в лидеры вырвались шутеры, Action же съехал во вторую половину списка"
   ]
  },
  {
   "cell_type": "markdown",
   "metadata": {},
   "source": [
    "**предварительный вывод**  \n",
    "На этом шаге мы провели исследовательский анализ данных\n",
    "- Игровая индустрия начала бурно развиваться в начале 90х годов, пик пришелся на 2005-2010 год. На самом деле можно предположить, что индустрия развивается и сейчас, просто в датасет не попали данные для играх на телефонах, так бы возможно мы увидели дальнейший рост развития индустрии.\n",
    "Определили, что для анализа данных объективно брать данные начиная с 2011 года, более старые игры - устарели вместе с платформами.\n",
    "- Определили наиболее перспективные платформы на которых выпускаются игры в последние годы. Опеределили срок жизни платформ, который составил 8 лет (медианный)\n",
    "- Посмотрели корреляцию между продажами игр и оценкой пользователей и критиков. Выявили существенную корреляцию между продажами и оценкой критиков на уровне 0.3 - 0.4.\n",
    "- Определили жанры игр, которые приносят наибольшую прибыль. (в целом и на одну игру). Определили, что наиболее прибыльными являются Action, Sports, Shooter, Misc, RPG, причем у Shooter-ов еще и наибольшая медианная прибыльность."
   ]
  },
  {
   "cell_type": "markdown",
   "metadata": {},
   "source": [
    "### Составим портрет пользователя в зависимости от региона (NA, EU, JP). "
   ]
  },
  {
   "cell_type": "code",
   "execution_count": 54,
   "metadata": {},
   "outputs": [
    {
     "data": {
      "image/png": "[encoded data removed]",
      "text/plain": [
       "<Figure size 432x288 with 1 Axes>"
      ]
     },
     "metadata": {
      "needs_background": "light"
     },
     "output_type": "display_data"
    },
    {
     "data": {
      "text/html": [
       "<div>\n",
       "<style scoped>\n",
       "    .dataframe tbody tr th:only-of-type {\n",
       "        vertical-align: middle;\n",
       "    }\n",
       "\n",
       "    .dataframe tbody tr th {\n",
       "        vertical-align: top;\n",
       "    }\n",
       "\n",
       "    .dataframe thead th {\n",
       "        text-align: right;\n",
       "    }\n",
       "</style>\n",
       "<table border=\"1\" class=\"dataframe\">\n",
       "  <thead>\n",
       "    <tr style=\"text-align: right;\">\n",
       "      <th></th>\n",
       "      <th>percents</th>\n",
       "    </tr>\n",
       "    <tr>\n",
       "      <th>platform</th>\n",
       "      <th></th>\n",
       "    </tr>\n",
       "  </thead>\n",
       "  <tbody>\n",
       "    <tr>\n",
       "      <th>X360</th>\n",
       "      <td>35.8</td>\n",
       "    </tr>\n",
       "    <tr>\n",
       "      <th>PS3</th>\n",
       "      <td>26.5</td>\n",
       "    </tr>\n",
       "    <tr>\n",
       "      <th>PS4</th>\n",
       "      <td>17.0</td>\n",
       "    </tr>\n",
       "    <tr>\n",
       "      <th>3DS</th>\n",
       "      <td>13.0</td>\n",
       "    </tr>\n",
       "    <tr>\n",
       "      <th>Wii</th>\n",
       "      <td>7.7</td>\n",
       "    </tr>\n",
       "  </tbody>\n",
       "</table>\n",
       "</div>"
      ],
      "text/plain": [
       "          percents\n",
       "platform          \n",
       "X360          35.8\n",
       "PS3           26.5\n",
       "PS4           17.0\n",
       "3DS           13.0\n",
       "Wii            7.7"
      ]
     },
     "metadata": {},
     "output_type": "display_data"
    },
    {
     "data": {
      "image/png": "[encoded data removed]",
      "text/plain": [
       "<Figure size 432x288 with 1 Axes>"
      ]
     },
     "metadata": {
      "needs_background": "light"
     },
     "output_type": "display_data"
    },
    {
     "data": {
      "text/html": [
       "<div>\n",
       "<style scoped>\n",
       "    .dataframe tbody tr th:only-of-type {\n",
       "        vertical-align: middle;\n",
       "    }\n",
       "\n",
       "    .dataframe tbody tr th {\n",
       "        vertical-align: top;\n",
       "    }\n",
       "\n",
       "    .dataframe thead th {\n",
       "        text-align: right;\n",
       "    }\n",
       "</style>\n",
       "<table border=\"1\" class=\"dataframe\">\n",
       "  <thead>\n",
       "    <tr style=\"text-align: right;\">\n",
       "      <th></th>\n",
       "      <th>percents</th>\n",
       "    </tr>\n",
       "    <tr>\n",
       "      <th>platform</th>\n",
       "      <th></th>\n",
       "    </tr>\n",
       "  </thead>\n",
       "  <tbody>\n",
       "    <tr>\n",
       "      <th>PS3</th>\n",
       "      <td>30.3</td>\n",
       "    </tr>\n",
       "    <tr>\n",
       "      <th>PS4</th>\n",
       "      <td>26.0</td>\n",
       "    </tr>\n",
       "    <tr>\n",
       "      <th>X360</th>\n",
       "      <td>21.8</td>\n",
       "    </tr>\n",
       "    <tr>\n",
       "      <th>3DS</th>\n",
       "      <td>11.3</td>\n",
       "    </tr>\n",
       "    <tr>\n",
       "      <th>PC</th>\n",
       "      <td>10.6</td>\n",
       "    </tr>\n",
       "  </tbody>\n",
       "</table>\n",
       "</div>"
      ],
      "text/plain": [
       "          percents\n",
       "platform          \n",
       "PS3           30.3\n",
       "PS4           26.0\n",
       "X360          21.8\n",
       "3DS           11.3\n",
       "PC            10.6"
      ]
     },
     "metadata": {},
     "output_type": "display_data"
    },
    {
     "data": {
      "image/png": "[encoded data removed]",
      "text/plain": [
       "<Figure size 432x288 with 1 Axes>"
      ]
     },
     "metadata": {
      "needs_background": "light"
     },
     "output_type": "display_data"
    },
    {
     "data": {
      "text/html": [
       "<div>\n",
       "<style scoped>\n",
       "    .dataframe tbody tr th:only-of-type {\n",
       "        vertical-align: middle;\n",
       "    }\n",
       "\n",
       "    .dataframe tbody tr th {\n",
       "        vertical-align: top;\n",
       "    }\n",
       "\n",
       "    .dataframe thead th {\n",
       "        text-align: right;\n",
       "    }\n",
       "</style>\n",
       "<table border=\"1\" class=\"dataframe\">\n",
       "  <thead>\n",
       "    <tr style=\"text-align: right;\">\n",
       "      <th></th>\n",
       "      <th>percents</th>\n",
       "    </tr>\n",
       "    <tr>\n",
       "      <th>platform</th>\n",
       "      <th></th>\n",
       "    </tr>\n",
       "  </thead>\n",
       "  <tbody>\n",
       "    <tr>\n",
       "      <th>3DS</th>\n",
       "      <td>50.6</td>\n",
       "    </tr>\n",
       "    <tr>\n",
       "      <th>PS3</th>\n",
       "      <td>24.8</td>\n",
       "    </tr>\n",
       "    <tr>\n",
       "      <th>PSP</th>\n",
       "      <td>12.1</td>\n",
       "    </tr>\n",
       "    <tr>\n",
       "      <th>PS4</th>\n",
       "      <td>8.0</td>\n",
       "    </tr>\n",
       "    <tr>\n",
       "      <th>Wii</th>\n",
       "      <td>4.5</td>\n",
       "    </tr>\n",
       "  </tbody>\n",
       "</table>\n",
       "</div>"
      ],
      "text/plain": [
       "          percents\n",
       "platform          \n",
       "3DS           50.6\n",
       "PS3           24.8\n",
       "PSP           12.1\n",
       "PS4            8.0\n",
       "Wii            4.5"
      ]
     },
     "metadata": {},
     "output_type": "display_data"
    },
    {
     "data": {
      "image/png": "[encoded data removed]",
      "text/plain": [
       "<Figure size 432x288 with 1 Axes>"
      ]
     },
     "metadata": {
      "needs_background": "light"
     },
     "output_type": "display_data"
    },
    {
     "data": {
      "text/html": [
       "<div>\n",
       "<style scoped>\n",
       "    .dataframe tbody tr th:only-of-type {\n",
       "        vertical-align: middle;\n",
       "    }\n",
       "\n",
       "    .dataframe tbody tr th {\n",
       "        vertical-align: top;\n",
       "    }\n",
       "\n",
       "    .dataframe thead th {\n",
       "        text-align: right;\n",
       "    }\n",
       "</style>\n",
       "<table border=\"1\" class=\"dataframe\">\n",
       "  <thead>\n",
       "    <tr style=\"text-align: right;\">\n",
       "      <th></th>\n",
       "      <th>percents</th>\n",
       "    </tr>\n",
       "    <tr>\n",
       "      <th>platform</th>\n",
       "      <th></th>\n",
       "    </tr>\n",
       "  </thead>\n",
       "  <tbody>\n",
       "    <tr>\n",
       "      <th>PS3</th>\n",
       "      <td>38.0</td>\n",
       "    </tr>\n",
       "    <tr>\n",
       "      <th>PS4</th>\n",
       "      <td>28.2</td>\n",
       "    </tr>\n",
       "    <tr>\n",
       "      <th>X360</th>\n",
       "      <td>19.5</td>\n",
       "    </tr>\n",
       "    <tr>\n",
       "      <th>3DS</th>\n",
       "      <td>7.7</td>\n",
       "    </tr>\n",
       "    <tr>\n",
       "      <th>PC</th>\n",
       "      <td>6.6</td>\n",
       "    </tr>\n",
       "  </tbody>\n",
       "</table>\n",
       "</div>"
      ],
      "text/plain": [
       "          percents\n",
       "platform          \n",
       "PS3           38.0\n",
       "PS4           28.2\n",
       "X360          19.5\n",
       "3DS            7.7\n",
       "PC             6.6"
      ]
     },
     "metadata": {},
     "output_type": "display_data"
    }
   ],
   "source": [
    "#Самые популярные платформы (топ-5) для каждого региона.\n",
    "region_sales = ['na_sales', 'eu_sales', 'jp_sales', 'other_sales']\n",
    "for region in region_sales:\n",
    "    check_region(data, region, 'platform')"
   ]
  },
  {
   "cell_type": "markdown",
   "metadata": {},
   "source": [
    "Видим, что во всех регионах в лидеры попали PS3, PS4, Wii. Так же популярна платформа X360, ее нет только в японии. Так же отметим, что япония пошла своим путем, у них в фаворе Платформа 3DS, кторая больше не отметилась в топах других регионов"
   ]
  },
  {
   "cell_type": "code",
   "execution_count": 55,
   "metadata": {},
   "outputs": [
    {
     "data": {
      "image/png": "[encoded data removed]",
      "text/plain": [
       "<Figure size 432x288 with 1 Axes>"
      ]
     },
     "metadata": {
      "needs_background": "light"
     },
     "output_type": "display_data"
    },
    {
     "data": {
      "text/html": [
       "<div>\n",
       "<style scoped>\n",
       "    .dataframe tbody tr th:only-of-type {\n",
       "        vertical-align: middle;\n",
       "    }\n",
       "\n",
       "    .dataframe tbody tr th {\n",
       "        vertical-align: top;\n",
       "    }\n",
       "\n",
       "    .dataframe thead th {\n",
       "        text-align: right;\n",
       "    }\n",
       "</style>\n",
       "<table border=\"1\" class=\"dataframe\">\n",
       "  <thead>\n",
       "    <tr style=\"text-align: right;\">\n",
       "      <th></th>\n",
       "      <th>percents</th>\n",
       "    </tr>\n",
       "    <tr>\n",
       "      <th>genre</th>\n",
       "      <th></th>\n",
       "    </tr>\n",
       "  </thead>\n",
       "  <tbody>\n",
       "    <tr>\n",
       "      <th>Action</th>\n",
       "      <td>34.5</td>\n",
       "    </tr>\n",
       "    <tr>\n",
       "      <th>Shooter</th>\n",
       "      <td>27.2</td>\n",
       "    </tr>\n",
       "    <tr>\n",
       "      <th>Sports</th>\n",
       "      <td>15.9</td>\n",
       "    </tr>\n",
       "    <tr>\n",
       "      <th>Role-Playing</th>\n",
       "      <td>12.6</td>\n",
       "    </tr>\n",
       "    <tr>\n",
       "      <th>Misc</th>\n",
       "      <td>9.8</td>\n",
       "    </tr>\n",
       "  </tbody>\n",
       "</table>\n",
       "</div>"
      ],
      "text/plain": [
       "              percents\n",
       "genre                 \n",
       "Action            34.5\n",
       "Shooter           27.2\n",
       "Sports            15.9\n",
       "Role-Playing      12.6\n",
       "Misc               9.8"
      ]
     },
     "metadata": {},
     "output_type": "display_data"
    },
    {
     "data": {
      "image/png": "[encoded data removed]",
      "text/plain": [
       "<Figure size 432x288 with 1 Axes>"
      ]
     },
     "metadata": {
      "needs_background": "light"
     },
     "output_type": "display_data"
    },
    {
     "data": {
      "text/html": [
       "<div>\n",
       "<style scoped>\n",
       "    .dataframe tbody tr th:only-of-type {\n",
       "        vertical-align: middle;\n",
       "    }\n",
       "\n",
       "    .dataframe tbody tr th {\n",
       "        vertical-align: top;\n",
       "    }\n",
       "\n",
       "    .dataframe thead th {\n",
       "        text-align: right;\n",
       "    }\n",
       "</style>\n",
       "<table border=\"1\" class=\"dataframe\">\n",
       "  <thead>\n",
       "    <tr style=\"text-align: right;\">\n",
       "      <th></th>\n",
       "      <th>percents</th>\n",
       "    </tr>\n",
       "    <tr>\n",
       "      <th>genre</th>\n",
       "      <th></th>\n",
       "    </tr>\n",
       "  </thead>\n",
       "  <tbody>\n",
       "    <tr>\n",
       "      <th>Action</th>\n",
       "      <td>37.5</td>\n",
       "    </tr>\n",
       "    <tr>\n",
       "      <th>Shooter</th>\n",
       "      <td>27.1</td>\n",
       "    </tr>\n",
       "    <tr>\n",
       "      <th>Sports</th>\n",
       "      <td>16.6</td>\n",
       "    </tr>\n",
       "    <tr>\n",
       "      <th>Role-Playing</th>\n",
       "      <td>11.8</td>\n",
       "    </tr>\n",
       "    <tr>\n",
       "      <th>Racing</th>\n",
       "      <td>7.0</td>\n",
       "    </tr>\n",
       "  </tbody>\n",
       "</table>\n",
       "</div>"
      ],
      "text/plain": [
       "              percents\n",
       "genre                 \n",
       "Action            37.5\n",
       "Shooter           27.1\n",
       "Sports            16.6\n",
       "Role-Playing      11.8\n",
       "Racing             7.0"
      ]
     },
     "metadata": {},
     "output_type": "display_data"
    },
    {
     "data": {
      "image/png": "[encoded data removed]",
      "text/plain": [
       "<Figure size 432x288 with 1 Axes>"
      ]
     },
     "metadata": {
      "needs_background": "light"
     },
     "output_type": "display_data"
    },
    {
     "data": {
      "text/html": [
       "<div>\n",
       "<style scoped>\n",
       "    .dataframe tbody tr th:only-of-type {\n",
       "        vertical-align: middle;\n",
       "    }\n",
       "\n",
       "    .dataframe tbody tr th {\n",
       "        vertical-align: top;\n",
       "    }\n",
       "\n",
       "    .dataframe thead th {\n",
       "        text-align: right;\n",
       "    }\n",
       "</style>\n",
       "<table border=\"1\" class=\"dataframe\">\n",
       "  <thead>\n",
       "    <tr style=\"text-align: right;\">\n",
       "      <th></th>\n",
       "      <th>percents</th>\n",
       "    </tr>\n",
       "    <tr>\n",
       "      <th>genre</th>\n",
       "      <th></th>\n",
       "    </tr>\n",
       "  </thead>\n",
       "  <tbody>\n",
       "    <tr>\n",
       "      <th>Role-Playing</th>\n",
       "      <td>42.9</td>\n",
       "    </tr>\n",
       "    <tr>\n",
       "      <th>Action</th>\n",
       "      <td>35.3</td>\n",
       "    </tr>\n",
       "    <tr>\n",
       "      <th>Misc</th>\n",
       "      <td>7.8</td>\n",
       "    </tr>\n",
       "    <tr>\n",
       "      <th>Simulation</th>\n",
       "      <td>7.4</td>\n",
       "    </tr>\n",
       "    <tr>\n",
       "      <th>Fighting</th>\n",
       "      <td>6.6</td>\n",
       "    </tr>\n",
       "  </tbody>\n",
       "</table>\n",
       "</div>"
      ],
      "text/plain": [
       "              percents\n",
       "genre                 \n",
       "Role-Playing      42.9\n",
       "Action            35.3\n",
       "Misc               7.8\n",
       "Simulation         7.4\n",
       "Fighting           6.6"
      ]
     },
     "metadata": {},
     "output_type": "display_data"
    },
    {
     "data": {
      "image/png": "[encoded data removed]",
      "text/plain": [
       "<Figure size 432x288 with 1 Axes>"
      ]
     },
     "metadata": {
      "needs_background": "light"
     },
     "output_type": "display_data"
    },
    {
     "data": {
      "text/html": [
       "<div>\n",
       "<style scoped>\n",
       "    .dataframe tbody tr th:only-of-type {\n",
       "        vertical-align: middle;\n",
       "    }\n",
       "\n",
       "    .dataframe tbody tr th {\n",
       "        vertical-align: top;\n",
       "    }\n",
       "\n",
       "    .dataframe thead th {\n",
       "        text-align: right;\n",
       "    }\n",
       "</style>\n",
       "<table border=\"1\" class=\"dataframe\">\n",
       "  <thead>\n",
       "    <tr style=\"text-align: right;\">\n",
       "      <th></th>\n",
       "      <th>percents</th>\n",
       "    </tr>\n",
       "    <tr>\n",
       "      <th>genre</th>\n",
       "      <th></th>\n",
       "    </tr>\n",
       "  </thead>\n",
       "  <tbody>\n",
       "    <tr>\n",
       "      <th>Action</th>\n",
       "      <td>37.7</td>\n",
       "    </tr>\n",
       "    <tr>\n",
       "      <th>Shooter</th>\n",
       "      <td>27.6</td>\n",
       "    </tr>\n",
       "    <tr>\n",
       "      <th>Sports</th>\n",
       "      <td>16.9</td>\n",
       "    </tr>\n",
       "    <tr>\n",
       "      <th>Role-Playing</th>\n",
       "      <td>11.3</td>\n",
       "    </tr>\n",
       "    <tr>\n",
       "      <th>Misc</th>\n",
       "      <td>6.5</td>\n",
       "    </tr>\n",
       "  </tbody>\n",
       "</table>\n",
       "</div>"
      ],
      "text/plain": [
       "              percents\n",
       "genre                 \n",
       "Action            37.7\n",
       "Shooter           27.6\n",
       "Sports            16.9\n",
       "Role-Playing      11.3\n",
       "Misc               6.5"
      ]
     },
     "metadata": {},
     "output_type": "display_data"
    }
   ],
   "source": [
    "#Самые популярные жанры (топ-5) для каждого региона.\n",
    "\n",
    "for region in region_sales:\n",
    "    check_region(data, region, 'genre')"
   ]
  },
  {
   "cell_type": "markdown",
   "metadata": {},
   "source": [
    "В пятерку жанров вошли Action (30%), Sports и Shooter(примерно 23% кроме японии), Misc(11%-15%). Немного выделилиась япония - у них в фаворе RPG занимает почти 40%. Очевидно японцы, как поклонниики Анимэ большее предпочтение отдают ролевым играм. "
   ]
  },
  {
   "cell_type": "code",
   "execution_count": 56,
   "metadata": {},
   "outputs": [
    {
     "data": {
      "image/png": "[encoded data removed]",
      "text/plain": [
       "<Figure size 432x288 with 1 Axes>"
      ]
     },
     "metadata": {
      "needs_background": "light"
     },
     "output_type": "display_data"
    },
    {
     "data": {
      "text/html": [
       "<div>\n",
       "<style scoped>\n",
       "    .dataframe tbody tr th:only-of-type {\n",
       "        vertical-align: middle;\n",
       "    }\n",
       "\n",
       "    .dataframe tbody tr th {\n",
       "        vertical-align: top;\n",
       "    }\n",
       "\n",
       "    .dataframe thead th {\n",
       "        text-align: right;\n",
       "    }\n",
       "</style>\n",
       "<table border=\"1\" class=\"dataframe\">\n",
       "  <thead>\n",
       "    <tr style=\"text-align: right;\">\n",
       "      <th></th>\n",
       "      <th>percents</th>\n",
       "    </tr>\n",
       "    <tr>\n",
       "      <th>rating</th>\n",
       "      <th></th>\n",
       "    </tr>\n",
       "  </thead>\n",
       "  <tbody>\n",
       "    <tr>\n",
       "      <th>M</th>\n",
       "      <td>38.6</td>\n",
       "    </tr>\n",
       "    <tr>\n",
       "      <th>E</th>\n",
       "      <td>19.3</td>\n",
       "    </tr>\n",
       "    <tr>\n",
       "      <th>E10+</th>\n",
       "      <td>14.1</td>\n",
       "    </tr>\n",
       "    <tr>\n",
       "      <th>T</th>\n",
       "      <td>14.0</td>\n",
       "    </tr>\n",
       "    <tr>\n",
       "      <th>uknown</th>\n",
       "      <td>14.0</td>\n",
       "    </tr>\n",
       "  </tbody>\n",
       "</table>\n",
       "</div>"
      ],
      "text/plain": [
       "        percents\n",
       "rating          \n",
       "M           38.6\n",
       "E           19.3\n",
       "E10+        14.1\n",
       "T           14.0\n",
       "uknown      14.0"
      ]
     },
     "metadata": {},
     "output_type": "display_data"
    },
    {
     "data": {
      "image/png": "[encoded data removed]",
      "text/plain": [
       "<Figure size 432x288 with 1 Axes>"
      ]
     },
     "metadata": {
      "needs_background": "light"
     },
     "output_type": "display_data"
    },
    {
     "data": {
      "text/html": [
       "<div>\n",
       "<style scoped>\n",
       "    .dataframe tbody tr th:only-of-type {\n",
       "        vertical-align: middle;\n",
       "    }\n",
       "\n",
       "    .dataframe tbody tr th {\n",
       "        vertical-align: top;\n",
       "    }\n",
       "\n",
       "    .dataframe thead th {\n",
       "        text-align: right;\n",
       "    }\n",
       "</style>\n",
       "<table border=\"1\" class=\"dataframe\">\n",
       "  <thead>\n",
       "    <tr style=\"text-align: right;\">\n",
       "      <th></th>\n",
       "      <th>percents</th>\n",
       "    </tr>\n",
       "    <tr>\n",
       "      <th>rating</th>\n",
       "      <th></th>\n",
       "    </tr>\n",
       "  </thead>\n",
       "  <tbody>\n",
       "    <tr>\n",
       "      <th>M</th>\n",
       "      <td>38.9</td>\n",
       "    </tr>\n",
       "    <tr>\n",
       "      <th>E</th>\n",
       "      <td>20.0</td>\n",
       "    </tr>\n",
       "    <tr>\n",
       "      <th>uknown</th>\n",
       "      <td>17.0</td>\n",
       "    </tr>\n",
       "    <tr>\n",
       "      <th>T</th>\n",
       "      <td>13.0</td>\n",
       "    </tr>\n",
       "    <tr>\n",
       "      <th>E10+</th>\n",
       "      <td>11.1</td>\n",
       "    </tr>\n",
       "  </tbody>\n",
       "</table>\n",
       "</div>"
      ],
      "text/plain": [
       "        percents\n",
       "rating          \n",
       "M           38.9\n",
       "E           20.0\n",
       "uknown      17.0\n",
       "T           13.0\n",
       "E10+        11.1"
      ]
     },
     "metadata": {},
     "output_type": "display_data"
    },
    {
     "data": {
      "image/png": "[encoded data removed]",
      "text/plain": [
       "<Figure size 432x288 with 1 Axes>"
      ]
     },
     "metadata": {
      "needs_background": "light"
     },
     "output_type": "display_data"
    },
    {
     "data": {
      "text/html": [
       "<div>\n",
       "<style scoped>\n",
       "    .dataframe tbody tr th:only-of-type {\n",
       "        vertical-align: middle;\n",
       "    }\n",
       "\n",
       "    .dataframe tbody tr th {\n",
       "        vertical-align: top;\n",
       "    }\n",
       "\n",
       "    .dataframe thead th {\n",
       "        text-align: right;\n",
       "    }\n",
       "</style>\n",
       "<table border=\"1\" class=\"dataframe\">\n",
       "  <thead>\n",
       "    <tr style=\"text-align: right;\">\n",
       "      <th></th>\n",
       "      <th>percents</th>\n",
       "    </tr>\n",
       "    <tr>\n",
       "      <th>rating</th>\n",
       "      <th></th>\n",
       "    </tr>\n",
       "  </thead>\n",
       "  <tbody>\n",
       "    <tr>\n",
       "      <th>uknown</th>\n",
       "      <td>56.9</td>\n",
       "    </tr>\n",
       "    <tr>\n",
       "      <th>E</th>\n",
       "      <td>14.2</td>\n",
       "    </tr>\n",
       "    <tr>\n",
       "      <th>T</th>\n",
       "      <td>13.2</td>\n",
       "    </tr>\n",
       "    <tr>\n",
       "      <th>M</th>\n",
       "      <td>11.7</td>\n",
       "    </tr>\n",
       "    <tr>\n",
       "      <th>E10+</th>\n",
       "      <td>4.0</td>\n",
       "    </tr>\n",
       "  </tbody>\n",
       "</table>\n",
       "</div>"
      ],
      "text/plain": [
       "        percents\n",
       "rating          \n",
       "uknown      56.9\n",
       "E           14.2\n",
       "T           13.2\n",
       "M           11.7\n",
       "E10+         4.0"
      ]
     },
     "metadata": {},
     "output_type": "display_data"
    },
    {
     "data": {
      "image/png": "[encoded data removed]",
      "text/plain": [
       "<Figure size 432x288 with 1 Axes>"
      ]
     },
     "metadata": {
      "needs_background": "light"
     },
     "output_type": "display_data"
    },
    {
     "data": {
      "text/html": [
       "<div>\n",
       "<style scoped>\n",
       "    .dataframe tbody tr th:only-of-type {\n",
       "        vertical-align: middle;\n",
       "    }\n",
       "\n",
       "    .dataframe tbody tr th {\n",
       "        vertical-align: top;\n",
       "    }\n",
       "\n",
       "    .dataframe thead th {\n",
       "        text-align: right;\n",
       "    }\n",
       "</style>\n",
       "<table border=\"1\" class=\"dataframe\">\n",
       "  <thead>\n",
       "    <tr style=\"text-align: right;\">\n",
       "      <th></th>\n",
       "      <th>percents</th>\n",
       "    </tr>\n",
       "    <tr>\n",
       "      <th>rating</th>\n",
       "      <th></th>\n",
       "    </tr>\n",
       "  </thead>\n",
       "  <tbody>\n",
       "    <tr>\n",
       "      <th>M</th>\n",
       "      <td>40.7</td>\n",
       "    </tr>\n",
       "    <tr>\n",
       "      <th>E</th>\n",
       "      <td>18.7</td>\n",
       "    </tr>\n",
       "    <tr>\n",
       "      <th>uknown</th>\n",
       "      <td>15.7</td>\n",
       "    </tr>\n",
       "    <tr>\n",
       "      <th>T</th>\n",
       "      <td>13.9</td>\n",
       "    </tr>\n",
       "    <tr>\n",
       "      <th>E10+</th>\n",
       "      <td>11.0</td>\n",
       "    </tr>\n",
       "  </tbody>\n",
       "</table>\n",
       "</div>"
      ],
      "text/plain": [
       "        percents\n",
       "rating          \n",
       "M           40.7\n",
       "E           18.7\n",
       "uknown      15.7\n",
       "T           13.9\n",
       "E10+        11.0"
      ]
     },
     "metadata": {},
     "output_type": "display_data"
    }
   ],
   "source": [
    "#Проверим влияет ли рейтинг ESRB на продажи в отдельном регионе\n",
    "for region in region_sales:\n",
    "    check_region(data, region, 'rating')"
   ]
  },
  {
   "cell_type": "markdown",
   "metadata": {},
   "source": [
    "Везде отметились такие оценки ESRB как E(для всех) M(для взрослых) T(подросткам). В японии преобладание неоцененных рейтингом ESRB игр. Опять выделились, играют во что то своё.\n"
   ]
  },
  {
   "cell_type": "markdown",
   "metadata": {},
   "source": [
    "**Предварительный вывод**  \n",
    "На данном этапе мы посмотрели предпочтения потребителей в зависимости от региона потребления. Есть и общие тенденции, есть и различия между ними.Выделяется страна восходящего солнца, которая идет своим путем."
   ]
  },
  {
   "cell_type": "markdown",
   "metadata": {},
   "source": [
    "### Проверим гипотезы\n",
    " \n",
    "1. Средние пользовательские рейтинги платформ Xbox One и PC одинаковые.\n",
    "```\n",
    "H_0: Средние пользовательские рейтинги (user_score) платформ Xbox One и PC равны`\n",
    "H_a: Средние пользовательские рейтинги (user_score) платформ Xbox One и PC не равны`\n",
    "alpha = 0.05\n",
    "```\n"
   ]
  },
  {
   "cell_type": "code",
   "execution_count": 57,
   "metadata": {},
   "outputs": [
    {
     "data": {
      "image/png": "[encoded data removed]",
      "text/plain": [
       "<Figure size 432x288 with 1 Axes>"
      ]
     },
     "metadata": {
      "needs_background": "light"
     },
     "output_type": "display_data"
    }
   ],
   "source": [
    "# Так как платформы Xbox One нет среди популярных, то она отсутствует в нашем итоговом датасете. Возьмем ее из начального\n",
    "xbox = (\n",
    "        df[(df['Platform']=='XOne')\n",
    "           &(~df['User_Score'].isna())\n",
    "           &(df['User_Score'] != 'tbd')\n",
    "           &(df['Year_of_Release'] >= 2011)]['User_Score'].astype(float)\n",
    "        )\n",
    "# Данные по PC так же возбмем из начального\n",
    "pc =   (\n",
    "        df[(df['Platform']=='PC')\n",
    "           &(~df['User_Score'].isna())\n",
    "           &(df['User_Score'] != 'tbd')\n",
    "           &(df['Year_of_Release'] >= 2011)]['User_Score'].astype(float)\n",
    "        )\n",
    "\n",
    "#  И посмотрим на распределение\n",
    "pc.hist(bins=20, alpha=0.3, color='blue')\n",
    "xbox.hist(bins=20, alpha=0.7, color='green');"
   ]
  },
  {
   "cell_type": "markdown",
   "metadata": {},
   "source": [
    "По распределению видно, что максимум по оценкам приходится  в PC примерно на 8, в Xbox на 7."
   ]
  },
  {
   "cell_type": "code",
   "execution_count": 58,
   "metadata": {},
   "outputs": [
    {
     "name": "stdout",
     "output_type": "stream",
     "text": [
      "Меры для pc \n",
      "     медиана - 6.8\n",
      "     среднее - 6.45\n",
      "     минимум - 1.4\n",
      "     максимум - 9.3\n",
      "     стандартное отклонение - 1.61\n",
      "     \n",
      "------------------------------------------------------------\n",
      "Меры для xbox \n",
      "     медиана - 6.8\n",
      "     среднее - 6.52\n",
      "     минимум - 1.6\n",
      "     максимум - 9.2\n",
      "     стандартное отклонение - 1.38\n",
      "     \n",
      "------------------------------------------------------------\n"
     ]
    }
   ],
   "source": [
    "# Посмотрим меры для платформ\n",
    "print_mesures(pc)\n",
    "print_mesures(xbox)"
   ]
  },
  {
   "cell_type": "code",
   "execution_count": 59,
   "metadata": {},
   "outputs": [
    {
     "name": "stdout",
     "output_type": "stream",
     "text": [
      "0.6130712247638477\n",
      "Не получилось отвергнуть нулевую гипотезу\n"
     ]
    }
   ],
   "source": [
    "# Итак, считаем выборки - независмыми, не равными\n",
    "\n",
    "results = st.ttest_ind(xbox, pc, equal_var = False) # вызов метода для проверки гипотезы\n",
    "alpha = 0.05 # задаём значение уровня значимости\n",
    "\n",
    "# вывод значения p-value на экран \n",
    "print(results.pvalue)\n",
    "\n",
    "# условный оператор с выводом строки с ответом\n",
    "if results.pvalue < alpha:\n",
    "    print('Отвергаем нулевую гипотезу')\n",
    "else:\n",
    "    print('Не получилось отвергнуть нулевую гипотезу')"
   ]
  },
  {
   "cell_type": "markdown",
   "metadata": {},
   "source": [
    "Нулевую гипотезу не отвергли, значит с больльшой долей вероятности можно сказать, что средние рейтинги пользователей для платформ Xbox и PC равны"
   ]
  },
  {
   "cell_type": "markdown",
   "metadata": {},
   "source": [
    "2. Проверим вторую гипотезу, то что Средние пользовательские рейтинги жанров Action (англ. «действие», экшен-игры) и Sports (англ. «спортивные соревнования») разные.\n",
    "```\n",
    "H_0: Средние пользовательские рейтинги (user_score) жанров Action  и Sports равны`\n",
    "H_a: Средние пользовательские рейтинги (user_score) жанров Action  и Sports не равны`\n",
    "alpha = 0.05\n",
    "```"
   ]
  },
  {
   "cell_type": "code",
   "execution_count": 60,
   "metadata": {},
   "outputs": [
    {
     "data": {
      "image/png": "[encoded data removed]",
      "text/plain": [
       "<Figure size 432x288 with 1 Axes>"
      ]
     },
     "metadata": {
      "needs_background": "light"
     },
     "output_type": "display_data"
    }
   ],
   "source": [
    "# возьмем выборки для Action и Sports\n",
    "action = data[(data['genre']=='Action')&(data['user_score'] >-1)]['user_score']\n",
    "sports = data[(data['genre']=='Sports')&(data['user_score'] >-1)]['user_score']\n",
    "\n",
    "#  И посмотрим на распределение\n",
    "action.hist(bins=20, alpha=0.3, color='blue')\n",
    "sports.hist(bins=20, alpha=0.7, color='green');"
   ]
  },
  {
   "cell_type": "markdown",
   "metadata": {},
   "source": [
    "Визуально видно, что рейтинги для обоих жанров имеют один пик в районе 8"
   ]
  },
  {
   "cell_type": "code",
   "execution_count": 61,
   "metadata": {},
   "outputs": [
    {
     "name": "stdout",
     "output_type": "stream",
     "text": [
      "Меры для action \n",
      "     медиана - 7.1\n",
      "     среднее - 6.74\n",
      "     минимум - 1.6\n",
      "     максимум - 9.1\n",
      "     стандартное отклонение - 1.37\n",
      "     \n",
      "------------------------------------------------------------\n",
      "Меры для sports \n",
      "     медиана - 6.0\n",
      "     среднее - 5.62\n",
      "     минимум - 0.2\n",
      "     максимум - 8.7\n",
      "     стандартное отклонение - 1.72\n",
      "     \n",
      "------------------------------------------------------------\n"
     ]
    }
   ],
   "source": [
    "# Посмотрим меры для данных жанров\n",
    "print_mesures(action)\n",
    "print_mesures(sports)"
   ]
  },
  {
   "cell_type": "code",
   "execution_count": 62,
   "metadata": {},
   "outputs": [
    {
     "name": "stdout",
     "output_type": "stream",
     "text": [
      "1.311405239146084e-14\n",
      "Отвергаем нулевую гипотезу\n"
     ]
    }
   ],
   "source": [
    "# Итак, считаем выборки - независмыми, не равными\n",
    "\n",
    "results = st.ttest_ind(action, sports, equal_var = False) # вызов метода для проверки гипотезы\n",
    "alpha = 0.05 # задаём значение уровня значимости\n",
    "\n",
    "# вывод значения p-value на экран \n",
    "print(results.pvalue)\n",
    "\n",
    "# условный оператор с выводом строки с ответом\n",
    "if results.pvalue < alpha:\n",
    "    print('Отвергаем нулевую гипотезу')\n",
    "else:\n",
    "    print('Не получилось отвергнуть нулевую гипотезу')"
   ]
  },
  {
   "cell_type": "markdown",
   "metadata": {},
   "source": [
    "Принимаем альтернативную гипотезу, то что средний рейтинг для Action и Sports не равны\n",
    "\n",
    "**Предварительный вывод**  \n",
    "Приняли нулевую гипотезу, что средний рейтинг пользователей для Xbox и PC совпадает с высокой долей вероятности.\n",
    "Опровергли гипотезу о том, что средний рейтинг пользователей для жанров Action и Sports совпадают."
   ]
  },
  {
   "cell_type": "markdown",
   "metadata": {},
   "source": [
    "## Общие выводы  \n",
    "\n",
    "**Провели предварительную обработку данных**  \n",
    "- Заменили названия столбцов (приведили к нижнему регистру);\n",
    "- Преобразовали в int 'year_of_release' и 'critic_score' (float был излишним). Признаки о продажах тип не меняли, можно было бы перевести из  миллионов перевести в шт. и сделать так же int но решили оставить как есть. Признак  'critic_score' перевели во float, так как у оценок вещественный тип (нецелое)\n",
    "- Заполнили пропуски признака 'year_of_release' частично спарсенными данными, частично из названия игр, частично по имеющимся о таких играх данных для разработанных для других платформ (остаток удалили). В признаках critic_score, user_score, rating на пропуски поставили заглушки, так получить такие данные довольно сложно (можно было бы поискать рейтинги на различных сайтах и спарсить их оттуда, но это не укладывается в рамки работы, предполагаю что парсить пришлось бы не один сайт). Заполнять же такое кол-во пропуссков медианой или средним - нецелесообразно, лучше добавить категориальный признак (есть рейтинг или нет) \n",
    "Возможно пропуски вызваны техничесским сбоем, возможно часть игр просто не оценивалась критиками и игроками (а может комбинация причин)\n",
    "- при обработке пропусков обратили внимание на аббревиатуру 'tbd' в столбце с оценкой пользователей. Также поставили на него заглушку, так по сути данных по таким играм нет;\n",
    "- добавили вспомагательные столбцы: total_sales (суммарная продажа во всех регионах) и unpopular(игра отсутствует в оценке критиков и пользователей)  \n",
    "В реальной жизни постарались бы разобраться в причинах пропусков - тех сбой или просто нет данных по некоторым играм. Так же попробовали бы обогатить имеющийся датасет, жизненный опыт подсказывает что упущен существенный пласт игр для мобильных телефонов, возможно, что так же упущены какие то вновь появляющиеся но при этом перспективные платформы. Так же можно было бы побрэйнштормить и нагенерить дополнительных признаков (универсальность платформ, год выпуска платформы, население регионов, разбить население по возрастным группам и т.д.)\n",
    "\n",
    "**Провели Исследовательский анализ данных**  \n",
    "- Игровая индустрия начала бурно развиваться в начале 90х годов, пик пришелся на 2005-2010 год. На самом деле можно предположить, что индустрия развивается и сейчас, просто в датасет не попали данные для играх на телефонах, так бы возможно мы увидели дальнейший рост развития индустрии.\n",
    "Определили, что для анализа данных объективно брать данные начиная с 2011 года, более старые игры - устарели вместе с платформами.\n",
    "- Определили наиболее перспективные платформы на которых выпускаются игры в последние годы. Опеределили срок жизни платформ, который составил 8 лет (медианный). К наиболее популярным платформам отнесли 'X360', 'PS3', 'Wii', 'PS4', 'PSP', 'PC', '3DS'.\n",
    "- Посмотрели корреляцию между продажами игр и оценкой пользователей и критиков. Выявили существенную корреляцию между продажами и оценкой критиков на уровне 0.3 - 0.4.\n",
    "- Определили жанры игр, которые приносят наибольшую прибыль. К ним отнесли Action, Sports, Shooter, Misc, RPG. Причем отметили, что шутеры имеют наибольшую медианную продажу, то есть являются наиболее надёжным вложением.\n",
    "\n",
    "**Составили портрет пользователя в зависимости от региона (NA, EU, JP)**\n",
    "На данном этапе мы посмотрели предпочтения потребителей в зависимости от региона потребления. Есть и общие тенденции, есть и различия между ними.Выделяется страна восходящего солнца, которая идет своим путем. Определили, что наибольшей популярностью в японии являются платформа 3DS - портативная платформа и жанр RPG, любовь к которому предположительно можно обосновать любовью к Анимэ, в то время как в других регионах преобладает любовь к плойкам и экшену.\n",
    "\n",
    "**Проверили гипотезы**\n",
    "Приняли нулевую гипотезу, что средний рейтинг пользователей для Xbox и PC совпадает с высокой долей вероятности.\n",
    "Опровергли гипотезу о том, что средний рейтинг пользователей для жанров Action и Sports совпадают.\n",
    "Можно сделать вывод, что геймерам не всё равно во что играть, но не важно на чем, главное - играть 🙂.\n",
    "\n",
    "**Для бюджетирования предстоящего года необходимо:**\n",
    "- обратить внимание, что регионы все таки отличаются друг от друга и соответственно акценты нужно делать на разные игры, платформы, жанры.  \n",
    "- Обратить внимание, что тренд продаж последних лет имеет снижение\n",
    "\n",
    "\n",
    "**Рекомендации для дополнительного анализа**\n",
    "- Поискать альтернативные источники данных и возможно сконцентрироваться на каких-либо новых разработках, так как в четко выражена экономическая тенденция для платформ (внедрение - развитие - стагнация - смерть). В большей степени обратить внимание на более свежие платформы - умирают, вечен только PC )\n",
    "- Можно поработать над различными стратегиями для бизнеса. Можно диверсифицировать риски и тогда вкладываться в продажу игр для всех выбранных нами популярных платформ и популярных жанров, а можно, например, найти наиболее прибыльные игры в свои периоды, \"наинжененрить\" на них данных (если дальше попробовать копнуть - всевозможные движки на которых они разработаны, системные требования и т.д.) и построить прогнозную модель для новых игр для определения предстоящих прибылей и будет ли игра хитом и сконцентрироваться на таких играх. \n",
    "\n",
    "\n",
    "Данный анализ можно использовать для разработки бизнес-стратегии в продажах игр на предстоящие периоды\n"
   ]
  },
  {
   "cell_type": "code",
   "execution_count": null,
   "metadata": {},
   "outputs": [],
   "source": []
  }
 ],
 "metadata": {
  "ExecuteTimeLog": [
   {
    "duration": 1921,
    "start_time": "2023-03-21T20:48:03.180Z"
   },
   {
    "duration": 13,
    "start_time": "2023-03-21T20:48:05.104Z"
   },
   {
    "duration": 130,
    "start_time": "2023-03-21T20:48:05.119Z"
   },
   {
    "duration": 17,
    "start_time": "2023-03-21T20:48:05.250Z"
   },
   {
    "duration": 958,
    "start_time": "2023-03-21T20:48:05.269Z"
   },
   {
    "duration": 2,
    "start_time": "2023-03-21T20:48:06.229Z"
   },
   {
    "duration": 10,
    "start_time": "2023-03-21T20:48:06.233Z"
   },
   {
    "duration": 17,
    "start_time": "2023-03-21T20:48:06.244Z"
   },
   {
    "duration": 49,
    "start_time": "2023-03-21T20:48:06.263Z"
   },
   {
    "duration": 14,
    "start_time": "2023-03-21T20:48:06.314Z"
   },
   {
    "duration": 11,
    "start_time": "2023-03-21T20:48:06.330Z"
   },
   {
    "duration": 16,
    "start_time": "2023-03-21T20:48:06.343Z"
   },
   {
    "duration": 48,
    "start_time": "2023-03-21T20:48:06.361Z"
   },
   {
    "duration": 19,
    "start_time": "2023-03-21T20:48:06.413Z"
   },
   {
    "duration": 6,
    "start_time": "2023-03-21T20:48:06.434Z"
   },
   {
    "duration": 332,
    "start_time": "2023-03-21T20:48:06.442Z"
   },
   {
    "duration": 32,
    "start_time": "2023-03-21T20:48:06.775Z"
   },
   {
    "duration": 184023,
    "start_time": "2023-03-21T20:48:06.808Z"
   },
   {
    "duration": 5,
    "start_time": "2023-03-21T20:51:10.833Z"
   },
   {
    "duration": 272,
    "start_time": "2023-03-21T20:51:10.839Z"
   },
   {
    "duration": 32,
    "start_time": "2023-03-21T20:51:11.113Z"
   },
   {
    "duration": 6,
    "start_time": "2023-03-21T20:51:11.147Z"
   },
   {
    "duration": 227,
    "start_time": "2023-03-21T20:51:11.154Z"
   },
   {
    "duration": 130,
    "start_time": "2023-03-21T20:51:11.382Z"
   },
   {
    "duration": 15,
    "start_time": "2023-03-21T20:51:11.514Z"
   },
   {
    "duration": 14,
    "start_time": "2023-03-21T20:51:11.530Z"
   },
   {
    "duration": 23,
    "start_time": "2023-03-21T20:51:11.546Z"
   },
   {
    "duration": 2639,
    "start_time": "2023-03-21T20:51:11.571Z"
   },
   {
    "duration": 182,
    "start_time": "2023-03-21T20:51:14.212Z"
   },
   {
    "duration": 170,
    "start_time": "2023-03-21T20:51:14.397Z"
   },
   {
    "duration": 13,
    "start_time": "2023-03-21T20:51:14.569Z"
   },
   {
    "duration": 31,
    "start_time": "2023-03-21T20:51:14.584Z"
   },
   {
    "duration": 194,
    "start_time": "2023-03-21T20:51:14.617Z"
   },
   {
    "duration": 7,
    "start_time": "2023-03-21T20:51:14.813Z"
   },
   {
    "duration": 245,
    "start_time": "2023-03-21T20:51:14.822Z"
   },
   {
    "duration": 28,
    "start_time": "2023-03-21T20:51:15.069Z"
   },
   {
    "duration": 220,
    "start_time": "2023-03-21T20:51:15.099Z"
   },
   {
    "duration": 300,
    "start_time": "2023-03-21T20:51:15.321Z"
   },
   {
    "duration": 8,
    "start_time": "2023-03-21T20:51:15.624Z"
   },
   {
    "duration": 469,
    "start_time": "2023-03-21T20:51:15.633Z"
   },
   {
    "duration": 16,
    "start_time": "2023-03-21T20:51:16.108Z"
   },
   {
    "duration": 11,
    "start_time": "2023-03-21T20:51:16.126Z"
   },
   {
    "duration": 25,
    "start_time": "2023-03-21T20:51:16.139Z"
   },
   {
    "duration": 55,
    "start_time": "2023-03-21T20:51:16.166Z"
   },
   {
    "duration": 9,
    "start_time": "2023-03-21T20:51:16.223Z"
   },
   {
    "duration": 11,
    "start_time": "2023-03-21T20:51:16.233Z"
   },
   {
    "duration": 16,
    "start_time": "2023-03-21T20:51:16.246Z"
   },
   {
    "duration": 281,
    "start_time": "2023-03-21T20:51:16.264Z"
   },
   {
    "duration": 328,
    "start_time": "2023-03-21T20:51:16.547Z"
   },
   {
    "duration": 598,
    "start_time": "2023-03-21T20:51:16.877Z"
   },
   {
    "duration": 1304,
    "start_time": "2023-03-21T20:51:17.476Z"
   },
   {
    "duration": 384,
    "start_time": "2023-03-21T20:51:18.782Z"
   },
   {
    "duration": 555,
    "start_time": "2023-03-21T20:51:19.168Z"
   },
   {
    "duration": 568,
    "start_time": "2023-03-21T20:51:19.725Z"
   },
   {
    "duration": 595,
    "start_time": "2023-03-21T20:51:20.297Z"
   },
   {
    "duration": 191,
    "start_time": "2023-03-21T20:51:20.894Z"
   },
   {
    "duration": 29,
    "start_time": "2023-03-21T20:51:21.087Z"
   },
   {
    "duration": 5,
    "start_time": "2023-03-21T20:51:21.118Z"
   },
   {
    "duration": 188,
    "start_time": "2023-03-21T20:51:21.124Z"
   },
   {
    "duration": 28,
    "start_time": "2023-03-21T20:51:21.314Z"
   },
   {
    "duration": 6,
    "start_time": "2023-03-21T20:51:21.345Z"
   },
   {
    "duration": 14,
    "start_time": "2023-03-21T20:51:21.353Z"
   },
   {
    "duration": 1964,
    "start_time": "2023-03-22T18:09:41.167Z"
   },
   {
    "duration": 12,
    "start_time": "2023-03-22T18:09:43.133Z"
   },
   {
    "duration": 92,
    "start_time": "2023-03-22T18:09:43.146Z"
   },
   {
    "duration": 14,
    "start_time": "2023-03-22T18:09:43.240Z"
   },
   {
    "duration": 832,
    "start_time": "2023-03-22T18:09:43.256Z"
   },
   {
    "duration": 2,
    "start_time": "2023-03-22T18:09:44.090Z"
   },
   {
    "duration": 12,
    "start_time": "2023-03-22T18:09:44.093Z"
   },
   {
    "duration": 13,
    "start_time": "2023-03-22T18:09:44.106Z"
   },
   {
    "duration": 34,
    "start_time": "2023-03-22T18:09:44.120Z"
   },
   {
    "duration": 18,
    "start_time": "2023-03-22T18:09:44.156Z"
   },
   {
    "duration": 6,
    "start_time": "2023-03-22T18:09:44.175Z"
   },
   {
    "duration": 10,
    "start_time": "2023-03-22T18:09:44.182Z"
   },
   {
    "duration": 36,
    "start_time": "2023-03-22T18:09:44.193Z"
   },
   {
    "duration": 56,
    "start_time": "2023-03-22T18:09:44.231Z"
   },
   {
    "duration": 6,
    "start_time": "2023-03-22T18:09:44.288Z"
   },
   {
    "duration": 306,
    "start_time": "2023-03-22T18:09:44.296Z"
   },
   {
    "duration": 24,
    "start_time": "2023-03-22T18:09:44.603Z"
   },
   {
    "duration": 174849,
    "start_time": "2023-03-22T18:09:44.628Z"
   },
   {
    "duration": 4,
    "start_time": "2023-03-22T18:12:39.479Z"
   },
   {
    "duration": 255,
    "start_time": "2023-03-22T18:12:39.485Z"
   },
   {
    "duration": 38,
    "start_time": "2023-03-22T18:12:39.743Z"
   },
   {
    "duration": 8,
    "start_time": "2023-03-22T18:12:39.783Z"
   },
   {
    "duration": 224,
    "start_time": "2023-03-22T18:12:39.793Z"
   },
   {
    "duration": 141,
    "start_time": "2023-03-22T18:12:40.019Z"
   },
   {
    "duration": 21,
    "start_time": "2023-03-22T18:12:40.161Z"
   },
   {
    "duration": 6,
    "start_time": "2023-03-22T18:12:40.183Z"
   },
   {
    "duration": 22,
    "start_time": "2023-03-22T18:12:40.191Z"
   },
   {
    "duration": 2705,
    "start_time": "2023-03-22T18:12:40.218Z"
   },
   {
    "duration": 183,
    "start_time": "2023-03-22T18:12:42.925Z"
   },
   {
    "duration": 176,
    "start_time": "2023-03-22T18:12:43.110Z"
   },
   {
    "duration": 11,
    "start_time": "2023-03-22T18:12:43.287Z"
   },
   {
    "duration": 31,
    "start_time": "2023-03-22T18:12:43.301Z"
   },
   {
    "duration": 207,
    "start_time": "2023-03-22T18:12:43.334Z"
   },
   {
    "duration": 7,
    "start_time": "2023-03-22T18:12:43.543Z"
   },
   {
    "duration": 250,
    "start_time": "2023-03-22T18:12:43.552Z"
   },
   {
    "duration": 14,
    "start_time": "2023-03-22T18:12:43.804Z"
   },
   {
    "duration": 201,
    "start_time": "2023-03-22T18:12:43.820Z"
   },
   {
    "duration": 296,
    "start_time": "2023-03-22T18:12:44.023Z"
   },
   {
    "duration": 8,
    "start_time": "2023-03-22T18:12:44.320Z"
   },
   {
    "duration": 504,
    "start_time": "2023-03-22T18:12:44.329Z"
   },
   {
    "duration": 15,
    "start_time": "2023-03-22T18:12:44.835Z"
   },
   {
    "duration": 12,
    "start_time": "2023-03-22T18:12:44.851Z"
   },
   {
    "duration": 16,
    "start_time": "2023-03-22T18:12:44.865Z"
   },
   {
    "duration": 33,
    "start_time": "2023-03-22T18:12:44.883Z"
   },
   {
    "duration": 8,
    "start_time": "2023-03-22T18:12:44.917Z"
   },
   {
    "duration": 12,
    "start_time": "2023-03-22T18:12:44.927Z"
   },
   {
    "duration": 10,
    "start_time": "2023-03-22T18:12:44.941Z"
   },
   {
    "duration": 300,
    "start_time": "2023-03-22T18:12:44.952Z"
   },
   {
    "duration": 312,
    "start_time": "2023-03-22T18:12:45.254Z"
   },
   {
    "duration": 635,
    "start_time": "2023-03-22T18:12:45.568Z"
   },
   {
    "duration": 1265,
    "start_time": "2023-03-22T18:12:46.204Z"
   },
   {
    "duration": 357,
    "start_time": "2023-03-22T18:12:47.471Z"
   },
   {
    "duration": 545,
    "start_time": "2023-03-22T18:12:47.830Z"
   },
   {
    "duration": 578,
    "start_time": "2023-03-22T18:12:48.377Z"
   },
   {
    "duration": 566,
    "start_time": "2023-03-22T18:12:48.958Z"
   },
   {
    "duration": 193,
    "start_time": "2023-03-22T18:12:49.526Z"
   },
   {
    "duration": 27,
    "start_time": "2023-03-22T18:12:49.721Z"
   },
   {
    "duration": 5,
    "start_time": "2023-03-22T18:12:49.749Z"
   },
   {
    "duration": 174,
    "start_time": "2023-03-22T18:12:49.773Z"
   },
   {
    "duration": 33,
    "start_time": "2023-03-22T18:12:49.949Z"
   },
   {
    "duration": 5,
    "start_time": "2023-03-22T18:12:49.984Z"
   },
   {
    "duration": 8,
    "start_time": "2023-03-22T18:12:49.990Z"
   },
   {
    "duration": 337,
    "start_time": "2023-03-22T18:15:13.717Z"
   },
   {
    "duration": 263,
    "start_time": "2023-03-22T18:15:30.134Z"
   },
   {
    "duration": 7,
    "start_time": "2023-03-22T18:23:55.820Z"
   },
   {
    "duration": 7,
    "start_time": "2023-03-22T18:24:00.662Z"
   },
   {
    "duration": 6,
    "start_time": "2023-03-22T18:24:05.318Z"
   },
   {
    "duration": 6,
    "start_time": "2023-03-22T18:24:12.865Z"
   },
   {
    "duration": 21,
    "start_time": "2023-03-22T18:24:26.738Z"
   },
   {
    "duration": 20,
    "start_time": "2023-03-22T18:24:41.140Z"
   },
   {
    "duration": 1968,
    "start_time": "2023-03-22T19:34:47.753Z"
   },
   {
    "duration": 13,
    "start_time": "2023-03-22T19:34:49.724Z"
   },
   {
    "duration": 185,
    "start_time": "2023-03-22T19:34:49.996Z"
   },
   {
    "duration": 16,
    "start_time": "2023-03-22T19:34:54.753Z"
   },
   {
    "duration": 911,
    "start_time": "2023-03-22T19:35:03.046Z"
   },
   {
    "duration": 3,
    "start_time": "2023-03-22T19:35:11.022Z"
   },
   {
    "duration": 3,
    "start_time": "2023-03-22T19:35:11.345Z"
   },
   {
    "duration": 6,
    "start_time": "2023-03-22T19:35:17.396Z"
   },
   {
    "duration": 19,
    "start_time": "2023-03-22T19:35:19.721Z"
   },
   {
    "duration": 17,
    "start_time": "2023-03-22T19:35:23.607Z"
   },
   {
    "duration": 18,
    "start_time": "2023-03-22T19:35:24.093Z"
   },
   {
    "duration": 11,
    "start_time": "2023-03-22T19:35:28.392Z"
   },
   {
    "duration": 31,
    "start_time": "2023-03-22T19:35:29.360Z"
   },
   {
    "duration": 19,
    "start_time": "2023-03-22T19:35:43.450Z"
   },
   {
    "duration": 6,
    "start_time": "2023-03-22T19:35:50.121Z"
   },
   {
    "duration": 325,
    "start_time": "2023-03-22T19:35:50.725Z"
   },
   {
    "duration": 22,
    "start_time": "2023-03-22T19:35:52.920Z"
   },
   {
    "duration": 173578,
    "start_time": "2023-03-22T19:36:01.878Z"
   },
   {
    "duration": 71,
    "start_time": "2023-03-22T19:38:55.459Z"
   },
   {
    "duration": 4,
    "start_time": "2023-03-22T19:43:36.083Z"
   },
   {
    "duration": 254,
    "start_time": "2023-03-22T19:43:37.422Z"
   },
   {
    "duration": 22,
    "start_time": "2023-03-22T19:43:41.554Z"
   },
   {
    "duration": 8,
    "start_time": "2023-03-22T19:43:42.884Z"
   },
   {
    "duration": 231,
    "start_time": "2023-03-22T19:43:48.322Z"
   },
   {
    "duration": 150,
    "start_time": "2023-03-22T19:43:52.282Z"
   },
   {
    "duration": 12,
    "start_time": "2023-03-22T19:43:54.468Z"
   },
   {
    "duration": 5,
    "start_time": "2023-03-22T19:43:59.041Z"
   },
   {
    "duration": 34,
    "start_time": "2023-03-22T19:44:01.098Z"
   },
   {
    "duration": 2871,
    "start_time": "2023-03-22T19:44:05.759Z"
   },
   {
    "duration": 193,
    "start_time": "2023-03-22T19:44:08.632Z"
   },
   {
    "duration": 179,
    "start_time": "2023-03-22T19:44:10.024Z"
   },
   {
    "duration": 12,
    "start_time": "2023-03-22T19:44:14.743Z"
   },
   {
    "duration": 14,
    "start_time": "2023-03-22T19:44:15.550Z"
   },
   {
    "duration": 209,
    "start_time": "2023-03-22T19:44:21.573Z"
   },
   {
    "duration": 8,
    "start_time": "2023-03-22T19:44:26.821Z"
   },
   {
    "duration": 233,
    "start_time": "2023-03-22T19:44:28.031Z"
   },
   {
    "duration": 13,
    "start_time": "2023-03-22T19:44:43.422Z"
   },
   {
    "duration": 207,
    "start_time": "2023-03-22T19:44:51.123Z"
   },
   {
    "duration": 334,
    "start_time": "2023-03-22T19:44:52.781Z"
   },
   {
    "duration": 10,
    "start_time": "2023-03-22T19:44:53.726Z"
   },
   {
    "duration": 628,
    "start_time": "2023-03-22T19:45:15.259Z"
   },
   {
    "duration": 79,
    "start_time": "2023-03-22T19:48:30.935Z"
   },
   {
    "duration": 15,
    "start_time": "2023-03-22T19:48:43.523Z"
   },
   {
    "duration": 11,
    "start_time": "2023-03-22T19:50:13.379Z"
   },
   {
    "duration": 23,
    "start_time": "2023-03-22T19:50:21.723Z"
   },
   {
    "duration": 31,
    "start_time": "2023-03-22T19:50:26.019Z"
   },
   {
    "duration": 9,
    "start_time": "2023-03-22T19:50:31.248Z"
   },
   {
    "duration": 9,
    "start_time": "2023-03-22T19:51:37.027Z"
   },
   {
    "duration": 181,
    "start_time": "2023-03-22T19:52:35.126Z"
   },
   {
    "duration": 297,
    "start_time": "2023-03-22T19:53:54.824Z"
   },
   {
    "duration": 295,
    "start_time": "2023-03-22T19:54:03.173Z"
   },
   {
    "duration": 12,
    "start_time": "2023-03-22T19:57:30.019Z"
   },
   {
    "duration": 284,
    "start_time": "2023-03-22T19:57:41.490Z"
   },
   {
    "duration": 270,
    "start_time": "2023-03-22T19:57:50.922Z"
   },
   {
    "duration": 12,
    "start_time": "2023-03-22T19:58:49.860Z"
   },
   {
    "duration": 288,
    "start_time": "2023-03-22T19:58:59.827Z"
   },
   {
    "duration": 289,
    "start_time": "2023-03-22T19:59:09.000Z"
   },
   {
    "duration": 11,
    "start_time": "2023-03-22T20:00:15.561Z"
   },
   {
    "duration": 298,
    "start_time": "2023-03-22T20:00:34.832Z"
   },
   {
    "duration": 695,
    "start_time": "2023-03-22T20:02:37.883Z"
   },
   {
    "duration": 2149,
    "start_time": "2023-03-22T20:12:30.069Z"
   },
   {
    "duration": 4,
    "start_time": "2023-03-22T20:13:47.808Z"
   },
   {
    "duration": 2160,
    "start_time": "2023-03-22T20:14:44.716Z"
   },
   {
    "duration": 4,
    "start_time": "2023-03-22T20:15:43.444Z"
   },
   {
    "duration": 5,
    "start_time": "2023-03-22T20:16:20.367Z"
   },
   {
    "duration": 139,
    "start_time": "2023-03-22T20:19:24.084Z"
   },
   {
    "duration": 4,
    "start_time": "2023-03-22T20:21:07.412Z"
   },
   {
    "duration": 8,
    "start_time": "2023-03-22T20:21:43.358Z"
   },
   {
    "duration": 15,
    "start_time": "2023-03-22T20:21:46.794Z"
   },
   {
    "duration": 8,
    "start_time": "2023-03-22T20:22:13.131Z"
   },
   {
    "duration": 1301,
    "start_time": "2023-03-22T20:22:42.309Z"
   },
   {
    "duration": 1415,
    "start_time": "2023-03-22T20:26:24.452Z"
   },
   {
    "duration": 1239,
    "start_time": "2023-03-22T20:27:06.990Z"
   },
   {
    "duration": 1280,
    "start_time": "2023-03-22T20:28:29.457Z"
   },
   {
    "duration": 41,
    "start_time": "2023-03-22T20:29:36.342Z"
   },
   {
    "duration": 247,
    "start_time": "2023-03-22T20:29:47.813Z"
   },
   {
    "duration": 432,
    "start_time": "2023-03-22T20:30:25.961Z"
   },
   {
    "duration": 240,
    "start_time": "2023-03-22T20:30:48.187Z"
   },
   {
    "duration": 232,
    "start_time": "2023-03-22T20:31:03.811Z"
   },
   {
    "duration": 256,
    "start_time": "2023-03-22T20:31:07.985Z"
   },
   {
    "duration": 240,
    "start_time": "2023-03-22T20:31:39.241Z"
   },
   {
    "duration": 222,
    "start_time": "2023-03-22T20:32:03.654Z"
   },
   {
    "duration": 75,
    "start_time": "2023-03-22T21:04:34.318Z"
   },
   {
    "duration": 629,
    "start_time": "2023-03-22T21:07:00.080Z"
   },
   {
    "duration": 762,
    "start_time": "2023-03-22T21:07:22.394Z"
   },
   {
    "duration": 176,
    "start_time": "2023-03-22T21:08:26.813Z"
   },
   {
    "duration": 25,
    "start_time": "2023-03-22T21:08:31.868Z"
   },
   {
    "duration": 6,
    "start_time": "2023-03-22T21:08:37.968Z"
   },
   {
    "duration": 180,
    "start_time": "2023-03-22T21:08:58.737Z"
   },
   {
    "duration": 27,
    "start_time": "2023-03-22T21:08:59.921Z"
   },
   {
    "duration": 5,
    "start_time": "2023-03-22T21:09:00.385Z"
   },
   {
    "duration": 8,
    "start_time": "2023-03-22T21:10:30.648Z"
   },
   {
    "duration": 159,
    "start_time": "2023-03-22T21:10:31.018Z"
   },
   {
    "duration": 244,
    "start_time": "2023-03-22T21:10:31.278Z"
   },
   {
    "duration": 485,
    "start_time": "2023-03-22T21:10:31.579Z"
   },
   {
    "duration": 1259,
    "start_time": "2023-03-22T21:10:32.129Z"
   },
   {
    "duration": 1332,
    "start_time": "2023-03-22T21:10:33.390Z"
   },
   {
    "duration": 241,
    "start_time": "2023-03-22T21:10:34.725Z"
   },
   {
    "duration": 245,
    "start_time": "2023-03-22T21:10:34.968Z"
   },
   {
    "duration": 606,
    "start_time": "2023-03-22T21:10:35.215Z"
   },
   {
    "duration": 621,
    "start_time": "2023-03-22T21:10:35.824Z"
   },
   {
    "duration": 789,
    "start_time": "2023-03-22T21:10:36.447Z"
   },
   {
    "duration": 208,
    "start_time": "2023-03-22T21:10:37.238Z"
   },
   {
    "duration": 27,
    "start_time": "2023-03-22T21:10:37.447Z"
   },
   {
    "duration": 22,
    "start_time": "2023-03-22T21:10:37.475Z"
   },
   {
    "duration": 171,
    "start_time": "2023-03-22T21:10:37.546Z"
   },
   {
    "duration": 34,
    "start_time": "2023-03-22T21:10:37.878Z"
   },
   {
    "duration": 6,
    "start_time": "2023-03-22T21:10:38.080Z"
   },
   {
    "duration": 4,
    "start_time": "2023-03-22T21:10:38.638Z"
   },
   {
    "duration": 902,
    "start_time": "2023-03-22T21:13:20.098Z"
   },
   {
    "duration": 222,
    "start_time": "2023-03-22T21:13:30.123Z"
   },
   {
    "duration": 225,
    "start_time": "2023-03-22T21:14:39.343Z"
   },
   {
    "duration": 27,
    "start_time": "2023-03-22T21:14:46.832Z"
   },
   {
    "duration": 6,
    "start_time": "2023-03-22T21:14:48.552Z"
   },
   {
    "duration": 184,
    "start_time": "2023-03-22T21:15:23.520Z"
   },
   {
    "duration": 24,
    "start_time": "2023-03-22T21:15:30.260Z"
   },
   {
    "duration": 5,
    "start_time": "2023-03-22T21:15:31.180Z"
   },
   {
    "duration": 50,
    "start_time": "2023-03-22T21:17:36.640Z"
   },
   {
    "duration": 69,
    "start_time": "2023-03-22T21:18:12.658Z"
   },
   {
    "duration": 1655,
    "start_time": "2023-03-22T21:18:32.535Z"
   },
   {
    "duration": 23,
    "start_time": "2023-03-22T21:18:34.193Z"
   },
   {
    "duration": 140,
    "start_time": "2023-03-22T21:18:34.218Z"
   },
   {
    "duration": 16,
    "start_time": "2023-03-22T21:18:34.359Z"
   },
   {
    "duration": 973,
    "start_time": "2023-03-22T21:18:34.378Z"
   },
   {
    "duration": 3,
    "start_time": "2023-03-22T21:18:35.353Z"
   },
   {
    "duration": 58,
    "start_time": "2023-03-22T21:18:35.358Z"
   },
   {
    "duration": 65,
    "start_time": "2023-03-22T21:18:35.418Z"
   },
   {
    "duration": 53,
    "start_time": "2023-03-22T21:18:35.485Z"
   },
   {
    "duration": 43,
    "start_time": "2023-03-22T21:18:35.540Z"
   },
   {
    "duration": 60,
    "start_time": "2023-03-22T21:18:35.586Z"
   },
   {
    "duration": 47,
    "start_time": "2023-03-22T21:18:35.648Z"
   },
   {
    "duration": 97,
    "start_time": "2023-03-22T21:18:35.697Z"
   },
   {
    "duration": 30,
    "start_time": "2023-03-22T21:18:35.798Z"
   },
   {
    "duration": 18,
    "start_time": "2023-03-22T21:18:35.830Z"
   },
   {
    "duration": 372,
    "start_time": "2023-03-22T21:18:35.850Z"
   },
   {
    "duration": 29,
    "start_time": "2023-03-22T21:18:36.225Z"
   },
   {
    "duration": 176536,
    "start_time": "2023-03-22T21:18:36.256Z"
   },
   {
    "duration": 5,
    "start_time": "2023-03-22T21:21:32.794Z"
   },
   {
    "duration": 279,
    "start_time": "2023-03-22T21:21:32.806Z"
   },
   {
    "duration": 34,
    "start_time": "2023-03-22T21:21:33.087Z"
   },
   {
    "duration": 23,
    "start_time": "2023-03-22T21:21:33.123Z"
   },
   {
    "duration": 220,
    "start_time": "2023-03-22T21:21:33.147Z"
   },
   {
    "duration": 146,
    "start_time": "2023-03-22T21:21:33.369Z"
   },
   {
    "duration": 23,
    "start_time": "2023-03-22T21:21:33.517Z"
   },
   {
    "duration": 6,
    "start_time": "2023-03-22T21:21:33.541Z"
   },
   {
    "duration": 27,
    "start_time": "2023-03-22T21:21:33.549Z"
   },
   {
    "duration": 2636,
    "start_time": "2023-03-22T21:21:33.578Z"
   },
   {
    "duration": 176,
    "start_time": "2023-03-22T21:21:36.216Z"
   },
   {
    "duration": 195,
    "start_time": "2023-03-22T21:21:36.397Z"
   },
   {
    "duration": 22,
    "start_time": "2023-03-22T21:21:36.597Z"
   },
   {
    "duration": 17,
    "start_time": "2023-03-22T21:21:36.621Z"
   },
   {
    "duration": 196,
    "start_time": "2023-03-22T21:21:36.640Z"
   },
   {
    "duration": 6,
    "start_time": "2023-03-22T21:21:36.838Z"
   },
   {
    "duration": 235,
    "start_time": "2023-03-22T21:21:36.846Z"
   },
   {
    "duration": 28,
    "start_time": "2023-03-22T21:21:37.082Z"
   },
   {
    "duration": 208,
    "start_time": "2023-03-22T21:21:37.113Z"
   },
   {
    "duration": 314,
    "start_time": "2023-03-22T21:21:37.323Z"
   },
   {
    "duration": 8,
    "start_time": "2023-03-22T21:21:37.640Z"
   },
   {
    "duration": 497,
    "start_time": "2023-03-22T21:21:37.650Z"
   },
   {
    "duration": 15,
    "start_time": "2023-03-22T21:21:38.153Z"
   },
   {
    "duration": 10,
    "start_time": "2023-03-22T21:21:38.169Z"
   },
   {
    "duration": 28,
    "start_time": "2023-03-22T21:21:38.181Z"
   },
   {
    "duration": 52,
    "start_time": "2023-03-22T21:21:38.211Z"
   },
   {
    "duration": 16,
    "start_time": "2023-03-22T21:21:38.265Z"
   },
   {
    "duration": 35,
    "start_time": "2023-03-22T21:21:38.283Z"
   },
   {
    "duration": 272,
    "start_time": "2023-03-22T21:21:38.319Z"
   },
   {
    "duration": 263,
    "start_time": "2023-03-22T21:21:38.593Z"
   },
   {
    "duration": 557,
    "start_time": "2023-03-22T21:21:38.858Z"
   },
   {
    "duration": 1235,
    "start_time": "2023-03-22T21:21:39.417Z"
   },
   {
    "duration": 1295,
    "start_time": "2023-03-22T21:21:40.654Z"
   },
   {
    "duration": 260,
    "start_time": "2023-03-22T21:21:41.950Z"
   },
   {
    "duration": 216,
    "start_time": "2023-03-22T21:21:42.212Z"
   },
   {
    "duration": 609,
    "start_time": "2023-03-22T21:21:42.431Z"
   },
   {
    "duration": 627,
    "start_time": "2023-03-22T21:21:43.042Z"
   },
   {
    "duration": 696,
    "start_time": "2023-03-22T21:21:43.671Z"
   },
   {
    "duration": 240,
    "start_time": "2023-03-22T21:21:44.369Z"
   },
   {
    "duration": 27,
    "start_time": "2023-03-22T21:21:44.613Z"
   },
   {
    "duration": 5,
    "start_time": "2023-03-22T21:21:44.642Z"
   },
   {
    "duration": 195,
    "start_time": "2023-03-22T21:21:44.648Z"
   },
   {
    "duration": 24,
    "start_time": "2023-03-22T21:21:44.845Z"
   },
   {
    "duration": 4,
    "start_time": "2023-03-22T21:21:44.871Z"
   },
   {
    "duration": 25,
    "start_time": "2023-03-22T21:21:44.877Z"
   }
  ],
  "kernelspec": {
   "display_name": "Python 3 (ipykernel)",
   "language": "python",
   "name": "python3"
  },
  "language_info": {
   "codemirror_mode": {
    "name": "ipython",
    "version": 3
   },
   "file_extension": ".py",
   "mimetype": "text/x-python",
   "name": "python",
   "nbconvert_exporter": "python",
   "pygments_lexer": "ipython3",
   "version": "3.9.5"
  },
  "toc": {
   "base_numbering": 1,
   "nav_menu": {},
   "number_sections": true,
   "sideBar": true,
   "skip_h1_title": true,
   "title_cell": "Table of Contents",
   "title_sidebar": "Contents",
   "toc_cell": false,
   "toc_position": {},
   "toc_section_display": true,
   "toc_window_display": false
  }
 },
 "nbformat": 4,
 "nbformat_minor": 2
}
