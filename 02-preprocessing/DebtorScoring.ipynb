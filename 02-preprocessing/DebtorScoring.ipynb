{
 "cells": [
  {
   "cell_type": "markdown",
   "id": "174e627d",
   "metadata": {
    "deletable": false,
    "editable": false,
    "id": "c81daeeb"
   },
   "source": [
    "# Исследование надежности заемщиков\n"
   ]
  },
  {
   "cell_type": "markdown",
   "id": "e62a7e46",
   "metadata": {
    "deletable": false,
    "editable": false,
    "id": "827c20bf"
   },
   "source": [
    "Во второй части проекта вы выполните шаги 3 и 4. Их вручную проверит ревьюер.\n",
    "Чтобы вам не пришлось писать код заново для шагов 1 и 2, мы добавили авторские решения в ячейки с кодом. \n",
    "\n"
   ]
  },
  {
   "cell_type": "markdown",
   "id": "3e034897",
   "metadata": {
    "deletable": false,
    "editable": false,
    "id": "744d7639"
   },
   "source": [
    "## Откройте таблицу и изучите общую информацию о данных"
   ]
  },
  {
   "cell_type": "markdown",
   "id": "0511c153",
   "metadata": {
    "deletable": false,
    "editable": false,
    "id": "e7a14c31"
   },
   "source": [
    "**Задание 1. Импортируйте библиотеку pandas. Считайте данные из csv-файла в датафрейм и сохраните в переменную `data`. Путь к файлу:**\n",
    "\n",
    "`/datasets/data.csv`"
   ]
  },
  {
   "cell_type": "code",
   "execution_count": 1,
   "id": "1e7abec4",
   "metadata": {
    "deletable": false,
    "id": "7bcf75c9"
   },
   "outputs": [],
   "source": [
    "import pandas as pd\n",
    "\n",
    "try:\n",
    "    data = pd.read_csv('/datasets/data.csv')\n",
    "except:\n",
    "    data = pd.read_csv('https://code.s3.yandex.net/datasets/data.csv')"
   ]
  },
  {
   "cell_type": "markdown",
   "id": "c43817d1",
   "metadata": {},
   "source": [
    "Описание данных  \n",
    "children — количество детей в семье  \n",
    "days_employed — общий трудовой стаж в днях  \n",
    "dob_years — возраст клиента в годах  \n",
    "education — уровень образования клиента  \n",
    "education_id — идентификатор уровня образования  \n",
    "family_status — семейное положение  \n",
    "family_status_id — идентификатор семейного положения  \n",
    "gender — пол клиента  \n",
    "income_type — тип занятости  \n",
    "debt — имел ли задолженность по возврату кредитов  \n",
    "total_income — ежемесячный доход  \n",
    "purpose — цель получения кредита  "
   ]
  },
  {
   "cell_type": "markdown",
   "id": "058b5331",
   "metadata": {
    "deletable": false,
    "editable": false,
    "id": "b8038fe3"
   },
   "source": [
    "**Задание 2. Выведите первые 20 строчек датафрейма `data` на экран.**"
   ]
  },
  {
   "cell_type": "code",
   "execution_count": 2,
   "id": "dd8593e1",
   "metadata": {
    "deletable": false,
    "id": "2a7cab99",
    "outputId": "1a8f3ef2-d323-4ec2-ddf7-89670b5944c4"
   },
   "outputs": [
    {
     "data": {
      "text/html": [
       "<div>\n",
       "<style scoped>\n",
       "    .dataframe tbody tr th:only-of-type {\n",
       "        vertical-align: middle;\n",
       "    }\n",
       "\n",
       "    .dataframe tbody tr th {\n",
       "        vertical-align: top;\n",
       "    }\n",
       "\n",
       "    .dataframe thead th {\n",
       "        text-align: right;\n",
       "    }\n",
       "</style>\n",
       "<table border=\"1\" class=\"dataframe\">\n",
       "  <thead>\n",
       "    <tr style=\"text-align: right;\">\n",
       "      <th></th>\n",
       "      <th>children</th>\n",
       "      <th>days_employed</th>\n",
       "      <th>dob_years</th>\n",
       "      <th>education</th>\n",
       "      <th>education_id</th>\n",
       "      <th>family_status</th>\n",
       "      <th>family_status_id</th>\n",
       "      <th>gender</th>\n",
       "      <th>income_type</th>\n",
       "      <th>debt</th>\n",
       "      <th>total_income</th>\n",
       "      <th>purpose</th>\n",
       "    </tr>\n",
       "  </thead>\n",
       "  <tbody>\n",
       "    <tr>\n",
       "      <th>0</th>\n",
       "      <td>1</td>\n",
       "      <td>-8437.673028</td>\n",
       "      <td>42</td>\n",
       "      <td>высшее</td>\n",
       "      <td>0</td>\n",
       "      <td>женат / замужем</td>\n",
       "      <td>0</td>\n",
       "      <td>F</td>\n",
       "      <td>сотрудник</td>\n",
       "      <td>0</td>\n",
       "      <td>253875.639453</td>\n",
       "      <td>покупка жилья</td>\n",
       "    </tr>\n",
       "    <tr>\n",
       "      <th>1</th>\n",
       "      <td>1</td>\n",
       "      <td>-4024.803754</td>\n",
       "      <td>36</td>\n",
       "      <td>среднее</td>\n",
       "      <td>1</td>\n",
       "      <td>женат / замужем</td>\n",
       "      <td>0</td>\n",
       "      <td>F</td>\n",
       "      <td>сотрудник</td>\n",
       "      <td>0</td>\n",
       "      <td>112080.014102</td>\n",
       "      <td>приобретение автомобиля</td>\n",
       "    </tr>\n",
       "    <tr>\n",
       "      <th>2</th>\n",
       "      <td>0</td>\n",
       "      <td>-5623.422610</td>\n",
       "      <td>33</td>\n",
       "      <td>Среднее</td>\n",
       "      <td>1</td>\n",
       "      <td>женат / замужем</td>\n",
       "      <td>0</td>\n",
       "      <td>M</td>\n",
       "      <td>сотрудник</td>\n",
       "      <td>0</td>\n",
       "      <td>145885.952297</td>\n",
       "      <td>покупка жилья</td>\n",
       "    </tr>\n",
       "    <tr>\n",
       "      <th>3</th>\n",
       "      <td>3</td>\n",
       "      <td>-4124.747207</td>\n",
       "      <td>32</td>\n",
       "      <td>среднее</td>\n",
       "      <td>1</td>\n",
       "      <td>женат / замужем</td>\n",
       "      <td>0</td>\n",
       "      <td>M</td>\n",
       "      <td>сотрудник</td>\n",
       "      <td>0</td>\n",
       "      <td>267628.550329</td>\n",
       "      <td>дополнительное образование</td>\n",
       "    </tr>\n",
       "    <tr>\n",
       "      <th>4</th>\n",
       "      <td>0</td>\n",
       "      <td>340266.072047</td>\n",
       "      <td>53</td>\n",
       "      <td>среднее</td>\n",
       "      <td>1</td>\n",
       "      <td>гражданский брак</td>\n",
       "      <td>1</td>\n",
       "      <td>F</td>\n",
       "      <td>пенсионер</td>\n",
       "      <td>0</td>\n",
       "      <td>158616.077870</td>\n",
       "      <td>сыграть свадьбу</td>\n",
       "    </tr>\n",
       "    <tr>\n",
       "      <th>5</th>\n",
       "      <td>0</td>\n",
       "      <td>-926.185831</td>\n",
       "      <td>27</td>\n",
       "      <td>высшее</td>\n",
       "      <td>0</td>\n",
       "      <td>гражданский брак</td>\n",
       "      <td>1</td>\n",
       "      <td>M</td>\n",
       "      <td>компаньон</td>\n",
       "      <td>0</td>\n",
       "      <td>255763.565419</td>\n",
       "      <td>покупка жилья</td>\n",
       "    </tr>\n",
       "    <tr>\n",
       "      <th>6</th>\n",
       "      <td>0</td>\n",
       "      <td>-2879.202052</td>\n",
       "      <td>43</td>\n",
       "      <td>высшее</td>\n",
       "      <td>0</td>\n",
       "      <td>женат / замужем</td>\n",
       "      <td>0</td>\n",
       "      <td>F</td>\n",
       "      <td>компаньон</td>\n",
       "      <td>0</td>\n",
       "      <td>240525.971920</td>\n",
       "      <td>операции с жильем</td>\n",
       "    </tr>\n",
       "    <tr>\n",
       "      <th>7</th>\n",
       "      <td>0</td>\n",
       "      <td>-152.779569</td>\n",
       "      <td>50</td>\n",
       "      <td>СРЕДНЕЕ</td>\n",
       "      <td>1</td>\n",
       "      <td>женат / замужем</td>\n",
       "      <td>0</td>\n",
       "      <td>M</td>\n",
       "      <td>сотрудник</td>\n",
       "      <td>0</td>\n",
       "      <td>135823.934197</td>\n",
       "      <td>образование</td>\n",
       "    </tr>\n",
       "    <tr>\n",
       "      <th>8</th>\n",
       "      <td>2</td>\n",
       "      <td>-6929.865299</td>\n",
       "      <td>35</td>\n",
       "      <td>ВЫСШЕЕ</td>\n",
       "      <td>0</td>\n",
       "      <td>гражданский брак</td>\n",
       "      <td>1</td>\n",
       "      <td>F</td>\n",
       "      <td>сотрудник</td>\n",
       "      <td>0</td>\n",
       "      <td>95856.832424</td>\n",
       "      <td>на проведение свадьбы</td>\n",
       "    </tr>\n",
       "    <tr>\n",
       "      <th>9</th>\n",
       "      <td>0</td>\n",
       "      <td>-2188.756445</td>\n",
       "      <td>41</td>\n",
       "      <td>среднее</td>\n",
       "      <td>1</td>\n",
       "      <td>женат / замужем</td>\n",
       "      <td>0</td>\n",
       "      <td>M</td>\n",
       "      <td>сотрудник</td>\n",
       "      <td>0</td>\n",
       "      <td>144425.938277</td>\n",
       "      <td>покупка жилья для семьи</td>\n",
       "    </tr>\n",
       "    <tr>\n",
       "      <th>10</th>\n",
       "      <td>2</td>\n",
       "      <td>-4171.483647</td>\n",
       "      <td>36</td>\n",
       "      <td>высшее</td>\n",
       "      <td>0</td>\n",
       "      <td>женат / замужем</td>\n",
       "      <td>0</td>\n",
       "      <td>M</td>\n",
       "      <td>компаньон</td>\n",
       "      <td>0</td>\n",
       "      <td>113943.491460</td>\n",
       "      <td>покупка недвижимости</td>\n",
       "    </tr>\n",
       "    <tr>\n",
       "      <th>11</th>\n",
       "      <td>0</td>\n",
       "      <td>-792.701887</td>\n",
       "      <td>40</td>\n",
       "      <td>среднее</td>\n",
       "      <td>1</td>\n",
       "      <td>женат / замужем</td>\n",
       "      <td>0</td>\n",
       "      <td>F</td>\n",
       "      <td>сотрудник</td>\n",
       "      <td>0</td>\n",
       "      <td>77069.234271</td>\n",
       "      <td>покупка коммерческой недвижимости</td>\n",
       "    </tr>\n",
       "    <tr>\n",
       "      <th>12</th>\n",
       "      <td>0</td>\n",
       "      <td>NaN</td>\n",
       "      <td>65</td>\n",
       "      <td>среднее</td>\n",
       "      <td>1</td>\n",
       "      <td>гражданский брак</td>\n",
       "      <td>1</td>\n",
       "      <td>M</td>\n",
       "      <td>пенсионер</td>\n",
       "      <td>0</td>\n",
       "      <td>NaN</td>\n",
       "      <td>сыграть свадьбу</td>\n",
       "    </tr>\n",
       "    <tr>\n",
       "      <th>13</th>\n",
       "      <td>0</td>\n",
       "      <td>-1846.641941</td>\n",
       "      <td>54</td>\n",
       "      <td>неоконченное высшее</td>\n",
       "      <td>2</td>\n",
       "      <td>женат / замужем</td>\n",
       "      <td>0</td>\n",
       "      <td>F</td>\n",
       "      <td>сотрудник</td>\n",
       "      <td>0</td>\n",
       "      <td>130458.228857</td>\n",
       "      <td>приобретение автомобиля</td>\n",
       "    </tr>\n",
       "    <tr>\n",
       "      <th>14</th>\n",
       "      <td>0</td>\n",
       "      <td>-1844.956182</td>\n",
       "      <td>56</td>\n",
       "      <td>высшее</td>\n",
       "      <td>0</td>\n",
       "      <td>гражданский брак</td>\n",
       "      <td>1</td>\n",
       "      <td>F</td>\n",
       "      <td>компаньон</td>\n",
       "      <td>1</td>\n",
       "      <td>165127.911772</td>\n",
       "      <td>покупка жилой недвижимости</td>\n",
       "    </tr>\n",
       "    <tr>\n",
       "      <th>15</th>\n",
       "      <td>1</td>\n",
       "      <td>-972.364419</td>\n",
       "      <td>26</td>\n",
       "      <td>среднее</td>\n",
       "      <td>1</td>\n",
       "      <td>женат / замужем</td>\n",
       "      <td>0</td>\n",
       "      <td>F</td>\n",
       "      <td>сотрудник</td>\n",
       "      <td>0</td>\n",
       "      <td>116820.904450</td>\n",
       "      <td>строительство собственной недвижимости</td>\n",
       "    </tr>\n",
       "    <tr>\n",
       "      <th>16</th>\n",
       "      <td>0</td>\n",
       "      <td>-1719.934226</td>\n",
       "      <td>35</td>\n",
       "      <td>среднее</td>\n",
       "      <td>1</td>\n",
       "      <td>женат / замужем</td>\n",
       "      <td>0</td>\n",
       "      <td>F</td>\n",
       "      <td>сотрудник</td>\n",
       "      <td>0</td>\n",
       "      <td>289202.704229</td>\n",
       "      <td>недвижимость</td>\n",
       "    </tr>\n",
       "    <tr>\n",
       "      <th>17</th>\n",
       "      <td>0</td>\n",
       "      <td>-2369.999720</td>\n",
       "      <td>33</td>\n",
       "      <td>высшее</td>\n",
       "      <td>0</td>\n",
       "      <td>гражданский брак</td>\n",
       "      <td>1</td>\n",
       "      <td>M</td>\n",
       "      <td>сотрудник</td>\n",
       "      <td>0</td>\n",
       "      <td>90410.586745</td>\n",
       "      <td>строительство недвижимости</td>\n",
       "    </tr>\n",
       "    <tr>\n",
       "      <th>18</th>\n",
       "      <td>0</td>\n",
       "      <td>400281.136913</td>\n",
       "      <td>53</td>\n",
       "      <td>среднее</td>\n",
       "      <td>1</td>\n",
       "      <td>вдовец / вдова</td>\n",
       "      <td>2</td>\n",
       "      <td>F</td>\n",
       "      <td>пенсионер</td>\n",
       "      <td>0</td>\n",
       "      <td>56823.777243</td>\n",
       "      <td>на покупку подержанного автомобиля</td>\n",
       "    </tr>\n",
       "    <tr>\n",
       "      <th>19</th>\n",
       "      <td>0</td>\n",
       "      <td>-10038.818549</td>\n",
       "      <td>48</td>\n",
       "      <td>СРЕДНЕЕ</td>\n",
       "      <td>1</td>\n",
       "      <td>в разводе</td>\n",
       "      <td>3</td>\n",
       "      <td>F</td>\n",
       "      <td>сотрудник</td>\n",
       "      <td>0</td>\n",
       "      <td>242831.107982</td>\n",
       "      <td>на покупку своего автомобиля</td>\n",
       "    </tr>\n",
       "  </tbody>\n",
       "</table>\n",
       "</div>"
      ],
      "text/plain": [
       "    children  days_employed  dob_years            education  education_id  \\\n",
       "0          1   -8437.673028         42               высшее             0   \n",
       "1          1   -4024.803754         36              среднее             1   \n",
       "2          0   -5623.422610         33              Среднее             1   \n",
       "3          3   -4124.747207         32              среднее             1   \n",
       "4          0  340266.072047         53              среднее             1   \n",
       "5          0    -926.185831         27               высшее             0   \n",
       "6          0   -2879.202052         43               высшее             0   \n",
       "7          0    -152.779569         50              СРЕДНЕЕ             1   \n",
       "8          2   -6929.865299         35               ВЫСШЕЕ             0   \n",
       "9          0   -2188.756445         41              среднее             1   \n",
       "10         2   -4171.483647         36               высшее             0   \n",
       "11         0    -792.701887         40              среднее             1   \n",
       "12         0            NaN         65              среднее             1   \n",
       "13         0   -1846.641941         54  неоконченное высшее             2   \n",
       "14         0   -1844.956182         56               высшее             0   \n",
       "15         1    -972.364419         26              среднее             1   \n",
       "16         0   -1719.934226         35              среднее             1   \n",
       "17         0   -2369.999720         33               высшее             0   \n",
       "18         0  400281.136913         53              среднее             1   \n",
       "19         0  -10038.818549         48              СРЕДНЕЕ             1   \n",
       "\n",
       "       family_status  family_status_id gender income_type  debt  \\\n",
       "0    женат / замужем                 0      F   сотрудник     0   \n",
       "1    женат / замужем                 0      F   сотрудник     0   \n",
       "2    женат / замужем                 0      M   сотрудник     0   \n",
       "3    женат / замужем                 0      M   сотрудник     0   \n",
       "4   гражданский брак                 1      F   пенсионер     0   \n",
       "5   гражданский брак                 1      M   компаньон     0   \n",
       "6    женат / замужем                 0      F   компаньон     0   \n",
       "7    женат / замужем                 0      M   сотрудник     0   \n",
       "8   гражданский брак                 1      F   сотрудник     0   \n",
       "9    женат / замужем                 0      M   сотрудник     0   \n",
       "10   женат / замужем                 0      M   компаньон     0   \n",
       "11   женат / замужем                 0      F   сотрудник     0   \n",
       "12  гражданский брак                 1      M   пенсионер     0   \n",
       "13   женат / замужем                 0      F   сотрудник     0   \n",
       "14  гражданский брак                 1      F   компаньон     1   \n",
       "15   женат / замужем                 0      F   сотрудник     0   \n",
       "16   женат / замужем                 0      F   сотрудник     0   \n",
       "17  гражданский брак                 1      M   сотрудник     0   \n",
       "18    вдовец / вдова                 2      F   пенсионер     0   \n",
       "19         в разводе                 3      F   сотрудник     0   \n",
       "\n",
       "     total_income                                 purpose  \n",
       "0   253875.639453                           покупка жилья  \n",
       "1   112080.014102                 приобретение автомобиля  \n",
       "2   145885.952297                           покупка жилья  \n",
       "3   267628.550329              дополнительное образование  \n",
       "4   158616.077870                         сыграть свадьбу  \n",
       "5   255763.565419                           покупка жилья  \n",
       "6   240525.971920                       операции с жильем  \n",
       "7   135823.934197                             образование  \n",
       "8    95856.832424                   на проведение свадьбы  \n",
       "9   144425.938277                 покупка жилья для семьи  \n",
       "10  113943.491460                    покупка недвижимости  \n",
       "11   77069.234271       покупка коммерческой недвижимости  \n",
       "12            NaN                         сыграть свадьбу  \n",
       "13  130458.228857                 приобретение автомобиля  \n",
       "14  165127.911772              покупка жилой недвижимости  \n",
       "15  116820.904450  строительство собственной недвижимости  \n",
       "16  289202.704229                            недвижимость  \n",
       "17   90410.586745              строительство недвижимости  \n",
       "18   56823.777243      на покупку подержанного автомобиля  \n",
       "19  242831.107982            на покупку своего автомобиля  "
      ]
     },
     "execution_count": 2,
     "metadata": {},
     "output_type": "execute_result"
    }
   ],
   "source": [
    "data.head(20)"
   ]
  },
  {
   "cell_type": "markdown",
   "id": "8be0e7aa",
   "metadata": {
    "deletable": false,
    "editable": false,
    "id": "1c12e233"
   },
   "source": [
    "**Задание 3. Выведите основную информацию о датафрейме с помощью метода `info()`.**"
   ]
  },
  {
   "cell_type": "code",
   "execution_count": 3,
   "id": "e12634ab",
   "metadata": {
    "deletable": false,
    "id": "2b757bca",
    "outputId": "15376089-8dad-46c9-b520-c05248d43158"
   },
   "outputs": [
    {
     "name": "stdout",
     "output_type": "stream",
     "text": [
      "<class 'pandas.core.frame.DataFrame'>\n",
      "RangeIndex: 21525 entries, 0 to 21524\n",
      "Data columns (total 12 columns):\n",
      " #   Column            Non-Null Count  Dtype  \n",
      "---  ------            --------------  -----  \n",
      " 0   children          21525 non-null  int64  \n",
      " 1   days_employed     19351 non-null  float64\n",
      " 2   dob_years         21525 non-null  int64  \n",
      " 3   education         21525 non-null  object \n",
      " 4   education_id      21525 non-null  int64  \n",
      " 5   family_status     21525 non-null  object \n",
      " 6   family_status_id  21525 non-null  int64  \n",
      " 7   gender            21525 non-null  object \n",
      " 8   income_type       21525 non-null  object \n",
      " 9   debt              21525 non-null  int64  \n",
      " 10  total_income      19351 non-null  float64\n",
      " 11  purpose           21525 non-null  object \n",
      "dtypes: float64(2), int64(5), object(5)\n",
      "memory usage: 2.0+ MB\n"
     ]
    }
   ],
   "source": [
    "data.info()"
   ]
  },
  {
   "cell_type": "markdown",
   "id": "4217e327",
   "metadata": {
    "deletable": false,
    "editable": false,
    "id": "333ec665"
   },
   "source": [
    "## Предобработка данных"
   ]
  },
  {
   "cell_type": "markdown",
   "id": "06cb0860",
   "metadata": {
    "deletable": false,
    "editable": false,
    "id": "02d92d53"
   },
   "source": [
    "### Удаление пропусков"
   ]
  },
  {
   "cell_type": "markdown",
   "id": "444feb97",
   "metadata": {
    "deletable": false,
    "editable": false,
    "id": "cd84967c"
   },
   "source": [
    "**Задание 4. Выведите количество пропущенных значений для каждого столбца. Используйте комбинацию двух методов.**"
   ]
  },
  {
   "cell_type": "code",
   "execution_count": 4,
   "id": "c6b7c788",
   "metadata": {
    "deletable": false,
    "id": "7f9b2309",
    "outputId": "81f4d817-781c-465c-ed15-91ce4446810d"
   },
   "outputs": [
    {
     "data": {
      "text/plain": [
       "children               0\n",
       "days_employed       2174\n",
       "dob_years              0\n",
       "education              0\n",
       "education_id           0\n",
       "family_status          0\n",
       "family_status_id       0\n",
       "gender                 0\n",
       "income_type            0\n",
       "debt                   0\n",
       "total_income        2174\n",
       "purpose                0\n",
       "dtype: int64"
      ]
     },
     "execution_count": 4,
     "metadata": {},
     "output_type": "execute_result"
    }
   ],
   "source": [
    "data.isna().sum()"
   ]
  },
  {
   "cell_type": "markdown",
   "id": "c80869d5",
   "metadata": {
    "deletable": false,
    "editable": false,
    "id": "db86e27b"
   },
   "source": [
    "**Задание 5. В двух столбцах есть пропущенные значения. Один из них — `days_employed`. Пропуски в этом столбце вы обработаете на следующем этапе. Другой столбец с пропущенными значениями — `total_income` — хранит данные о доходах. На сумму дохода сильнее всего влияет тип занятости, поэтому заполнить пропуски в этом столбце нужно медианным значением по каждому типу из столбца `income_type`. Например, у человека с типом занятости `сотрудник` пропуск в столбце `total_income` должен быть заполнен медианным доходом среди всех записей с тем же типом.**"
   ]
  },
  {
   "cell_type": "code",
   "execution_count": 5,
   "id": "14cd9610",
   "metadata": {
    "deletable": false,
    "id": "42006a93"
   },
   "outputs": [],
   "source": [
    "for t in data['income_type'].unique():\n",
    "    data.loc[(data['income_type'] == t) & (data['total_income'].isna()), 'total_income'] = \\\n",
    "    data.loc[(data['income_type'] == t), 'total_income'].median()"
   ]
  },
  {
   "cell_type": "markdown",
   "id": "f470eb94",
   "metadata": {
    "deletable": false,
    "editable": false,
    "id": "89da5ece"
   },
   "source": [
    "### Обработка аномальных значений"
   ]
  },
  {
   "cell_type": "markdown",
   "id": "109d1cb1",
   "metadata": {
    "deletable": false,
    "editable": false,
    "id": "57964554"
   },
   "source": [
    "**Задание 6. В данных могут встречаться артефакты (аномалии) — значения, которые не отражают действительность и появились по какой-то ошибке. таким артефактом будет отрицательное количество дней трудового стажа в столбце `days_employed`. Для реальных данных это нормально. Обработайте значения в этом столбце: замените все отрицательные значения положительными с помощью метода `abs()`.**"
   ]
  },
  {
   "cell_type": "code",
   "execution_count": 6,
   "id": "75888de6",
   "metadata": {
    "deletable": false,
    "id": "f6f055bf"
   },
   "outputs": [],
   "source": [
    "data['days_employed'] = data['days_employed'].abs()"
   ]
  },
  {
   "cell_type": "markdown",
   "id": "fa793dd5",
   "metadata": {
    "deletable": false,
    "editable": false,
    "id": "6107dd2f"
   },
   "source": [
    "**Задание 7. Для каждого типа занятости выведите медианное значение трудового стажа `days_employed` в днях.**"
   ]
  },
  {
   "cell_type": "code",
   "execution_count": 7,
   "id": "a55babfe",
   "metadata": {
    "deletable": false,
    "id": "85a5faf6",
    "outputId": "801ef80e-522b-4668-f34e-565af7432bcf"
   },
   "outputs": [
    {
     "data": {
      "text/plain": [
       "income_type\n",
       "безработный        366413.652744\n",
       "в декрете            3296.759962\n",
       "госслужащий          2689.368353\n",
       "компаньон            1547.382223\n",
       "пенсионер          365213.306266\n",
       "предприниматель       520.848083\n",
       "сотрудник            1574.202821\n",
       "студент               578.751554\n",
       "Name: days_employed, dtype: float64"
      ]
     },
     "execution_count": 7,
     "metadata": {},
     "output_type": "execute_result"
    }
   ],
   "source": [
    "data.groupby('income_type')['days_employed'].agg('median')"
   ]
  },
  {
   "cell_type": "markdown",
   "id": "261c1848",
   "metadata": {
    "deletable": false,
    "editable": false,
    "id": "38d1a030"
   },
   "source": [
    "У двух типов (безработные и пенсионеры) получатся аномально большие значения. Исправить такие значения сложно, поэтому оставьте их как есть. Тем более этот столбец не понадобится вам для исследования."
   ]
  },
  {
   "cell_type": "markdown",
   "id": "c6525bcc",
   "metadata": {
    "deletable": false,
    "editable": false,
    "id": "d8a9f147"
   },
   "source": [
    "**Задание 8. Выведите перечень уникальных значений столбца `children`.**"
   ]
  },
  {
   "cell_type": "code",
   "execution_count": 8,
   "id": "e7c4becb",
   "metadata": {
    "deletable": false,
    "id": "ef5056eb",
    "outputId": "6975b15c-7f95-4697-d16d-a0c79b657b03"
   },
   "outputs": [
    {
     "data": {
      "text/plain": [
       "array([ 1,  0,  3,  2, -1,  4, 20,  5])"
      ]
     },
     "execution_count": 8,
     "metadata": {},
     "output_type": "execute_result"
    }
   ],
   "source": [
    "data['children'].unique()"
   ]
  },
  {
   "cell_type": "markdown",
   "id": "8c1a73f2",
   "metadata": {
    "deletable": false,
    "editable": false,
    "id": "40b9ebf2"
   },
   "source": [
    "**Задание 9. В столбце `children` есть два аномальных значения. Удалите строки, в которых встречаются такие аномальные значения из датафрейма `data`.**"
   ]
  },
  {
   "cell_type": "code",
   "execution_count": 9,
   "id": "4710c52c",
   "metadata": {
    "deletable": false,
    "id": "3ff9801d"
   },
   "outputs": [],
   "source": [
    "data = data[(data['children'] != -1) & (data['children'] != 20)]"
   ]
  },
  {
   "cell_type": "markdown",
   "id": "c3db7cf5",
   "metadata": {
    "deletable": false,
    "editable": false,
    "id": "bbc4d0ce"
   },
   "source": [
    "**Задание 10. Ещё раз выведите перечень уникальных значений столбца `children`, чтобы убедиться, что артефакты удалены.**"
   ]
  },
  {
   "cell_type": "code",
   "execution_count": 10,
   "id": "c4818e1e",
   "metadata": {
    "deletable": false,
    "id": "ad4fa8b7",
    "outputId": "b2097101-d49d-44d9-901b-32a65c9463d1"
   },
   "outputs": [
    {
     "data": {
      "text/plain": [
       "array([1, 0, 3, 2, 4, 5])"
      ]
     },
     "execution_count": 10,
     "metadata": {},
     "output_type": "execute_result"
    }
   ],
   "source": [
    "data['children'].unique()"
   ]
  },
  {
   "cell_type": "markdown",
   "id": "4b8634e9",
   "metadata": {
    "deletable": false,
    "editable": false,
    "id": "75440b63"
   },
   "source": [
    "### Удаление пропусков (продолжение)"
   ]
  },
  {
   "cell_type": "markdown",
   "id": "c8eb183d",
   "metadata": {
    "deletable": false,
    "editable": false,
    "id": "f4ea573f"
   },
   "source": [
    "**Задание 11. Заполните пропуски в столбце `days_employed` медианными значениями по каждого типа занятости `income_type`.**"
   ]
  },
  {
   "cell_type": "code",
   "execution_count": 11,
   "id": "27e1721f",
   "metadata": {
    "deletable": false,
    "id": "af6b1a7e"
   },
   "outputs": [],
   "source": [
    "for t in data['income_type'].unique():\n",
    "    data.loc[(data['income_type'] == t) & (data['days_employed'].isna()), 'days_employed'] = \\\n",
    "    data.loc[(data['income_type'] == t), 'days_employed'].median()"
   ]
  },
  {
   "cell_type": "markdown",
   "id": "6da94e49",
   "metadata": {
    "deletable": false,
    "editable": false,
    "id": "2753f40d"
   },
   "source": [
    "**Задание 12. Убедитесь, что все пропуски заполнены. Проверьте себя и ещё раз выведите количество пропущенных значений для каждого столбца с помощью двух методов.**"
   ]
  },
  {
   "cell_type": "code",
   "execution_count": 12,
   "id": "9629f9f4",
   "metadata": {
    "deletable": false,
    "id": "55f78bc2",
    "outputId": "8da1e4e1-358e-4e87-98c9-f261bce0a7b2"
   },
   "outputs": [
    {
     "data": {
      "text/plain": [
       "children            0\n",
       "days_employed       0\n",
       "dob_years           0\n",
       "education           0\n",
       "education_id        0\n",
       "family_status       0\n",
       "family_status_id    0\n",
       "gender              0\n",
       "income_type         0\n",
       "debt                0\n",
       "total_income        0\n",
       "purpose             0\n",
       "dtype: int64"
      ]
     },
     "execution_count": 12,
     "metadata": {},
     "output_type": "execute_result"
    }
   ],
   "source": [
    "data.isna().sum()"
   ]
  },
  {
   "cell_type": "markdown",
   "id": "a83e4af7",
   "metadata": {
    "deletable": false,
    "editable": false,
    "id": "ddc81e43"
   },
   "source": [
    "### Изменение типов данных"
   ]
  },
  {
   "cell_type": "markdown",
   "id": "49017c0f",
   "metadata": {
    "deletable": false,
    "editable": false,
    "id": "42d19d24"
   },
   "source": [
    "**Задание 13. Замените вещественный тип данных в столбце `total_income` на целочисленный с помощью метода `astype()`.**"
   ]
  },
  {
   "cell_type": "code",
   "execution_count": 13,
   "id": "06bc6c5b",
   "metadata": {
    "deletable": false,
    "id": "920b65ad"
   },
   "outputs": [],
   "source": [
    "data['total_income'] = data['total_income'].astype(int)"
   ]
  },
  {
   "cell_type": "markdown",
   "id": "9c2ca4c1",
   "metadata": {
    "deletable": false,
    "editable": false,
    "id": "80c420ba"
   },
   "source": [
    "### Обработка дубликатов"
   ]
  },
  {
   "cell_type": "markdown",
   "id": "4d61dc08",
   "metadata": {
    "deletable": false,
    "editable": false
   },
   "source": [
    "**Задание 14. Обработайте неявные дубликаты в столбце `education`. В этом столбце есть одни и те же значения, но записанные по-разному: с использованием заглавных и строчных букв. Приведите их к нижнему регистру. Проверьте остальные столбцы.**"
   ]
  },
  {
   "cell_type": "code",
   "execution_count": 14,
   "id": "258db1d0",
   "metadata": {
    "deletable": false
   },
   "outputs": [],
   "source": [
    "data['education'] = data['education'].str.lower()"
   ]
  },
  {
   "cell_type": "markdown",
   "id": "f4c3881a",
   "metadata": {
    "deletable": false,
    "editable": false,
    "id": "dc587695"
   },
   "source": [
    "**Задание 15. Выведите на экран количество строк-дубликатов в данных. Если такие строки присутствуют, удалите их.**"
   ]
  },
  {
   "cell_type": "code",
   "execution_count": 15,
   "id": "0fc4f202",
   "metadata": {
    "deletable": false,
    "id": "3ee445e4",
    "outputId": "9684deba-1934-42d1-99e1-cda61740f822"
   },
   "outputs": [
    {
     "data": {
      "text/plain": [
       "71"
      ]
     },
     "execution_count": 15,
     "metadata": {},
     "output_type": "execute_result"
    }
   ],
   "source": [
    "data.duplicated().sum()"
   ]
  },
  {
   "cell_type": "code",
   "execution_count": 16,
   "id": "bdc2fee1",
   "metadata": {
    "deletable": false,
    "id": "8575fe05"
   },
   "outputs": [],
   "source": [
    "data = data.drop_duplicates()"
   ]
  },
  {
   "cell_type": "markdown",
   "id": "ba0965ab",
   "metadata": {
    "deletable": false,
    "editable": false,
    "id": "9904cf55"
   },
   "source": [
    "### Категоризация данных"
   ]
  },
  {
   "cell_type": "markdown",
   "id": "ae93d54f",
   "metadata": {
    "deletable": false,
    "editable": false,
    "id": "72fcc8a2"
   },
   "source": [
    "**Задание 16. На основании диапазонов, указанных ниже, создайте в датафрейме `data` столбец `total_income_category` с категориями:**\n",
    "\n",
    "- 0–30000 — `'E'`;\n",
    "- 30001–50000 — `'D'`;\n",
    "- 50001–200000 — `'C'`;\n",
    "- 200001–1000000 — `'B'`;\n",
    "- 1000001 и выше — `'A'`.\n",
    "\n",
    "\n",
    "**Например, кредитополучателю с доходом 25000 нужно назначить категорию `'E'`, а клиенту, получающему 235000, — `'B'`. Используйте собственную функцию с именем `categorize_income()` и метод `apply()`.**"
   ]
  },
  {
   "cell_type": "code",
   "execution_count": 17,
   "id": "77486652",
   "metadata": {
    "deletable": false,
    "id": "e1771346"
   },
   "outputs": [],
   "source": [
    "def categorize_income(income):\n",
    "    try:\n",
    "        if 0 <= income <= 30000:\n",
    "            return 'E'\n",
    "        elif 30001 <= income <= 50000:\n",
    "            return 'D'\n",
    "        elif 50001 <= income <= 200000:\n",
    "            return 'C'\n",
    "        elif 200001 <= income <= 1000000:\n",
    "            return 'B'\n",
    "        elif income >= 1000001:\n",
    "            return 'A'\n",
    "    except:\n",
    "        pass"
   ]
  },
  {
   "cell_type": "code",
   "execution_count": 18,
   "id": "37a715d0",
   "metadata": {
    "deletable": false,
    "id": "d5f3586d"
   },
   "outputs": [],
   "source": [
    "data['total_income_category'] = data['total_income'].apply(categorize_income)"
   ]
  },
  {
   "cell_type": "markdown",
   "id": "0b0bd4ff",
   "metadata": {
    "deletable": false,
    "editable": false,
    "id": "dde49b5c"
   },
   "source": [
    "**Задание 17. Выведите на экран перечень уникальных целей взятия кредита из столбца `purpose`.**"
   ]
  },
  {
   "cell_type": "code",
   "execution_count": 19,
   "id": "5a4c3311",
   "metadata": {
    "deletable": false,
    "id": "f67ce9b3",
    "outputId": "673c12d9-7d7e-4ae0-9812-c622c89dd244"
   },
   "outputs": [
    {
     "data": {
      "text/plain": [
       "array(['покупка жилья', 'приобретение автомобиля',\n",
       "       'дополнительное образование', 'сыграть свадьбу',\n",
       "       'операции с жильем', 'образование', 'на проведение свадьбы',\n",
       "       'покупка жилья для семьи', 'покупка недвижимости',\n",
       "       'покупка коммерческой недвижимости', 'покупка жилой недвижимости',\n",
       "       'строительство собственной недвижимости', 'недвижимость',\n",
       "       'строительство недвижимости', 'на покупку подержанного автомобиля',\n",
       "       'на покупку своего автомобиля',\n",
       "       'операции с коммерческой недвижимостью',\n",
       "       'строительство жилой недвижимости', 'жилье',\n",
       "       'операции со своей недвижимостью', 'автомобили',\n",
       "       'заняться образованием', 'сделка с подержанным автомобилем',\n",
       "       'получение образования', 'автомобиль', 'свадьба',\n",
       "       'получение дополнительного образования', 'покупка своего жилья',\n",
       "       'операции с недвижимостью', 'получение высшего образования',\n",
       "       'свой автомобиль', 'сделка с автомобилем',\n",
       "       'профильное образование', 'высшее образование',\n",
       "       'покупка жилья для сдачи', 'на покупку автомобиля', 'ремонт жилью',\n",
       "       'заняться высшим образованием'], dtype=object)"
      ]
     },
     "execution_count": 19,
     "metadata": {},
     "output_type": "execute_result"
    }
   ],
   "source": [
    "data['purpose'].unique()"
   ]
  },
  {
   "cell_type": "markdown",
   "id": "b1d03f1b",
   "metadata": {
    "deletable": false,
    "editable": false,
    "id": "85d0aef0"
   },
   "source": [
    "**Задание 18. Создайте функцию, которая на основании данных из столбца `purpose` сформирует новый столбец `purpose_category`, в который войдут следующие категории:**\n",
    "\n",
    "- `'операции с автомобилем'`,\n",
    "- `'операции с недвижимостью'`,\n",
    "- `'проведение свадьбы'`,\n",
    "- `'получение образования'`.\n",
    "\n",
    "**Например, если в столбце `purpose` находится подстрока `'на покупку автомобиля'`, то в столбце `purpose_category` должна появиться строка `'операции с автомобилем'`.**\n",
    "\n",
    "**Используйте собственную функцию с именем `categorize_purpose()` и метод `apply()`. Изучите данные в столбце `purpose` и определите, какие подстроки помогут вам правильно определить категорию.**"
   ]
  },
  {
   "cell_type": "code",
   "execution_count": 20,
   "id": "8ef78402",
   "metadata": {
    "deletable": false,
    "id": "e149fab4"
   },
   "outputs": [],
   "source": [
    "def categorize_purpose(row):\n",
    "    try:\n",
    "        if 'автом' in row:\n",
    "            return 'операции с автомобилем'\n",
    "        elif 'жил' in row or 'недвиж' in row:\n",
    "            return 'операции с недвижимостью'\n",
    "        elif 'свад' in row:\n",
    "            return 'проведение свадьбы'\n",
    "        elif 'образов' in row:\n",
    "            return 'получение образования'\n",
    "    except:\n",
    "        return 'нет категории'"
   ]
  },
  {
   "cell_type": "code",
   "execution_count": 21,
   "id": "878f36e9",
   "metadata": {
    "deletable": false,
    "id": "bf36e69b"
   },
   "outputs": [],
   "source": [
    "data['purpose_category'] = data['purpose'].apply(categorize_purpose)"
   ]
  },
  {
   "cell_type": "markdown",
   "id": "6f6b699f",
   "metadata": {
    "deletable": false,
    "editable": false,
    "id": "09b242bf"
   },
   "source": [
    "### Шаг 3. Исследуйте данные и ответьте на вопросы"
   ]
  },
  {
   "cell_type": "markdown",
   "id": "4b8180a9",
   "metadata": {
    "deletable": false,
    "editable": false,
    "id": "c5d66278"
   },
   "source": [
    "#### 3.1 Есть ли зависимость между количеством детей и возвратом кредита в срок?"
   ]
  },
  {
   "cell_type": "code",
   "execution_count": 22,
   "id": "9b465d40",
   "metadata": {},
   "outputs": [
    {
     "data": {
      "text/html": [
       "<div>\n",
       "<style scoped>\n",
       "    .dataframe tbody tr th:only-of-type {\n",
       "        vertical-align: middle;\n",
       "    }\n",
       "\n",
       "    .dataframe tbody tr th {\n",
       "        vertical-align: top;\n",
       "    }\n",
       "\n",
       "    .dataframe thead th {\n",
       "        text-align: right;\n",
       "    }\n",
       "</style>\n",
       "<table border=\"1\" class=\"dataframe\">\n",
       "  <thead>\n",
       "    <tr style=\"text-align: right;\">\n",
       "      <th></th>\n",
       "      <th>count</th>\n",
       "      <th>sum</th>\n",
       "      <th>percent</th>\n",
       "    </tr>\n",
       "    <tr>\n",
       "      <th>children</th>\n",
       "      <th></th>\n",
       "      <th></th>\n",
       "      <th></th>\n",
       "    </tr>\n",
       "  </thead>\n",
       "  <tbody>\n",
       "    <tr>\n",
       "      <th>0</th>\n",
       "      <td>14091</td>\n",
       "      <td>1063</td>\n",
       "      <td>7.5</td>\n",
       "    </tr>\n",
       "    <tr>\n",
       "      <th>1</th>\n",
       "      <td>4808</td>\n",
       "      <td>444</td>\n",
       "      <td>9.2</td>\n",
       "    </tr>\n",
       "    <tr>\n",
       "      <th>2</th>\n",
       "      <td>2052</td>\n",
       "      <td>194</td>\n",
       "      <td>9.5</td>\n",
       "    </tr>\n",
       "    <tr>\n",
       "      <th>3</th>\n",
       "      <td>330</td>\n",
       "      <td>27</td>\n",
       "      <td>8.2</td>\n",
       "    </tr>\n",
       "    <tr>\n",
       "      <th>4</th>\n",
       "      <td>41</td>\n",
       "      <td>4</td>\n",
       "      <td>9.8</td>\n",
       "    </tr>\n",
       "    <tr>\n",
       "      <th>5</th>\n",
       "      <td>9</td>\n",
       "      <td>0</td>\n",
       "      <td>0.0</td>\n",
       "    </tr>\n",
       "  </tbody>\n",
       "</table>\n",
       "</div>"
      ],
      "text/plain": [
       "          count   sum  percent\n",
       "children                      \n",
       "0         14091  1063      7.5\n",
       "1          4808   444      9.2\n",
       "2          2052   194      9.5\n",
       "3           330    27      8.2\n",
       "4            41     4      9.8\n",
       "5             9     0      0.0"
      ]
     },
     "execution_count": 22,
     "metadata": {},
     "output_type": "execute_result"
    }
   ],
   "source": [
    "# по группировки дети посмотрим общее количество в каждой группе, всего из них с задолженностью и %\n",
    "\n",
    "children_debt = data.groupby('children')['debt'].agg(['count', 'sum'])\n",
    "children_debt['percent'] = round(children_debt['sum']/children_debt['count']*100,1)\n",
    "children_debt"
   ]
  },
  {
   "cell_type": "markdown",
   "id": "3038808b",
   "metadata": {},
   "source": [
    "Я бы сказал, что зависимость прослеживается: Чем больше детей, тем выше вероятность невозврата.  \n",
    "Выбиваются из картины семьи с 5-ю детьми. Но их в выборке очень мало.  \n",
    "Попробуем разбить на 4 группы - \"без детей\", \"1 ребенок\", \"2 ребенка\", \"3 и более детей\"\n"
   ]
  },
  {
   "cell_type": "code",
   "execution_count": 23,
   "id": "8e223ad8",
   "metadata": {},
   "outputs": [
    {
     "data": {
      "text/html": [
       "<div>\n",
       "<style scoped>\n",
       "    .dataframe tbody tr th:only-of-type {\n",
       "        vertical-align: middle;\n",
       "    }\n",
       "\n",
       "    .dataframe tbody tr th {\n",
       "        vertical-align: top;\n",
       "    }\n",
       "\n",
       "    .dataframe thead th {\n",
       "        text-align: right;\n",
       "    }\n",
       "</style>\n",
       "<table border=\"1\" class=\"dataframe\">\n",
       "  <thead>\n",
       "    <tr style=\"text-align: right;\">\n",
       "      <th></th>\n",
       "      <th>count</th>\n",
       "      <th>sum</th>\n",
       "      <th>percent</th>\n",
       "    </tr>\n",
       "    <tr>\n",
       "      <th>child_cat</th>\n",
       "      <th></th>\n",
       "      <th></th>\n",
       "      <th></th>\n",
       "    </tr>\n",
       "  </thead>\n",
       "  <tbody>\n",
       "    <tr>\n",
       "      <th>1 ребенок</th>\n",
       "      <td>4808</td>\n",
       "      <td>444</td>\n",
       "      <td>9.2</td>\n",
       "    </tr>\n",
       "    <tr>\n",
       "      <th>2 ребенка</th>\n",
       "      <td>2052</td>\n",
       "      <td>194</td>\n",
       "      <td>9.5</td>\n",
       "    </tr>\n",
       "    <tr>\n",
       "      <th>3 и более детей</th>\n",
       "      <td>380</td>\n",
       "      <td>31</td>\n",
       "      <td>8.2</td>\n",
       "    </tr>\n",
       "    <tr>\n",
       "      <th>без детей</th>\n",
       "      <td>14091</td>\n",
       "      <td>1063</td>\n",
       "      <td>7.5</td>\n",
       "    </tr>\n",
       "  </tbody>\n",
       "</table>\n",
       "</div>"
      ],
      "text/plain": [
       "                 count   sum  percent\n",
       "child_cat                            \n",
       "1 ребенок         4808   444      9.2\n",
       "2 ребенка         2052   194      9.5\n",
       "3 и более детей    380    31      8.2\n",
       "без детей        14091  1063      7.5"
      ]
     },
     "execution_count": 23,
     "metadata": {},
     "output_type": "execute_result"
    }
   ],
   "source": [
    "def child_cat(child):\n",
    "    if child == 0:\n",
    "        return \"без детей\"\n",
    "    elif child == 1:\n",
    "        return \"1 ребенок\"\n",
    "    elif child == 2:\n",
    "        return \"2 ребенка\"\n",
    "    return \"3 и более детей\"\n",
    "\n",
    "data['child_cat'] = data['children'].apply(child_cat)\n",
    "\n",
    "children_debt = data.groupby('child_cat')['debt'].agg(['count', 'sum'])\n",
    "children_debt['percent'] = round(children_debt['sum']/children_debt['count']*100,1)\n",
    "children_debt"
   ]
  },
  {
   "cell_type": "code",
   "execution_count": 24,
   "id": "595e229a",
   "metadata": {},
   "outputs": [
    {
     "data": {
      "text/plain": [
       "0.017814448455299798"
      ]
     },
     "execution_count": 24,
     "metadata": {},
     "output_type": "execute_result"
    }
   ],
   "source": [
    "# Доля многодетных в выборке\n",
    "children_debt.loc['3 и более детей']['count']/children_debt['count'].sum()"
   ]
  },
  {
   "cell_type": "markdown",
   "id": "d398bc51",
   "metadata": {
    "deletable": false,
    "id": "3a6b99ec"
   },
   "source": [
    "**Вывод:**  \n",
    "В общем можно сделать вывод, что с детьми вероятность задолженности выше. Возможно даже есть прямая корреляция между задолженностью и количеством детей, но выборка несбалансированна, так как многодетных не так много.\n",
    "При дальнейшем построении модели ml я бы попробовал два варианта: есть дети (1,0). И разбивку по категорииям (0, 1, 2, 3 и более) или (0, 1, 2 и более) "
   ]
  },
  {
   "cell_type": "markdown",
   "id": "08eabdcd",
   "metadata": {
    "deletable": false,
    "editable": false,
    "id": "97be82ca"
   },
   "source": [
    "#### 3.2 Есть ли зависимость между семейным положением и возвратом кредита в срок?"
   ]
  },
  {
   "cell_type": "code",
   "execution_count": 25,
   "id": "fa9020d7",
   "metadata": {
    "deletable": false,
    "id": "dc3f7ee8"
   },
   "outputs": [
    {
     "data": {
      "text/html": [
       "<div>\n",
       "<style scoped>\n",
       "    .dataframe tbody tr th:only-of-type {\n",
       "        vertical-align: middle;\n",
       "    }\n",
       "\n",
       "    .dataframe tbody tr th {\n",
       "        vertical-align: top;\n",
       "    }\n",
       "\n",
       "    .dataframe thead th {\n",
       "        text-align: right;\n",
       "    }\n",
       "</style>\n",
       "<table border=\"1\" class=\"dataframe\">\n",
       "  <thead>\n",
       "    <tr style=\"text-align: right;\">\n",
       "      <th></th>\n",
       "      <th>count</th>\n",
       "      <th>sum</th>\n",
       "      <th>percent</th>\n",
       "    </tr>\n",
       "    <tr>\n",
       "      <th>family_status</th>\n",
       "      <th></th>\n",
       "      <th></th>\n",
       "      <th></th>\n",
       "    </tr>\n",
       "  </thead>\n",
       "  <tbody>\n",
       "    <tr>\n",
       "      <th>Не женат / не замужем</th>\n",
       "      <td>2796</td>\n",
       "      <td>273</td>\n",
       "      <td>9.8</td>\n",
       "    </tr>\n",
       "    <tr>\n",
       "      <th>в разводе</th>\n",
       "      <td>1189</td>\n",
       "      <td>84</td>\n",
       "      <td>7.1</td>\n",
       "    </tr>\n",
       "    <tr>\n",
       "      <th>вдовец / вдова</th>\n",
       "      <td>951</td>\n",
       "      <td>63</td>\n",
       "      <td>6.6</td>\n",
       "    </tr>\n",
       "    <tr>\n",
       "      <th>гражданский брак</th>\n",
       "      <td>4134</td>\n",
       "      <td>385</td>\n",
       "      <td>9.3</td>\n",
       "    </tr>\n",
       "    <tr>\n",
       "      <th>женат / замужем</th>\n",
       "      <td>12261</td>\n",
       "      <td>927</td>\n",
       "      <td>7.6</td>\n",
       "    </tr>\n",
       "  </tbody>\n",
       "</table>\n",
       "</div>"
      ],
      "text/plain": [
       "                       count  sum  percent\n",
       "family_status                             \n",
       "Не женат / не замужем   2796  273      9.8\n",
       "в разводе               1189   84      7.1\n",
       "вдовец / вдова           951   63      6.6\n",
       "гражданский брак        4134  385      9.3\n",
       "женат / замужем        12261  927      7.6"
      ]
     },
     "execution_count": 25,
     "metadata": {},
     "output_type": "execute_result"
    }
   ],
   "source": [
    "# Ваш код будет здесь. Вы можете создавать новые ячейки.\n",
    "family_st_debt = data.groupby('family_status')['debt'].agg(['count', 'sum'])\n",
    "family_st_debt['percent'] = round(family_st_debt['sum']/family_st_debt['count']*100,1)\n",
    "family_st_debt"
   ]
  },
  {
   "cell_type": "code",
   "execution_count": 26,
   "id": "08e01382",
   "metadata": {},
   "outputs": [
    {
     "data": {
      "text/html": [
       "<div>\n",
       "<style scoped>\n",
       "    .dataframe tbody tr th:only-of-type {\n",
       "        vertical-align: middle;\n",
       "    }\n",
       "\n",
       "    .dataframe tbody tr th {\n",
       "        vertical-align: top;\n",
       "    }\n",
       "\n",
       "    .dataframe thead th {\n",
       "        text-align: right;\n",
       "    }\n",
       "</style>\n",
       "<table border=\"1\" class=\"dataframe\">\n",
       "  <thead>\n",
       "    <tr style=\"text-align: right;\">\n",
       "      <th></th>\n",
       "      <th>count</th>\n",
       "      <th>sum</th>\n",
       "      <th>percent</th>\n",
       "    </tr>\n",
       "    <tr>\n",
       "      <th>married</th>\n",
       "      <th></th>\n",
       "      <th></th>\n",
       "      <th></th>\n",
       "    </tr>\n",
       "  </thead>\n",
       "  <tbody>\n",
       "    <tr>\n",
       "      <th>0</th>\n",
       "      <td>4936</td>\n",
       "      <td>420</td>\n",
       "      <td>8.5</td>\n",
       "    </tr>\n",
       "    <tr>\n",
       "      <th>1</th>\n",
       "      <td>16395</td>\n",
       "      <td>1312</td>\n",
       "      <td>8.0</td>\n",
       "    </tr>\n",
       "  </tbody>\n",
       "</table>\n",
       "</div>"
      ],
      "text/plain": [
       "         count   sum  percent\n",
       "married                      \n",
       "0         4936   420      8.5\n",
       "1        16395  1312      8.0"
      ]
     },
     "execution_count": 26,
     "metadata": {},
     "output_type": "execute_result"
    }
   ],
   "source": [
    "#На первый взгляд корреляция не просматривается. Да и категории условные... Сделаем признак 'married' женат/за мужем (1 - да, 0 - нет)\n",
    "def family_to_cat(status):\n",
    "    if status == 'женат / замужем' or status == \"гражданский брак\":\n",
    "        return 1\n",
    "    return 0\n",
    "\n",
    "data['married'] = data['family_status'].apply(family_to_cat)\n",
    "\n",
    "family_st_debt = data.groupby('married')['debt'].agg(['count', 'sum'])\n",
    "family_st_debt['percent'] = round(family_st_debt['sum']/family_st_debt['count']*100,1)\n",
    "family_st_debt"
   ]
  },
  {
   "cell_type": "code",
   "execution_count": null,
   "id": "f8149f98",
   "metadata": {},
   "outputs": [],
   "source": []
  },
  {
   "cell_type": "markdown",
   "id": "ac0e1e8f",
   "metadata": {
    "deletable": false,
    "id": "1cef7837"
   },
   "source": [
    "**Вывод:**  \n",
    "Исходя из полученных данных, можно сказать, что в целом не женатые/замужние относятся к более рисковой группе \n",
    "\n",
    "Факультативно, я бы еще посмотрел другие группировки типа:  \n",
    "- женат, мужчина, с детьми  \n",
    "- женат, мужчина, без детей  \n",
    "- женат, женщина, с детьми  \n",
    "- женат, женщина, без детей  \n",
    "- не женат, мужчина, с детьми  \n",
    "- не женат, мужчина, без детей  \n",
    "- не женат, женщина, с детьми  \n",
    "- не женат, женщина, без детей "
   ]
  },
  {
   "cell_type": "code",
   "execution_count": 27,
   "id": "b185dbf8",
   "metadata": {},
   "outputs": [
    {
     "data": {
      "text/plain": [
       "F      14092\n",
       "M       7238\n",
       "XNA        1\n",
       "Name: gender, dtype: int64"
      ]
     },
     "execution_count": 27,
     "metadata": {},
     "output_type": "execute_result"
    }
   ],
   "source": [
    "# Факультативно\n",
    "# Сделаем столбец с детьми есть/нет\n",
    "data['child_y_n'] = data['children'].apply(lambda x: 0 if x == 0 else 1)\n",
    "# посмтотрим на gender\n",
    "data['gender'].value_counts()"
   ]
  },
  {
   "cell_type": "code",
   "execution_count": 28,
   "id": "a9ad6ebc",
   "metadata": {},
   "outputs": [
    {
     "data": {
      "text/html": [
       "<div>\n",
       "<style scoped>\n",
       "    .dataframe tbody tr th:only-of-type {\n",
       "        vertical-align: middle;\n",
       "    }\n",
       "\n",
       "    .dataframe tbody tr th {\n",
       "        vertical-align: top;\n",
       "    }\n",
       "\n",
       "    .dataframe thead th {\n",
       "        text-align: right;\n",
       "    }\n",
       "</style>\n",
       "<table border=\"1\" class=\"dataframe\">\n",
       "  <thead>\n",
       "    <tr style=\"text-align: right;\">\n",
       "      <th></th>\n",
       "      <th></th>\n",
       "      <th></th>\n",
       "      <th>count</th>\n",
       "      <th>sum</th>\n",
       "      <th>percent</th>\n",
       "    </tr>\n",
       "    <tr>\n",
       "      <th>married</th>\n",
       "      <th>gender</th>\n",
       "      <th>child_y_n</th>\n",
       "      <th></th>\n",
       "      <th></th>\n",
       "      <th></th>\n",
       "    </tr>\n",
       "  </thead>\n",
       "  <tbody>\n",
       "    <tr>\n",
       "      <th rowspan=\"4\" valign=\"top\">0</th>\n",
       "      <th rowspan=\"2\" valign=\"top\">F</th>\n",
       "      <th>0</th>\n",
       "      <td>2766</td>\n",
       "      <td>169</td>\n",
       "      <td>6.1</td>\n",
       "    </tr>\n",
       "    <tr>\n",
       "      <th>1</th>\n",
       "      <td>784</td>\n",
       "      <td>62</td>\n",
       "      <td>7.9</td>\n",
       "    </tr>\n",
       "    <tr>\n",
       "      <th rowspan=\"2\" valign=\"top\">M</th>\n",
       "      <th>0</th>\n",
       "      <td>1127</td>\n",
       "      <td>149</td>\n",
       "      <td>13.2</td>\n",
       "    </tr>\n",
       "    <tr>\n",
       "      <th>1</th>\n",
       "      <td>259</td>\n",
       "      <td>40</td>\n",
       "      <td>15.4</td>\n",
       "    </tr>\n",
       "    <tr>\n",
       "      <th rowspan=\"4\" valign=\"top\">1</th>\n",
       "      <th rowspan=\"2\" valign=\"top\">F</th>\n",
       "      <th>0</th>\n",
       "      <td>6754</td>\n",
       "      <td>423</td>\n",
       "      <td>6.3</td>\n",
       "    </tr>\n",
       "    <tr>\n",
       "      <th>1</th>\n",
       "      <td>3788</td>\n",
       "      <td>335</td>\n",
       "      <td>8.8</td>\n",
       "    </tr>\n",
       "    <tr>\n",
       "      <th rowspan=\"2\" valign=\"top\">M</th>\n",
       "      <th>0</th>\n",
       "      <td>3443</td>\n",
       "      <td>322</td>\n",
       "      <td>9.4</td>\n",
       "    </tr>\n",
       "    <tr>\n",
       "      <th>1</th>\n",
       "      <td>2409</td>\n",
       "      <td>232</td>\n",
       "      <td>9.6</td>\n",
       "    </tr>\n",
       "  </tbody>\n",
       "</table>\n",
       "</div>"
      ],
      "text/plain": [
       "                          count  sum  percent\n",
       "married gender child_y_n                     \n",
       "0       F      0           2766  169      6.1\n",
       "               1            784   62      7.9\n",
       "        M      0           1127  149     13.2\n",
       "               1            259   40     15.4\n",
       "1       F      0           6754  423      6.3\n",
       "               1           3788  335      8.8\n",
       "        M      0           3443  322      9.4\n",
       "               1           2409  232      9.6"
      ]
     },
     "execution_count": 28,
     "metadata": {},
     "output_type": "execute_result"
    }
   ],
   "source": [
    "# уберем \"неопределившегося\"\n",
    "data = data[~(data['gender'] == 'XNA')]\n",
    "\n",
    "dop_grouped = data.groupby(['married', 'gender', 'child_y_n'])['debt'].agg(['count','sum'])\n",
    "dop_grouped['percent'] = round(dop_grouped['sum']/dop_grouped['count']*100,1)\n",
    "dop_grouped"
   ]
  },
  {
   "cell_type": "markdown",
   "id": "b62eae34",
   "metadata": {},
   "source": [
    "**Вывод 2:**  \n",
    "В общем из факультативной таблички я бы сказал следующее:  \n",
    "- Женатые мужчины более надежные клиенты, чем не женатые\n",
    "- Женщины наоборот. Незамужние более надежны, чем замужние\n",
    "- У женщин вероятность невозврата меньше, чем у мужчин  (у женщин без детей вероятность невозврата еще меньше)  \n",
    "- Самый высокий невозврат у неженатых мужчин (с детьми  еще выше чем без)  \n",
    "- Наличие детей увеличивает веротность невозврата  "
   ]
  },
  {
   "cell_type": "markdown",
   "id": "d1cbe892",
   "metadata": {
    "deletable": false,
    "editable": false,
    "id": "1e8b2fca"
   },
   "source": [
    "#### 3.3 Есть ли зависимость между уровнем дохода и возвратом кредита в срок?"
   ]
  },
  {
   "cell_type": "code",
   "execution_count": 29,
   "id": "7d80f0ab",
   "metadata": {
    "deletable": false,
    "id": "cd7e3720"
   },
   "outputs": [
    {
     "data": {
      "text/plain": [
       "count              21,330.00\n",
       "mean              165,340.94\n",
       "std                98,315.94\n",
       "min                20,667.00\n",
       "25%               107,503.00\n",
       "50%               142,594.00\n",
       "75%               195,836.75\n",
       "max             2,265,604.00\n",
       "Name: total_income, dtype: float64"
      ]
     },
     "execution_count": 29,
     "metadata": {},
     "output_type": "execute_result"
    }
   ],
   "source": [
    "# Ваш код будет здесь. Вы можете создавать новые ячейки.\n",
    "# посмотрим на доход\n",
    "pd.options.display.float_format = '{:20,.2f}'.format\n",
    "data['total_income'].describe()"
   ]
  },
  {
   "cell_type": "code",
   "execution_count": 30,
   "id": "7091ee26",
   "metadata": {
    "scrolled": true
   },
   "outputs": [
    {
     "data": {
      "text/plain": [
       "<AxesSubplot:>"
      ]
     },
     "execution_count": 30,
     "metadata": {},
     "output_type": "execute_result"
    },
    {
     "data": {
      "image/png": "[encoded data removed]",
      "text/plain": [
       "<Figure size 432x288 with 1 Axes>"
      ]
     },
     "metadata": {
      "needs_background": "light"
     },
     "output_type": "display_data"
    }
   ],
   "source": [
    "# Размах очень приличный, от 20тыс. до 2.2 млн. При этом медиана и квартили не так далеко друг от друга.\n",
    "\n",
    "data['total_income'].hist(bins=50)"
   ]
  },
  {
   "cell_type": "code",
   "execution_count": 31,
   "id": "682276e2",
   "metadata": {
    "scrolled": false
   },
   "outputs": [
    {
     "data": {
      "text/plain": [
       "<AxesSubplot:>"
      ]
     },
     "execution_count": 31,
     "metadata": {},
     "output_type": "execute_result"
    },
    {
     "data": {
      "image/png": "[encoded data removed]",
      "text/plain": [
       "<Figure size 432x288 with 1 Axes>"
      ]
     },
     "metadata": {
      "needs_background": "light"
     },
     "output_type": "display_data"
    }
   ],
   "source": [
    "# видим справа вытянутый хвост, посмотрим без него\n",
    "data[data['total_income']<400000]['total_income'].hist(bins=30)"
   ]
  },
  {
   "cell_type": "code",
   "execution_count": 32,
   "id": "85641e87",
   "metadata": {},
   "outputs": [
    {
     "data": {
      "text/plain": [
       "<AxesSubplot:>"
      ]
     },
     "execution_count": 32,
     "metadata": {},
     "output_type": "execute_result"
    },
    {
     "data": {
      "image/png": "[encoded data removed]",
      "text/plain": [
       "<Figure size 432x288 with 1 Axes>"
      ]
     },
     "metadata": {
      "needs_background": "light"
     },
     "output_type": "display_data"
    }
   ],
   "source": [
    "# имеем практически нормальное распределение со смещением вправо (среднее будет существенно больше медианы)\n",
    "\n",
    "# посмотрим боксплот\n",
    "data.boxplot('total_income')"
   ]
  },
  {
   "cell_type": "code",
   "execution_count": 33,
   "id": "1249b4f2",
   "metadata": {},
   "outputs": [
    {
     "data": {
      "text/plain": [
       "528"
      ]
     },
     "execution_count": 33,
     "metadata": {},
     "output_type": "execute_result"
    }
   ],
   "source": [
    "# Визуально \"выбросы\" по межквартильному расстоянию показывают приличное кол-во богатых клиентов.\n",
    "\n",
    "# интересно количество \"богачей\"\n",
    "data[data['total_income']>400000]['total_income'].count()"
   ]
  },
  {
   "cell_type": "code",
   "execution_count": 34,
   "id": "4eaa12bd",
   "metadata": {
    "scrolled": true
   },
   "outputs": [
    {
     "data": {
      "text/html": [
       "<div>\n",
       "<style scoped>\n",
       "    .dataframe tbody tr th:only-of-type {\n",
       "        vertical-align: middle;\n",
       "    }\n",
       "\n",
       "    .dataframe tbody tr th {\n",
       "        vertical-align: top;\n",
       "    }\n",
       "\n",
       "    .dataframe thead th {\n",
       "        text-align: right;\n",
       "    }\n",
       "</style>\n",
       "<table border=\"1\" class=\"dataframe\">\n",
       "  <thead>\n",
       "    <tr style=\"text-align: right;\">\n",
       "      <th></th>\n",
       "      <th>count</th>\n",
       "      <th>sum</th>\n",
       "      <th>percent</th>\n",
       "    </tr>\n",
       "    <tr>\n",
       "      <th>income_cat</th>\n",
       "      <th></th>\n",
       "      <th></th>\n",
       "      <th></th>\n",
       "    </tr>\n",
       "  </thead>\n",
       "  <tbody>\n",
       "    <tr>\n",
       "      <th>средний класс</th>\n",
       "      <td>10664</td>\n",
       "      <td>924</td>\n",
       "      <td>8.70</td>\n",
       "    </tr>\n",
       "    <tr>\n",
       "      <th>бедные</th>\n",
       "      <td>5333</td>\n",
       "      <td>427</td>\n",
       "      <td>8.00</td>\n",
       "    </tr>\n",
       "    <tr>\n",
       "      <th>хороший доход</th>\n",
       "      <td>4805</td>\n",
       "      <td>350</td>\n",
       "      <td>7.30</td>\n",
       "    </tr>\n",
       "    <tr>\n",
       "      <th>богачи</th>\n",
       "      <td>528</td>\n",
       "      <td>31</td>\n",
       "      <td>5.90</td>\n",
       "    </tr>\n",
       "  </tbody>\n",
       "</table>\n",
       "</div>"
      ],
      "text/plain": [
       "               count  sum              percent\n",
       "income_cat                                    \n",
       "средний класс  10664  924                 8.70\n",
       "бедные          5333  427                 8.00\n",
       "хороший доход   4805  350                 7.30\n",
       "богачи           528   31                 5.90"
      ]
     },
     "execution_count": 34,
     "metadata": {},
     "output_type": "execute_result"
    }
   ],
   "source": [
    "# Сделаем свою группировку: разобьем на четыре группы [0, 1 квартиль] - 'низкий', [1 квартиль, 3 квартиль] - 'средний', \n",
    "# [3 квартиль, 400000] - 'высокий', [400000,] - 'богатые'\n",
    "q1 = data['total_income'].quantile(0.25)\n",
    "q2 = data['total_income'].median()\n",
    "q3 = data['total_income'].quantile(0.75)\n",
    "\n",
    "\n",
    "\n",
    "def rich_cat(income):\n",
    "    if income < q1:\n",
    "        return \"бедные\"\n",
    "    elif q1 <= income < q3:\n",
    "        return 'средний класс'\n",
    "    elif q3 <= income < 400000:\n",
    "        return 'хороший доход'\n",
    "    return 'богачи'\n",
    "\n",
    "\n",
    "data['income_cat'] = data['total_income'].apply(rich_cat)\n",
    "\n",
    "income_grouped = data.groupby('income_cat')['debt'].agg(['count','sum'])\n",
    "income_grouped['percent'] = round(income_grouped['sum']/income_grouped['count']*100,1)\n",
    "income_grouped.sort_values('percent', ascending=False)"
   ]
  },
  {
   "cell_type": "code",
   "execution_count": 35,
   "id": "3a872da8",
   "metadata": {},
   "outputs": [
    {
     "data": {
      "text/html": [
       "<div>\n",
       "<style scoped>\n",
       "    .dataframe tbody tr th:only-of-type {\n",
       "        vertical-align: middle;\n",
       "    }\n",
       "\n",
       "    .dataframe tbody tr th {\n",
       "        vertical-align: top;\n",
       "    }\n",
       "\n",
       "    .dataframe thead th {\n",
       "        text-align: right;\n",
       "    }\n",
       "</style>\n",
       "<table border=\"1\" class=\"dataframe\">\n",
       "  <thead>\n",
       "    <tr style=\"text-align: right;\">\n",
       "      <th></th>\n",
       "      <th>count</th>\n",
       "      <th>sum</th>\n",
       "      <th>percent</th>\n",
       "    </tr>\n",
       "    <tr>\n",
       "      <th>total_income_category</th>\n",
       "      <th></th>\n",
       "      <th></th>\n",
       "      <th></th>\n",
       "    </tr>\n",
       "  </thead>\n",
       "  <tbody>\n",
       "    <tr>\n",
       "      <th>E</th>\n",
       "      <td>22</td>\n",
       "      <td>2</td>\n",
       "      <td>9.10</td>\n",
       "    </tr>\n",
       "    <tr>\n",
       "      <th>D</th>\n",
       "      <td>349</td>\n",
       "      <td>21</td>\n",
       "      <td>6.00</td>\n",
       "    </tr>\n",
       "    <tr>\n",
       "      <th>C</th>\n",
       "      <td>15921</td>\n",
       "      <td>1353</td>\n",
       "      <td>8.50</td>\n",
       "    </tr>\n",
       "    <tr>\n",
       "      <th>B</th>\n",
       "      <td>5013</td>\n",
       "      <td>354</td>\n",
       "      <td>7.10</td>\n",
       "    </tr>\n",
       "    <tr>\n",
       "      <th>A</th>\n",
       "      <td>25</td>\n",
       "      <td>2</td>\n",
       "      <td>8.00</td>\n",
       "    </tr>\n",
       "  </tbody>\n",
       "</table>\n",
       "</div>"
      ],
      "text/plain": [
       "                       count   sum              percent\n",
       "total_income_category                                  \n",
       "E                         22     2                 9.10\n",
       "D                        349    21                 6.00\n",
       "C                      15921  1353                 8.50\n",
       "B                       5013   354                 7.10\n",
       "A                         25     2                 8.00"
      ]
     },
     "execution_count": 35,
     "metadata": {},
     "output_type": "execute_result"
    }
   ],
   "source": [
    "# Сравним с выборкой по категориям, предложенным проектом\n",
    "income_grouped = data.groupby('total_income_category')['debt'].agg(['count','sum'])\n",
    "income_grouped['percent'] = round(income_grouped['sum']/income_grouped['count']*100,1)\n",
    "income_grouped.sort_values('total_income_category', ascending=False)"
   ]
  },
  {
   "cell_type": "markdown",
   "id": "4a25e6ea",
   "metadata": {
    "deletable": false,
    "id": "e8593def"
   },
   "source": [
    "\n",
    "**Вывод:**  \n",
    "Самый рисковый - средний класс. Бедные так же имеют больше вероятность не вернуть кредит.\n",
    "Выше среднего класса - менее рискованные клиенты. С доходом выше 400000 - самый низкий процент должников.\n",
    "Хотя если посмотреть миллионеров из группировки, предложенной в данном проекте, у них процент невозврата - довольно высокий (но тут в выборку попадают по 20-25 человек, может быть не репрезентативно) \n",
    "  "
   ]
  },
  {
   "cell_type": "markdown",
   "id": "214a2a3b",
   "metadata": {
    "deletable": false,
    "editable": false,
    "id": "99ecbd1f"
   },
   "source": [
    "#### 3.4 Как разные цели кредита влияют на его возврат в срок?"
   ]
  },
  {
   "cell_type": "code",
   "execution_count": 36,
   "id": "0df6df4d",
   "metadata": {
    "deletable": false,
    "id": "2b687290"
   },
   "outputs": [
    {
     "data": {
      "text/html": [
       "<div>\n",
       "<style scoped>\n",
       "    .dataframe tbody tr th:only-of-type {\n",
       "        vertical-align: middle;\n",
       "    }\n",
       "\n",
       "    .dataframe tbody tr th {\n",
       "        vertical-align: top;\n",
       "    }\n",
       "\n",
       "    .dataframe thead th {\n",
       "        text-align: right;\n",
       "    }\n",
       "</style>\n",
       "<table border=\"1\" class=\"dataframe\">\n",
       "  <thead>\n",
       "    <tr style=\"text-align: right;\">\n",
       "      <th></th>\n",
       "      <th>count</th>\n",
       "      <th>sum</th>\n",
       "      <th>percent</th>\n",
       "    </tr>\n",
       "    <tr>\n",
       "      <th>purpose_category</th>\n",
       "      <th></th>\n",
       "      <th></th>\n",
       "      <th></th>\n",
       "    </tr>\n",
       "  </thead>\n",
       "  <tbody>\n",
       "    <tr>\n",
       "      <th>операции с автомобилем</th>\n",
       "      <td>4279</td>\n",
       "      <td>400</td>\n",
       "      <td>9.30</td>\n",
       "    </tr>\n",
       "    <tr>\n",
       "      <th>операции с недвижимостью</th>\n",
       "      <td>10750</td>\n",
       "      <td>780</td>\n",
       "      <td>7.30</td>\n",
       "    </tr>\n",
       "    <tr>\n",
       "      <th>получение образования</th>\n",
       "      <td>3988</td>\n",
       "      <td>369</td>\n",
       "      <td>9.30</td>\n",
       "    </tr>\n",
       "    <tr>\n",
       "      <th>проведение свадьбы</th>\n",
       "      <td>2313</td>\n",
       "      <td>183</td>\n",
       "      <td>7.90</td>\n",
       "    </tr>\n",
       "  </tbody>\n",
       "</table>\n",
       "</div>"
      ],
      "text/plain": [
       "                          count  sum              percent\n",
       "purpose_category                                         \n",
       "операции с автомобилем     4279  400                 9.30\n",
       "операции с недвижимостью  10750  780                 7.30\n",
       "получение образования      3988  369                 9.30\n",
       "проведение свадьбы         2313  183                 7.90"
      ]
     },
     "execution_count": 36,
     "metadata": {},
     "output_type": "execute_result"
    }
   ],
   "source": [
    "# Ваш код будет здесь. Вы можете создавать новые ячейки.\n",
    "purpose_debt = data.groupby('purpose_category')['debt'].agg(['count', 'sum'])\n",
    "purpose_debt['percent'] = round(purpose_debt['sum']/purpose_debt['count']*100,1)\n",
    "purpose_debt"
   ]
  },
  {
   "cell_type": "markdown",
   "id": "b7ea8c9b",
   "metadata": {
    "deletable": false,
    "id": "b4bb2ce6"
   },
   "source": [
    "**Вывод:**  \n",
    "Здесь дополнительные группировки на ум не приходят (единственное поковырять в доп группировке с детьми/статусом/ и т.д.).  \n",
    "Но на первый взгляд можем сказать:  \n",
    "- Операции с недвижимостью самые надежные (так как, думаю, недвижимость в залоге)\n",
    "- Почему на свадьбу ниже вероятность невозврата ниже (чем например на авто), не понимаю, он по сути потребительский.\n",
    "- Более высокий риск невозврата за учебу и за авто."
   ]
  },
  {
   "cell_type": "markdown",
   "id": "91042081",
   "metadata": {
    "deletable": false,
    "editable": false,
    "id": "09c3ac4c"
   },
   "source": [
    "#### 3.5 Приведите возможные причины появления пропусков в исходных данных."
   ]
  },
  {
   "cell_type": "markdown",
   "id": "ae2c5be8",
   "metadata": {
    "deletable": false,
    "id": "9da2ceda"
   },
   "source": [
    "*Ответ:*  \n",
    "Из-за ошибки: технической или человеческой.  \n",
    "- Технические. Парсим сайт по определенным полям, они могут быть незаполненными. В какой то момент может соединение прирваться и т.д.\n",
    "- Человеческая. Если есть не заполнять необязательные поля - то многие их не заполняют."
   ]
  },
  {
   "cell_type": "markdown",
   "id": "c91408c0",
   "metadata": {
    "deletable": false,
    "editable": false,
    "id": "7b0487d6"
   },
   "source": [
    "#### 3.6 Объясните, почему заполнить пропуски медианным значением — лучшее решение для количественных переменных.  "
   ]
  },
  {
   "cell_type": "markdown",
   "id": "eaba4b14",
   "metadata": {
    "deletable": false,
    "id": "7ecf2b8e"
   },
   "source": [
    "*Ответ:*  \n",
    "Если касательно данного кейса, где есть возможно посмотреть медианное значение по разным группировкам, то - это лучший выбор, потому что медиана нечувствительна к выбросу."
   ]
  },
  {
   "cell_type": "code",
   "execution_count": 37,
   "id": "78fe8806",
   "metadata": {},
   "outputs": [
    {
     "data": {
      "text/html": [
       "<div>\n",
       "<style scoped>\n",
       "    .dataframe tbody tr th:only-of-type {\n",
       "        vertical-align: middle;\n",
       "    }\n",
       "\n",
       "    .dataframe tbody tr th {\n",
       "        vertical-align: top;\n",
       "    }\n",
       "\n",
       "    .dataframe thead th {\n",
       "        text-align: right;\n",
       "    }\n",
       "</style>\n",
       "<table border=\"1\" class=\"dataframe\">\n",
       "  <thead>\n",
       "    <tr style=\"text-align: right;\">\n",
       "      <th></th>\n",
       "      <th>count</th>\n",
       "      <th>median</th>\n",
       "    </tr>\n",
       "    <tr>\n",
       "      <th>income_type</th>\n",
       "      <th></th>\n",
       "      <th></th>\n",
       "    </tr>\n",
       "  </thead>\n",
       "  <tbody>\n",
       "    <tr>\n",
       "      <th>безработный</th>\n",
       "      <td>2</td>\n",
       "      <td>131339</td>\n",
       "    </tr>\n",
       "    <tr>\n",
       "      <th>в декрете</th>\n",
       "      <td>1</td>\n",
       "      <td>53829</td>\n",
       "    </tr>\n",
       "    <tr>\n",
       "      <th>госслужащий</th>\n",
       "      <td>1451</td>\n",
       "      <td>150447</td>\n",
       "    </tr>\n",
       "    <tr>\n",
       "      <th>компаньон</th>\n",
       "      <td>5046</td>\n",
       "      <td>172357</td>\n",
       "    </tr>\n",
       "    <tr>\n",
       "      <th>пенсионер</th>\n",
       "      <td>3812</td>\n",
       "      <td>118514</td>\n",
       "    </tr>\n",
       "    <tr>\n",
       "      <th>предприниматель</th>\n",
       "      <td>2</td>\n",
       "      <td>499163</td>\n",
       "    </tr>\n",
       "    <tr>\n",
       "      <th>сотрудник</th>\n",
       "      <td>11015</td>\n",
       "      <td>142594</td>\n",
       "    </tr>\n",
       "    <tr>\n",
       "      <th>студент</th>\n",
       "      <td>1</td>\n",
       "      <td>98201</td>\n",
       "    </tr>\n",
       "  </tbody>\n",
       "</table>\n",
       "</div>"
      ],
      "text/plain": [
       "                 count  median\n",
       "income_type                   \n",
       "безработный          2  131339\n",
       "в декрете            1   53829\n",
       "госслужащий       1451  150447\n",
       "компаньон         5046  172357\n",
       "пенсионер         3812  118514\n",
       "предприниматель      2  499163\n",
       "сотрудник        11015  142594\n",
       "студент              1   98201"
      ]
     },
     "execution_count": 37,
     "metadata": {},
     "output_type": "execute_result"
    }
   ],
   "source": [
    "data.groupby('income_type')['total_income'].agg(['count', 'median'])"
   ]
  },
  {
   "cell_type": "markdown",
   "id": "027c5930",
   "metadata": {
    "deletable": false,
    "editable": false,
    "id": "6db5255a"
   },
   "source": [
    "### Шаг 4: общий вывод."
   ]
  },
  {
   "cell_type": "markdown",
   "id": "8c4dda5e",
   "metadata": {
    "deletable": false,
    "id": "bad65432"
   },
   "source": [
    "\n",
    "В целом можно сказать, что представленные данные хорошие, но немного \"сырые\". Нам пришлось обработать пропуски, удалить дубликаты и выбросы. Изменить категоризацию некоторых признаков.\n",
    "При анализе данных были выявлены зависимости между вероятностью невозврата кредита и некоторыми признаками:  \n",
    "- children — количество детей в семье (Наличие детей в целом увеливает риск невозврата)\n",
    "- family_status — семейное положение (не женатые/замужние более рисковая группа)\n",
    "- gender — пол клиента  (мужчины более рисковая группа)\n",
    "- total_income - (есть зависимость от величины дохода, богатые - менее рисковые, чем бедные и средний класс)\n",
    "- purpose — цель получения кредита (так же выявили корреляцию с целевой переменной)\n",
    "\n",
    "Остальные признаки не исследовали на корреляцию с целевой переменной, так как не стояла такая задача в проекте.\n",
    "\n",
    "Как рекомендации банку, я бы посоветовал:\n",
    "- Улучшить сбор данных (разобраться, что стало причиной дубликатов, пропусков и выбросов (аномальных значений). Поставить защиту при вводе информации (например не должно быть кол-во детей отрицательным)\n",
    "- Построить модель бинарной классификации с использование данных признаков, так как прослеживается корреляция между целевой переменной и исследуемыми признаками.\n",
    "- Обратить внимание на самого рискованного клиента (неженатых мужчин с детьми, приобретающих автомобиль и низким уровнем дохода) и самого лояльного - незамужних женщин без детей:\n",
    "\n",
    "В общем я готов довести данный проект до ума, совместно с инженерами доработать ETL процессы,\n",
    "рассмотереть различные модели машинного обучения бинарного классификатора или регресии для модели банковского скоринга, и задеплоить новую модель в продакшн )))  \n",
    "На какой адрес выслать резюме? )) \n"
   ]
  }
 ],
 "metadata": {
  "ExecuteTimeLog": [
   {
    "duration": 446,
    "start_time": "2023-01-31T12:30:51.976Z"
   },
   {
    "duration": 23,
    "start_time": "2023-01-31T12:30:52.424Z"
   },
   {
    "duration": 28,
    "start_time": "2023-01-31T12:30:52.449Z"
   },
   {
    "duration": 10,
    "start_time": "2023-01-31T12:30:52.479Z"
   },
   {
    "duration": 36,
    "start_time": "2023-01-31T12:30:52.491Z"
   },
   {
    "duration": 9,
    "start_time": "2023-01-31T12:30:52.529Z"
   },
   {
    "duration": 12,
    "start_time": "2023-01-31T12:30:52.540Z"
   },
   {
    "duration": 11,
    "start_time": "2023-01-31T12:30:52.554Z"
   },
   {
    "duration": 13,
    "start_time": "2023-01-31T12:30:52.566Z"
   },
   {
    "duration": 10,
    "start_time": "2023-01-31T12:30:52.581Z"
   },
   {
    "duration": 54,
    "start_time": "2023-01-31T12:30:52.593Z"
   },
   {
    "duration": 10,
    "start_time": "2023-01-31T12:30:52.649Z"
   },
   {
    "duration": 7,
    "start_time": "2023-01-31T12:30:52.661Z"
   },
   {
    "duration": 12,
    "start_time": "2023-01-31T12:30:52.671Z"
   },
   {
    "duration": 32,
    "start_time": "2023-01-31T12:30:52.685Z"
   },
   {
    "duration": 29,
    "start_time": "2023-01-31T12:30:52.719Z"
   },
   {
    "duration": 4,
    "start_time": "2023-01-31T12:30:52.750Z"
   },
   {
    "duration": 30,
    "start_time": "2023-01-31T12:30:52.755Z"
   },
   {
    "duration": 12,
    "start_time": "2023-01-31T12:30:52.787Z"
   },
   {
    "duration": 21,
    "start_time": "2023-01-31T12:30:52.800Z"
   },
   {
    "duration": 31,
    "start_time": "2023-01-31T12:30:52.823Z"
   },
   {
    "duration": 24,
    "start_time": "2023-01-31T12:30:52.855Z"
   },
   {
    "duration": 22,
    "start_time": "2023-01-31T12:30:52.881Z"
   },
   {
    "duration": 5,
    "start_time": "2023-01-31T12:30:52.905Z"
   },
   {
    "duration": 6,
    "start_time": "2023-01-31T12:30:52.911Z"
   },
   {
    "duration": 18,
    "start_time": "2023-01-31T12:30:52.918Z"
   },
   {
    "duration": 19,
    "start_time": "2023-01-31T12:30:52.938Z"
   },
   {
    "duration": 12,
    "start_time": "2023-01-31T12:30:52.959Z"
   },
   {
    "duration": 15,
    "start_time": "2023-01-31T12:30:52.972Z"
   },
   {
    "duration": 53,
    "start_time": "2023-01-31T12:30:52.989Z"
   },
   {
    "duration": 705,
    "start_time": "2023-01-31T15:47:11.969Z"
   },
   {
    "duration": 20,
    "start_time": "2023-01-31T15:47:12.676Z"
   },
   {
    "duration": 13,
    "start_time": "2023-01-31T15:47:12.698Z"
   },
   {
    "duration": 9,
    "start_time": "2023-01-31T15:47:12.713Z"
   },
   {
    "duration": 44,
    "start_time": "2023-01-31T15:47:12.724Z"
   },
   {
    "duration": 3,
    "start_time": "2023-01-31T15:47:12.770Z"
   },
   {
    "duration": 11,
    "start_time": "2023-01-31T15:47:12.774Z"
   },
   {
    "duration": 4,
    "start_time": "2023-01-31T15:47:12.787Z"
   },
   {
    "duration": 8,
    "start_time": "2023-01-31T15:47:12.793Z"
   },
   {
    "duration": 5,
    "start_time": "2023-01-31T15:47:12.803Z"
   },
   {
    "duration": 62,
    "start_time": "2023-01-31T15:47:12.809Z"
   },
   {
    "duration": 10,
    "start_time": "2023-01-31T15:47:12.873Z"
   },
   {
    "duration": 4,
    "start_time": "2023-01-31T15:47:12.885Z"
   },
   {
    "duration": 12,
    "start_time": "2023-01-31T15:47:12.890Z"
   },
   {
    "duration": 20,
    "start_time": "2023-01-31T15:47:12.904Z"
   },
   {
    "duration": 45,
    "start_time": "2023-01-31T15:47:12.925Z"
   },
   {
    "duration": 4,
    "start_time": "2023-01-31T15:47:12.971Z"
   },
   {
    "duration": 16,
    "start_time": "2023-01-31T15:47:12.976Z"
   },
   {
    "duration": 5,
    "start_time": "2023-01-31T15:47:12.993Z"
   },
   {
    "duration": 3,
    "start_time": "2023-01-31T15:47:12.999Z"
   },
   {
    "duration": 17,
    "start_time": "2023-01-31T15:47:13.004Z"
   },
   {
    "duration": 20,
    "start_time": "2023-01-31T15:47:13.023Z"
   },
   {
    "duration": 29,
    "start_time": "2023-01-31T15:47:13.044Z"
   },
   {
    "duration": 5,
    "start_time": "2023-01-31T15:47:13.074Z"
   },
   {
    "duration": 14,
    "start_time": "2023-01-31T15:47:13.080Z"
   },
   {
    "duration": 17,
    "start_time": "2023-01-31T15:47:13.096Z"
   },
   {
    "duration": 14,
    "start_time": "2023-01-31T15:47:13.115Z"
   },
   {
    "duration": 55,
    "start_time": "2023-01-31T15:47:13.133Z"
   },
   {
    "duration": 3,
    "start_time": "2023-01-31T15:47:13.190Z"
   },
   {
    "duration": 15,
    "start_time": "2023-01-31T15:47:13.194Z"
   },
   {
    "duration": 16,
    "start_time": "2023-01-31T15:47:13.211Z"
   },
   {
    "duration": 51,
    "start_time": "2023-01-31T15:47:13.229Z"
   },
   {
    "duration": 738,
    "start_time": "2023-01-31T16:01:31.655Z"
   },
   {
    "duration": 5,
    "start_time": "2023-01-31T16:02:37.565Z"
   },
   {
    "duration": 7,
    "start_time": "2023-01-31T16:03:48.420Z"
   },
   {
    "duration": 9,
    "start_time": "2023-01-31T16:05:03.675Z"
   },
   {
    "duration": 8,
    "start_time": "2023-01-31T16:07:11.235Z"
   },
   {
    "duration": 8,
    "start_time": "2023-01-31T16:08:05.161Z"
   },
   {
    "duration": 493,
    "start_time": "2023-01-31T16:08:32.405Z"
   },
   {
    "duration": 196,
    "start_time": "2023-01-31T16:08:47.577Z"
   },
   {
    "duration": 160,
    "start_time": "2023-01-31T16:12:54.327Z"
   },
   {
    "duration": 164,
    "start_time": "2023-01-31T16:13:06.733Z"
   },
   {
    "duration": 8,
    "start_time": "2023-01-31T16:13:49.213Z"
   },
   {
    "duration": 6,
    "start_time": "2023-01-31T16:13:58.419Z"
   },
   {
    "duration": 5,
    "start_time": "2023-01-31T16:14:04.945Z"
   },
   {
    "duration": 211,
    "start_time": "2023-01-31T16:20:28.071Z"
   },
   {
    "duration": 8,
    "start_time": "2023-01-31T16:23:10.009Z"
   },
   {
    "duration": 11,
    "start_time": "2023-01-31T16:23:47.231Z"
   },
   {
    "duration": 10,
    "start_time": "2023-01-31T16:25:09.071Z"
   },
   {
    "duration": 6,
    "start_time": "2023-01-31T16:31:16.376Z"
   },
   {
    "duration": 32,
    "start_time": "2023-01-31T16:36:54.572Z"
   },
   {
    "duration": 32,
    "start_time": "2023-01-31T16:39:00.662Z"
   },
   {
    "duration": 28,
    "start_time": "2023-01-31T16:43:26.672Z"
   },
   {
    "duration": 14,
    "start_time": "2023-01-31T16:43:38.274Z"
   },
   {
    "duration": 10,
    "start_time": "2023-01-31T16:43:46.512Z"
   },
   {
    "duration": 102,
    "start_time": "2023-01-31T16:44:47.517Z"
   },
   {
    "duration": 117,
    "start_time": "2023-01-31T16:45:22.732Z"
   },
   {
    "duration": 104,
    "start_time": "2023-01-31T16:48:29.496Z"
   },
   {
    "duration": 6,
    "start_time": "2023-01-31T16:49:18.080Z"
   },
   {
    "duration": 15,
    "start_time": "2023-01-31T17:12:24.772Z"
   },
   {
    "duration": 13,
    "start_time": "2023-01-31T17:12:55.633Z"
   },
   {
    "duration": 30,
    "start_time": "2023-01-31T17:14:52.362Z"
   },
   {
    "duration": 15,
    "start_time": "2023-01-31T17:18:14.511Z"
   },
   {
    "duration": 491,
    "start_time": "2023-01-31T17:34:29.460Z"
   },
   {
    "duration": 24,
    "start_time": "2023-01-31T17:34:29.953Z"
   },
   {
    "duration": 16,
    "start_time": "2023-01-31T17:34:29.979Z"
   },
   {
    "duration": 11,
    "start_time": "2023-01-31T17:34:29.998Z"
   },
   {
    "duration": 41,
    "start_time": "2023-01-31T17:34:30.011Z"
   },
   {
    "duration": 4,
    "start_time": "2023-01-31T17:34:30.066Z"
   },
   {
    "duration": 22,
    "start_time": "2023-01-31T17:34:30.072Z"
   },
   {
    "duration": 25,
    "start_time": "2023-01-31T17:34:30.095Z"
   },
   {
    "duration": 34,
    "start_time": "2023-01-31T17:34:30.122Z"
   },
   {
    "duration": 20,
    "start_time": "2023-01-31T17:34:30.158Z"
   },
   {
    "duration": 71,
    "start_time": "2023-01-31T17:34:30.180Z"
   },
   {
    "duration": 9,
    "start_time": "2023-01-31T17:34:30.253Z"
   },
   {
    "duration": 28,
    "start_time": "2023-01-31T17:34:30.264Z"
   },
   {
    "duration": 37,
    "start_time": "2023-01-31T17:34:30.293Z"
   },
   {
    "duration": 43,
    "start_time": "2023-01-31T17:34:30.332Z"
   },
   {
    "duration": 29,
    "start_time": "2023-01-31T17:34:30.377Z"
   },
   {
    "duration": 19,
    "start_time": "2023-01-31T17:34:30.408Z"
   },
   {
    "duration": 33,
    "start_time": "2023-01-31T17:34:30.428Z"
   },
   {
    "duration": 28,
    "start_time": "2023-01-31T17:34:30.463Z"
   },
   {
    "duration": 36,
    "start_time": "2023-01-31T17:34:30.493Z"
   },
   {
    "duration": 72,
    "start_time": "2023-01-31T17:34:30.530Z"
   },
   {
    "duration": 31,
    "start_time": "2023-01-31T17:34:30.604Z"
   },
   {
    "duration": 52,
    "start_time": "2023-01-31T17:34:30.636Z"
   },
   {
    "duration": 32,
    "start_time": "2023-01-31T17:34:30.690Z"
   },
   {
    "duration": 36,
    "start_time": "2023-01-31T17:34:30.724Z"
   },
   {
    "duration": 25,
    "start_time": "2023-01-31T17:34:30.762Z"
   },
   {
    "duration": 39,
    "start_time": "2023-01-31T17:34:30.789Z"
   },
   {
    "duration": 42,
    "start_time": "2023-01-31T17:34:30.831Z"
   },
   {
    "duration": 8,
    "start_time": "2023-01-31T17:34:30.874Z"
   },
   {
    "duration": 393,
    "start_time": "2023-01-31T17:34:30.883Z"
   },
   {
    "duration": 156,
    "start_time": "2023-01-31T17:34:31.277Z"
   },
   {
    "duration": 112,
    "start_time": "2023-01-31T17:34:31.435Z"
   },
   {
    "duration": 19,
    "start_time": "2023-01-31T17:34:31.549Z"
   },
   {
    "duration": 31,
    "start_time": "2023-01-31T17:34:31.570Z"
   },
   {
    "duration": 11,
    "start_time": "2023-01-31T17:34:31.603Z"
   },
   {
    "duration": 12,
    "start_time": "2023-01-31T17:34:31.616Z"
   },
   {
    "duration": 38,
    "start_time": "2023-01-31T17:34:31.630Z"
   },
   {
    "duration": 482,
    "start_time": "2023-01-31T18:10:34.367Z"
   },
   {
    "duration": 22,
    "start_time": "2023-01-31T18:10:34.851Z"
   },
   {
    "duration": 15,
    "start_time": "2023-01-31T18:10:34.875Z"
   },
   {
    "duration": 9,
    "start_time": "2023-01-31T18:10:34.892Z"
   },
   {
    "duration": 58,
    "start_time": "2023-01-31T18:10:34.903Z"
   },
   {
    "duration": 3,
    "start_time": "2023-01-31T18:10:34.963Z"
   },
   {
    "duration": 14,
    "start_time": "2023-01-31T18:10:34.967Z"
   },
   {
    "duration": 4,
    "start_time": "2023-01-31T18:10:34.982Z"
   },
   {
    "duration": 10,
    "start_time": "2023-01-31T18:10:34.987Z"
   },
   {
    "duration": 6,
    "start_time": "2023-01-31T18:10:34.998Z"
   },
   {
    "duration": 58,
    "start_time": "2023-01-31T18:10:35.005Z"
   },
   {
    "duration": 11,
    "start_time": "2023-01-31T18:10:35.065Z"
   },
   {
    "duration": 7,
    "start_time": "2023-01-31T18:10:35.078Z"
   },
   {
    "duration": 13,
    "start_time": "2023-01-31T18:10:35.088Z"
   },
   {
    "duration": 49,
    "start_time": "2023-01-31T18:10:35.103Z"
   },
   {
    "duration": 20,
    "start_time": "2023-01-31T18:10:35.154Z"
   },
   {
    "duration": 4,
    "start_time": "2023-01-31T18:10:35.176Z"
   },
   {
    "duration": 15,
    "start_time": "2023-01-31T18:10:35.182Z"
   },
   {
    "duration": 8,
    "start_time": "2023-01-31T18:10:35.198Z"
   },
   {
    "duration": 30,
    "start_time": "2023-01-31T18:10:35.207Z"
   },
   {
    "duration": 19,
    "start_time": "2023-01-31T18:10:35.242Z"
   },
   {
    "duration": 15,
    "start_time": "2023-01-31T18:10:35.263Z"
   },
   {
    "duration": 17,
    "start_time": "2023-01-31T18:10:35.280Z"
   },
   {
    "duration": 5,
    "start_time": "2023-01-31T18:10:35.301Z"
   },
   {
    "duration": 39,
    "start_time": "2023-01-31T18:10:35.307Z"
   },
   {
    "duration": 27,
    "start_time": "2023-01-31T18:10:35.350Z"
   },
   {
    "duration": 14,
    "start_time": "2023-01-31T18:10:35.379Z"
   },
   {
    "duration": 48,
    "start_time": "2023-01-31T18:10:35.395Z"
   },
   {
    "duration": 12,
    "start_time": "2023-01-31T18:10:35.445Z"
   },
   {
    "duration": 453,
    "start_time": "2023-01-31T18:10:35.459Z"
   },
   {
    "duration": 172,
    "start_time": "2023-01-31T18:10:35.914Z"
   },
   {
    "duration": 126,
    "start_time": "2023-01-31T18:10:36.088Z"
   },
   {
    "duration": 7,
    "start_time": "2023-01-31T18:10:36.216Z"
   },
   {
    "duration": 96,
    "start_time": "2023-01-31T18:10:36.236Z"
   },
   {
    "duration": 16,
    "start_time": "2023-01-31T18:10:36.334Z"
   },
   {
    "duration": 17,
    "start_time": "2023-01-31T18:10:36.352Z"
   },
   {
    "duration": 9,
    "start_time": "2023-01-31T18:10:36.371Z"
   },
   {
    "duration": 463,
    "start_time": "2023-01-31T19:21:03.892Z"
   },
   {
    "duration": 32,
    "start_time": "2023-01-31T19:21:04.357Z"
   },
   {
    "duration": 210,
    "start_time": "2023-01-31T19:21:04.390Z"
   },
   {
    "duration": 10,
    "start_time": "2023-01-31T19:21:04.602Z"
   },
   {
    "duration": 36,
    "start_time": "2023-01-31T19:21:04.614Z"
   },
   {
    "duration": 4,
    "start_time": "2023-01-31T19:21:04.652Z"
   },
   {
    "duration": 12,
    "start_time": "2023-01-31T19:21:04.658Z"
   },
   {
    "duration": 5,
    "start_time": "2023-01-31T19:21:04.672Z"
   },
   {
    "duration": 13,
    "start_time": "2023-01-31T19:21:04.678Z"
   },
   {
    "duration": 5,
    "start_time": "2023-01-31T19:21:04.694Z"
   },
   {
    "duration": 59,
    "start_time": "2023-01-31T19:21:04.700Z"
   },
   {
    "duration": 9,
    "start_time": "2023-01-31T19:21:04.761Z"
   },
   {
    "duration": 5,
    "start_time": "2023-01-31T19:21:04.772Z"
   },
   {
    "duration": 13,
    "start_time": "2023-01-31T19:21:04.778Z"
   },
   {
    "duration": 24,
    "start_time": "2023-01-31T19:21:04.793Z"
   },
   {
    "duration": 19,
    "start_time": "2023-01-31T19:21:04.837Z"
   },
   {
    "duration": 4,
    "start_time": "2023-01-31T19:21:04.858Z"
   },
   {
    "duration": 19,
    "start_time": "2023-01-31T19:21:04.864Z"
   },
   {
    "duration": 7,
    "start_time": "2023-01-31T19:21:04.885Z"
   },
   {
    "duration": 4,
    "start_time": "2023-01-31T19:21:04.894Z"
   },
   {
    "duration": 39,
    "start_time": "2023-01-31T19:21:04.899Z"
   },
   {
    "duration": 18,
    "start_time": "2023-01-31T19:21:04.940Z"
   },
   {
    "duration": 18,
    "start_time": "2023-01-31T19:21:04.959Z"
   },
   {
    "duration": 4,
    "start_time": "2023-01-31T19:21:04.979Z"
   },
   {
    "duration": 20,
    "start_time": "2023-01-31T19:21:04.985Z"
   },
   {
    "duration": 39,
    "start_time": "2023-01-31T19:21:05.007Z"
   },
   {
    "duration": 14,
    "start_time": "2023-01-31T19:21:05.048Z"
   },
   {
    "duration": 34,
    "start_time": "2023-01-31T19:21:05.067Z"
   },
   {
    "duration": 34,
    "start_time": "2023-01-31T19:21:05.103Z"
   },
   {
    "duration": 456,
    "start_time": "2023-01-31T19:21:05.139Z"
   },
   {
    "duration": 188,
    "start_time": "2023-01-31T19:21:05.597Z"
   },
   {
    "duration": 122,
    "start_time": "2023-01-31T19:21:05.787Z"
   },
   {
    "duration": 7,
    "start_time": "2023-01-31T19:21:05.911Z"
   },
   {
    "duration": 52,
    "start_time": "2023-01-31T19:21:05.920Z"
   },
   {
    "duration": 16,
    "start_time": "2023-01-31T19:21:05.973Z"
   },
   {
    "duration": 16,
    "start_time": "2023-01-31T19:21:05.991Z"
   },
   {
    "duration": 36,
    "start_time": "2023-01-31T19:21:06.009Z"
   },
   {
    "duration": 59,
    "start_time": "2023-01-31T19:41:46.381Z"
   }
  ],
  "colab": {
   "name": "dpp_template_part2.ipynb",
   "provenance": []
  },
  "kernelspec": {
   "display_name": "Python 3 (ipykernel)",
   "language": "python",
   "name": "python3"
  },
  "language_info": {
   "codemirror_mode": {
    "name": "ipython",
    "version": 3
   },
   "file_extension": ".py",
   "mimetype": "text/x-python",
   "name": "python",
   "nbconvert_exporter": "python",
   "pygments_lexer": "ipython3",
   "version": "3.9.5"
  },
  "toc": {
   "base_numbering": 1,
   "nav_menu": {},
   "number_sections": true,
   "sideBar": true,
   "skip_h1_title": true,
   "title_cell": "Table of Contents",
   "title_sidebar": "Contents",
   "toc_cell": false,
   "toc_position": {},
   "toc_section_display": true,
   "toc_window_display": false
  },
  "vscode": {
   "interpreter": {
    "hash": "26de051ba29f2982a8de78e945f0abaf191376122a1563185a90213a26c5da77"
   }
  }
 },
 "nbformat": 4,
 "nbformat_minor": 5
}
